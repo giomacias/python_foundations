{
  "nbformat": 4,
  "nbformat_minor": 0,
  "metadata": {
    "colab": {
      "name": "S3_Functions.ipynb",
      "provenance": [],
      "toc_visible": true,
      "collapsed_sections": [],
      "include_colab_link": true
    },
    "kernelspec": {
      "name": "python3",
      "display_name": "Python 3"
    },
    "language_info": {
      "name": "python"
    }
  },
  "cells": [
    {
      "cell_type": "markdown",
      "metadata": {
        "id": "view-in-github",
        "colab_type": "text"
      },
      "source": [
        "<a href=\"https://colab.research.google.com/github/wesleybeckner/python_foundations/blob/main/notebooks/S3_Functions.ipynb\" target=\"_parent\"><img src=\"https://colab.research.google.com/assets/colab-badge.svg\" alt=\"Open In Colab\"/></a>"
      ]
    },
    {
      "cell_type": "markdown",
      "metadata": {
        "id": "cPmio-GwmEwG"
      },
      "source": [
        "# Python Foundations, Session 3: Functions and Pandas Introduction\n",
        "\n",
        "**Instructor**: Wesley Beckner<br>\n",
        "\n",
        "**Contact**: wesleybeckner@gmail.com\n",
        "\n",
        "<i>special thanks to [David Beck](https://www.cheme.washington.edu/facultyfinder/david-beck) for their contribution to this material</i>\n",
        "\n",
        "<br>\n",
        "\n",
        "---\n",
        "\n",
        "<br>\n",
        "\n",
        "Today, we will discuss **_functions_** in more depth.  We've seen them previously and used them, for example the `.append()` **_function_** for lists, or the even more general `print()` function.  Here, we'll dig into how you can make your own functions to encapsulate code that you will reuse over and over.  \n",
        "\n",
        "<br>\n",
        "\n",
        "---"
      ]
    },
    {
      "cell_type": "markdown",
      "metadata": {
        "id": "5yGc3D7xmEwK"
      },
      "source": [
        "## 3.0 Review from Session on Data Structures and Flow Control\n",
        "\n",
        "In our last session, we discussed **_lists_**, **_dictionaries_**, and **_flow control_**.\n",
        "\n",
        "**_Lists_** are **_ordered collections_** of data that can be used to hold multiple pieces of information while preserving their order.  We use `[` and `]` to access elements by their indices which start with `0`.  All things that operate on **_lists_** like slices use the concept of an inclusive lower bound and an exclusive upper bound.  So, the following gets elements from the **_list_** `my_list` with index values of `0`, `1`, and `2`, but **not** `3`!\n",
        "\n",
        "```\n",
        "my_list[0:3]\n",
        "```\n",
        "\n"
      ]
    },
    {
      "cell_type": "markdown",
      "source": [
        "#### 🙋 Question 1: Slicing\n",
        "\n",
        "> What other way is there of writing the same statement using **_slicing_**?  Hint, think about leaving out one of the numbers in the slice!\n",
        "\n",
        "**_Dictionaries_** are **_named_** **_collections_** of data that can be used to hold multiple pieces of information as **_values_** that are addressed by **_keys_** resulting in a **_key_** to **_value_** data structure.  They are accessed with `[` and `]` but intialized with `{` and `}`.  E.g.\n",
        "\n",
        "```\n",
        "my_dict = { 'cake' : 'Tasty!', 'toenails' : 'Gross!' }\n",
        "my_dict['cake']\n",
        "```\n",
        "\n",
        "Finally, we talked about **_flow control_** and using the concept of **_conditional execution_** to decide which code statements were executed.  Remember this figure?\n",
        "\n",
        "<img src=\"https://docs.oracle.com/cd/B19306_01/appdev.102/b14261/lnpls008.gif\">Flow control figure</img>\n",
        "\n",
        "> What are the **_if_** statments? <br> \n",
        "Where do **_for_** loops fit in? <br>"
      ],
      "metadata": {
        "id": "M7uc5k8GHGlE"
      }
    },
    {
      "cell_type": "markdown",
      "metadata": {
        "id": "PryGZXQwmEwK"
      },
      "source": [
        "## 3.1 Functions\n",
        "\n",
        "For loops let you repeat some code for every item in a list.  Functions are similar in that they run the same lines of code and, frequently, for new values of some variable (we call these **_parameters_**).  They are different in that functions are not limited to looping over items.\n",
        "\n",
        "Functions are a critical part of writing easy to read, reusable code.\n",
        "\n",
        "Create a function like:\n",
        "```\n",
        "def function_name (parameters):\n",
        "    \"\"\"\n",
        "    optional docstring\n",
        "    \"\"\"\n",
        "    function expressions\n",
        "    return [variable]\n",
        "```\n",
        "\n",
        "Here is a simple example.  It prints a string that was passed in and returns nothing.\n",
        "\n",
        "```\n",
        "def print_string(string):\n",
        "    \"\"\"This prints out a string passed as the parameter.\"\"\"\n",
        "    print(string)\n",
        "    return\n",
        "```"
      ]
    },
    {
      "cell_type": "code",
      "metadata": {
        "id": "fV0lZXV9mEwL"
      },
      "source": [
        "def print_string(string):\n",
        "  \"\"\"This prints out a string passed as the parameter\"\"\"\n",
        "  print(string)\n",
        "  return"
      ],
      "execution_count": null,
      "outputs": []
    },
    {
      "cell_type": "markdown",
      "metadata": {
        "id": "h_uE2gUSmEwL"
      },
      "source": [
        "To call the function, use:\n",
        "```\n",
        "print_string(\"GIX is awesome!\")\n",
        "```\n",
        "\n",
        "_Note:_ The function has to be defined before you can call it!"
      ]
    },
    {
      "cell_type": "code",
      "metadata": {
        "id": "NFP4JFtomEwL",
        "colab": {
          "base_uri": "https://localhost:8080/"
        },
        "outputId": "2295c742-ca77-4022-89e3-9105c944c1bc"
      },
      "source": [
        "print_string(\"GIX is awesome!\")"
      ],
      "execution_count": null,
      "outputs": [
        {
          "output_type": "stream",
          "text": [
            "GIX is awesome!\n"
          ],
          "name": "stdout"
        }
      ]
    },
    {
      "cell_type": "markdown",
      "metadata": {
        "id": "szkTDCxYsRpp"
      },
      "source": [
        "### 3.1.1 Reserved words: def, return, and yield\n",
        "\n",
        "Notice the highlighted words in our function definition: `def` and `return` these are *reserved words* in python used to define functions. Every function definition requires these reserved words. `yield` is another reserved word that is similar to `return` but operates slightly differently. It is beyond the scope of what we are covering in this session. This tutorial from [realpython](https://realpython.com/introduction-to-python-generators/) has good information on the topic."
      ]
    },
    {
      "cell_type": "code",
      "metadata": {
        "id": "ommLRCgi2riF"
      },
      "source": [
        "# what is return doing in this function?\n",
        "def my_square(a):\n",
        "  return a ** 2"
      ],
      "execution_count": null,
      "outputs": []
    },
    {
      "cell_type": "markdown",
      "metadata": {
        "id": "0evV0PZS3Ga8"
      },
      "source": [
        "`return` is going to output whatever value(s) follow after the keyword `return` when we call upon our function "
      ]
    },
    {
      "cell_type": "code",
      "metadata": {
        "colab": {
          "base_uri": "https://localhost:8080/"
        },
        "id": "NRv7pu0Z29hm",
        "outputId": "28975966-2dd6-4122-84a6-39f12951bdef"
      },
      "source": [
        "a = 2\n",
        "my_square(a)"
      ],
      "execution_count": null,
      "outputs": [
        {
          "output_type": "execute_result",
          "data": {
            "text/plain": [
              "4"
            ]
          },
          "metadata": {
            "tags": []
          },
          "execution_count": 4
        }
      ]
    },
    {
      "cell_type": "markdown",
      "metadata": {
        "id": "dYYNxJrj3RMm"
      },
      "source": [
        "I'm going to return two values..."
      ]
    },
    {
      "cell_type": "code",
      "metadata": {
        "id": "TEpVZ0Kz3NiQ"
      },
      "source": [
        "def my_square(a):\n",
        "  return a ** 2, a"
      ],
      "execution_count": null,
      "outputs": []
    },
    {
      "cell_type": "markdown",
      "metadata": {
        "id": "A6NeWTGd3S1t"
      },
      "source": [
        "and we see how the output updates accordingly"
      ]
    },
    {
      "cell_type": "code",
      "metadata": {
        "colab": {
          "base_uri": "https://localhost:8080/"
        },
        "id": "yOkLJ_iq3PMW",
        "outputId": "4ae2f2ab-dc18-4118-a0cf-de74059884e4"
      },
      "source": [
        "my_square(a)"
      ],
      "execution_count": null,
      "outputs": [
        {
          "output_type": "execute_result",
          "data": {
            "text/plain": [
              "(4, 2)"
            ]
          },
          "metadata": {
            "tags": []
          },
          "execution_count": 6
        }
      ]
    },
    {
      "cell_type": "markdown",
      "metadata": {
        "id": "BPFrK7yA3U9Y"
      },
      "source": [
        "We can capture these values on the output with..."
      ]
    },
    {
      "cell_type": "code",
      "metadata": {
        "id": "zsOt4yPL3XUp"
      },
      "source": [
        "square, new_a = my_square(a)"
      ],
      "execution_count": null,
      "outputs": []
    },
    {
      "cell_type": "code",
      "metadata": {
        "colab": {
          "base_uri": "https://localhost:8080/"
        },
        "id": "wYO67Ddr3Y0w",
        "outputId": "eac797a6-af72-41fb-c34a-b595171100cd"
      },
      "source": [
        "print(square, new_a)"
      ],
      "execution_count": null,
      "outputs": [
        {
          "output_type": "stream",
          "text": [
            "4 2\n"
          ],
          "name": "stdout"
        }
      ]
    },
    {
      "cell_type": "markdown",
      "metadata": {
        "id": "oVSuBO_Ls_hO"
      },
      "source": [
        "### 3.1.2 Global vs local variables and function parameters\n",
        "\n",
        "In a function, new variables that you create are not saved when the function returns - these are **_local_** variables.  Variables defined outside of the function can be accessed but not changed - these are **_global_** variables.\n",
        "\n",
        "let's define the following function"
      ]
    },
    {
      "cell_type": "code",
      "metadata": {
        "id": "eXFlHTtRsRW0"
      },
      "source": [
        "def my_little_func(a):\n",
        "  b = 10\n",
        "  return a * b"
      ],
      "execution_count": null,
      "outputs": []
    },
    {
      "cell_type": "code",
      "metadata": {
        "colab": {
          "base_uri": "https://localhost:8080/"
        },
        "id": "74dP2ePo3ias",
        "outputId": "ab44f1ef-5f30-4716-f957-4843f6861fe4"
      },
      "source": [
        "my_little_func(2)"
      ],
      "execution_count": null,
      "outputs": [
        {
          "output_type": "execute_result",
          "data": {
            "text/plain": [
              "20"
            ]
          },
          "metadata": {
            "tags": []
          },
          "execution_count": 10
        }
      ]
    },
    {
      "cell_type": "markdown",
      "metadata": {
        "id": "pQ9pI9Lf3pJ1"
      },
      "source": [
        "if I run the following..."
      ]
    },
    {
      "cell_type": "code",
      "metadata": {
        "id": "E9pRnD3E3lT0"
      },
      "source": [
        "# b"
      ],
      "execution_count": null,
      "outputs": []
    },
    {
      "cell_type": "markdown",
      "metadata": {
        "id": "aVav_21ItQR1"
      },
      "source": [
        "Let's play with this a little further...\n",
        "\n",
        "...now let's define b outside the function and call our function with `a=5`"
      ]
    },
    {
      "cell_type": "code",
      "metadata": {
        "colab": {
          "base_uri": "https://localhost:8080/"
        },
        "id": "_7QR_kgDtKKS",
        "outputId": "de371ab6-e103-44d0-e43e-5c220436f2c0"
      },
      "source": [
        "# what happens here?\n",
        "b = 100\n",
        "my_little_func(5)"
      ],
      "execution_count": null,
      "outputs": [
        {
          "output_type": "execute_result",
          "data": {
            "text/plain": [
              "50"
            ]
          },
          "metadata": {
            "tags": []
          },
          "execution_count": 12
        }
      ]
    },
    {
      "cell_type": "markdown",
      "metadata": {
        "id": "sN68OdV0tYQg"
      },
      "source": [
        "we see that b is still 100, instead of 10 as its defined within the function. This is because b inside of `my_little_func` is a *local* variable. "
      ]
    },
    {
      "cell_type": "markdown",
      "metadata": {
        "id": "NbEQQHj1tXDD"
      },
      "source": [
        "it doesn't matter how I define b outside the function because within the function it is set locally.\n",
        "\n",
        "... Let's do this A LITTLE MORE"
      ]
    },
    {
      "cell_type": "code",
      "metadata": {
        "id": "q6H3Q4i5tNbb"
      },
      "source": [
        "def my_new_func(a):\n",
        "  print(b)\n",
        "  return a*b"
      ],
      "execution_count": null,
      "outputs": []
    },
    {
      "cell_type": "markdown",
      "metadata": {
        "id": "Z6kuw5Sd4I2Q"
      },
      "source": [
        "now if I call on my new function, because `b` is not defined locally within the function, it takes on the global value. \n",
        "\n",
        "This is typically not happy happy fun fun behavior for us, we want to be explicit about how we define and use our variables (but there are some times when this is appropriate to do)"
      ]
    },
    {
      "cell_type": "code",
      "metadata": {
        "colab": {
          "base_uri": "https://localhost:8080/"
        },
        "id": "sgFBFzSU38bL",
        "outputId": "b3033521-f1fa-479c-cfcf-62c14683b18d"
      },
      "source": [
        "b= 1e4 # side note, what did I do here????\n",
        "my_new_func(a)"
      ],
      "execution_count": null,
      "outputs": [
        {
          "output_type": "stream",
          "text": [
            "10000.0\n"
          ],
          "name": "stdout"
        },
        {
          "output_type": "execute_result",
          "data": {
            "text/plain": [
              "20000.0"
            ]
          },
          "metadata": {
            "tags": []
          },
          "execution_count": 14
        }
      ]
    },
    {
      "cell_type": "markdown",
      "metadata": {
        "id": "DcPPOxRgmEwN"
      },
      "source": [
        "#### 3.1.1.1 Function Parameters\n",
        "\n",
        "Parameters (or arguments) in Python are all passed by reference.  This means that if you modify the parameters in the function, they are modified outside of the function. (Enrichment: Exceptions, see below)\n",
        "\n",
        "See the following example:\n",
        "\n",
        "```\n",
        "def change_list(my_list):\n",
        "   \"\"\"This changes a passed list into this function\"\"\"\n",
        "   my_list.append('four');\n",
        "   print('list inside the function: ', my_list)\n",
        "   return\n",
        "\n",
        "my_list = [1, 2, 3];\n",
        "print('list before the function: ', my_list)\n",
        "change_list(my_list);\n",
        "print('list after the function: ', my_list)\n",
        "```"
      ]
    },
    {
      "cell_type": "code",
      "metadata": {
        "id": "pid662VymEwN",
        "colab": {
          "base_uri": "https://localhost:8080/"
        },
        "outputId": "8ba299de-04e2-4aa9-ecdf-037418472c93"
      },
      "source": [
        "def change_list(my_list):\n",
        "   \"\"\"This changes a passed list into this function\"\"\"\n",
        "   my_list.append('four');\n",
        "   print('list inside the function: ', my_list)\n",
        "   return\n",
        "\n",
        "my_list = [1, 2, 3];\n",
        "print('list before the function: ', my_list)\n",
        "change_list(my_list);\n",
        "print('list after the function: ', my_list)"
      ],
      "execution_count": null,
      "outputs": [
        {
          "output_type": "stream",
          "text": [
            "list before the function:  [1, 2, 3]\n",
            "list inside the function:  [1, 2, 3, 'four']\n",
            "list after the function:  [1, 2, 3, 'four']\n"
          ],
          "name": "stdout"
        }
      ]
    },
    {
      "cell_type": "markdown",
      "metadata": {
        "id": "Y7O_aN5f5Jan"
      },
      "source": [
        "#### 3.1.1.2 Enrichment: Global, local, and immutables\n",
        "\n",
        "Let's go back to our former example...\n",
        "\n",
        "immutables:\n",
        "\n",
        "* integers, float, str, tuples"
      ]
    },
    {
      "cell_type": "code",
      "metadata": {
        "colab": {
          "base_uri": "https://localhost:8080/"
        },
        "id": "uMG-TS_C5HR3",
        "outputId": "0f70e0a6-5fc4-4685-ceb2-3174c38d38df"
      },
      "source": [
        "b = \"a string\"\n",
        "b = 10\n",
        "b = 10.2\n",
        "b = (10, 2)\n",
        "b = [10, 2]\n",
        "a = 2\n",
        "\n",
        "def my_little_func(a, b):\n",
        "  if type(b) == str:\n",
        "    b += \"20\"\n",
        "  elif (type(b) == int) or (type(b) == float):\n",
        "    b += 10\n",
        "  elif (type(b) == tuple):\n",
        "    print(\"AYYY no tuple changes, Dude\")\n",
        "    pass\n",
        "  elif (type(b) == list):\n",
        "    b.append('whoaaaa')\n",
        "  print(b)\n",
        "  return\n",
        "\n",
        "print(b)\n",
        "my_little_func(a, b)\n",
        "print(b)"
      ],
      "execution_count": null,
      "outputs": [
        {
          "output_type": "stream",
          "text": [
            "[10, 2]\n",
            "[10, 2, 'whoaaaa']\n",
            "[10, 2, 'whoaaaa']\n"
          ],
          "name": "stdout"
        }
      ]
    },
    {
      "cell_type": "markdown",
      "metadata": {
        "id": "87Ka2A6kmEwN"
      },
      "source": [
        "There is a way to change a global variable within a function with the **_global_** keyword.  Generally, the use of **_global_** variables is not encouraged, instead use parameters. We won't cover the global keyword here but you can [explore further](https://www.programiz.com/python-programming/global-keyword) on your own if you are interested. "
      ]
    },
    {
      "cell_type": "code",
      "metadata": {
        "colab": {
          "base_uri": "https://localhost:8080/"
        },
        "id": "xqxnF7X86Bhu",
        "outputId": "1e0a32d1-e5f3-422d-ea94-d65bb2ebac94"
      },
      "source": [
        "b = 10\n",
        "a = 2\n",
        "\n",
        "def my_little_func(a):\n",
        "  global b\n",
        "  b += 20\n",
        "  print(b)\n",
        "  return \n",
        "\n",
        "print(b)\n",
        "my_little_func(a)\n",
        "print(b)"
      ],
      "execution_count": null,
      "outputs": [
        {
          "output_type": "stream",
          "text": [
            "10\n",
            "30\n",
            "30\n"
          ],
          "name": "stdout"
        }
      ]
    },
    {
      "cell_type": "markdown",
      "metadata": {
        "id": "2uFFumKQkx2h"
      },
      "source": [
        "#### 🏋️ Exercise 1: My first function\n",
        "\n",
        "Write a function that takes one parameter and returns any data structure\n",
        "\n",
        "> If you are going to return multiple objects, what data structure that we talked about can be used?  Give and example below."
      ]
    },
    {
      "cell_type": "code",
      "metadata": {
        "id": "OBluJNAxmEwO"
      },
      "source": [
        "# Cell for excerise 1"
      ],
      "execution_count": null,
      "outputs": []
    },
    {
      "cell_type": "markdown",
      "metadata": {
        "id": "-SiUKsyFmEwP"
      },
      "source": [
        "### 3.1.3 Parameter types\n",
        "\n",
        "**Function calling:**\n",
        "\n",
        "* positional \n",
        "    * `func(10, 20)`\n",
        "* keyword\n",
        "    * `func(a=10, b=20)` or `func(b=20, a=10)`\n",
        "\n",
        "**Function writing:**\n",
        "* default\n",
        "    * `def func(a=10, b=20)`\n",
        "\n"
      ]
    },
    {
      "cell_type": "markdown",
      "metadata": {
        "id": "I84rZUFEmEwQ"
      },
      "source": [
        "```\n",
        "def print_name(first, last='Beckner'):\n",
        "    print(f'Your name is {first} {last}')\n",
        "    return\n",
        "```"
      ]
    },
    {
      "cell_type": "code",
      "metadata": {
        "id": "JQgD2bXzmEwQ"
      },
      "source": [
        "def print_name(first, last='Beckner'):\n",
        "    print(\"Your name is {} {}\".format(first, last))\n",
        "    return"
      ],
      "execution_count": 1,
      "outputs": []
    },
    {
      "cell_type": "code",
      "metadata": {
        "colab": {
          "base_uri": "https://localhost:8080/"
        },
        "id": "9AGBvcqY8rak",
        "outputId": "825639bc-27fe-42d8-8319-cd947b4077ac"
      },
      "source": [
        "print_name(last='Beckner', first='Wesley')"
      ],
      "execution_count": 2,
      "outputs": [
        {
          "output_type": "stream",
          "name": "stdout",
          "text": [
            "Your name is Wesley Beckner\n"
          ]
        }
      ]
    },
    {
      "cell_type": "markdown",
      "metadata": {
        "id": "Q9XRruofmEwQ"
      },
      "source": [
        "Play around with the above function."
      ]
    },
    {
      "cell_type": "code",
      "metadata": {
        "id": "9SHINcbdmEwR",
        "colab": {
          "base_uri": "https://localhost:8080/"
        },
        "outputId": "87764ad0-d058-4e4a-f6a7-78c8eec4ff4f"
      },
      "source": [
        "print_name('Wesley', last='the Python Foundations Instructor')"
      ],
      "execution_count": 3,
      "outputs": [
        {
          "output_type": "stream",
          "name": "stdout",
          "text": [
            "Your name is Wesley the Python Foundations Instructor\n"
          ]
        }
      ]
    },
    {
      "cell_type": "markdown",
      "metadata": {
        "id": "rOjgpTm_mEwS"
      },
      "source": [
        "Functions can contain any code that you put anywhere else including:\n",
        "* `if`...`elif`...`else`\n",
        "* `for`...`while`\n",
        "* other function calls"
      ]
    },
    {
      "cell_type": "markdown",
      "metadata": {
        "id": "f46sVhpqmEwS"
      },
      "source": [
        "```\n",
        "def print_name_age(first, last, age):\n",
        "    print_name(first, last)\n",
        "    print('Your age is %d' % (age))\n",
        "    if age > 25 and age < 40:\n",
        "        print('You are a millenial!')\n",
        "    return\n",
        "```\n"
      ]
    },
    {
      "cell_type": "code",
      "metadata": {
        "id": "OzmMcHH6mEwT"
      },
      "source": [
        "def print_name_age(first, last, age):\n",
        "    print_name(first, last)\n",
        "    print('Your age is %d' % (age))\n",
        "    if age > 25 and age < 40:\n",
        "        print('You are a millenial!')\n",
        "    return"
      ],
      "execution_count": null,
      "outputs": []
    },
    {
      "cell_type": "markdown",
      "metadata": {
        "id": "dLmPKzcUmEwT"
      },
      "source": [
        "```\n",
        "print_name_age(age=29, last='Beckner', first='Wesley')\n",
        "```"
      ]
    },
    {
      "cell_type": "code",
      "metadata": {
        "id": "vnE1REormEwT",
        "colab": {
          "base_uri": "https://localhost:8080/"
        },
        "outputId": "f7fe67c5-9dd6-480a-b872-8f8fedf5e32a"
      },
      "source": [
        "print_name_age(age=29, last='Beckner', first='Wesley')"
      ],
      "execution_count": null,
      "outputs": [
        {
          "output_type": "stream",
          "text": [
            "Your name is Wesley Beckner\n",
            "Your age is 29\n",
            "You are a millenial!\n"
          ],
          "name": "stdout"
        }
      ]
    },
    {
      "cell_type": "markdown",
      "metadata": {
        "id": "G09LKuSUmEwT"
      },
      "source": [
        "## 3.2 The scientific python stack\n",
        "\n",
        "In addition to Python's built-in modules like the ``math`` module we explored above, there are also many often-used third-party modules that are core tools for doing data science with Python.\n",
        "Some of the most important ones are:\n",
        "\n",
        "#### [``numpy``](http://numpy.org/): Numerical Python\n",
        "\n",
        "Numpy is short for \"Numerical Python\", and contains tools for efficient manipulation of arrays of data.\n",
        "If you have used other computational tools like IDL or MatLab, Numpy should feel very familiar.\n",
        "\n",
        "#### [``scipy``](http://scipy.org/): Scientific Python\n",
        "\n",
        "Scipy is short for \"Scientific Python\", and contains a wide range of functionality for accomplishing common scientific tasks, such as optimization/minimization, numerical integration, interpolation, and much more.\n",
        "We will not look closely at Scipy today, but we will use its functionality later in the course.\n",
        "\n",
        "#### [``pandas``](http://pandas.pydata.org/): Labeled Data Manipulation in Python\n",
        "\n",
        "Pandas is short for \"Panel Data\", and contains tools for doing more advanced manipulation of labeled data in Python, in particular with a columnar data structure called a *Data Frame*.\n",
        "If you've used the [R](http://rstats.org) statistical language (and in particular the so-called \"Hadley Stack\"), much of the functionality in Pandas should feel very familiar.\n",
        "\n",
        "#### [``matplotlib``](http://matplotlib.org): Visualization in Python\n",
        "\n",
        "Matplotlib started out as a Matlab plotting clone in Python, and has grown from there in the 15 years since its creation. It is the most popular data visualization tool currently in the Python data world (though other recent packages are starting to encroach on its monopoly).\n",
        "\n",
        "#### [``scikit-learn``](https://scikit-learn.org/stable/): Machine Learning in Python\n",
        "\n",
        "Scikit-learn is a machine learning library.\n",
        "\n",
        "It features various classification, regression, and clustering algorithms, including support vector machines, random forests, gradient boosting, k-means, and DBSCAN.\n",
        "\n",
        "The library is designed to interoperate with the Python numerical and scientific libraries NumPy and SciPy."
      ]
    }
  ]
}