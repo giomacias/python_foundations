{
  "nbformat": 4,
  "nbformat_minor": 0,
  "metadata": {
    "colab": {
      "name": "S4_Object_Oriented_Programming.ipynb",
      "provenance": [],
      "toc_visible": true,
      "collapsed_sections": [],
      "include_colab_link": true
    },
    "kernelspec": {
      "name": "python3",
      "display_name": "Python 3"
    },
    "language_info": {
      "name": "python"
    }
  },
  "cells": [
    {
      "cell_type": "markdown",
      "metadata": {
        "id": "view-in-github",
        "colab_type": "text"
      },
      "source": [
        "<a href=\"https://colab.research.google.com/github/wesleybeckner/python_foundations/blob/main/notebooks/S4_Object_Oriented_Programming.ipynb\" target=\"_parent\"><img src=\"https://colab.research.google.com/assets/colab-badge.svg\" alt=\"Open In Colab\"/></a>"
      ]
    },
    {
      "cell_type": "markdown",
      "metadata": {
        "id": "E5cwBluhFWw4"
      },
      "source": [
        "# Python Foundations, Session 4: Object Oriented Programming\n",
        "**Instructor**: Wesley Beckner\n",
        "\n",
        "**Contact**: wesleybeckner@gmail.com\n",
        "<br>\n",
        "\n",
        "---\n",
        "\n",
        "<br>\n",
        "\n",
        "Today we'll be discussing a very important concept through all of programming: how to be object-oriented.\n",
        "\n",
        "<br>\n",
        "\n",
        "---\n"
      ]
    },
    {
      "cell_type": "markdown",
      "metadata": {
        "id": "1_SHD8I8-ir2"
      },
      "source": [
        "## 4.1: Object Oriented Programming"
      ]
    },
    {
      "cell_type": "markdown",
      "metadata": {
        "id": "lGbWAzdgx0bj"
      },
      "source": [
        "### 4.1.1 Classes, Instances, Methods, and Attribtues\n",
        "\n",
        "A class is created with the reserved word `class`\n",
        "\n",
        "A class can have attributes"
      ]
    },
    {
      "cell_type": "code",
      "metadata": {
        "id": "4diol9OSxrXY"
      },
      "source": [
        "# define a class\n",
        "class MyClass:\n",
        "  some_attribute = 5"
      ],
      "execution_count": null,
      "outputs": []
    },
    {
      "cell_type": "markdown",
      "metadata": {
        "id": "eyAe363HyC5j"
      },
      "source": [
        "We use the **_class blueprint_** _MyClass_ to create an **_instance_**\n",
        "\n",
        "We can now access attributes belonging to that class:"
      ]
    },
    {
      "cell_type": "code",
      "metadata": {
        "colab": {
          "base_uri": "https://localhost:8080/"
        },
        "id": "HYjA4eZ0xvCK",
        "outputId": "7a70ac10-fe5e-49e0-b9d0-39acdc4d13eb"
      },
      "source": [
        "# create instance\n",
        "instance = MyClass()\n",
        "\n",
        "# access attributes of the instance of MyClass\n",
        "instance.some_attribute"
      ],
      "execution_count": null,
      "outputs": [
        {
          "output_type": "execute_result",
          "data": {
            "text/plain": [
              "5"
            ]
          },
          "metadata": {
            "tags": []
          },
          "execution_count": 2
        }
      ]
    },
    {
      "cell_type": "markdown",
      "metadata": {
        "id": "LzrLCHlLyvI5"
      },
      "source": [
        "attributes can be changed:"
      ]
    },
    {
      "cell_type": "code",
      "metadata": {
        "colab": {
          "base_uri": "https://localhost:8080/"
        },
        "id": "VGO4FvfNyqIO",
        "outputId": "fe8ed524-90c4-4f6c-c4c8-9059bb95d5ed"
      },
      "source": [
        "instance.some_attribute = 50\n",
        "instance.some_attribute"
      ],
      "execution_count": null,
      "outputs": [
        {
          "output_type": "execute_result",
          "data": {
            "text/plain": [
              "50"
            ]
          },
          "metadata": {
            "tags": []
          },
          "execution_count": 3
        }
      ]
    },
    {
      "cell_type": "markdown",
      "metadata": {
        "id": "kRwuV7gay0hX"
      },
      "source": [
        "In practice we always use the `__init__()` function, which is executed when the class is being initiated. \n",
        "\n",
        "<br>\n",
        "\n",
        "<p align=center>\n",
        "<img src=\"https://cdn2.bulbagarden.net/upload/thumb/2/23/Pok%C3%A9_Balls_GL.png/250px-Pok%C3%A9_Balls_GL.png\"></img>"
      ]
    },
    {
      "cell_type": "code",
      "metadata": {
        "id": "tZWgIm_ky_-l"
      },
      "source": [
        "class Pokeball:\n",
        "  def __init__(self, contains=None, type_name=\"poke ball\"):\n",
        "    self.contains = contains\n",
        "    self.type_name = type_name\n",
        "    self.catch_rate = 0.50 # note this attribute is not accessible upon init"
      ],
      "execution_count": null,
      "outputs": []
    },
    {
      "cell_type": "code",
      "metadata": {
        "id": "wOyNv0DEzVG8"
      },
      "source": [
        "# empty pokeball\n",
        "pokeball1 = Pokeball()\n",
        "\n",
        "# used pokeball of a different type\n",
        "pokeball1 = Pokeball(\"Pikachu\", \"master ball\")"
      ],
      "execution_count": null,
      "outputs": []
    },
    {
      "cell_type": "markdown",
      "metadata": {
        "id": "32snslXhzibI"
      },
      "source": [
        "> what is the special keyword [`self`](http://neopythonic.blogspot.com/2008/10/why-explicit-self-has-to-stay.html) doing?\n",
        "\n",
        "The `self` parameter is a reference to the current instance of the class and is used to access variables belonging to the class."
      ]
    },
    {
      "cell_type": "markdown",
      "metadata": {
        "id": "iSVpDrjQz_gB"
      },
      "source": [
        "classes can also contain methods"
      ]
    },
    {
      "cell_type": "code",
      "metadata": {
        "id": "s58qSx8f0AsF"
      },
      "source": [
        "import random\n",
        "\n",
        "class Pokeball:\n",
        "  def __init__(self, contains=None, type_name=\"poke ball\"):\n",
        "    self.contains = contains\n",
        "    self.type_name = type_name\n",
        "    self.catch_rate = 0.50 # note this attribute is not accessible upon init\n",
        "\n",
        "  # the method catch, will update self.contains, if a catch is successful\n",
        "  # it will also use self.catch_rate to set the performance of the catch\n",
        "  def catch(self, pokemon):\n",
        "    if self.contains == None:\n",
        "      if random.random() < self.catch_rate:\n",
        "        self.contains = pokemon\n",
        "        print(f\"{pokemon} captured!\")\n",
        "      else:\n",
        "        print(f\"{pokemon} escaped!\")\n",
        "        pass\n",
        "    else:\n",
        "      print(\"pokeball is not empty!\")\n"
      ],
      "execution_count": null,
      "outputs": []
    },
    {
      "cell_type": "code",
      "metadata": {
        "colab": {
          "base_uri": "https://localhost:8080/"
        },
        "id": "zCDW85Vu16_q",
        "outputId": "95b1ffd8-36de-459c-d5cc-3140fda72cd7"
      },
      "source": [
        "pokeball = Pokeball()\n",
        "pokeball.catch(\"picachu\")"
      ],
      "execution_count": null,
      "outputs": [
        {
          "output_type": "stream",
          "text": [
            "picachu captured!\n"
          ],
          "name": "stdout"
        }
      ]
    },
    {
      "cell_type": "code",
      "metadata": {
        "colab": {
          "base_uri": "https://localhost:8080/",
          "height": 35
        },
        "id": "Ri7l-oPmYhtZ",
        "outputId": "d9eba9df-0334-496e-af97-2117d01deec9"
      },
      "source": [
        "pokeball.contains"
      ],
      "execution_count": null,
      "outputs": [
        {
          "output_type": "execute_result",
          "data": {
            "application/vnd.google.colaboratory.intrinsic+json": {
              "type": "string"
            },
            "text/plain": [
              "'picachu'"
            ]
          },
          "metadata": {
            "tags": []
          },
          "execution_count": 10
        }
      ]
    },
    {
      "cell_type": "markdown",
      "metadata": {
        "id": "GA0l_pwYn9g1"
      },
      "source": [
        "### 🏋️ Exercise 1\n",
        "\n",
        "Create a release method for the class Pokeball:"
      ]
    },
    {
      "cell_type": "code",
      "metadata": {
        "id": "a7DGaOajxDxA"
      },
      "source": [
        "# Cell for Exercise 1"
      ],
      "execution_count": null,
      "outputs": []
    },
    {
      "cell_type": "markdown",
      "source": [
        "### 4.1.2 Inheritance\n",
        "\n",
        "Inheritance allows you to adopt into a child class, the methods and attributes of a parent class"
      ],
      "metadata": {
        "id": "xlroMtwOPg5o"
      }
    },
    {
      "cell_type": "code",
      "metadata": {
        "id": "6q05bsBl5Mqx"
      },
      "source": [
        "class MasterBall(Pokeball):\n",
        "  pass"
      ],
      "execution_count": null,
      "outputs": []
    },
    {
      "cell_type": "code",
      "metadata": {
        "colab": {
          "base_uri": "https://localhost:8080/",
          "height": 35
        },
        "id": "Q_IonrbT5TE-",
        "outputId": "2b1bc158-ee50-4dc3-f67f-ff54e20b5fb0"
      },
      "source": [
        "masterball = MasterBall()\n",
        "masterball.type_name"
      ],
      "execution_count": null,
      "outputs": [
        {
          "output_type": "execute_result",
          "data": {
            "application/vnd.google.colaboratory.intrinsic+json": {
              "type": "string"
            },
            "text/plain": [
              "'poke ball'"
            ]
          },
          "metadata": {
            "tags": []
          },
          "execution_count": 12
        }
      ]
    },
    {
      "cell_type": "markdown",
      "metadata": {
        "id": "f52XzgDq5Z1y"
      },
      "source": [
        "HMMM we don't like that type name. let's make sure we change some of the inherited attributes!\n",
        "\n",
        "We'll do this again with the `__init__` function"
      ]
    },
    {
      "cell_type": "code",
      "metadata": {
        "id": "U2MTeZul5WXx"
      },
      "source": [
        "class MasterBall(Pokeball):\n",
        "  def __init__(self, contains=None, type_name=\"Masterball\", catch_rate=0.8):\n",
        "    self.contains = contains\n",
        "    self.type_name = type_name\n",
        "    self.catch_rate = catch_rate"
      ],
      "execution_count": null,
      "outputs": []
    },
    {
      "cell_type": "code",
      "metadata": {
        "colab": {
          "base_uri": "https://localhost:8080/",
          "height": 35
        },
        "id": "wM7-5DuE5zh-",
        "outputId": "26eee031-6b14-4572-dae1-40eb710b57da"
      },
      "source": [
        "masterball = MasterBall()\n",
        "masterball.type_name"
      ],
      "execution_count": null,
      "outputs": [
        {
          "output_type": "execute_result",
          "data": {
            "application/vnd.google.colaboratory.intrinsic+json": {
              "type": "string"
            },
            "text/plain": [
              "'Masterball'"
            ]
          },
          "metadata": {
            "tags": []
          },
          "execution_count": 66
        }
      ]
    },
    {
      "cell_type": "code",
      "metadata": {
        "colab": {
          "base_uri": "https://localhost:8080/"
        },
        "id": "-z74AAD651zw",
        "outputId": "d09a3aac-eef0-4c2e-8c2a-5474a370583d"
      },
      "source": [
        "masterball.catch(\"charmander\")"
      ],
      "execution_count": null,
      "outputs": [
        {
          "output_type": "stream",
          "text": [
            "charmander captured!\n"
          ],
          "name": "stdout"
        }
      ]
    },
    {
      "cell_type": "markdown",
      "metadata": {
        "id": "dF5ZWnZd6QEL"
      },
      "source": [
        "We can also write this, this way:"
      ]
    },
    {
      "cell_type": "code",
      "metadata": {
        "id": "HZo6i-Xi61rt"
      },
      "source": [
        "class MasterBall(Pokeball):\n",
        "  def __init__(self, contains=None, type_name=\"Masterball\"):\n",
        "    Pokeball.__init__(self, contains, type_name)\n",
        "    self.catch_rate = 0.8"
      ],
      "execution_count": null,
      "outputs": []
    },
    {
      "cell_type": "code",
      "metadata": {
        "colab": {
          "base_uri": "https://localhost:8080/",
          "height": 35
        },
        "id": "jYpkaGHn6FNN",
        "outputId": "8ad34e52-2c00-49f2-db0f-6f1d388cf705"
      },
      "source": [
        "masterball = MasterBall()\n",
        "masterball.type_name"
      ],
      "execution_count": null,
      "outputs": [
        {
          "output_type": "execute_result",
          "data": {
            "application/vnd.google.colaboratory.intrinsic+json": {
              "type": "string"
            },
            "text/plain": [
              "'Masterball'"
            ]
          },
          "metadata": {
            "tags": []
          },
          "execution_count": 20
        }
      ]
    },
    {
      "cell_type": "code",
      "metadata": {
        "colab": {
          "base_uri": "https://localhost:8080/"
        },
        "id": "3EuqUiKH7B0A",
        "outputId": "4695b93d-2055-4d15-aa66-bcfddb943c6e"
      },
      "source": [
        "masterball = MasterBall()\n",
        "masterball.catch(\"charmander\")"
      ],
      "execution_count": null,
      "outputs": [
        {
          "output_type": "stream",
          "text": [
            "charmander captured!\n"
          ],
          "name": "stdout"
        }
      ]
    },
    {
      "cell_type": "markdown",
      "metadata": {
        "id": "VkTjVYsW7xf1"
      },
      "source": [
        "The keyword `super` will let us write even more succintly:"
      ]
    },
    {
      "cell_type": "code",
      "metadata": {
        "id": "sCfDRHXz7wqL"
      },
      "source": [
        "class MasterBall(Pokeball):\n",
        "  def __init__(self, contains=None, type_name=\"Masterball\"):\n",
        "    super().__init__(contains, type_name)\n",
        "    self.catch_rate = 0.8"
      ],
      "execution_count": null,
      "outputs": []
    },
    {
      "cell_type": "code",
      "metadata": {
        "colab": {
          "base_uri": "https://localhost:8080/"
        },
        "id": "1N6xI77874K-",
        "outputId": "3886a387-4b52-4fbf-83e7-8379bf140be9"
      },
      "source": [
        "masterball = MasterBall()\n",
        "masterball.catch(\"charmander\")"
      ],
      "execution_count": null,
      "outputs": [
        {
          "output_type": "stream",
          "text": [
            "charmander captured!\n"
          ],
          "name": "stdout"
        }
      ]
    },
    {
      "cell_type": "markdown",
      "metadata": {
        "id": "EaqZLU3z8Dm8"
      },
      "source": [
        "### 🏋️ Exercise 2\n",
        "\n",
        "Write another class object called `GreatBall` that inherits the properties of `Pokeball`, has a `catch_rate` of 0.6, and `type_name` of Greatball"
      ]
    },
    {
      "cell_type": "code",
      "metadata": {
        "id": "MpxF5ep_75Gr"
      },
      "source": [
        "# Cell for Exercise 2"
      ],
      "execution_count": null,
      "outputs": []
    },
    {
      "cell_type": "markdown",
      "source": [
        "### 4.1.3 Interacting Objects\n",
        "\n",
        "As our application becomes more complex, we may have to rethink what methods and attributes are appropriate for our objects to deliver the overall functionality we desire"
      ],
      "metadata": {
        "id": "9Bc6WKcJPu_U"
      }
    },
    {
      "cell_type": "markdown",
      "metadata": {
        "id": "3f85jPuZ80ok"
      },
      "source": [
        "### 🏋️ Exercise 3\n",
        "\n",
        "Write another class object called `Pokemon`. It has the [attributes](https://bulbapedia.bulbagarden.net/wiki/Type):\n",
        "\n",
        "* name\n",
        "* weight\n",
        "* speed\n",
        "* type\n",
        "\n",
        "Now create a class object called `FastBall`, it inherits the properties of `Pokeball` but has a new condition on `catch` method: if pokemon.speed > 100 then there is 100% chance of catch success.\n",
        "\n",
        "> what changes do you have to make to the way we've been interacting with pokeball to make this new requirement work?"
      ]
    },
    {
      "cell_type": "code",
      "metadata": {
        "id": "l0TF73H1BFy5"
      },
      "source": [
        "# Cell for Exercise 3"
      ],
      "execution_count": null,
      "outputs": []
    },
    {
      "cell_type": "markdown",
      "metadata": {
        "id": "5KvW9o_-AzD4"
      },
      "source": [
        "### 🏋️ Exercise 4\n",
        "\n",
        "In the above task, did you have to write any code to test that your new classes worked?! We will talk about that more at a later time, but for now, wrap any testing that you did into a new function called `test_classes` in the code cell below"
      ]
    },
    {
      "cell_type": "code",
      "metadata": {
        "id": "3uTkx94QBD1e"
      },
      "source": [
        "# Cell for Exercise 4"
      ],
      "execution_count": null,
      "outputs": []
    }
  ]
}