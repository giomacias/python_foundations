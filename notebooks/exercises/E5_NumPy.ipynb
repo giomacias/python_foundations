{
  "nbformat": 4,
  "nbformat_minor": 0,
  "metadata": {
    "colab": {
      "name": "E5_NumPy.ipynb",
      "provenance": [],
      "collapsed_sections": [],
      "toc_visible": true,
      "authorship_tag": "ABX9TyMCh19wzblWgMN3b6LMck53",
      "include_colab_link": true
    },
    "kernelspec": {
      "name": "python3",
      "display_name": "Python 3"
    },
    "language_info": {
      "name": "python"
    }
  },
  "cells": [
    {
      "cell_type": "markdown",
      "metadata": {
        "id": "view-in-github",
        "colab_type": "text"
      },
      "source": [
        "<a href=\"https://colab.research.google.com/github/wesleybeckner/python_foundations/blob/main/notebooks/exercises/E5_NumPy.ipynb\" target=\"_parent\"><img src=\"https://colab.research.google.com/assets/colab-badge.svg\" alt=\"Open In Colab\"/></a>"
      ]
    },
    {
      "cell_type": "markdown",
      "metadata": {
        "id": "SaQphvIrtYdw"
      },
      "source": [
        "# Python Foundations, Lab 5: Practice with Numpy\n",
        "\n",
        "**Instructor**: Wesley Beckner\n",
        "\n",
        "**Contact**: wesleybeckner@gmail.com\n",
        "\n",
        "<br>\n",
        "\n",
        "---\n",
        "\n",
        "<br>\n",
        "\n",
        "In this lab we will continue to practice with numpy\n",
        "\n",
        "<br>\n",
        "\n",
        "---\n",
        "\n",
        "\n"
      ]
    },
    {
      "cell_type": "code",
      "metadata": {
        "id": "rM5rDI1dt403"
      },
      "source": [
        "import pandas as pd\n",
        "import numpy as np"
      ],
      "execution_count": null,
      "outputs": []
    },
    {
      "cell_type": "markdown",
      "metadata": {
        "id": "0PPaZvlct0fH"
      },
      "source": [
        "# 🧮 L5 Q1 \n",
        "\n",
        "Create a 3x3 array of all True's (booleans)"
      ]
    },
    {
      "cell_type": "code",
      "metadata": {
        "id": "9lphFb2ksnEC"
      },
      "source": [
        "# cell for Q1"
      ],
      "execution_count": null,
      "outputs": []
    },
    {
      "cell_type": "markdown",
      "metadata": {
        "id": "6I9yYNVX4AVk"
      },
      "source": [
        "# 🧮 L5 Q2\n",
        "\n",
        "extract all numbers divisible by 3\n",
        "\n",
        "```\n",
        "arr = np.array([0, 1, 2, 3, 4, 5, 6, 7, 8, 9])\n",
        "```"
      ]
    },
    {
      "cell_type": "code",
      "metadata": {
        "id": "aAdTRdS84KoA"
      },
      "source": [
        "# cell for Q2\n",
        "arr = np.array([0, 1, 2, 3, 4, 5, 6, 7, 8, 9])"
      ],
      "execution_count": null,
      "outputs": []
    },
    {
      "cell_type": "markdown",
      "metadata": {
        "id": "CPAEnQOg4jyy"
      },
      "source": [
        "There is a nifty tool, `np.where()`. The syntax works like `np.where(<where this condition is true> , <return elements from this array>, <otherwise return elements from this aray>)`"
      ]
    },
    {
      "cell_type": "code",
      "metadata": {
        "colab": {
          "base_uri": "https://localhost:8080/"
        },
        "id": "yzF9NPCn4Mss",
        "outputId": "2e35ccaa-22a8-4d96-c396-458a31c50768"
      },
      "source": [
        "# Ex\n",
        "a = np.arange(10)\n",
        "np.where(a<5, a, a*10)"
      ],
      "execution_count": null,
      "outputs": [
        {
          "output_type": "execute_result",
          "data": {
            "text/plain": [
              "array([ 0,  1,  2,  3,  4, 50, 60, 70, 80, 90])"
            ]
          },
          "metadata": {
            "tags": []
          },
          "execution_count": 3
        }
      ]
    },
    {
      "cell_type": "markdown",
      "metadata": {
        "id": "q9VDLHKo5Dw7"
      },
      "source": [
        "A similar but slightly different tool is `np.argwhere` which will return the indices of the array where the conditional is true"
      ]
    },
    {
      "cell_type": "code",
      "metadata": {
        "colab": {
          "base_uri": "https://localhost:8080/"
        },
        "id": "VNIiI71w424D",
        "outputId": "49faf47d-142b-4a3c-9fb9-72f1b582c8e7"
      },
      "source": [
        "# Ex\n",
        "np.argwhere(a<5)"
      ],
      "execution_count": null,
      "outputs": [
        {
          "output_type": "execute_result",
          "data": {
            "text/plain": [
              "array([[0],\n",
              "       [1],\n",
              "       [2],\n",
              "       [3],\n",
              "       [4]])"
            ]
          },
          "metadata": {
            "tags": []
          },
          "execution_count": 7
        }
      ]
    },
    {
      "cell_type": "markdown",
      "metadata": {
        "id": "kXXtV9eW513-"
      },
      "source": [
        "# 🧮 L5 Q3\n",
        "\n",
        "replace all odd numbers in `arr` without changing `arr` (return a new array using `np.where`)"
      ]
    },
    {
      "cell_type": "code",
      "metadata": {
        "id": "PFsqaXw75Jgk"
      },
      "source": [
        "# cell for Q3\n",
        "arr = np.array([0, 1, 2, 3, 4, 5, 6, 7, 8, 9])"
      ],
      "execution_count": null,
      "outputs": []
    },
    {
      "cell_type": "markdown",
      "metadata": {
        "id": "5-5vPilS75PB"
      },
      "source": [
        "# 🧮 L5 Q4\n",
        "\n",
        "create the following array without hard coading (i.e. don't write any of the values in your coad)\n",
        "\n",
        "```\n",
        "a = np.array([1,2,3])`\n",
        "# desired output:\n",
        "#> array([1, 1, 1, 2, 2, 2, 3, 3, 3, 1, 2, 3, 1, 2, 3, 1, 2, 3])\n",
        "```\n",
        "\n",
        "Hints:\n",
        "\n",
        "* [repeat](https://numpy.org/doc/stable/reference/generated/numpy.repeat.html)\n",
        "* [tile](https://numpy.org/doc/stable/reference/generated/numpy.tile.html)"
      ]
    },
    {
      "cell_type": "code",
      "metadata": {
        "id": "Hty9Jez9797t"
      },
      "source": [
        "# cell for Q4\n",
        "a = np.array([1,2,3])\n",
        "# desired output:\n",
        "#> array([1, 1, 1, 2, 2, 2, 3, 3, 3, 1, 2, 3, 1, 2, 3, 1, 2, 3])"
      ],
      "execution_count": null,
      "outputs": []
    },
    {
      "cell_type": "markdown",
      "metadata": {
        "id": "bpA_O5Q-9Cv1"
      },
      "source": [
        "# 🧮 L5 Q5\n",
        "get indices where elements in `a` and `b` match."
      ]
    },
    {
      "cell_type": "code",
      "metadata": {
        "id": "PaSmqL099Ff7"
      },
      "source": [
        "# cell for Q5\n",
        "a = np.array([1,2,3,2,3,4,3,4,5,6])\n",
        "b = np.array([7,2,10,2,7,4,9,4,9,8])"
      ],
      "execution_count": null,
      "outputs": []
    },
    {
      "cell_type": "markdown",
      "metadata": {
        "id": "ivAKNmlK-Q-L"
      },
      "source": [
        "# 🧮 L5 Q6\n",
        "\n",
        "grab numbers between 5 and 10 in `b`"
      ]
    },
    {
      "cell_type": "code",
      "metadata": {
        "id": "SSWJEdJO-Azi"
      },
      "source": [
        "# cell for Q6\n",
        "b = np.array([7,2,10,2,7,4,9,4,9,8])"
      ],
      "execution_count": null,
      "outputs": []
    },
    {
      "cell_type": "markdown",
      "metadata": {
        "id": "w__0vO9f_Hoj"
      },
      "source": [
        "# 🧮 L5 Q7\n",
        "\n",
        "swap columns 2 and 3 in `arr`"
      ]
    },
    {
      "cell_type": "code",
      "metadata": {
        "id": "NiQB_GNd-2-K"
      },
      "source": [
        "# cell for Q7\n",
        "arr = np.arange(9).reshape(3,3)"
      ],
      "execution_count": null,
      "outputs": []
    },
    {
      "cell_type": "markdown",
      "metadata": {
        "id": "UultwZ8oAAd3"
      },
      "source": [
        "# 🧮 L5 Q8\n",
        "\n",
        "compute the mean, median, and standard deviation of `sepallength`"
      ]
    },
    {
      "cell_type": "code",
      "metadata": {
        "id": "5hjI4WQR_LDw"
      },
      "source": [
        "# cell for Q8\n",
        "url = 'https://archive.ics.uci.edu/ml/machine-learning-databases/iris/iris.data'\n",
        "iris = np.genfromtxt(url, delimiter=',', dtype='object')\n",
        "sepallength = np.genfromtxt(url, delimiter=',', dtype='float', usecols=[0])"
      ],
      "execution_count": null,
      "outputs": []
    },
    {
      "cell_type": "markdown",
      "metadata": {
        "id": "s0VPNi_wATOD"
      },
      "source": [
        "# 🧮 L5 Q9\n",
        "\n",
        "normalize sepallength so that all values occur between 0 and 1\n",
        "\n",
        "(_hint: (observation - min / (max - min))_)"
      ]
    },
    {
      "cell_type": "code",
      "metadata": {
        "id": "oUBdeGgGAvpg"
      },
      "source": [
        "# cell for Q9"
      ],
      "execution_count": null,
      "outputs": []
    },
    {
      "cell_type": "markdown",
      "metadata": {
        "id": "DXHEJnBaAmYJ"
      },
      "source": [
        "# 🧮 L5 Q10\n",
        "\n",
        "calculate the 95 percentile score of `sepallength` using `np.percentile`"
      ]
    },
    {
      "cell_type": "code",
      "metadata": {
        "id": "lHuCe-M1AFxG"
      },
      "source": [
        "# cell for Q10"
      ],
      "execution_count": null,
      "outputs": []
    },
    {
      "cell_type": "markdown",
      "metadata": {
        "id": "rkRuRB72A3hv"
      },
      "source": [
        "Complete additional exercises if you wish at [machinelearningplus](https://www.machinelearningplus.com/python/101-numpy-exercises-python/)"
      ]
    },
    {
      "cell_type": "code",
      "metadata": {
        "id": "IG2_ZEN6A7iu"
      },
      "source": [
        ""
      ],
      "execution_count": null,
      "outputs": []
    }
  ]
}