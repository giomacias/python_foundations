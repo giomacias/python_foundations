{
 "cells": [
  {
   "cell_type": "markdown",
   "metadata": {
    "colab_type": "text",
    "id": "view-in-github"
   },
   "source": [
    "<a href=\"https://colab.research.google.com/github/wesleybeckner/python_foundations/blob/main/notebooks/extras/X1_Spotify_API.ipynb\" target=\"_parent\"><img src=\"https://colab.research.google.com/assets/colab-badge.svg\" alt=\"Open In Colab\"/></a>"
   ]
  },
  {
   "cell_type": "markdown",
   "metadata": {
    "id": "kHWV9Cs-TpBA"
   },
   "source": [
    "# Python Foundations <br>X1: The Spotify API\n",
    "\n",
    "**Instructor**: Wesley Beckner\n",
    "\n",
    "**Contact**: wesleybeckner@gmail.com\n",
    "\n",
    "---\n",
    "\n",
    "<br>\n",
    "\n",
    "For this workbook we're going to use the [`spotipy`](https://spotipy.readthedocs.io/en/2.19.0/#) library to access the Spotify Web API!\n",
    "\n",
    "[Solved Notebook](https://wesleybeckner.github.io/python_foundations/solutions/SOLN_X1_Spotify_API/)\n",
    "\n",
    "<br>\n",
    "\n",
    "---\n"
   ]
  },
  {
   "cell_type": "markdown",
   "metadata": {
    "id": "T-hVr_WQZr8z"
   },
   "source": [
    "## Install and import libraries\n",
    "\n",
    "First we will need to install it:"
   ]
  },
  {
   "cell_type": "code",
   "execution_count": 1,
   "metadata": {
    "colab": {
     "base_uri": "https://localhost:8080/"
    },
    "id": "PMEAW4TEPhpp",
    "outputId": "861ab30e-87cf-448d-fbab-0d20779b1930"
   },
   "outputs": [
    {
     "name": "stdout",
     "output_type": "stream",
     "text": [
      "Collecting spotipy\n",
      "  Downloading spotipy-2.19.0-py3-none-any.whl (27 kB)\n",
      "Collecting requests>=2.25.0\n",
      "  Downloading requests-2.27.1-py2.py3-none-any.whl (63 kB)\n",
      "\u001b[K     |████████████████████████████████| 63 kB 734 kB/s \n",
      "\u001b[?25hRequirement already satisfied: six>=1.15.0 in /usr/local/lib/python3.7/dist-packages (from spotipy) (1.15.0)\n",
      "Collecting urllib3>=1.26.0\n",
      "  Downloading urllib3-1.26.8-py2.py3-none-any.whl (138 kB)\n",
      "\u001b[K     |████████████████████████████████| 138 kB 22.2 MB/s \n",
      "\u001b[?25hRequirement already satisfied: idna<4,>=2.5 in /usr/local/lib/python3.7/dist-packages (from requests>=2.25.0->spotipy) (2.10)\n",
      "Requirement already satisfied: certifi>=2017.4.17 in /usr/local/lib/python3.7/dist-packages (from requests>=2.25.0->spotipy) (2021.10.8)\n",
      "Requirement already satisfied: charset-normalizer~=2.0.0 in /usr/local/lib/python3.7/dist-packages (from requests>=2.25.0->spotipy) (2.0.11)\n",
      "Installing collected packages: urllib3, requests, spotipy\n",
      "  Attempting uninstall: urllib3\n",
      "    Found existing installation: urllib3 1.24.3\n",
      "    Uninstalling urllib3-1.24.3:\n",
      "      Successfully uninstalled urllib3-1.24.3\n",
      "  Attempting uninstall: requests\n",
      "    Found existing installation: requests 2.23.0\n",
      "    Uninstalling requests-2.23.0:\n",
      "      Successfully uninstalled requests-2.23.0\n",
      "\u001b[31mERROR: pip's dependency resolver does not currently take into account all the packages that are installed. This behaviour is the source of the following dependency conflicts.\n",
      "google-colab 1.0.0 requires requests~=2.23.0, but you have requests 2.27.1 which is incompatible.\n",
      "datascience 0.10.6 requires folium==0.2.1, but you have folium 0.8.3 which is incompatible.\u001b[0m\n",
      "Successfully installed requests-2.27.1 spotipy-2.19.0 urllib3-1.26.8\n"
     ]
    }
   ],
   "source": [
    "!pip install spotipy"
   ]
  },
  {
   "cell_type": "markdown",
   "metadata": {
    "id": "olzLi0-UT3nx"
   },
   "source": [
    "And then import"
   ]
  },
  {
   "cell_type": "code",
   "execution_count": 2,
   "metadata": {
    "id": "nveMRJENSYT1"
   },
   "outputs": [],
   "source": [
    "from spotipy import client\n",
    "import spotipy\n",
    "from spotipy.oauth2 import SpotifyClientCredentials, SpotifyOAuth\n",
    "import sys\n",
    "import pandas as pd\n",
    "import numpy as np\n",
    "import matplotlib.pyplot as plt"
   ]
  },
  {
   "cell_type": "markdown",
   "metadata": {
    "id": "4OBdhG6RRLF8"
   },
   "source": [
    "## Setup developer account\n",
    "\n",
    "You'll need to visit this [link](https://developer.spotify.com/dashboard/) to setup a developer account, then fill in your authorization information below"
   ]
  },
  {
   "cell_type": "code",
   "execution_count": 3,
   "metadata": {
    "id": "YrkvXucRPrM4"
   },
   "outputs": [],
   "source": [
    "SPOTIPY_CLIENT_ID = \"\"\n",
    "SPOTIPY_CLIENT_SECRET = \"\""
   ]
  },
  {
   "cell_type": "markdown",
   "metadata": {
    "id": "-Hi-p_ZTSInw"
   },
   "source": [
    "## Top 10 tracks of an artist\n",
    "\n",
    "We can grab the first 10 tracks of Led Zepplin:"
   ]
  },
  {
   "cell_type": "code",
   "execution_count": 5,
   "metadata": {
    "colab": {
     "base_uri": "https://localhost:8080/"
    },
    "id": "BXUbVw0SPcBx",
    "outputId": "0ae8d1c7-a05c-485b-fb7d-d7bcbba20e9d"
   },
   "outputs": [
    {
     "name": "stdout",
     "output_type": "stream",
     "text": [
      "track    : Stairway to Heaven - Remaster\n",
      "audio    : https://p.scdn.co/mp3-preview/8226164717312bc411f8635580562d67e191a754?cid=93cef3f9255042d7854a6014e0929504\n",
      "cover art: https://i.scdn.co/image/ab67616d0000b273c8a11e48c91a982d086afc69\n",
      "\n",
      "track    : Immigrant Song - Remaster\n",
      "audio    : https://p.scdn.co/mp3-preview/8455599677a13017978dcd3f4b210937f0a16bcb?cid=93cef3f9255042d7854a6014e0929504\n",
      "cover art: https://i.scdn.co/image/ab67616d0000b27390a50cfe99a4c19ff3cbfbdb\n",
      "\n",
      "track    : Whole Lotta Love - 1990 Remaster\n",
      "audio    : https://p.scdn.co/mp3-preview/ce11b19a4d2de9976d7626df0717d0073863909c?cid=93cef3f9255042d7854a6014e0929504\n",
      "cover art: https://i.scdn.co/image/ab67616d0000b273fc4f17340773c6c3579fea0d\n",
      "\n",
      "track    : Black Dog - Remaster\n",
      "audio    : https://p.scdn.co/mp3-preview/9b76619fd9d563a48d38cc90ca00c3008327b52e?cid=93cef3f9255042d7854a6014e0929504\n",
      "cover art: https://i.scdn.co/image/ab67616d0000b273c8a11e48c91a982d086afc69\n",
      "\n",
      "track    : Kashmir - Remaster\n",
      "audio    : https://p.scdn.co/mp3-preview/f3ca68c9ceaa3435d5bd55c0199ba0b09b916cce?cid=93cef3f9255042d7854a6014e0929504\n",
      "cover art: https://i.scdn.co/image/ab67616d0000b273765b0617b572bdd1dbdc7d8e\n",
      "\n"
     ]
    }
   ],
   "source": [
    "lz_uri = 'spotify:artist:36QJpDe2go2KgaRleHCDTp'\n",
    "\n",
    "\n",
    "results = spotify.artist_top_tracks(lz_uri)\n",
    "ids = []\n",
    "\n",
    "for i, track in enumerate(results['tracks']):\n",
    "    ids.append(track['id'])\n",
    "    if i < 5:\n",
    "      print('track    : ' + track['name'])\n",
    "      print('audio    : ' + track['preview_url'])\n",
    "      print('cover art: ' + track['album']['images'][0]['url'])\n",
    "      print()"
   ]
  },
  {
   "cell_type": "markdown",
   "metadata": {
    "id": "Va_TUWtNW8DO"
   },
   "source": [
    "the top tracks API only gives the top 10 tracks by an artist:"
   ]
  },
  {
   "cell_type": "code",
   "execution_count": 6,
   "metadata": {
    "colab": {
     "base_uri": "https://localhost:8080/"
    },
    "id": "O09tzRiFV6sk",
    "outputId": "1d766a2f-6c21-41b0-9b0e-a7a11b0b3aba"
   },
   "outputs": [
    {
     "data": {
      "text/plain": [
       "10"
      ]
     },
     "execution_count": 6,
     "metadata": {},
     "output_type": "execute_result"
    }
   ],
   "source": [
    "len(ids)"
   ]
  },
  {
   "cell_type": "markdown",
   "metadata": {
    "id": "wFRnAQL2XAvK"
   },
   "source": [
    "Spotify has an audio features API that can be used for ML or data visualization:"
   ]
  },
  {
   "cell_type": "code",
   "execution_count": 7,
   "metadata": {
    "colab": {
     "base_uri": "https://localhost:8080/"
    },
    "id": "O8h_2TFuSJMN",
    "outputId": "6e616863-6d8b-437b-e1b6-8b36ae84025f"
   },
   "outputs": [
    {
     "data": {
      "text/plain": [
       "[{'acousticness': 0.58,\n",
       "  'analysis_url': 'https://api.spotify.com/v1/audio-analysis/5CQ30WqJwcep0pYcV4AMNc',\n",
       "  'danceability': 0.338,\n",
       "  'duration_ms': 482830,\n",
       "  'energy': 0.34,\n",
       "  'id': '5CQ30WqJwcep0pYcV4AMNc',\n",
       "  'instrumentalness': 0.0032,\n",
       "  'key': 9,\n",
       "  'liveness': 0.116,\n",
       "  'loudness': -12.049,\n",
       "  'mode': 0,\n",
       "  'speechiness': 0.0339,\n",
       "  'tempo': 82.433,\n",
       "  'time_signature': 4,\n",
       "  'track_href': 'https://api.spotify.com/v1/tracks/5CQ30WqJwcep0pYcV4AMNc',\n",
       "  'type': 'audio_features',\n",
       "  'uri': 'spotify:track:5CQ30WqJwcep0pYcV4AMNc',\n",
       "  'valence': 0.197},\n",
       " {'acousticness': 0.013,\n",
       "  'analysis_url': 'https://api.spotify.com/v1/audio-analysis/78lgmZwycJ3nzsdgmPPGNx',\n",
       "  'danceability': 0.564,\n",
       "  'duration_ms': 146250,\n",
       "  'energy': 0.932,\n",
       "  'id': '78lgmZwycJ3nzsdgmPPGNx',\n",
       "  'instrumentalness': 0.169,\n",
       "  'key': 11,\n",
       "  'liveness': 0.349,\n",
       "  'loudness': -10.068,\n",
       "  'mode': 1,\n",
       "  'speechiness': 0.0554,\n",
       "  'tempo': 112.937,\n",
       "  'time_signature': 4,\n",
       "  'track_href': 'https://api.spotify.com/v1/tracks/78lgmZwycJ3nzsdgmPPGNx',\n",
       "  'type': 'audio_features',\n",
       "  'uri': 'spotify:track:78lgmZwycJ3nzsdgmPPGNx',\n",
       "  'valence': 0.619},\n",
       " {'acousticness': 0.0484,\n",
       "  'analysis_url': 'https://api.spotify.com/v1/audio-analysis/0hCB0YR03f6AmQaHbwWDe8',\n",
       "  'danceability': 0.412,\n",
       "  'duration_ms': 333893,\n",
       "  'energy': 0.902,\n",
       "  'id': '0hCB0YR03f6AmQaHbwWDe8',\n",
       "  'instrumentalness': 0.131,\n",
       "  'key': 9,\n",
       "  'liveness': 0.405,\n",
       "  'loudness': -11.6,\n",
       "  'mode': 1,\n",
       "  'speechiness': 0.405,\n",
       "  'tempo': 89.74,\n",
       "  'time_signature': 4,\n",
       "  'track_href': 'https://api.spotify.com/v1/tracks/0hCB0YR03f6AmQaHbwWDe8',\n",
       "  'type': 'audio_features',\n",
       "  'uri': 'spotify:track:0hCB0YR03f6AmQaHbwWDe8',\n",
       "  'valence': 0.422},\n",
       " {'acousticness': 0.396,\n",
       "  'analysis_url': 'https://api.spotify.com/v1/audio-analysis/3qT4bUD1MaWpGrTwcvguhb',\n",
       "  'danceability': 0.437,\n",
       "  'duration_ms': 295387,\n",
       "  'energy': 0.864,\n",
       "  'id': '3qT4bUD1MaWpGrTwcvguhb',\n",
       "  'instrumentalness': 0.0314,\n",
       "  'key': 4,\n",
       "  'liveness': 0.242,\n",
       "  'loudness': -7.842,\n",
       "  'mode': 0,\n",
       "  'speechiness': 0.0904,\n",
       "  'tempo': 81.394,\n",
       "  'time_signature': 4,\n",
       "  'track_href': 'https://api.spotify.com/v1/tracks/3qT4bUD1MaWpGrTwcvguhb',\n",
       "  'type': 'audio_features',\n",
       "  'uri': 'spotify:track:3qT4bUD1MaWpGrTwcvguhb',\n",
       "  'valence': 0.749},\n",
       " {'acousticness': 0.452,\n",
       "  'analysis_url': 'https://api.spotify.com/v1/audio-analysis/6Vjk8MNXpQpi0F4BefdTyq',\n",
       "  'danceability': 0.483,\n",
       "  'duration_ms': 517125,\n",
       "  'energy': 0.615,\n",
       "  'id': '6Vjk8MNXpQpi0F4BefdTyq',\n",
       "  'instrumentalness': 0.000414,\n",
       "  'key': 2,\n",
       "  'liveness': 0.0512,\n",
       "  'loudness': -8.538,\n",
       "  'mode': 1,\n",
       "  'speechiness': 0.0497,\n",
       "  'tempo': 80.576,\n",
       "  'time_signature': 3,\n",
       "  'track_href': 'https://api.spotify.com/v1/tracks/6Vjk8MNXpQpi0F4BefdTyq',\n",
       "  'type': 'audio_features',\n",
       "  'uri': 'spotify:track:6Vjk8MNXpQpi0F4BefdTyq',\n",
       "  'valence': 0.594},\n",
       " {'acousticness': 0.072,\n",
       "  'analysis_url': 'https://api.spotify.com/v1/audio-analysis/3MODES4TNtygekLl146Dxd',\n",
       "  'danceability': 0.468,\n",
       "  'duration_ms': 263333,\n",
       "  'energy': 0.607,\n",
       "  'id': '3MODES4TNtygekLl146Dxd',\n",
       "  'instrumentalness': 0.000852,\n",
       "  'key': 9,\n",
       "  'liveness': 0.225,\n",
       "  'loudness': -11.367,\n",
       "  'mode': 1,\n",
       "  'speechiness': 0.0336,\n",
       "  'tempo': 98.429,\n",
       "  'time_signature': 4,\n",
       "  'track_href': 'https://api.spotify.com/v1/tracks/3MODES4TNtygekLl146Dxd',\n",
       "  'type': 'audio_features',\n",
       "  'uri': 'spotify:track:3MODES4TNtygekLl146Dxd',\n",
       "  'valence': 0.886},\n",
       " {'acousticness': 0.000582,\n",
       "  'analysis_url': 'https://api.spotify.com/v1/audio-analysis/4PRGxHpCpF2yoOHYKQIEwD',\n",
       "  'danceability': 0.317,\n",
       "  'duration_ms': 220561,\n",
       "  'energy': 0.887,\n",
       "  'id': '4PRGxHpCpF2yoOHYKQIEwD',\n",
       "  'instrumentalness': 0.00258,\n",
       "  'key': 9,\n",
       "  'liveness': 0.0891,\n",
       "  'loudness': -7.292,\n",
       "  'mode': 1,\n",
       "  'speechiness': 0.0375,\n",
       "  'tempo': 169.613,\n",
       "  'time_signature': 4,\n",
       "  'track_href': 'https://api.spotify.com/v1/tracks/4PRGxHpCpF2yoOHYKQIEwD',\n",
       "  'type': 'audio_features',\n",
       "  'uri': 'spotify:track:4PRGxHpCpF2yoOHYKQIEwD',\n",
       "  'valence': 0.871},\n",
       " {'acousticness': 0.943,\n",
       "  'analysis_url': 'https://api.spotify.com/v1/audio-analysis/70gbuMqwNBE2Y5rkQJE9By',\n",
       "  'danceability': 0.503,\n",
       "  'duration_ms': 212161,\n",
       "  'energy': 0.265,\n",
       "  'id': '70gbuMqwNBE2Y5rkQJE9By',\n",
       "  'instrumentalness': 0.045,\n",
       "  'key': 2,\n",
       "  'liveness': 0.0867,\n",
       "  'loudness': -15.913,\n",
       "  'mode': 1,\n",
       "  'speechiness': 0.0333,\n",
       "  'tempo': 78.044,\n",
       "  'time_signature': 4,\n",
       "  'track_href': 'https://api.spotify.com/v1/tracks/70gbuMqwNBE2Y5rkQJE9By',\n",
       "  'type': 'audio_features',\n",
       "  'uri': 'spotify:track:70gbuMqwNBE2Y5rkQJE9By',\n",
       "  'valence': 0.522},\n",
       " {'acousticness': 0.0382,\n",
       "  'analysis_url': 'https://api.spotify.com/v1/audio-analysis/0QwZfbw26QeUoIy82Z2jYp',\n",
       "  'danceability': 0.476,\n",
       "  'duration_ms': 166267,\n",
       "  'energy': 0.717,\n",
       "  'id': '0QwZfbw26QeUoIy82Z2jYp',\n",
       "  'instrumentalness': 7.61e-05,\n",
       "  'key': 9,\n",
       "  'liveness': 0.0818,\n",
       "  'loudness': -9.192,\n",
       "  'mode': 1,\n",
       "  'speechiness': 0.0949,\n",
       "  'tempo': 93.584,\n",
       "  'time_signature': 4,\n",
       "  'track_href': 'https://api.spotify.com/v1/tracks/0QwZfbw26QeUoIy82Z2jYp',\n",
       "  'type': 'audio_features',\n",
       "  'uri': 'spotify:track:0QwZfbw26QeUoIy82Z2jYp',\n",
       "  'valence': 0.753},\n",
       " {'acousticness': 0.262,\n",
       "  'analysis_url': 'https://api.spotify.com/v1/audio-analysis/4ItljeeAXtHsnsnnQojaO2',\n",
       "  'danceability': 0.525,\n",
       "  'duration_ms': 262748,\n",
       "  'energy': 0.929,\n",
       "  'id': '4ItljeeAXtHsnsnnQojaO2',\n",
       "  'instrumentalness': 2.9e-05,\n",
       "  'key': 9,\n",
       "  'liveness': 0.0754,\n",
       "  'loudness': -8.56,\n",
       "  'mode': 0,\n",
       "  'speechiness': 0.0784,\n",
       "  'tempo': 163.503,\n",
       "  'time_signature': 4,\n",
       "  'track_href': 'https://api.spotify.com/v1/tracks/4ItljeeAXtHsnsnnQojaO2',\n",
       "  'type': 'audio_features',\n",
       "  'uri': 'spotify:track:4ItljeeAXtHsnsnnQojaO2',\n",
       "  'valence': 0.556}]"
      ]
     },
     "execution_count": 7,
     "metadata": {},
     "output_type": "execute_result"
    }
   ],
   "source": [
    "features = spotify.audio_features(ids)\n",
    "features"
   ]
  },
  {
   "cell_type": "code",
   "execution_count": 8,
   "metadata": {
    "colab": {
     "base_uri": "https://localhost:8080/",
     "height": 600
    },
    "id": "WuhWXEokSTyJ",
    "outputId": "79bc48d4-ca27-4e71-e6ae-b6ca824de21a"
   },
   "outputs": [
    {
     "data": {
      "text/html": [
       "\n",
       "  <div id=\"df-359bfe44-3196-4113-adc0-9626c012730a\">\n",
       "    <div class=\"colab-df-container\">\n",
       "      <div>\n",
       "<style scoped>\n",
       "    .dataframe tbody tr th:only-of-type {\n",
       "        vertical-align: middle;\n",
       "    }\n",
       "\n",
       "    .dataframe tbody tr th {\n",
       "        vertical-align: top;\n",
       "    }\n",
       "\n",
       "    .dataframe thead th {\n",
       "        text-align: right;\n",
       "    }\n",
       "</style>\n",
       "<table border=\"1\" class=\"dataframe\">\n",
       "  <thead>\n",
       "    <tr style=\"text-align: right;\">\n",
       "      <th></th>\n",
       "      <th>danceability</th>\n",
       "      <th>energy</th>\n",
       "      <th>key</th>\n",
       "      <th>loudness</th>\n",
       "      <th>mode</th>\n",
       "      <th>speechiness</th>\n",
       "      <th>acousticness</th>\n",
       "      <th>instrumentalness</th>\n",
       "      <th>liveness</th>\n",
       "      <th>valence</th>\n",
       "      <th>tempo</th>\n",
       "      <th>type</th>\n",
       "      <th>id</th>\n",
       "      <th>uri</th>\n",
       "      <th>track_href</th>\n",
       "      <th>analysis_url</th>\n",
       "      <th>duration_ms</th>\n",
       "      <th>time_signature</th>\n",
       "    </tr>\n",
       "  </thead>\n",
       "  <tbody>\n",
       "    <tr>\n",
       "      <th>0</th>\n",
       "      <td>0.338</td>\n",
       "      <td>0.340</td>\n",
       "      <td>9</td>\n",
       "      <td>-12.049</td>\n",
       "      <td>0</td>\n",
       "      <td>0.0339</td>\n",
       "      <td>0.580000</td>\n",
       "      <td>0.003200</td>\n",
       "      <td>0.1160</td>\n",
       "      <td>0.197</td>\n",
       "      <td>82.433</td>\n",
       "      <td>audio_features</td>\n",
       "      <td>5CQ30WqJwcep0pYcV4AMNc</td>\n",
       "      <td>spotify:track:5CQ30WqJwcep0pYcV4AMNc</td>\n",
       "      <td>https://api.spotify.com/v1/tracks/5CQ30WqJwcep...</td>\n",
       "      <td>https://api.spotify.com/v1/audio-analysis/5CQ3...</td>\n",
       "      <td>482830</td>\n",
       "      <td>4</td>\n",
       "    </tr>\n",
       "    <tr>\n",
       "      <th>1</th>\n",
       "      <td>0.564</td>\n",
       "      <td>0.932</td>\n",
       "      <td>11</td>\n",
       "      <td>-10.068</td>\n",
       "      <td>1</td>\n",
       "      <td>0.0554</td>\n",
       "      <td>0.013000</td>\n",
       "      <td>0.169000</td>\n",
       "      <td>0.3490</td>\n",
       "      <td>0.619</td>\n",
       "      <td>112.937</td>\n",
       "      <td>audio_features</td>\n",
       "      <td>78lgmZwycJ3nzsdgmPPGNx</td>\n",
       "      <td>spotify:track:78lgmZwycJ3nzsdgmPPGNx</td>\n",
       "      <td>https://api.spotify.com/v1/tracks/78lgmZwycJ3n...</td>\n",
       "      <td>https://api.spotify.com/v1/audio-analysis/78lg...</td>\n",
       "      <td>146250</td>\n",
       "      <td>4</td>\n",
       "    </tr>\n",
       "    <tr>\n",
       "      <th>2</th>\n",
       "      <td>0.412</td>\n",
       "      <td>0.902</td>\n",
       "      <td>9</td>\n",
       "      <td>-11.600</td>\n",
       "      <td>1</td>\n",
       "      <td>0.4050</td>\n",
       "      <td>0.048400</td>\n",
       "      <td>0.131000</td>\n",
       "      <td>0.4050</td>\n",
       "      <td>0.422</td>\n",
       "      <td>89.740</td>\n",
       "      <td>audio_features</td>\n",
       "      <td>0hCB0YR03f6AmQaHbwWDe8</td>\n",
       "      <td>spotify:track:0hCB0YR03f6AmQaHbwWDe8</td>\n",
       "      <td>https://api.spotify.com/v1/tracks/0hCB0YR03f6A...</td>\n",
       "      <td>https://api.spotify.com/v1/audio-analysis/0hCB...</td>\n",
       "      <td>333893</td>\n",
       "      <td>4</td>\n",
       "    </tr>\n",
       "    <tr>\n",
       "      <th>3</th>\n",
       "      <td>0.437</td>\n",
       "      <td>0.864</td>\n",
       "      <td>4</td>\n",
       "      <td>-7.842</td>\n",
       "      <td>0</td>\n",
       "      <td>0.0904</td>\n",
       "      <td>0.396000</td>\n",
       "      <td>0.031400</td>\n",
       "      <td>0.2420</td>\n",
       "      <td>0.749</td>\n",
       "      <td>81.394</td>\n",
       "      <td>audio_features</td>\n",
       "      <td>3qT4bUD1MaWpGrTwcvguhb</td>\n",
       "      <td>spotify:track:3qT4bUD1MaWpGrTwcvguhb</td>\n",
       "      <td>https://api.spotify.com/v1/tracks/3qT4bUD1MaWp...</td>\n",
       "      <td>https://api.spotify.com/v1/audio-analysis/3qT4...</td>\n",
       "      <td>295387</td>\n",
       "      <td>4</td>\n",
       "    </tr>\n",
       "    <tr>\n",
       "      <th>4</th>\n",
       "      <td>0.483</td>\n",
       "      <td>0.615</td>\n",
       "      <td>2</td>\n",
       "      <td>-8.538</td>\n",
       "      <td>1</td>\n",
       "      <td>0.0497</td>\n",
       "      <td>0.452000</td>\n",
       "      <td>0.000414</td>\n",
       "      <td>0.0512</td>\n",
       "      <td>0.594</td>\n",
       "      <td>80.576</td>\n",
       "      <td>audio_features</td>\n",
       "      <td>6Vjk8MNXpQpi0F4BefdTyq</td>\n",
       "      <td>spotify:track:6Vjk8MNXpQpi0F4BefdTyq</td>\n",
       "      <td>https://api.spotify.com/v1/tracks/6Vjk8MNXpQpi...</td>\n",
       "      <td>https://api.spotify.com/v1/audio-analysis/6Vjk...</td>\n",
       "      <td>517125</td>\n",
       "      <td>3</td>\n",
       "    </tr>\n",
       "    <tr>\n",
       "      <th>5</th>\n",
       "      <td>0.468</td>\n",
       "      <td>0.607</td>\n",
       "      <td>9</td>\n",
       "      <td>-11.367</td>\n",
       "      <td>1</td>\n",
       "      <td>0.0336</td>\n",
       "      <td>0.072000</td>\n",
       "      <td>0.000852</td>\n",
       "      <td>0.2250</td>\n",
       "      <td>0.886</td>\n",
       "      <td>98.429</td>\n",
       "      <td>audio_features</td>\n",
       "      <td>3MODES4TNtygekLl146Dxd</td>\n",
       "      <td>spotify:track:3MODES4TNtygekLl146Dxd</td>\n",
       "      <td>https://api.spotify.com/v1/tracks/3MODES4TNtyg...</td>\n",
       "      <td>https://api.spotify.com/v1/audio-analysis/3MOD...</td>\n",
       "      <td>263333</td>\n",
       "      <td>4</td>\n",
       "    </tr>\n",
       "    <tr>\n",
       "      <th>6</th>\n",
       "      <td>0.317</td>\n",
       "      <td>0.887</td>\n",
       "      <td>9</td>\n",
       "      <td>-7.292</td>\n",
       "      <td>1</td>\n",
       "      <td>0.0375</td>\n",
       "      <td>0.000582</td>\n",
       "      <td>0.002580</td>\n",
       "      <td>0.0891</td>\n",
       "      <td>0.871</td>\n",
       "      <td>169.613</td>\n",
       "      <td>audio_features</td>\n",
       "      <td>4PRGxHpCpF2yoOHYKQIEwD</td>\n",
       "      <td>spotify:track:4PRGxHpCpF2yoOHYKQIEwD</td>\n",
       "      <td>https://api.spotify.com/v1/tracks/4PRGxHpCpF2y...</td>\n",
       "      <td>https://api.spotify.com/v1/audio-analysis/4PRG...</td>\n",
       "      <td>220561</td>\n",
       "      <td>4</td>\n",
       "    </tr>\n",
       "    <tr>\n",
       "      <th>7</th>\n",
       "      <td>0.503</td>\n",
       "      <td>0.265</td>\n",
       "      <td>2</td>\n",
       "      <td>-15.913</td>\n",
       "      <td>1</td>\n",
       "      <td>0.0333</td>\n",
       "      <td>0.943000</td>\n",
       "      <td>0.045000</td>\n",
       "      <td>0.0867</td>\n",
       "      <td>0.522</td>\n",
       "      <td>78.044</td>\n",
       "      <td>audio_features</td>\n",
       "      <td>70gbuMqwNBE2Y5rkQJE9By</td>\n",
       "      <td>spotify:track:70gbuMqwNBE2Y5rkQJE9By</td>\n",
       "      <td>https://api.spotify.com/v1/tracks/70gbuMqwNBE2...</td>\n",
       "      <td>https://api.spotify.com/v1/audio-analysis/70gb...</td>\n",
       "      <td>212161</td>\n",
       "      <td>4</td>\n",
       "    </tr>\n",
       "    <tr>\n",
       "      <th>8</th>\n",
       "      <td>0.476</td>\n",
       "      <td>0.717</td>\n",
       "      <td>9</td>\n",
       "      <td>-9.192</td>\n",
       "      <td>1</td>\n",
       "      <td>0.0949</td>\n",
       "      <td>0.038200</td>\n",
       "      <td>0.000076</td>\n",
       "      <td>0.0818</td>\n",
       "      <td>0.753</td>\n",
       "      <td>93.584</td>\n",
       "      <td>audio_features</td>\n",
       "      <td>0QwZfbw26QeUoIy82Z2jYp</td>\n",
       "      <td>spotify:track:0QwZfbw26QeUoIy82Z2jYp</td>\n",
       "      <td>https://api.spotify.com/v1/tracks/0QwZfbw26QeU...</td>\n",
       "      <td>https://api.spotify.com/v1/audio-analysis/0QwZ...</td>\n",
       "      <td>166267</td>\n",
       "      <td>4</td>\n",
       "    </tr>\n",
       "    <tr>\n",
       "      <th>9</th>\n",
       "      <td>0.525</td>\n",
       "      <td>0.929</td>\n",
       "      <td>9</td>\n",
       "      <td>-8.560</td>\n",
       "      <td>0</td>\n",
       "      <td>0.0784</td>\n",
       "      <td>0.262000</td>\n",
       "      <td>0.000029</td>\n",
       "      <td>0.0754</td>\n",
       "      <td>0.556</td>\n",
       "      <td>163.503</td>\n",
       "      <td>audio_features</td>\n",
       "      <td>4ItljeeAXtHsnsnnQojaO2</td>\n",
       "      <td>spotify:track:4ItljeeAXtHsnsnnQojaO2</td>\n",
       "      <td>https://api.spotify.com/v1/tracks/4ItljeeAXtHs...</td>\n",
       "      <td>https://api.spotify.com/v1/audio-analysis/4Itl...</td>\n",
       "      <td>262748</td>\n",
       "      <td>4</td>\n",
       "    </tr>\n",
       "  </tbody>\n",
       "</table>\n",
       "</div>\n",
       "    </div>\n",
       "  </div>\n",
       "  "
      ],
      "text/plain": [
       "   danceability  energy  ...  duration_ms  time_signature\n",
       "0         0.338   0.340  ...       482830               4\n",
       "1         0.564   0.932  ...       146250               4\n",
       "2         0.412   0.902  ...       333893               4\n",
       "3         0.437   0.864  ...       295387               4\n",
       "4         0.483   0.615  ...       517125               3\n",
       "5         0.468   0.607  ...       263333               4\n",
       "6         0.317   0.887  ...       220561               4\n",
       "7         0.503   0.265  ...       212161               4\n",
       "8         0.476   0.717  ...       166267               4\n",
       "9         0.525   0.929  ...       262748               4\n",
       "\n",
       "[10 rows x 18 columns]"
      ]
     },
     "execution_count": 8,
     "metadata": {},
     "output_type": "execute_result"
    }
   ],
   "source": [
    "pd.DataFrame(features)"
   ]
  },
  {
   "cell_type": "markdown",
   "metadata": {
    "id": "twwhUVrSZLMZ"
   },
   "source": [
    "### Add additional artists\n",
    "\n",
    "Let's get some other artist data to compare with:"
   ]
  },
  {
   "cell_type": "code",
   "execution_count": 9,
   "metadata": {
    "id": "thcVOXiUYYh_"
   },
   "outputs": [],
   "source": [
    "artist_dict = {'zep': '36QJpDe2go2KgaRleHCDTp',\n",
    "               'tswift': '06HL4z0CvFAxyc27GXpf02',\n",
    "               'debussy': '1Uff91EOsvd99rtAupatMP',\n",
    "               'luttrell': '4EOyJnoiiOJ4vuNhSBArB2',\n",
    "               'johnwill': '3dRfiJ2650SZu6GbydcHNb'}\n",
    "\n",
    "color_dict = {'zep': 'tab:blue',\n",
    "               'tswift': 'tab:green',\n",
    "               'debussy': 'tab:orange',\n",
    "               'luttrell': 'tab:red',\n",
    "               'johnwill': 'tab:pink'}"
   ]
  },
  {
   "cell_type": "code",
   "execution_count": 10,
   "metadata": {
    "colab": {
     "base_uri": "https://localhost:8080/"
    },
    "id": "Vz9DntnAaVpg",
    "outputId": "7c37a9c7-19fb-485d-e5c2-39502bf9565a"
   },
   "outputs": [
    {
     "name": "stdout",
     "output_type": "stream",
     "text": [
      "track    : Stairway to Heaven - Remaster\n",
      "cover art: https://i.scdn.co/image/ab67616d0000b273c8a11e48c91a982d086afc69\n",
      "\n",
      "track    : All Too Well (10 Minute Version) (Taylor's Version) (From The Vault)\n",
      "cover art: https://i.scdn.co/image/ab67616d0000b273318443aab3531a0558e79a4d\n",
      "\n",
      "track    : Clair de Lune, L. 32\n",
      "cover art: https://i.scdn.co/image/ab67616d0000b2736e7bb273ff9cb1de1e1d4d0a\n",
      "\n",
      "track    : Twin Souls\n",
      "cover art: https://i.scdn.co/image/ab67616d0000b2735dea3da9d2751a0fa7b23fd3\n",
      "\n",
      "track    : Carol of the Bells\n",
      "cover art: https://i.scdn.co/image/ab67616d0000b273a68c06155b7c3cf82b00cb96\n",
      "\n"
     ]
    }
   ],
   "source": [
    "ids = []\n",
    "artists = []\n",
    "colors = []\n",
    "for artist, uri in artist_dict.items():\n",
    "  results = spotify.artist_top_tracks('spotify:artist:' + uri)\n",
    "  \n",
    "\n",
    "  for i, track in enumerate(results['tracks']):\n",
    "      ids.append(track['id'])\n",
    "      artists.append(artist)\n",
    "      colors.append(color_dict[artist])\n",
    "      if i < 1:\n",
    "        print('track    : ' + track['name'])\n",
    "        print('cover art: ' + track['album']['images'][0]['url'])\n",
    "        print()"
   ]
  },
  {
   "cell_type": "code",
   "execution_count": 11,
   "metadata": {
    "colab": {
     "base_uri": "https://localhost:8080/"
    },
    "id": "EgLHW8zaa8Th",
    "outputId": "33371848-f6de-47ff-f7dd-2d2484337808"
   },
   "outputs": [
    {
     "name": "stdout",
     "output_type": "stream",
     "text": [
      "Index(['danceability', 'energy', 'key', 'loudness', 'mode', 'speechiness',\n",
      "       'acousticness', 'instrumentalness', 'liveness', 'valence', 'tempo'],\n",
      "      dtype='object')\n"
     ]
    }
   ],
   "source": [
    "features = spotify.audio_features(ids)\n",
    "df = pd.DataFrame(features)\n",
    "df['artist'] = artists\n",
    "df['color'] = colors\n",
    "feat_names = df.columns[:11]\n",
    "print(feat_names)"
   ]
  },
  {
   "cell_type": "code",
   "execution_count": 12,
   "metadata": {
    "colab": {
     "base_uri": "https://localhost:8080/",
     "height": 357
    },
    "id": "WLgLNNsUcBCV",
    "outputId": "68c523c5-410b-4d34-ad1e-b524729ca8c3"
   },
   "outputs": [
    {
     "data": {
      "text/html": [
       "\n",
       "  <div id=\"df-07d1c6ef-cb7f-4a40-b177-c58793923704\">\n",
       "    <div class=\"colab-df-container\">\n",
       "      <div>\n",
       "<style scoped>\n",
       "    .dataframe tbody tr th:only-of-type {\n",
       "        vertical-align: middle;\n",
       "    }\n",
       "\n",
       "    .dataframe tbody tr th {\n",
       "        vertical-align: top;\n",
       "    }\n",
       "\n",
       "    .dataframe thead th {\n",
       "        text-align: right;\n",
       "    }\n",
       "</style>\n",
       "<table border=\"1\" class=\"dataframe\">\n",
       "  <thead>\n",
       "    <tr style=\"text-align: right;\">\n",
       "      <th></th>\n",
       "      <th>danceability</th>\n",
       "      <th>energy</th>\n",
       "      <th>key</th>\n",
       "      <th>loudness</th>\n",
       "      <th>mode</th>\n",
       "      <th>speechiness</th>\n",
       "      <th>acousticness</th>\n",
       "      <th>instrumentalness</th>\n",
       "      <th>liveness</th>\n",
       "      <th>valence</th>\n",
       "      <th>tempo</th>\n",
       "      <th>type</th>\n",
       "      <th>id</th>\n",
       "      <th>uri</th>\n",
       "      <th>track_href</th>\n",
       "      <th>analysis_url</th>\n",
       "      <th>duration_ms</th>\n",
       "      <th>time_signature</th>\n",
       "      <th>artist</th>\n",
       "      <th>color</th>\n",
       "    </tr>\n",
       "  </thead>\n",
       "  <tbody>\n",
       "    <tr>\n",
       "      <th>0</th>\n",
       "      <td>0.338</td>\n",
       "      <td>0.340</td>\n",
       "      <td>9</td>\n",
       "      <td>-12.049</td>\n",
       "      <td>0</td>\n",
       "      <td>0.0339</td>\n",
       "      <td>0.5800</td>\n",
       "      <td>0.003200</td>\n",
       "      <td>0.1160</td>\n",
       "      <td>0.197</td>\n",
       "      <td>82.433</td>\n",
       "      <td>audio_features</td>\n",
       "      <td>5CQ30WqJwcep0pYcV4AMNc</td>\n",
       "      <td>spotify:track:5CQ30WqJwcep0pYcV4AMNc</td>\n",
       "      <td>https://api.spotify.com/v1/tracks/5CQ30WqJwcep...</td>\n",
       "      <td>https://api.spotify.com/v1/audio-analysis/5CQ3...</td>\n",
       "      <td>482830</td>\n",
       "      <td>4</td>\n",
       "      <td>zep</td>\n",
       "      <td>tab:blue</td>\n",
       "    </tr>\n",
       "    <tr>\n",
       "      <th>1</th>\n",
       "      <td>0.564</td>\n",
       "      <td>0.932</td>\n",
       "      <td>11</td>\n",
       "      <td>-10.068</td>\n",
       "      <td>1</td>\n",
       "      <td>0.0554</td>\n",
       "      <td>0.0130</td>\n",
       "      <td>0.169000</td>\n",
       "      <td>0.3490</td>\n",
       "      <td>0.619</td>\n",
       "      <td>112.937</td>\n",
       "      <td>audio_features</td>\n",
       "      <td>78lgmZwycJ3nzsdgmPPGNx</td>\n",
       "      <td>spotify:track:78lgmZwycJ3nzsdgmPPGNx</td>\n",
       "      <td>https://api.spotify.com/v1/tracks/78lgmZwycJ3n...</td>\n",
       "      <td>https://api.spotify.com/v1/audio-analysis/78lg...</td>\n",
       "      <td>146250</td>\n",
       "      <td>4</td>\n",
       "      <td>zep</td>\n",
       "      <td>tab:blue</td>\n",
       "    </tr>\n",
       "    <tr>\n",
       "      <th>2</th>\n",
       "      <td>0.412</td>\n",
       "      <td>0.902</td>\n",
       "      <td>9</td>\n",
       "      <td>-11.600</td>\n",
       "      <td>1</td>\n",
       "      <td>0.4050</td>\n",
       "      <td>0.0484</td>\n",
       "      <td>0.131000</td>\n",
       "      <td>0.4050</td>\n",
       "      <td>0.422</td>\n",
       "      <td>89.740</td>\n",
       "      <td>audio_features</td>\n",
       "      <td>0hCB0YR03f6AmQaHbwWDe8</td>\n",
       "      <td>spotify:track:0hCB0YR03f6AmQaHbwWDe8</td>\n",
       "      <td>https://api.spotify.com/v1/tracks/0hCB0YR03f6A...</td>\n",
       "      <td>https://api.spotify.com/v1/audio-analysis/0hCB...</td>\n",
       "      <td>333893</td>\n",
       "      <td>4</td>\n",
       "      <td>zep</td>\n",
       "      <td>tab:blue</td>\n",
       "    </tr>\n",
       "    <tr>\n",
       "      <th>3</th>\n",
       "      <td>0.437</td>\n",
       "      <td>0.864</td>\n",
       "      <td>4</td>\n",
       "      <td>-7.842</td>\n",
       "      <td>0</td>\n",
       "      <td>0.0904</td>\n",
       "      <td>0.3960</td>\n",
       "      <td>0.031400</td>\n",
       "      <td>0.2420</td>\n",
       "      <td>0.749</td>\n",
       "      <td>81.394</td>\n",
       "      <td>audio_features</td>\n",
       "      <td>3qT4bUD1MaWpGrTwcvguhb</td>\n",
       "      <td>spotify:track:3qT4bUD1MaWpGrTwcvguhb</td>\n",
       "      <td>https://api.spotify.com/v1/tracks/3qT4bUD1MaWp...</td>\n",
       "      <td>https://api.spotify.com/v1/audio-analysis/3qT4...</td>\n",
       "      <td>295387</td>\n",
       "      <td>4</td>\n",
       "      <td>zep</td>\n",
       "      <td>tab:blue</td>\n",
       "    </tr>\n",
       "    <tr>\n",
       "      <th>4</th>\n",
       "      <td>0.483</td>\n",
       "      <td>0.615</td>\n",
       "      <td>2</td>\n",
       "      <td>-8.538</td>\n",
       "      <td>1</td>\n",
       "      <td>0.0497</td>\n",
       "      <td>0.4520</td>\n",
       "      <td>0.000414</td>\n",
       "      <td>0.0512</td>\n",
       "      <td>0.594</td>\n",
       "      <td>80.576</td>\n",
       "      <td>audio_features</td>\n",
       "      <td>6Vjk8MNXpQpi0F4BefdTyq</td>\n",
       "      <td>spotify:track:6Vjk8MNXpQpi0F4BefdTyq</td>\n",
       "      <td>https://api.spotify.com/v1/tracks/6Vjk8MNXpQpi...</td>\n",
       "      <td>https://api.spotify.com/v1/audio-analysis/6Vjk...</td>\n",
       "      <td>517125</td>\n",
       "      <td>3</td>\n",
       "      <td>zep</td>\n",
       "      <td>tab:blue</td>\n",
       "    </tr>\n",
       "  </tbody>\n",
       "</table>\n",
       "</div>\n",
       "    </div>\n",
       "  </div>\n",
       "  "
      ],
      "text/plain": [
       "   danceability  energy  key  ...  time_signature  artist     color\n",
       "0         0.338   0.340    9  ...               4     zep  tab:blue\n",
       "1         0.564   0.932   11  ...               4     zep  tab:blue\n",
       "2         0.412   0.902    9  ...               4     zep  tab:blue\n",
       "3         0.437   0.864    4  ...               4     zep  tab:blue\n",
       "4         0.483   0.615    2  ...               3     zep  tab:blue\n",
       "\n",
       "[5 rows x 20 columns]"
      ]
     },
     "execution_count": 12,
     "metadata": {},
     "output_type": "execute_result"
    }
   ],
   "source": [
    "df.head()"
   ]
  },
  {
   "cell_type": "markdown",
   "metadata": {
    "id": "ZQ3QyicRbxpm"
   },
   "source": [
    "### Visualize the audio features"
   ]
  },
  {
   "cell_type": "code",
   "execution_count": 13,
   "metadata": {
    "colab": {
     "base_uri": "https://localhost:8080/",
     "height": 237
    },
    "id": "4FQ8pRWrbz7y",
    "outputId": "4fd791a3-31e0-46ac-967a-5b90ebe1392f"
   },
   "outputs": [
    {
     "data": {
      "text/html": [
       "\n",
       "  <div id=\"df-b91445e3-f3b8-41fa-8e77-76f35ea514cb\">\n",
       "    <div class=\"colab-df-container\">\n",
       "      <div>\n",
       "<style scoped>\n",
       "    .dataframe tbody tr th:only-of-type {\n",
       "        vertical-align: middle;\n",
       "    }\n",
       "\n",
       "    .dataframe tbody tr th {\n",
       "        vertical-align: top;\n",
       "    }\n",
       "\n",
       "    .dataframe thead th {\n",
       "        text-align: right;\n",
       "    }\n",
       "</style>\n",
       "<table border=\"1\" class=\"dataframe\">\n",
       "  <thead>\n",
       "    <tr style=\"text-align: right;\">\n",
       "      <th></th>\n",
       "      <th>danceability</th>\n",
       "      <th>energy</th>\n",
       "      <th>key</th>\n",
       "      <th>loudness</th>\n",
       "      <th>mode</th>\n",
       "      <th>speechiness</th>\n",
       "      <th>acousticness</th>\n",
       "      <th>instrumentalness</th>\n",
       "      <th>liveness</th>\n",
       "      <th>valence</th>\n",
       "      <th>tempo</th>\n",
       "    </tr>\n",
       "    <tr>\n",
       "      <th>artist</th>\n",
       "      <th></th>\n",
       "      <th></th>\n",
       "      <th></th>\n",
       "      <th></th>\n",
       "      <th></th>\n",
       "      <th></th>\n",
       "      <th></th>\n",
       "      <th></th>\n",
       "      <th></th>\n",
       "      <th></th>\n",
       "      <th></th>\n",
       "    </tr>\n",
       "  </thead>\n",
       "  <tbody>\n",
       "    <tr>\n",
       "      <th>debussy</th>\n",
       "      <td>0.2868</td>\n",
       "      <td>0.019716</td>\n",
       "      <td>3.6</td>\n",
       "      <td>-30.3510</td>\n",
       "      <td>0.8</td>\n",
       "      <td>0.04209</td>\n",
       "      <td>0.990800</td>\n",
       "      <td>0.927000</td>\n",
       "      <td>0.07817</td>\n",
       "      <td>0.07747</td>\n",
       "      <td>81.2996</td>\n",
       "    </tr>\n",
       "    <tr>\n",
       "      <th>johnwill</th>\n",
       "      <td>0.2783</td>\n",
       "      <td>0.151770</td>\n",
       "      <td>3.9</td>\n",
       "      <td>-20.4347</td>\n",
       "      <td>0.5</td>\n",
       "      <td>0.03766</td>\n",
       "      <td>0.903000</td>\n",
       "      <td>0.615920</td>\n",
       "      <td>0.18085</td>\n",
       "      <td>0.19182</td>\n",
       "      <td>87.2151</td>\n",
       "    </tr>\n",
       "    <tr>\n",
       "      <th>luttrell</th>\n",
       "      <td>0.5310</td>\n",
       "      <td>0.706000</td>\n",
       "      <td>4.5</td>\n",
       "      <td>-9.3468</td>\n",
       "      <td>0.7</td>\n",
       "      <td>0.03504</td>\n",
       "      <td>0.127682</td>\n",
       "      <td>0.669259</td>\n",
       "      <td>0.18714</td>\n",
       "      <td>0.16701</td>\n",
       "      <td>117.5059</td>\n",
       "    </tr>\n",
       "    <tr>\n",
       "      <th>tswift</th>\n",
       "      <td>0.5073</td>\n",
       "      <td>0.621700</td>\n",
       "      <td>4.2</td>\n",
       "      <td>-6.4014</td>\n",
       "      <td>0.9</td>\n",
       "      <td>0.05926</td>\n",
       "      <td>0.198158</td>\n",
       "      <td>0.000263</td>\n",
       "      <td>0.13591</td>\n",
       "      <td>0.40550</td>\n",
       "      <td>125.7815</td>\n",
       "    </tr>\n",
       "    <tr>\n",
       "      <th>zep</th>\n",
       "      <td>0.4523</td>\n",
       "      <td>0.705800</td>\n",
       "      <td>7.3</td>\n",
       "      <td>-10.2421</td>\n",
       "      <td>0.7</td>\n",
       "      <td>0.09121</td>\n",
       "      <td>0.280518</td>\n",
       "      <td>0.038355</td>\n",
       "      <td>0.17212</td>\n",
       "      <td>0.61690</td>\n",
       "      <td>105.0253</td>\n",
       "    </tr>\n",
       "  </tbody>\n",
       "</table>\n",
       "</div>\n",
       "    </div>\n",
       "  </div>\n",
       "  "
      ],
      "text/plain": [
       "          danceability    energy  key  ...  liveness  valence     tempo\n",
       "artist                                 ...                             \n",
       "debussy         0.2868  0.019716  3.6  ...   0.07817  0.07747   81.2996\n",
       "johnwill        0.2783  0.151770  3.9  ...   0.18085  0.19182   87.2151\n",
       "luttrell        0.5310  0.706000  4.5  ...   0.18714  0.16701  117.5059\n",
       "tswift          0.5073  0.621700  4.2  ...   0.13591  0.40550  125.7815\n",
       "zep             0.4523  0.705800  7.3  ...   0.17212  0.61690  105.0253\n",
       "\n",
       "[5 rows x 11 columns]"
      ]
     },
     "execution_count": 13,
     "metadata": {},
     "output_type": "execute_result"
    }
   ],
   "source": [
    "df.groupby('artist')[feat_names].mean()"
   ]
  },
  {
   "cell_type": "code",
   "execution_count": 14,
   "metadata": {
    "colab": {
     "base_uri": "https://localhost:8080/",
     "height": 609
    },
    "id": "gCNkND8YcWT2",
    "outputId": "0cf18fbf-2204-424f-9469-a1deba50daf1"
   },
   "outputs": [
    {
     "data": {
      "text/plain": [
       "<matplotlib.axes._subplots.AxesSubplot at 0x7f7e11316ad0>"
      ]
     },
     "execution_count": 14,
     "metadata": {},
     "output_type": "execute_result"
    },
    {
     "data": {
      "image/png": "[encoded data removed]",
      "text/plain": [
       "<Figure size 720x720 with 1 Axes>"
      ]
     },
     "metadata": {
      "needs_background": "light"
     },
     "output_type": "display_data"
    }
   ],
   "source": [
    "fig, ax = plt.subplots(figsize=(10,10))\n",
    "df.groupby('artist')[feat_names].mean().plot(kind='barh', ax=ax)"
   ]
  },
  {
   "cell_type": "markdown",
   "metadata": {
    "id": "aPwpskx5dEa0"
   },
   "source": [
    "we see that it is difficult to see all the features together at once. One tactic may be to normalize the features"
   ]
  },
  {
   "cell_type": "code",
   "execution_count": 15,
   "metadata": {
    "id": "WuM2mGeAdI1_"
   },
   "outputs": [],
   "source": [
    "scaled = df[feat_names].apply(lambda x: (x - x.mean()) / (x.std()))\n",
    "scaled['artist'] = df['artist']"
   ]
  },
  {
   "cell_type": "code",
   "execution_count": 16,
   "metadata": {
    "colab": {
     "base_uri": "https://localhost:8080/",
     "height": 609
    },
    "id": "77Qd-S89eeRA",
    "outputId": "dd514d7d-4dae-40fd-f90b-4c480371c805"
   },
   "outputs": [
    {
     "data": {
      "text/plain": [
       "<matplotlib.axes._subplots.AxesSubplot at 0x7f7e110ac550>"
      ]
     },
     "execution_count": 16,
     "metadata": {},
     "output_type": "execute_result"
    },
    {
     "data": {
      "image/png": "[encoded data removed]",
      "text/plain": [
       "<Figure size 720x720 with 1 Axes>"
      ]
     },
     "metadata": {
      "needs_background": "light"
     },
     "output_type": "display_data"
    }
   ],
   "source": [
    "fig, ax = plt.subplots(figsize=(10,10))\n",
    "scaled.groupby('artist')[feat_names].mean().plot(kind='barh', ax=ax)"
   ]
  },
  {
   "cell_type": "markdown",
   "metadata": {
    "id": "KeQiM75ChKNJ"
   },
   "source": [
    "We can then investigate if these scaled and centered features separate out under a dimensionality reduction (a topic we explore in unsupervised learning):"
   ]
  },
  {
   "cell_type": "code",
   "execution_count": 17,
   "metadata": {
    "colab": {
     "base_uri": "https://localhost:8080/"
    },
    "id": "7I0DjchmfOmD",
    "outputId": "22e8bd84-fba2-4db0-8ac9-5c14ed8019c0"
   },
   "outputs": [
    {
     "data": {
      "text/plain": [
       "PCA(n_components=2)"
      ]
     },
     "execution_count": 17,
     "metadata": {},
     "output_type": "execute_result"
    }
   ],
   "source": [
    "from sklearn.decomposition import PCA\n",
    "pca = PCA(n_components=2)\n",
    "pca.fit(scaled[feat_names])"
   ]
  },
  {
   "cell_type": "code",
   "execution_count": 18,
   "metadata": {
    "colab": {
     "base_uri": "https://localhost:8080/",
     "height": 297
    },
    "id": "p1RpmK0ifZvm",
    "outputId": "58165e05-fd6f-48d6-a9e1-54faf1779768"
   },
   "outputs": [
    {
     "data": {
      "text/plain": [
       "Text(0, 0.5, 'Second PC')"
      ]
     },
     "execution_count": 18,
     "metadata": {},
     "output_type": "execute_result"
    },
    {
     "data": {
      "image/png": "[encoded data removed]",
      "text/plain": [
       "<Figure size 432x288 with 1 Axes>"
      ]
     },
     "metadata": {
      "needs_background": "light"
     },
     "output_type": "display_data"
    }
   ],
   "source": [
    "X_pca = pca.transform(df[feat_names])\n",
    "\n",
    "plt.scatter(X_pca[:, 0], X_pca[:, 1], alpha=0.8, c=df['color'].values,\n",
    "            edgecolor='grey')\n",
    "plt.xlabel('First PC')\n",
    "plt.ylabel('Second PC')"
   ]
  },
  {
   "cell_type": "markdown",
   "metadata": {
    "id": "0nPCrrzpZgAE"
   },
   "source": [
    "## 🏋️‍♀️ Exercises"
   ]
  },
  {
   "cell_type": "markdown",
   "metadata": {
    "id": "zWdX6NwZrBT9"
   },
   "source": [
    "### 🕵️‍♀️ Exercise 1: Find artist urls and build dataset\n",
    "\n",
    "a. Navigate to the Spotify web application, pick 5 artists and update the the dictionary below"
   ]
  },
  {
   "cell_type": "code",
   "execution_count": null,
   "metadata": {
    "id": "khExXw4_q4zZ"
   },
   "outputs": [],
   "source": [
    "# Cell for 1.a\n",
    "\n",
    "artist_dict = {'zep': '36QJpDe2go2KgaRleHCDTp',\n",
    "               'tswift': '06HL4z0CvFAxyc27GXpf02',\n",
    "               'debussy': '1Uff91EOsvd99rtAupatMP',\n",
    "               'luttrell': '4EOyJnoiiOJ4vuNhSBArB2',\n",
    "               'johnwill': '3dRfiJ2650SZu6GbydcHNb'}\n",
    "\n",
    "color_dict = {'zep': 'tab:blue',\n",
    "               'tswift': 'tab:green',\n",
    "               'debussy': 'tab:orange',\n",
    "               'luttrell': 'tab:red',\n",
    "               'johnwill': 'tab:pink'}"
   ]
  },
  {
   "cell_type": "markdown",
   "metadata": {
    "id": "6ioIfKEerbnM"
   },
   "source": [
    "b. build feature set using `spotify.artist_top_tracks('spotify:artist:' + uri)` and storing the resultant track information"
   ]
  },
  {
   "cell_type": "code",
   "execution_count": null,
   "metadata": {
    "id": "tEWkxlsfrnCo"
   },
   "outputs": [],
   "source": [
    "# Cell for 1.b"
   ]
  },
  {
   "cell_type": "markdown",
   "metadata": {
    "id": "kO2rgwqLrMcc"
   },
   "source": [
    "### 💫 Exercise 2: Visualize Features\n",
    "\n",
    "a. Create a boxplot of each feature, grouped by artist (similar to example above)"
   ]
  },
  {
   "cell_type": "code",
   "execution_count": 21,
   "metadata": {
    "id": "jmxoCuyurt56"
   },
   "outputs": [],
   "source": [
    "# Cell for 2.a"
   ]
  },
  {
   "cell_type": "markdown",
   "metadata": {
    "id": "YT7RPvofr3Tk"
   },
   "source": [
    "b. Normalize the features this time, then create the boxplot"
   ]
  },
  {
   "cell_type": "code",
   "execution_count": 22,
   "metadata": {
    "id": "K6M7K5vYr8oq"
   },
   "outputs": [],
   "source": [
    "# Cell for 2.b"
   ]
  },
  {
   "cell_type": "markdown",
   "metadata": {
    "id": "dgRT7O6er9mv"
   },
   "source": [
    "### ⚖️ Exercise 3: Write a function that returns a similarity score between two artists\n"
   ]
  },
  {
   "cell_type": "code",
   "execution_count": 23,
   "metadata": {
    "id": "-fJ6VDpRsN1g"
   },
   "outputs": [],
   "source": [
    "# Cell for 3"
   ]
  }
 ],
 "metadata": {
  "colab": {
   "authorship_tag": "ABX9TyMNQu4uMim7kdvmY0nJ9PBd",
   "collapsed_sections": [],
   "include_colab_link": true,
   "name": "Spotify_API.ipynb",
   "provenance": [],
   "toc_visible": true
  },
  "kernelspec": {
   "display_name": "Python 3 (ipykernel)",
   "language": "python",
   "name": "python3"
  },
  "language_info": {
   "codemirror_mode": {
    "name": "ipython",
    "version": 3
   },
   "file_extension": ".py",
   "mimetype": "text/x-python",
   "name": "python",
   "nbconvert_exporter": "python",
   "pygments_lexer": "ipython3",
   "version": "3.9.7"
  }
 },
 "nbformat": 4,
 "nbformat_minor": 4
}
