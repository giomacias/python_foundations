{
  "nbformat": 4,
  "nbformat_minor": 0,
  "metadata": {
    "colab": {
      "name": "P3_Random_TicTacToe_Agents.ipynb",
      "provenance": [],
      "collapsed_sections": [],
      "include_colab_link": true
    },
    "kernelspec": {
      "display_name": "Python (tunnel)",
      "language": "python",
      "name": "python3"
    },
    "language_info": {
      "codemirror_mode": {
        "name": "ipython",
        "version": 3
      },
      "file_extension": ".py",
      "mimetype": "text/x-python",
      "name": "python",
      "nbconvert_exporter": "python",
      "pygments_lexer": "ipython3",
      "version": "3.7.7"
    }
  },
  "cells": [
    {
      "cell_type": "markdown",
      "metadata": {
        "id": "view-in-github",
        "colab_type": "text"
      },
      "source": [
        "<a href=\"https://colab.research.google.com/github/wesleybeckner/python_foundations/blob/main/notebooks/project/P3_Random_TicTacToe_Agents.ipynb\" target=\"_parent\"><img src=\"https://colab.research.google.com/assets/colab-badge.svg\" alt=\"Open In Colab\"/></a>"
      ]
    },
    {
      "cell_type": "markdown",
      "metadata": {
        "id": "vhe1yX4AMckE"
      },
      "source": [
        "# Python Foundations, Project Part 3: Building Agents (Random AI Agent)\n",
        "\n",
        "**Instructor**: Wesley Beckner\n",
        "\n",
        "**Contact**: wesleybeckner@gmail.com\n",
        "<br>\n",
        "\n",
        "---\n",
        "\n",
        "<br>\n",
        "\n",
        "In part III of our tic-tac-toe and AI journey, we're going to create NPCs for our game!\n",
        "\n",
        "We will need to pull in our OOP work from the previous project notebook. Be sure to copy your code and run those cells below before we get started on section 3\n",
        "\n",
        "<br>\n",
        "\n",
        "---\n",
        "\n",
        "<br>\n",
        "\n",
        "<a name='top'></a>\n",
        "  "
      ]
    },
    {
      "cell_type": "markdown",
      "metadata": {
        "id": "mNtJitcRW51Y"
      },
      "source": [
        "<a name='x.0'></a>\n",
        "\n",
        "## 3.0 Preparing Environment and Importing Data\n",
        "\n",
        "[back to top](#top)"
      ]
    },
    {
      "cell_type": "markdown",
      "metadata": {
        "id": "chdcBoBL8SNm"
      },
      "source": [
        "<a name='x.0.1'></a>\n",
        "\n",
        "### 3.0.1 Import Packages\n",
        "\n",
        "[back to top](#top)"
      ]
    },
    {
      "cell_type": "code",
      "metadata": {
        "id": "eJ7-FDq3JhhI"
      },
      "source": [
        "class TicTacToe:\n",
        "  ##########################\n",
        "  ##### YOUR CODE HERE #####\n",
        "  ##########################\n",
        "  pass\n",
        "\n",
        "def play_game():\n",
        "  ##########################\n",
        "  ##### YOUR CODE HERE #####\n",
        "  ##########################\n",
        "  pass"
      ],
      "execution_count": 2,
      "outputs": []
    },
    {
      "cell_type": "markdown",
      "metadata": {
        "id": "J3dlcfPtfccI"
      },
      "source": [
        "## 3.1 Creating an Agent\n",
        "\n",
        "we'll start by creating an agent that just selects a random playing number"
      ]
    },
    {
      "cell_type": "markdown",
      "metadata": {
        "id": "hOp1PvYlf4oo"
      },
      "source": [
        "### Q1 Use a Random Number Generator\n",
        "\n",
        "import the random library. Use it to randomly generate numbers 1-9 (inclusive? yep, inclusive. We're going to use this to select the keys in our board dictionary! 📚)"
      ]
    },
    {
      "cell_type": "code",
      "metadata": {
        "id": "bdqc_josNU_L"
      },
      "source": [
        "# cell for Q4\n",
        "# generates a random number 1-9"
      ],
      "execution_count": null,
      "outputs": []
    },
    {
      "cell_type": "markdown",
      "metadata": {
        "id": "H2Z6O-iygtRl"
      },
      "source": [
        "### Q2 Play a Valid Move\n",
        "\n",
        "Nice, now that we are generating random numbers 1-9. We need to check if a random number that's been drawn is a valid move. We're going to do this with... yeah that's right you guessed it, a `while loop`"
      ]
    },
    {
      "cell_type": "code",
      "metadata": {
        "id": "cyQruaqghODb"
      },
      "source": [
        "while True:\n",
        "  # generate a random number 1-9 and set it equal to the variable name <move>\n",
        "  if # if the move is invalid then...\n",
        "    continue\n",
        "  else: # otherwise the move is valid and we can exit the loop!\n",
        "    break"
      ],
      "execution_count": null,
      "outputs": []
    },
    {
      "cell_type": "markdown",
      "metadata": {
        "id": "ThoZp0mHgg7g"
      },
      "source": [
        "Wow and that's it, we just need to wrap it in our `play_game` function. Before we do that, we need to handle the ability of our engine to perform 1 and 2 player games. In order to do this, I'm going to introduce a new object to organize how the game is setup. I'm going to call it `player_meta`\n",
        "\n",
        "```\n",
        "player_meta = {'first': {'label': 'X',\n",
        "                            'type': 'human'}, \n",
        "              'second': {'label': 'O',\n",
        "                            'type': 'human'}}\n",
        "```\n",
        "\n",
        "\n"
      ]
    },
    {
      "cell_type": "markdown",
      "source": [
        "Note that in the above `player_meta` I have `'type'` specificed to `'human'`, the other player `'type'` will be `'ai'`! Keep this in mind when answering Q3 below."
      ],
      "metadata": {
        "id": "i6eWOCBtDrHI"
      }
    },
    {
      "cell_type": "markdown",
      "metadata": {
        "id": "MixEXLUNlBGy"
      },
      "source": [
        "### Q3 Game Setup and Random AI\n",
        "\n",
        "I will skeleton out where the `input` questions need to be sent to the user, it is your task to determine how the `player_meta` dictionary should subsequently be updated!"
      ]
    },
    {
      "cell_type": "code",
      "metadata": {
        "id": "1Ep9Bi5dgkCa"
      },
      "source": [
        "def play_game():\n",
        "  tic_tac_toe = TicTacToe()\n",
        "\n",
        "  ##############################################################################\n",
        "  ################################# GAME SETUP #################################\n",
        "  ##############################################################################\n",
        "  players = int(input(\"How many Players? (type 0, 1, or 2)\"))\n",
        "  player_meta = {'first': {'label': 'X',\n",
        "                                'type': 'human'}, \n",
        "                 'second': {'label': 'O',\n",
        "                                'type': 'human'}}\n",
        "  if players == 1:\n",
        "    first = input(\"who will go first? (X, (AI), or O (Player))\")\n",
        "    if first == 'O':\n",
        "      ### UPDATE PLAYER_META HERE ###\n",
        "\n",
        "    else:\n",
        "      ### UPDATE PLAYER_META HERE ### \n",
        "\n",
        "  elif players == 0: # insert wargames quote\n",
        "    first = random.choice(['X', 'O'])\n",
        "    if first == 'O':\n",
        "      ### UPDATE PLAYER_META HERE ###\n",
        "                             \n",
        "    else:\n",
        "      ### UPDATE PLAYER_META HERE ### \n",
        "  \n",
        "  ##############################################################################\n",
        "  ################################# GAME PLAY ##################################\n",
        "  ##############################################################################\n",
        "  while True:\n",
        "    # in the following line, instead of alternating between 'X' and 'O', we now\n",
        "    # alternate between the first and second player, which has the associated\n",
        "    # metadata of label (X or O) and type (ai or human). \n",
        "    for player in ['first', 'second']:  \n",
        "      tic_tac_toe.visualize_board()\n",
        "\n",
        "      # we set the player_label and player_type according to which player is \n",
        "      # playing in this round\n",
        "      player_label = player_meta[player]['label']\n",
        "      player_type = player_meta[player]['type']\n",
        "\n",
        "      if player_type == 'human':\n",
        "        move = input(\"{}, what's your move?\".format(player_label))\n",
        "        # we're going to allow the user to quit the game from the input line\n",
        "        if move in ['q', 'quit']:\n",
        "          tic_tac_toe.winner = 'F'\n",
        "          print('quiting the game')\n",
        "          break\n",
        "\n",
        "        move = int(move)\n",
        "        if tic_tac_toe.board[move] != ' ':\n",
        "          while True:\n",
        "            move = input(\"{}, that position is already taken! \"\\\n",
        "                        \"What's your move?\".format(player))  \n",
        "            move = int(move)            \n",
        "            if tic_tac_toe.board[move] != ' ':\n",
        "              continue\n",
        "            else:\n",
        "              break\n",
        "\n",
        "      ##########################################################################\n",
        "      ################### YOUR RANDOM AI AGENT CODE GOES HERE ##################\n",
        "      ##########################################################################\n",
        "      else:\n",
        "        pass # delete this line when finished\n",
        "      \n",
        "      tic_tac_toe.board[move] = player_label\n",
        "      \n",
        "      # the winner varaible will now be check within the board object\n",
        "      tic_tac_toe.check_winning()\n",
        "      tic_tac_toe.check_stalemate()\n",
        "      if tic_tac_toe.winner == '':\n",
        "        # clear_output()\n",
        "        continue\n",
        "\n",
        "      elif tic_tac_toe.winner == 'Stalemate':\n",
        "        print(tic_tac_toe.check_stalemate())\n",
        "        tic_tac_toe.visualize_board()\n",
        "        break\n",
        "\n",
        "      else:\n",
        "        print(tic_tac_toe.check_winning())\n",
        "        tic_tac_toe.visualize_board()\n",
        "        break\n",
        "    if tic_tac_toe.winner != '':\n",
        "      return tic_tac_toe"
      ],
      "execution_count": null,
      "outputs": []
    },
    {
      "cell_type": "code",
      "metadata": {
        "id": "gPwRLHXt1SQA"
      },
      "source": [
        "play_game()"
      ],
      "execution_count": null,
      "outputs": []
    },
    {
      "cell_type": "markdown",
      "metadata": {
        "id": "uWyxdhmXImDj"
      },
      "source": [
        "## 3.2 OOP and Inheritance\n",
        "\n",
        "We'll want to reconfigure our code a bit to allow for AI to play AI. We'll use this feature to record a bunch of games and generate some data for analysis and, eventually, machine learning.\n",
        "\n",
        "We also want to run our game system without having any input from the user for our data generation. This is a good point to reconfigure our code. Notice how long and bulky `play_game` is getting.\n",
        "\n"
      ]
    },
    {
      "cell_type": "markdown",
      "metadata": {
        "id": "sHqy-bzGq7_o"
      },
      "source": [
        "### Q4 Inheriting from TicTacToe\n",
        "\n",
        "To better organize our code, we're going to create a new class called `GameEngine` and we're going to inherit all the properties of `TicTacToe`. Do we remember how to do this? let's try it. The simplest way is the following:\n",
        "\n",
        "```\n",
        "class GameEngine(TicTacToe):\n",
        "  def __init__(self):\n",
        "    super().__init__()\n",
        "```\n",
        "\n",
        "Nice. Pretty clean, right? The only new thing here I want us to introduce is the parameter `setup` setup will determine whether we have the user enter fields to setup the `player_meta` dictionary, or whether we automatically set it up to allow ai vs ai and not require input from the user (which we will need if we are to run thousands of games automatically for data generation!!!)\n",
        "\n",
        "```\n",
        "class GameEngine(TicTacToe):\n",
        "  def __init__(self, setup='auto'):\n",
        "    super().__init__()\n",
        "    self.setup = setup\n",
        "```\n",
        "\n",
        "notice the new parameter flag! We're going to use it in this next step. Be sure to:\n",
        "\n",
        "1. access all methods/attributes via the `self`\n",
        "2. use code you already wrote above for setting up and for the random AI agent"
      ]
    },
    {
      "cell_type": "code",
      "metadata": {
        "id": "LeYsz5yJ1Tbv"
      },
      "source": [
        "class GameEngine(TicTacToe):\n",
        "  def __init__(self, setup='auto'):\n",
        "    super().__init__()\n",
        "    self.setup = setup\n",
        "\n",
        "  def setup_game(self):\n",
        "\n",
        "    if self.setup == 'user':\n",
        "      ##########################################################################\n",
        "      ## YOUR GAME SETUP CODE FROM ABOVE GOES HERE, NOTE THE NEW IF STATEMENT ##\n",
        "      ##########################################################################\n",
        "      \n",
        "\n",
        "    elif self.setup == 'auto':\n",
        "      ##########################################################################\n",
        "      ## THE NEW AUTOSETUP FEATURE THAT WILL ALLOW THE GAME TO RANDOMLY SETUP ##\n",
        "      ##########################################################################\n",
        "      first = random.choice(['X', 'O'])\n",
        "      if first == 'O':\n",
        "        self.start_player = 'O'\n",
        "        self.player_meta = {'second': {'label': 'X',\n",
        "                                  'type': 'ai'}, \n",
        "                      'first': {'label': 'O',\n",
        "                                  'type': 'ai'}}                                \n",
        "      else:\n",
        "        self.start_player = 'X'\n",
        "        self.player_meta = {'first': {'label': 'X',\n",
        "                                  'type': 'ai'}, \n",
        "                      'second': {'label': 'O',\n",
        "                                  'type': 'ai'}}\n",
        "\n",
        "  def play_game(self):\n",
        "    while True:\n",
        "      for player in ['first', 'second']:  \n",
        "        self.visualize_board()\n",
        "        player_label = self.player_meta[player]['label']\n",
        "        player_type = self.player_meta[player]['type']\n",
        "\n",
        "        if player_type == 'human':\n",
        "          move = input(\"{}, what's your move?\".format(player_label))\n",
        "          # we're going to allow the user to quit the game from the input line\n",
        "          if move in ['q', 'quit']:\n",
        "            self.winner = 'F'\n",
        "            print('quiting the game')\n",
        "            break\n",
        "\n",
        "          move = int(move)\n",
        "          if self.board[move] != ' ':\n",
        "            while True:\n",
        "              move = input(\"{}, that position is already taken! \"\\\n",
        "                          \"What's your move?\".format(player))  \n",
        "              move = int(move)            \n",
        "              if self.board[move] != ' ':\n",
        "                continue\n",
        "              else:\n",
        "                break\n",
        "\n",
        "        ########################################################################\n",
        "        ################### YOUR RANDOM AI AGENT CODE GOES HERE ################\n",
        "        ########################################################################\n",
        "        else:\n",
        "          pass # delete this line when finished\n",
        "\n",
        "        self.board[move] = player_label\n",
        "\n",
        "        # the winner varaible will now be check within the board object\n",
        "        self.check_winning()\n",
        "        self.check_stalemate()\n",
        "\n",
        "        if self.winner == '':\n",
        "          # clear_output()\n",
        "          continue\n",
        "\n",
        "        elif self.winner == 'Stalemate':\n",
        "          print(self.check_stalemate())\n",
        "          self.visualize_board()\n",
        "          break\n",
        "\n",
        "        else:\n",
        "          print(self.check_winning())\n",
        "          self.visualize_board()\n",
        "          break\n",
        "      if self.winner != '':\n",
        "        return self"
      ],
      "execution_count": null,
      "outputs": []
    },
    {
      "cell_type": "markdown",
      "metadata": {
        "id": "dDT80KJ0rHRY"
      },
      "source": [
        "And now we can practice using our Engine:"
      ]
    },
    {
      "cell_type": "code",
      "metadata": {
        "colab": {
          "base_uri": "https://localhost:8080/"
        },
        "id": "wErDqzzOLGVg",
        "outputId": "935cdf2e-a820-45de-8c93-93ad47e16865"
      },
      "source": [
        "game = GameEngine()\n",
        "game.setup_game()\n",
        "board = game.play_game()"
      ],
      "execution_count": null,
      "outputs": [
        {
          "output_type": "stream",
          "text": [
            "| | | |\n",
            "| | | |\n",
            "| | | |\n",
            "\n",
            "| | | |\n",
            "| |X| |\n",
            "| | | |\n",
            "\n",
            "| | | |\n",
            "| |X| |\n",
            "| |O| |\n",
            "\n",
            "| |X| |\n",
            "| |X| |\n",
            "| |O| |\n",
            "\n",
            "| |X|O|\n",
            "| |X| |\n",
            "| |O| |\n",
            "\n",
            "| |X|O|\n",
            "| |X| |\n",
            "|X|O| |\n",
            "\n",
            "| |X|O|\n",
            "| |X| |\n",
            "|X|O|O|\n",
            "\n",
            "|X|X|O|\n",
            "| |X| |\n",
            "|X|O|O|\n",
            "\n",
            "|X|X|O|\n",
            "|O|X| |\n",
            "|X|O|O|\n",
            "\n",
            "It's a stalemate!\n",
            "|X|X|O|\n",
            "|O|X|X|\n",
            "|X|O|O|\n",
            "\n"
          ],
          "name": "stdout"
        }
      ]
    },
    {
      "cell_type": "markdown",
      "metadata": {
        "id": "U9JupO5eSnLm"
      },
      "source": [
        "### Q5 Test the Engine\n",
        "\n",
        "Check that we can still use the `GameEngine` to play a human v human or human v AI game of tic-tac-toe:"
      ]
    },
    {
      "cell_type": "code",
      "metadata": {
        "colab": {
          "base_uri": "https://localhost:8080/"
        },
        "id": "5GGKHscfLv9u",
        "outputId": "7938ca4f-2073-41b8-e37f-3dc9c6ae0043"
      },
      "source": [
        "game = GameEngine(setup='user')\n",
        "game.setup_game()"
      ],
      "execution_count": null,
      "outputs": [
        {
          "output_type": "stream",
          "text": [
            "How many Players? (type 0, 1, or 2)1\n",
            "who will go first? (X, (AI), or O (Player))O\n"
          ],
          "name": "stdout"
        }
      ]
    },
    {
      "cell_type": "code",
      "metadata": {
        "colab": {
          "base_uri": "https://localhost:8080/"
        },
        "id": "QaWWXWUUSidv",
        "outputId": "8728e65b-540d-4753-d89c-c9841e0a90ec"
      },
      "source": [
        "game.play_game()"
      ],
      "execution_count": null,
      "outputs": [
        {
          "output_type": "stream",
          "text": [
            "| | | |\n",
            "| | | |\n",
            "| | | |\n",
            "\n",
            "O, what's your move?1\n",
            "|O| | |\n",
            "| | | |\n",
            "| | | |\n",
            "\n",
            "|O| |X|\n",
            "| | | |\n",
            "| | | |\n",
            "\n",
            "O, what's your move?4\n",
            "|O| |X|\n",
            "|O| | |\n",
            "| | | |\n",
            "\n",
            "|O| |X|\n",
            "|O| | |\n",
            "| | |X|\n",
            "\n",
            "O, what's your move?7\n",
            "'O' Won!\n",
            "|O| |X|\n",
            "|O| | |\n",
            "|O| |X|\n",
            "\n"
          ],
          "name": "stdout"
        },
        {
          "output_type": "execute_result",
          "data": {
            "text/plain": [
              "<__main__.GameEngine at 0x7f71d3713050>"
            ]
          },
          "metadata": {
            "tags": []
          },
          "execution_count": 213
        }
      ]
    },
    {
      "cell_type": "markdown",
      "metadata": {
        "id": "JAZWckhxTH8V"
      },
      "source": [
        "## 3.3 Simulating Data\n",
        "\n",
        "We will now want to run our game thousands of times to collect data for building our AI agents. The following code should run without any input from the user:\n",
        "\n",
        "```\n",
        "game = GameEngine()\n",
        "game.setup_game()\n",
        "board = game.play_game()\n",
        "```"
      ]
    },
    {
      "cell_type": "code",
      "metadata": {
        "colab": {
          "base_uri": "https://localhost:8080/"
        },
        "id": "CN6RceppSjTS",
        "outputId": "c6f5192b-bbbb-4f33-dbad-289ad51a5116"
      },
      "source": [
        "game = GameEngine()\n",
        "game.setup_game()\n",
        "board = game.play_game()"
      ],
      "execution_count": null,
      "outputs": [
        {
          "output_type": "stream",
          "text": [
            "| | | |\n",
            "| | | |\n",
            "| | | |\n",
            "\n",
            "| | | |\n",
            "| | | |\n",
            "| | |O|\n",
            "\n",
            "| | | |\n",
            "| | |X|\n",
            "| | |O|\n",
            "\n",
            "| |O| |\n",
            "| | |X|\n",
            "| | |O|\n",
            "\n",
            "| |O| |\n",
            "|X| |X|\n",
            "| | |O|\n",
            "\n",
            "|O|O| |\n",
            "|X| |X|\n",
            "| | |O|\n",
            "\n",
            "|O|O| |\n",
            "|X| |X|\n",
            "| |X|O|\n",
            "\n",
            "'O' Won!\n",
            "|O|O| |\n",
            "|X|O|X|\n",
            "| |X|O|\n",
            "\n"
          ],
          "name": "stdout"
        }
      ]
    },
    {
      "cell_type": "markdown",
      "metadata": {
        "id": "fxTIvVfZrgkj"
      },
      "source": [
        "### Q6 Record 1000 Games\n",
        "\n",
        "Write a for loop that creates 1000 games and saves the game data in the following dictionary format, replacing `<THE GAME NUMBER>` with whatever index you are using in the for loop:\n",
        "\n",
        "```\n",
        "data = {}\n",
        "data['game {}'.format(<THE GAME NUMBER>)] = {'board': board.board,\n",
        "          'winner': board.winner,\n",
        "          'starting player': board.start_player}\n",
        "```"
      ]
    },
    {
      "cell_type": "code",
      "metadata": {
        "id": "dm0XhHClTqp7"
      },
      "source": [
        "# Cell for Q9"
      ],
      "execution_count": null,
      "outputs": []
    },
    {
      "cell_type": "code",
      "metadata": {
        "id": "HSfS4t3RUPw9"
      },
      "source": [
        "import json\n",
        "with open('data.txt', 'w') as outfile:\n",
        "    json.dump(data, outfile)"
      ],
      "execution_count": null,
      "outputs": []
    }
  ]
}