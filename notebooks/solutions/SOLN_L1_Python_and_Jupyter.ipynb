{
  "nbformat": 4,
  "nbformat_minor": 0,
  "metadata": {
    "colab": {
      "name": "SOLN_L1_Python_and_Jupyter.ipynb",
      "provenance": [],
      "collapsed_sections": [],
      "include_colab_link": true
    },
    "kernelspec": {
      "name": "python3",
      "display_name": "Python 3"
    },
    "language_info": {
      "name": "python"
    }
  },
  "cells": [
    {
      "cell_type": "markdown",
      "metadata": {
        "id": "view-in-github",
        "colab_type": "text"
      },
      "source": [
        "<a href=\"https://colab.research.google.com/github/wesleybeckner/python_foundations/blob/main/notebooks/solutions/SOLN_L1_Python_and_Jupyter.ipynb\" target=\"_parent\"><img src=\"https://colab.research.google.com/assets/colab-badge.svg\" alt=\"Open In Colab\"/></a>"
      ]
    },
    {
      "cell_type": "markdown",
      "metadata": {
        "id": "vhe1yX4AMckE"
      },
      "source": [
        "# Python Foundations, Lab 1: Practice with Python and Jupyter Notebooks\n",
        "\n",
        "**Instructor**: Wesley Beckner\n",
        "\n",
        "**Contact**: wesleybeckner@gmail.com\n",
        "<br>\n",
        "\n",
        "---\n",
        "\n",
        "<br>\n",
        "\n",
        "This first lab assignment will be a review of what we discussed today.\n",
        "\n",
        "<br>\n",
        "\n",
        "---\n",
        "\n",
        "\n"
      ]
    },
    {
      "cell_type": "markdown",
      "metadata": {
        "id": "O4pwVw5ZdIqS"
      },
      "source": [
        "#### 🔠 L1 Q1 Python variables\n",
        "\n",
        "In the empty code cell below, create the following four variables:\n",
        "- A string variable named `favorite_movie` that represents your favorite movie\n",
        "- A string variable named `national_chain` that represents your favorite fast food restaurant\n",
        "- An integer variable named `streaming_video_hours` that represents the whole number of hours you watch any streaming video service (ex. Netflix, Hulu, Disney+) per week.\n",
        "- A float variable named `headphone_cost` that represents the most money you had to pay, in dollar-cent amount (0.00), for headphones. Do not include a '$' symbol.\n",
        "\n",
        "Then after they are declared, print each one using the print() function explained in section 1.1.2."
      ]
    },
    {
      "cell_type": "code",
      "metadata": {
        "id": "1AXZpA-cdXKP",
        "colab": {
          "base_uri": "https://localhost:8080/"
        },
        "outputId": "e8871095-e905-4b95-c08b-a53db795e0db"
      },
      "source": [
        "favorite_movie = \"The King\"\n",
        "national_chain = \"Chipotle\"\n",
        "streaming_video_hours = 14\n",
        "headphone_cost = 120\n",
        "\n",
        "print(favorite_movie)\n",
        "print(national_chain)\n",
        "print(streaming_video_hours)\n",
        "print(headphone_cost)"
      ],
      "execution_count": 3,
      "outputs": [
        {
          "output_type": "stream",
          "name": "stdout",
          "text": [
            "The King\n",
            "Chipotle\n",
            "14\n",
            "120\n"
          ]
        }
      ]
    },
    {
      "cell_type": "markdown",
      "metadata": {
        "id": "TlvYLQj7gBat"
      },
      "source": [
        "To check if each variable is the correct data type, use the type() function explained from section 1.1.3, in the empty code cell below. For example, `type(favorite_movie)` should return the output `<class 'str'>`, which indicates the string type."
      ]
    },
    {
      "cell_type": "code",
      "metadata": {
        "id": "tFyoOMp7Q-l2",
        "colab": {
          "base_uri": "https://localhost:8080/"
        },
        "outputId": "6aa48500-73bb-4f56-feac-8295cd57b7ad"
      },
      "source": [
        "print(type(favorite_movie))\n",
        "print(type(national_chain))\n",
        "print(type(streaming_video_hours))\n",
        "print(type(headphone_cost))"
      ],
      "execution_count": 5,
      "outputs": [
        {
          "output_type": "stream",
          "name": "stdout",
          "text": [
            "<class 'str'>\n",
            "<class 'str'>\n",
            "<class 'int'>\n",
            "<class 'int'>\n"
          ]
        }
      ]
    },
    {
      "cell_type": "markdown",
      "metadata": {
        "id": "lXoPAgV1htlX"
      },
      "source": [
        "#### 🧮 L1 Q2 Practice with math in Python\n",
        "\n",
        "Let's start with a few basic operators that was covered in section 1.1.4. Write the expression for multiplying 23 by 31, so that running this cell will correctly output the product of these two numbers."
      ]
    },
    {
      "cell_type": "code",
      "metadata": {
        "id": "Mh2_aoVdiBdo",
        "colab": {
          "base_uri": "https://localhost:8080/"
        },
        "outputId": "a404bdae-b779-4441-fdb2-614f9d3b81c9"
      },
      "source": [
        "23*31"
      ],
      "execution_count": 6,
      "outputs": [
        {
          "output_type": "execute_result",
          "data": {
            "text/plain": [
              "713"
            ]
          },
          "metadata": {},
          "execution_count": 6
        }
      ]
    },
    {
      "cell_type": "markdown",
      "metadata": {
        "id": "IaRbtO6KiCBM"
      },
      "source": [
        "Consider the operation written in Python: `27 / 3 + 6`. Write the same syntax in the empty cell below, and modify it to include parentheses in the right location so that the result/answer of the math is 3.0, rather than 15.0."
      ]
    },
    {
      "cell_type": "code",
      "metadata": {
        "id": "KYGOO284i2Jq",
        "colab": {
          "base_uri": "https://localhost:8080/"
        },
        "outputId": "8ebd08de-beaa-491e-8cc3-73e763e196d1"
      },
      "source": [
        "27 / (3 + 6)"
      ],
      "execution_count": 7,
      "outputs": [
        {
          "output_type": "execute_result",
          "data": {
            "text/plain": [
              "3.0"
            ]
          },
          "metadata": {},
          "execution_count": 7
        }
      ]
    },
    {
      "cell_type": "markdown",
      "metadata": {
        "id": "3YNWUvgfi3LV"
      },
      "source": [
        "Let's learn more operators beyond the ones we covered earlier. Write the line of code `3 ** 2` in the cell below. From the output, what do you think the double asterisks (`**`) operator represents in Python?"
      ]
    },
    {
      "cell_type": "code",
      "metadata": {
        "id": "vJL7ExVMjq6f",
        "colab": {
          "base_uri": "https://localhost:8080/"
        },
        "outputId": "68c48b17-d8fa-429a-a6fd-4eb8950badfb"
      },
      "source": [
        "# represent to the power of (number after double asterisk)\n",
        "3 ** 2"
      ],
      "execution_count": 8,
      "outputs": [
        {
          "output_type": "execute_result",
          "data": {
            "text/plain": [
              "9"
            ]
          },
          "metadata": {},
          "execution_count": 8
        }
      ]
    },
    {
      "cell_type": "markdown",
      "metadata": {
        "id": "_zfMqrrtkINb"
      },
      "source": [
        "Write the line of code `28 / 3` below. Then just below the line in the same cell, write the code `28 // 3`. Compare the differences in output between the two. Can you decipher what `//` means in Python?"
      ]
    },
    {
      "cell_type": "code",
      "metadata": {
        "id": "bLzljZ2nkHnP",
        "colab": {
          "base_uri": "https://localhost:8080/"
        },
        "outputId": "4d6edd2c-1b52-40f2-b814-9ca735ec9c7b"
      },
      "source": [
        "28/3"
      ],
      "execution_count": 9,
      "outputs": [
        {
          "output_type": "execute_result",
          "data": {
            "text/plain": [
              "9.333333333333334"
            ]
          },
          "metadata": {},
          "execution_count": 9
        }
      ]
    },
    {
      "cell_type": "code",
      "metadata": {
        "id": "4IRVZY16NKat",
        "colab": {
          "base_uri": "https://localhost:8080/"
        },
        "outputId": "cc48bf59-0481-48ec-d2e6-5179e4779b53"
      },
      "source": [
        "# // operator returns math.floor(division), aka the floor division\n",
        "28//3"
      ],
      "execution_count": 10,
      "outputs": [
        {
          "output_type": "execute_result",
          "data": {
            "text/plain": [
              "9"
            ]
          },
          "metadata": {},
          "execution_count": 10
        }
      ]
    },
    {
      "cell_type": "markdown",
      "metadata": {
        "id": "fTGXdUqvlrJK"
      },
      "source": [
        "Now for more complicated mathematical operations! \n",
        "\n",
        "Try to write the Python equivalent of the following:\n",
        "\n",
        "$$\\frac{14 + 28}{28 - 14}$$"
      ]
    },
    {
      "cell_type": "code",
      "metadata": {
        "id": "MMqvz_JXmaGv",
        "colab": {
          "base_uri": "https://localhost:8080/"
        },
        "outputId": "e761704d-7930-4e5f-f0fd-08f66fadb648"
      },
      "source": [
        "(14 + 28) / (28 - 14)"
      ],
      "execution_count": 11,
      "outputs": [
        {
          "output_type": "execute_result",
          "data": {
            "text/plain": [
              "3.0"
            ]
          },
          "metadata": {},
          "execution_count": 11
        }
      ]
    },
    {
      "cell_type": "markdown",
      "metadata": {
        "id": "wmntjBztmatb"
      },
      "source": [
        "Now try this one:\n",
        "\n",
        "$$\\frac{15 + 984}{-(217+4)}$$"
      ]
    },
    {
      "cell_type": "code",
      "metadata": {
        "id": "ZrDfdW1bmjUF",
        "colab": {
          "base_uri": "https://localhost:8080/"
        },
        "outputId": "be974db1-b970-44ff-f5f1-020bff14a27b"
      },
      "source": [
        "(15 + 984) / -(217+4)"
      ],
      "execution_count": 12,
      "outputs": [
        {
          "output_type": "execute_result",
          "data": {
            "text/plain": [
              "-4.520361990950226"
            ]
          },
          "metadata": {},
          "execution_count": 12
        }
      ]
    },
    {
      "cell_type": "markdown",
      "metadata": {
        "id": "Z9PBEXQKm0W_"
      },
      "source": [
        "And finally, write the Python equivalent for this:\n",
        "\n",
        "$$\\frac{-(3655 * 44)}{(8 * 16)^3}$$"
      ]
    },
    {
      "cell_type": "code",
      "metadata": {
        "id": "34Zw1uLhnN3-",
        "colab": {
          "base_uri": "https://localhost:8080/"
        },
        "outputId": "77c1c438-f09a-4488-f418-1d0218942446"
      },
      "source": [
        "-(365*44)/(8*16)**3"
      ],
      "execution_count": 13,
      "outputs": [
        {
          "output_type": "execute_result",
          "data": {
            "text/plain": [
              "-0.0076580047607421875"
            ]
          },
          "metadata": {},
          "execution_count": 13
        }
      ]
    },
    {
      "cell_type": "markdown",
      "metadata": {
        "id": "UgTm-9K5HX0F"
      },
      "source": [
        "#### 🤐 L1 Q3 Practice writing helpful comments\n",
        "\n",
        "Consider the following code below. No need to decipher and understand every piece but just be aware of the output when you run the code cell. Based on the output, modify the code cell by adding a code comment at the top of the cell briefly explaining what the code does. This comment can be as many lines as you'd like, and may or may not include direct references to the example print statements below."
      ]
    },
    {
      "cell_type": "code",
      "metadata": {
        "colab": {
          "base_uri": "https://localhost:8080/"
        },
        "id": "cIBcxtcPHpII",
        "outputId": "87ce2e5b-5693-4347-9bc2-4097626df57c"
      },
      "source": [
        "def mystery_function(x):\n",
        "  \"\"\"\n",
        "  Reverses the order of the input\n",
        "\n",
        "  Parameters\n",
        "  ----------\n",
        "  x: str\n",
        "    a string of characters\n",
        "\n",
        "  Returns\n",
        "  -------\n",
        "  y: str\n",
        "    reverse order of x\n",
        "  \"\"\"\n",
        "  y = list(x)\n",
        "  return \" \".join(y[::-1])\n",
        "\n",
        "print(mystery_function(\"UniversityOfWashington\"))\n",
        "print(mystery_function(\"AvocadoToast\"))\n",
        "print(mystery_function(\"RacecaR\"))"
      ],
      "execution_count": 14,
      "outputs": [
        {
          "output_type": "stream",
          "name": "stdout",
          "text": [
            "n o t g n i h s a W f O y t i s r e v i n U\n",
            "t s a o T o d a c o v A\n",
            "R a c e c a R\n"
          ]
        }
      ]
    },
    {
      "cell_type": "markdown",
      "metadata": {
        "id": "EPQvTgAWoCvB"
      },
      "source": [
        "#### ™️ L1 Q4 More Markdown\n",
        "\n",
        "Consider the vision statement of the Global Innovation Exchange: \"Our mission is to build the talent that leverages emerging technologies in new and impactful ways\". Type that same statement in a new text cell below, only add a `_` (underscore) at the beginning and end. What ends up happening to the format of the text as a result?"
      ]
    },
    {
      "cell_type": "markdown",
      "source": [
        "_Our mission is to build the talent that leverages emerging technologies in new and impactful ways_"
      ],
      "metadata": {
        "id": "3RWu4txlwK3u"
      }
    },
    {
      "cell_type": "markdown",
      "metadata": {
        "id": "f3PKpVzLpfRc"
      },
      "source": [
        "In a new text cell, list all of the potential data science projects you might work on, with each one on its own separate line. Then add a `- ` at the beginning of each line; include a single space between the hyphen and the first letter in your project name! Based on the output, what can you decipher that this `- ` changes in the formatting?"
      ]
    },
    {
      "cell_type": "markdown",
      "source": [
        "Projects:\n",
        "\n",
        "- smart bedside lamp\n",
        "- workout reminder app\n",
        "- personal finances dashboard"
      ],
      "metadata": {
        "id": "DChPhmWuwOdD"
      }
    },
    {
      "cell_type": "markdown",
      "metadata": {
        "id": "fQknBYvNjo7A"
      },
      "source": [
        "#### 🧑‍🤝‍🧑 L1 Q5 Get familiar with the Python community\n",
        "\n",
        "Python has strong support from a community of avid developers and computer scientists. The Python Software Foundation (PSF) tries to maintain input and activity through their own website, [python.org](https://). Please explore their community section - https://www.python.org/community/ - and answer the following questions in a new text cell just below this one:\n",
        "\n",
        "- What is the name of the mailing list that the PSF manages for those who have questions about Python code?\n",
        "- In your own words, what is the goal of their Community Survey?\n",
        "- According to their most recent annual report, which continent provides the highest proportion of grants to the PSF?\n",
        "- Name at least three ways that the PSF recommends you can get involved with the community."
      ]
    },
    {
      "cell_type": "markdown",
      "source": [
        "1. comp.lang.python\n",
        "2. Some variation of: \"to be open about how they can improve transparency, provide the community with opportunities to interact, and be responsive to raised suggestions\"\n",
        "3. Australia\n",
        "4. 3 ways to get invovled:\n",
        "    1. Read the FAQ\n",
        "    2. Attend a conference\n",
        "    3. Read the diversity statement"
      ],
      "metadata": {
        "id": "2GlOrEN6wX_8"
      }
    },
    {
      "cell_type": "markdown",
      "metadata": {
        "id": "ANQDw40wl8li"
      },
      "source": [
        "#### 🗞️ L1 Q6 Advanced - Understanding the switch from Python 2 to 3\n",
        "\n",
        "Inside of the following link, https://www.python.org/doc/, is an article about the Python Software Foundation's decision to end support for Python version 2, and move with support for version 3. From the article, answer the following questions in a new text cell just below this one:\n",
        "\n",
        "- What official date was Python 2 no longer supported?\n",
        "- What is the version number of the last supported Python 2?\n",
        "- In your own words, describe why the Python Software Foundation made the decision to stop supporting Python 2."
      ]
    },
    {
      "cell_type": "markdown",
      "source": [
        "1. January 1st 2020\n",
        "2. 2.7\n",
        "3. It's costly, man! And it adds to project complexity to be cross-compatible"
      ],
      "metadata": {
        "id": "wSOQI865yc2M"
      }
    },
    {
      "cell_type": "markdown",
      "metadata": {
        "id": "miOpG431h5Id"
      },
      "source": [
        "#### 📓 L1 Q7 Advanced - Create your own Google Colab notebook!\n",
        "\n",
        "Create your own separate Google Colab notebook with the following rules and content:\n",
        "\n",
        "- The file name of your notebook should be in the format ***lastname_python_foundations_notebook.ipynb***.\n",
        "- Include a header (of any size) that lists your first name and last name, followed by \"**Python Foundations**\".\n",
        "- Create a short paragraph bio of yourself in a text cell.\n",
        "- Include/embed an image of the Python logo, which can be found here: https://www.python.org/community/logos/.\n",
        "- Create a code cell with just the line of code: `import this`\n",
        "- Take your favorite line from that output and past it in a text cell below, both bolding and italicizing it\n"
      ]
    }
  ]
}
