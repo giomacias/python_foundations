{
  "nbformat": 4,
  "nbformat_minor": 0,
  "metadata": {
    "colab": {
      "name": "SOLN_L2_Flow_Control.ipynb",
      "provenance": [],
      "collapsed_sections": [],
      "include_colab_link": true
    },
    "kernelspec": {
      "name": "python3",
      "display_name": "Python 3"
    },
    "language_info": {
      "name": "python"
    }
  },
  "cells": [
    {
      "cell_type": "markdown",
      "metadata": {
        "id": "view-in-github",
        "colab_type": "text"
      },
      "source": [
        "<a href=\"https://colab.research.google.com/github/wesleybeckner/python_foundations/blob/main/notebooks/solutions/SOLN_L2_Flow_Control.ipynb\" target=\"_parent\"><img src=\"https://colab.research.google.com/assets/colab-badge.svg\" alt=\"Open In Colab\"/></a>"
      ]
    },
    {
      "cell_type": "markdown",
      "metadata": {
        "id": "3rZ3ZWSkhxyS"
      },
      "source": [
        "# Python Foundations, Lab 2: Practice with Flow Control\n",
        "\n",
        "**Instructor**: Wesley Beckner\n",
        "\n",
        "**Contact**: wesleybeckner@gmail.com\n",
        "<br>\n",
        "\n",
        "---\n",
        "\n",
        "<br>\n",
        "\n",
        "In this lab we will continue to practice flow control.\n",
        "\n",
        "<br>\n",
        "\n",
        "---\n",
        "\n",
        "\n"
      ]
    },
    {
      "cell_type": "markdown",
      "metadata": {
        "id": "e9MwkxIGlc0k"
      },
      "source": [
        "## ➿ L2 Q1: Print and For Loops\n",
        "\n",
        "Create a Pyramid Using for loops\n",
        "\n"
      ]
    },
    {
      "cell_type": "markdown",
      "metadata": {
        "id": "Qw7dGDLynBpZ"
      },
      "source": [
        "### Part A\n",
        "\n",
        "Example output:\n",
        "\n",
        "```\n",
        "* \n",
        "* * \n",
        "* * * \n",
        "* * * * \n",
        "* * * * * \n",
        "```\n",
        "\n"
      ]
    },
    {
      "cell_type": "code",
      "metadata": {
        "id": "Vb1NyIqZmqYg",
        "colab": {
          "base_uri": "https://localhost:8080/"
        },
        "outputId": "451e5357-d89f-4053-fb18-00826e4f64ff"
      },
      "source": [
        "# Code Cell for L2 Q1 A\n",
        "for i in range(1,6):\n",
        "  print('* '*i)"
      ],
      "execution_count": 3,
      "outputs": [
        {
          "output_type": "stream",
          "name": "stdout",
          "text": [
            "* \n",
            "* * \n",
            "* * * \n",
            "* * * * \n",
            "* * * * * \n"
          ]
        }
      ]
    },
    {
      "cell_type": "markdown",
      "metadata": {
        "id": "1WZkXH9Om75g"
      },
      "source": [
        "### Part B\n",
        "\n",
        "Example output:\n",
        "\n",
        "```\n",
        "        * \n",
        "      * * \n",
        "    * * * \n",
        "  * * * * \n",
        "* * * * * \n",
        "```"
      ]
    },
    {
      "cell_type": "code",
      "metadata": {
        "id": "DNr1iPrJnGuf",
        "colab": {
          "base_uri": "https://localhost:8080/"
        },
        "outputId": "a87a3ca7-2031-4632-90c6-cca880ff506e"
      },
      "source": [
        "# Code Cell for L2 Q1 B\n",
        "j = 6\n",
        "for i in range(1,j):\n",
        "  print('  '*(j-i) + '* '*i)"
      ],
      "execution_count": 8,
      "outputs": [
        {
          "output_type": "stream",
          "name": "stdout",
          "text": [
            "          * \n",
            "        * * \n",
            "      * * * \n",
            "    * * * * \n",
            "  * * * * * \n"
          ]
        }
      ]
    },
    {
      "cell_type": "markdown",
      "metadata": {
        "id": "MdYwm8EyncmA"
      },
      "source": [
        "### Part C\n",
        "\n",
        "Example output:\n",
        "\n",
        "```\n",
        "         * \n",
        "        * * \n",
        "       * * * \n",
        "      * * * * \n",
        "     * * * * * \n",
        "```"
      ]
    },
    {
      "cell_type": "code",
      "metadata": {
        "colab": {
          "base_uri": "https://localhost:8080/"
        },
        "id": "4Dz-euqNnfWA",
        "outputId": "824c6c7e-defe-4c52-d1e3-7be1bbd7e2d3"
      },
      "source": [
        "# Code Cell for L2 Q1 C\n",
        "j = 6\n",
        "for i in range(1,j):\n",
        "  print(' '*(j-i) + '* '*i)"
      ],
      "execution_count": 10,
      "outputs": [
        {
          "output_type": "stream",
          "name": "stdout",
          "text": [
            "     * \n",
            "    * * \n",
            "   * * * \n",
            "  * * * * \n",
            " * * * * * \n"
          ]
        }
      ]
    },
    {
      "cell_type": "markdown",
      "metadata": {
        "id": "Sp832EkKi67C"
      },
      "source": [
        "## 🔙 L2 Q2: Conditionals and For Loops\n",
        "\n",
        "Complete the Fibonacci sequence up to the 10th place using any or all of the following:\n",
        "\n",
        "* `for` \n",
        "* `if` `elif` `else`\n",
        "* `append`\n",
        "* `range`\n",
        "\n",
        "The Fibonacci sequence with indices:\n",
        "\n",
        "0. 0\n",
        "1. 1\n",
        "2. 1\n",
        "3. 2\n",
        "4. 3\n",
        "5. 5\n",
        "6. 8\n",
        "7. etc..\n",
        "\n",
        "Example input:\n",
        "\n",
        "`index = 9`\n",
        "\n",
        "Example output:\n",
        "```\n",
        "Index: 9\n",
        "Value: 34\n",
        "```"
      ]
    },
    {
      "cell_type": "code",
      "source": [
        "list(range(1,2))"
      ],
      "metadata": {
        "colab": {
          "base_uri": "https://localhost:8080/"
        },
        "id": "ChK7ZW7ONOku",
        "outputId": "3273bef0-8c71-4232-cb33-d34bca85f648"
      },
      "execution_count": 19,
      "outputs": [
        {
          "output_type": "execute_result",
          "data": {
            "text/plain": [
              "[1]"
            ]
          },
          "metadata": {},
          "execution_count": 19
        }
      ]
    },
    {
      "cell_type": "code",
      "metadata": {
        "id": "w-mykt4KhnA2",
        "colab": {
          "base_uri": "https://localhost:8080/"
        },
        "outputId": "275606d2-33fa-44aa-87be-b89c63def1ef"
      },
      "source": [
        "# Cell for L2 Q2\n",
        "index = 9\n",
        "fib = []\n",
        "\n",
        "for i in range(index+1):\n",
        "  if i == 0:\n",
        "    fib.append(0)\n",
        "  elif i < 3:\n",
        "    fib.append(1)\n",
        "  else:\n",
        "    fib.append(fib[-2] + fib[-1])\n",
        "\n",
        "print(\"Index: {}\".format(i))\n",
        "print(\"Value: {}\".format(fib[-1]))\n",
        "print(fib)"
      ],
      "execution_count": 36,
      "outputs": [
        {
          "output_type": "stream",
          "name": "stdout",
          "text": [
            "Index: 9\n",
            "Value: 34\n",
            "[0, 1, 1, 2, 3, 5, 8, 13, 21, 34]\n"
          ]
        }
      ]
    },
    {
      "cell_type": "markdown",
      "metadata": {
        "id": "l730VAfyQf6Q"
      },
      "source": [
        "## 🧺 L2 Q3: Practice with Collections\n",
        "\n",
        "concatenate the following dictionaries to create a new one. If you need to, refer to documentation for python dictionaries!\n",
        "\n",
        "Input:\n",
        "```\n",
        "dict1={1:10, 2:20}\n",
        "dict2={3:30, 4:40}\n",
        "dict3={5:50, 6:60}\n",
        "```\n",
        "\n",
        "Output:\n",
        "```\n",
        "new_dict={1:10, 2:20, 3:30, 4:40, 5:50, 6:60}\n",
        "```"
      ]
    },
    {
      "cell_type": "code",
      "metadata": {
        "id": "Yi9MqP81Qj7H",
        "colab": {
          "base_uri": "https://localhost:8080/"
        },
        "outputId": "8b1303a9-0112-45c4-90aa-007965935aef"
      },
      "source": [
        "# Cell for L2 Q3\n",
        "dict1={1:10, 2:20}\n",
        "dict2={3:30, 4:40}\n",
        "dict3={5:50, 6:60}\n",
        "\n",
        "new_dict = {}\n",
        "new_dict.update(dict1)\n",
        "new_dict.update(dict2)\n",
        "new_dict.update(dict3)\n",
        "\n",
        "print(new_dict)"
      ],
      "execution_count": 39,
      "outputs": [
        {
          "output_type": "stream",
          "name": "stdout",
          "text": [
            "{1: 10, 2: 20, 3: 30, 4: 40, 5: 50, 6: 60}\n"
          ]
        }
      ]
    },
    {
      "cell_type": "markdown",
      "metadata": {
        "id": "XUx_cFT7vi1V"
      },
      "source": [
        "## 🐝 L2 Q4 The FizzBuzz task\n",
        "\n",
        "Let's do this!  **FizzBuzz** is our first task for this session.  **FizzBuzz** is a common toy programming problem that is often used in software engineering job interviews.  Today, we are not after the _most compact_, _most clever_, or even the _most beautiful_ solution.  Your goal is to solve the problem using **_for_** and **_if_** as your primary tools.  You will likely also want to use the `%` operator.  Before we describe **FizzBuzz**, let's talk about the **moduluo** operation.\n",
        "\n",
        "If you recall from session 1, you may have experimented with the **_[modulus](https://en.wikipedia.org/wiki/Modulo_operation)_** or `%` operator.  When used between two **_integer_** values, it returns the integer remainder of division. Let's start with a simple example of `5` **modulo** `3`:\n",
        "\n",
        "```\n",
        "5 % 3\n",
        "```"
      ]
    },
    {
      "cell_type": "code",
      "metadata": {
        "colab": {
          "base_uri": "https://localhost:8080/"
        },
        "id": "W51-8ZhKvvOq",
        "outputId": "2e9d99da-6f38-4e88-9320-e9c17fcf98fd"
      },
      "source": [
        "5 % 3"
      ],
      "execution_count": 40,
      "outputs": [
        {
          "output_type": "execute_result",
          "data": {
            "text/plain": [
              "2"
            ]
          },
          "metadata": {},
          "execution_count": 40
        }
      ]
    },
    {
      "cell_type": "markdown",
      "metadata": {
        "id": "5urcL-cjvxTz"
      },
      "source": [
        "Let's do another example... What is the result of the following:\n",
        "\n",
        "```\n",
        "10 % 5\n",
        "```"
      ]
    },
    {
      "cell_type": "code",
      "metadata": {
        "colab": {
          "base_uri": "https://localhost:8080/"
        },
        "id": "2BqriezDvvej",
        "outputId": "69a42325-a798-45df-bd01-523762e664f5"
      },
      "source": [
        "10 % 5"
      ],
      "execution_count": 41,
      "outputs": [
        {
          "output_type": "execute_result",
          "data": {
            "text/plain": [
              "0"
            ]
          },
          "metadata": {},
          "execution_count": 41
        }
      ]
    },
    {
      "cell_type": "markdown",
      "metadata": {
        "id": "3gdmF8_mv13v"
      },
      "source": [
        "Now, on to **FizzBuzz**.  No it isn't the high-test caffeine cola you might need right now.  Instead, it is a challenge to output certain text as the code iterates over elements in a list.  Here is the formal definition of the problem that we will use today.\n",
        "\n",
        "_\"Write a program that prints the numbers from 1 to 100. But for multiples of three print `Fizz` instead of the number and for the multiples of five print `Buzz`. For numbers which are multiples of both three and five print `FizzBuzz`.\"_\n",
        "\n",
        "To get started, you will need a `for` loop and it will probably use a `range` list.  Inside of the for loop, you will likely have at least two `if` statements that use the `%` operator followed by a `print`.\n"
      ]
    },
    {
      "cell_type": "code",
      "metadata": {
        "id": "IcJ3a6gBvy8z",
        "colab": {
          "base_uri": "https://localhost:8080/"
        },
        "outputId": "78d23a6f-f3b8-4056-ffb6-102213f77843"
      },
      "source": [
        "# Cell for L2 Q4\n",
        "for i in range(1,101):\n",
        "  if (i % 3 == 0) and (i % 5 == 0):\n",
        "    print(\"FizzBuzz\")\n",
        "  elif i % 3 == 0:\n",
        "    print(\"Fizz\")\n",
        "  elif i % 5 == 0:\n",
        "    print(\"Buzz\")\n",
        "  else:\n",
        "    print(i)"
      ],
      "execution_count": 43,
      "outputs": [
        {
          "output_type": "stream",
          "name": "stdout",
          "text": [
            "1\n",
            "2\n",
            "Fizz\n",
            "4\n",
            "Buzz\n",
            "Fizz\n",
            "7\n",
            "8\n",
            "Fizz\n",
            "Buzz\n",
            "11\n",
            "Fizz\n",
            "13\n",
            "14\n",
            "FizzBuzz\n",
            "16\n",
            "17\n",
            "Fizz\n",
            "19\n",
            "Buzz\n",
            "Fizz\n",
            "22\n",
            "23\n",
            "Fizz\n",
            "Buzz\n",
            "26\n",
            "Fizz\n",
            "28\n",
            "29\n",
            "FizzBuzz\n",
            "31\n",
            "32\n",
            "Fizz\n",
            "34\n",
            "Buzz\n",
            "Fizz\n",
            "37\n",
            "38\n",
            "Fizz\n",
            "Buzz\n",
            "41\n",
            "Fizz\n",
            "43\n",
            "44\n",
            "FizzBuzz\n",
            "46\n",
            "47\n",
            "Fizz\n",
            "49\n",
            "Buzz\n",
            "Fizz\n",
            "52\n",
            "53\n",
            "Fizz\n",
            "Buzz\n",
            "56\n",
            "Fizz\n",
            "58\n",
            "59\n",
            "FizzBuzz\n",
            "61\n",
            "62\n",
            "Fizz\n",
            "64\n",
            "Buzz\n",
            "Fizz\n",
            "67\n",
            "68\n",
            "Fizz\n",
            "Buzz\n",
            "71\n",
            "Fizz\n",
            "73\n",
            "74\n",
            "FizzBuzz\n",
            "76\n",
            "77\n",
            "Fizz\n",
            "79\n",
            "Buzz\n",
            "Fizz\n",
            "82\n",
            "83\n",
            "Fizz\n",
            "Buzz\n",
            "86\n",
            "Fizz\n",
            "88\n",
            "89\n",
            "FizzBuzz\n",
            "91\n",
            "92\n",
            "Fizz\n",
            "94\n",
            "Buzz\n",
            "Fizz\n",
            "97\n",
            "98\n",
            "Fizz\n",
            "Buzz\n"
          ]
        }
      ]
    },
    {
      "cell_type": "markdown",
      "metadata": {
        "id": "43sXOycTv7Ja"
      },
      "source": [
        "\n",
        "For advanced folks, a hint here is that you might be able to avoid some `if` statements by using the `end` parameter to the `print` function.  Notice how these two cell blocks output differently.\n",
        "\n",
        "```\n",
        "print(\"Fizz\")\n",
        "print(\"Buzz\")\n",
        "```\n",
        "\n",
        "In another cell:\n",
        "\n",
        "```\n",
        "print(\"Fizz\", end=\"\")\n",
        "print(\"Buzz\", end=\"\")\n",
        "print()\n",
        "```"
      ]
    },
    {
      "cell_type": "code",
      "source": [
        "for i in range(1,101):\n",
        "  if i % 3 == 0:\n",
        "    print(\"Fizz\", end='')\n",
        "  if i % 5 == 0:\n",
        "    print(\"Buzz\", end='')\n",
        "  if (i % 3 != 0) and (i % 5 != 0):\n",
        "    print(i, end='')\n",
        "  print()"
      ],
      "metadata": {
        "colab": {
          "base_uri": "https://localhost:8080/"
        },
        "id": "un-rFjUhQAQK",
        "outputId": "ccbc7c86-f18b-4ae1-c532-8571a07c2200"
      },
      "execution_count": 52,
      "outputs": [
        {
          "output_type": "stream",
          "name": "stdout",
          "text": [
            "1\n",
            "2\n",
            "Fizz\n",
            "4\n",
            "Buzz\n",
            "Fizz\n",
            "7\n",
            "8\n",
            "Fizz\n",
            "Buzz\n",
            "11\n",
            "Fizz\n",
            "13\n",
            "14\n",
            "FizzBuzz\n",
            "16\n",
            "17\n",
            "Fizz\n",
            "19\n",
            "Buzz\n",
            "Fizz\n",
            "22\n",
            "23\n",
            "Fizz\n",
            "Buzz\n",
            "26\n",
            "Fizz\n",
            "28\n",
            "29\n",
            "FizzBuzz\n",
            "31\n",
            "32\n",
            "Fizz\n",
            "34\n",
            "Buzz\n",
            "Fizz\n",
            "37\n",
            "38\n",
            "Fizz\n",
            "Buzz\n",
            "41\n",
            "Fizz\n",
            "43\n",
            "44\n",
            "FizzBuzz\n",
            "46\n",
            "47\n",
            "Fizz\n",
            "49\n",
            "Buzz\n",
            "Fizz\n",
            "52\n",
            "53\n",
            "Fizz\n",
            "Buzz\n",
            "56\n",
            "Fizz\n",
            "58\n",
            "59\n",
            "FizzBuzz\n",
            "61\n",
            "62\n",
            "Fizz\n",
            "64\n",
            "Buzz\n",
            "Fizz\n",
            "67\n",
            "68\n",
            "Fizz\n",
            "Buzz\n",
            "71\n",
            "Fizz\n",
            "73\n",
            "74\n",
            "FizzBuzz\n",
            "76\n",
            "77\n",
            "Fizz\n",
            "79\n",
            "Buzz\n",
            "Fizz\n",
            "82\n",
            "83\n",
            "Fizz\n",
            "Buzz\n",
            "86\n",
            "Fizz\n",
            "88\n",
            "89\n",
            "FizzBuzz\n",
            "91\n",
            "92\n",
            "Fizz\n",
            "94\n",
            "Buzz\n",
            "Fizz\n",
            "97\n",
            "98\n",
            "Fizz\n",
            "Buzz\n"
          ]
        }
      ]
    },
    {
      "cell_type": "code",
      "source": [
        ""
      ],
      "metadata": {
        "id": "wNi4Am_QQM66"
      },
      "execution_count": null,
      "outputs": []
    }
  ]
}
