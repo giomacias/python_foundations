{
  "nbformat": 4,
  "nbformat_minor": 0,
  "metadata": {
    "colab": {
      "name": "SOLN_L5_Numpy.ipynb",
      "provenance": [],
      "collapsed_sections": [],
      "authorship_tag": "ABX9TyOM00qMM0azKQh/5/8Nyofp",
      "include_colab_link": true
    },
    "kernelspec": {
      "name": "python3",
      "display_name": "Python 3"
    },
    "language_info": {
      "name": "python"
    }
  },
  "cells": [
    {
      "cell_type": "markdown",
      "metadata": {
        "id": "view-in-github",
        "colab_type": "text"
      },
      "source": [
        "<a href=\"https://colab.research.google.com/github/wesleybeckner/python_foundations/blob/main/notebooks/solutions/SOLN_L5_Numpy.ipynb\" target=\"_parent\"><img src=\"https://colab.research.google.com/assets/colab-badge.svg\" alt=\"Open In Colab\"/></a>"
      ]
    },
    {
      "cell_type": "markdown",
      "metadata": {
        "id": "SaQphvIrtYdw"
      },
      "source": [
        "# Python Foundations, Lab 5: Practice with Numpy\n",
        "\n",
        "**Instructor**: Wesley Beckner\n",
        "\n",
        "**Contact**: wesleybeckner@gmail.com\n",
        "\n",
        "<br>\n",
        "\n",
        "---\n",
        "\n",
        "<br>\n",
        "\n",
        "In this lab we will continue to practice with numpy\n",
        "\n",
        "<br>\n",
        "\n",
        "---\n",
        "\n",
        "\n"
      ]
    },
    {
      "cell_type": "code",
      "metadata": {
        "id": "rM5rDI1dt403"
      },
      "source": [
        "import pandas as pd\n",
        "import numpy as np"
      ],
      "execution_count": null,
      "outputs": []
    },
    {
      "cell_type": "markdown",
      "metadata": {
        "id": "0PPaZvlct0fH"
      },
      "source": [
        "## 🧮 L5 Q1 \n",
        "\n",
        "Get the common items between these two arrays\n",
        "\n",
        "```\n",
        "a = np.array([1,2,3,2,3,4,3,4,5,6])\n",
        "b = np.array([7,2,10,2,7,4,9,4,9,8])\n",
        "```"
      ]
    },
    {
      "cell_type": "code",
      "metadata": {
        "id": "9lphFb2ksnEC",
        "colab": {
          "base_uri": "https://localhost:8080/"
        },
        "outputId": "cb65f8eb-9246-47eb-c482-02f883d8a209"
      },
      "source": [
        "# cell for Q1\n",
        "a = np.array([1,2,3,2,3,4,3,4,5,6])\n",
        "b = np.array([7,2,10,2,7,4,9,4,9,8])\n",
        "\n",
        "print(set([i for i in a if i in b]))\n",
        "\n",
        "# or\n",
        "\n",
        "np.intersect1d(a,b)"
      ],
      "execution_count": null,
      "outputs": [
        {
          "output_type": "stream",
          "name": "stdout",
          "text": [
            "{2, 4}\n"
          ]
        },
        {
          "output_type": "execute_result",
          "data": {
            "text/plain": [
              "array([2, 4])"
            ]
          },
          "metadata": {},
          "execution_count": 7
        }
      ]
    },
    {
      "cell_type": "markdown",
      "metadata": {
        "id": "6I9yYNVX4AVk"
      },
      "source": [
        "## 🧮 L5 Q2\n",
        "\n",
        "Now, get the positions where elements of `a` and `b` match\n",
        "\n",
        "```\n",
        "a = np.array([1,2,3,2,3,4,3,4,5,6])\n",
        "b = np.array([7,2,10,2,7,4,9,4,9,8])\n",
        "```"
      ]
    },
    {
      "cell_type": "code",
      "metadata": {
        "id": "aAdTRdS84KoA",
        "colab": {
          "base_uri": "https://localhost:8080/"
        },
        "outputId": "7735cb09-4245-48f2-ac03-fe9b841139bb"
      },
      "source": [
        "# cell for Q2\n",
        "a = np.array([1,2,3,2,3,4,3,4,5,6])\n",
        "b = np.array([7,2,10,2,7,4,9,4,9,8])\n",
        "\n",
        "np.argwhere(a==b)"
      ],
      "execution_count": null,
      "outputs": [
        {
          "output_type": "execute_result",
          "data": {
            "text/plain": [
              "array([[1],\n",
              "       [3],\n",
              "       [5],\n",
              "       [7]])"
            ]
          },
          "metadata": {},
          "execution_count": 8
        }
      ]
    },
    {
      "cell_type": "markdown",
      "metadata": {
        "id": "kXXtV9eW513-"
      },
      "source": [
        "## 🧮 L5 Q3\n",
        "\n",
        "Get all the items that are between 5 and 10 in `b`\n",
        "\n",
        "```\n",
        "b = np.array([7,2,10,2,7,4,9,4,9,8])\n",
        "```"
      ]
    },
    {
      "cell_type": "code",
      "metadata": {
        "id": "PFsqaXw75Jgk",
        "colab": {
          "base_uri": "https://localhost:8080/"
        },
        "outputId": "29ca009c-b3df-4593-b34e-aae2d8ae3499"
      },
      "source": [
        "# cell for Q3\n",
        "b = np.array([7,2,10,2,7,4,9,4,9,8])\n",
        "\n",
        "b[(b > 5) & (b < 10)]"
      ],
      "execution_count": null,
      "outputs": [
        {
          "output_type": "execute_result",
          "data": {
            "text/plain": [
              "array([7, 7, 9, 9, 8])"
            ]
          },
          "metadata": {},
          "execution_count": 10
        }
      ]
    },
    {
      "cell_type": "markdown",
      "metadata": {
        "id": "5-5vPilS75PB"
      },
      "source": [
        "## 🧮 L5 Q4\n",
        "\n",
        "Read the url as a 2D array rather than a 1D array by omitting the `species` field\n",
        "\n",
        "```\n",
        "url = 'https://archive.ics.uci.edu/ml/machine-learning-databases/iris/iris.data'\n",
        "iris_1d = np.genfromtxt(url, delimiter=',', dtype=None)\n",
        "```"
      ]
    },
    {
      "cell_type": "code",
      "metadata": {
        "id": "Hty9Jez9797t",
        "colab": {
          "base_uri": "https://localhost:8080/"
        },
        "outputId": "357a942f-2a8c-4348-8aba-a6e174343e3c"
      },
      "source": [
        "# cell for Q4\n",
        "url = 'https://archive.ics.uci.edu/ml/machine-learning-databases/iris/iris.data'\n",
        "iris_data = np.genfromtxt(url, delimiter=',', dtype=None, usecols=[0,1,2,3])\n",
        "iris_data.shape"
      ],
      "execution_count": null,
      "outputs": [
        {
          "output_type": "execute_result",
          "data": {
            "text/plain": [
              "(150, 4)"
            ]
          },
          "metadata": {},
          "execution_count": 11
        }
      ]
    },
    {
      "cell_type": "markdown",
      "metadata": {
        "id": "bpA_O5Q-9Cv1"
      },
      "source": [
        "## 🧮 L5 Q5\n",
        "\n",
        "Now insert np.nan in 20 random positions the 2D `iris_data`"
      ]
    },
    {
      "cell_type": "code",
      "metadata": {
        "id": "PaSmqL099Ff7"
      },
      "source": [
        "# cell for Q5\n",
        "iris_data[np.random.randint(0, iris_data.shape[0], size=20),\n",
        "          np.random.randint(0, iris_data.shape[1], size=20)] = np.nan"
      ],
      "execution_count": null,
      "outputs": []
    },
    {
      "cell_type": "markdown",
      "metadata": {
        "id": "ivAKNmlK-Q-L"
      },
      "source": [
        "## 🧮 L5 Q6\n",
        "\n",
        "Now find the total number and position of missing values in `iris_data`\n",
        "\n",
        "Note: NumPy designed nan so that nan == nan returns False, but nan != nan returns True.\n",
        "\n",
        "```\n",
        "np.nan == np.nan\n",
        "## False\n",
        "np.nan != np.nan\n",
        "## True\n",
        "\n",
        "```\n",
        "\n",
        "> This is because equivalence between missing or invalid values is not well defined. In practice, this behavior prevents silent bugs from creeping into your program.\n",
        "\n",
        "In order to see which elements of bot are nan, you can use `np.isnan()` function."
      ]
    },
    {
      "cell_type": "code",
      "metadata": {
        "id": "SSWJEdJO-Azi",
        "colab": {
          "base_uri": "https://localhost:8080/"
        },
        "outputId": "8660f676-d86b-417a-c719-c84cb800824b"
      },
      "source": [
        "# cell for Q6\n",
        "print(np.argwhere(np.isnan(iris_data)).shape[0])\n",
        "print(np.argwhere(np.isnan(iris_data)))"
      ],
      "execution_count": null,
      "outputs": [
        {
          "output_type": "stream",
          "name": "stdout",
          "text": [
            "20\n",
            "[[  7   1]\n",
            " [ 39   3]\n",
            " [ 40   0]\n",
            " [ 56   0]\n",
            " [ 56   1]\n",
            " [ 57   3]\n",
            " [ 59   2]\n",
            " [ 63   3]\n",
            " [ 65   3]\n",
            " [ 69   3]\n",
            " [ 75   0]\n",
            " [ 86   0]\n",
            " [ 87   1]\n",
            " [ 95   1]\n",
            " [ 97   2]\n",
            " [113   3]\n",
            " [118   0]\n",
            " [124   0]\n",
            " [127   1]\n",
            " [129   2]]\n"
          ]
        }
      ]
    },
    {
      "cell_type": "markdown",
      "metadata": {
        "id": "w__0vO9f_Hoj"
      },
      "source": [
        "## 🧮 L5 Q7\n",
        "\n",
        "Filter the rows of iris_2d that has `petallength (3rd column) > 1.5` and `sepallength (1st column) < 5.0`"
      ]
    },
    {
      "cell_type": "code",
      "metadata": {
        "id": "NiQB_GNd-2-K",
        "colab": {
          "base_uri": "https://localhost:8080/"
        },
        "outputId": "1bec30bf-5798-46c3-e441-f617afcb4db7"
      },
      "source": [
        "# cell for Q7\n",
        "iris_data[(iris_data[:, 0] < 5) & (iris_data[:, 2] > 1.5)]"
      ],
      "execution_count": null,
      "outputs": [
        {
          "output_type": "execute_result",
          "data": {
            "text/plain": [
              "array([[4.8, 3.4, 1.6, 0.2],\n",
              "       [4.8, 3.4, 1.9, 0.2],\n",
              "       [4.7, 3.2, 1.6, 0.2],\n",
              "       [4.8, 3.1, 1.6, 0.2],\n",
              "       [4.9, 2.4, 3.3, nan],\n",
              "       [4.9, 2.5, 4.5, 1.7]])"
            ]
          },
          "metadata": {},
          "execution_count": 34
        }
      ]
    },
    {
      "cell_type": "markdown",
      "source": [
        "## 🧮 L5 Q8\n",
        "\n",
        "Select the rows of `iris_data` that do not have any `nan` values"
      ],
      "metadata": {
        "id": "sNYgd1EtJy1p"
      }
    },
    {
      "cell_type": "code",
      "source": [
        "# cell for Q8\n",
        "iris_data[(np.argwhere(~np.isnan(iris_data)))]"
      ],
      "metadata": {
        "id": "IP3dOMWRJ5Ar",
        "colab": {
          "base_uri": "https://localhost:8080/"
        },
        "outputId": "b4c308b9-0df2-4e69-e40d-08195248e284"
      },
      "execution_count": null,
      "outputs": [
        {
          "output_type": "execute_result",
          "data": {
            "text/plain": [
              "array([[[5.1, 3.5, 1.4, 0.2],\n",
              "        [5.1, 3.5, 1.4, 0.2]],\n",
              "\n",
              "       [[5.1, 3.5, 1.4, 0.2],\n",
              "        [4.9, 3. , 1.4, 0.2]],\n",
              "\n",
              "       [[5.1, 3.5, 1.4, 0.2],\n",
              "        [4.7, 3.2, 1.3, 0.2]],\n",
              "\n",
              "       ...,\n",
              "\n",
              "       [[5.9, 3. , 5.1, 1.8],\n",
              "        [4.9, 3. , 1.4, 0.2]],\n",
              "\n",
              "       [[5.9, 3. , 5.1, 1.8],\n",
              "        [4.7, 3.2, 1.3, 0.2]],\n",
              "\n",
              "       [[5.9, 3. , 5.1, 1.8],\n",
              "        [4.6, 3.1, 1.5, 0.2]]])"
            ]
          },
          "metadata": {},
          "execution_count": 40
        }
      ]
    },
    {
      "cell_type": "markdown",
      "metadata": {
        "id": "UultwZ8oAAd3"
      },
      "source": [
        "## 🧮 L5 Q9\n",
        "\n",
        "compute the mean, median, and standard deviation of `sepallength`\n",
        "\n",
        "```\n",
        "url = 'https://archive.ics.uci.edu/ml/machine-learning-databases/iris/iris.data'\n",
        "iris = np.genfromtxt(url, delimiter=',', dtype='object')\n",
        "sepallength = np.genfromtxt(url, delimiter=',', dtype='float', usecols=[0])\n",
        "```"
      ]
    },
    {
      "cell_type": "code",
      "metadata": {
        "id": "5hjI4WQR_LDw",
        "colab": {
          "base_uri": "https://localhost:8080/"
        },
        "outputId": "3e6a07e0-e951-44a5-aea2-5c11d03738ce"
      },
      "source": [
        "# cell for Q9\n",
        "url = 'https://archive.ics.uci.edu/ml/machine-learning-databases/iris/iris.data'\n",
        "iris = np.genfromtxt(url, delimiter=',', dtype='object')\n",
        "sepallength = np.genfromtxt(url, delimiter=',', dtype='float', usecols=[0])\n",
        "\n",
        "print(sepallength.mean())\n",
        "print(np.median(sepallength))\n",
        "print(np.std(sepallength))"
      ],
      "execution_count": null,
      "outputs": [
        {
          "output_type": "stream",
          "name": "stdout",
          "text": [
            "5.843333333333334\n",
            "5.8\n",
            "0.8253012917851409\n"
          ]
        }
      ]
    },
    {
      "cell_type": "markdown",
      "metadata": {
        "id": "s0VPNi_wATOD"
      },
      "source": [
        "## 🧮 L5 Q10\n",
        "\n",
        "normalize sepallength so that all values occur between 0 and 1\n",
        "\n",
        "(_hint: (observation - min / (max - min))_)"
      ]
    },
    {
      "cell_type": "code",
      "metadata": {
        "id": "oUBdeGgGAvpg",
        "colab": {
          "base_uri": "https://localhost:8080/"
        },
        "outputId": "ddc32bd9-6450-445b-ad3b-b1ad96c23d48"
      },
      "source": [
        "# cell for Q10\n",
        "(sepallength - np.min(sepallength)) / (np.max(sepallength) - np.min(sepallength))"
      ],
      "execution_count": null,
      "outputs": [
        {
          "output_type": "execute_result",
          "data": {
            "text/plain": [
              "array([0.22222222, 0.16666667, 0.11111111, 0.08333333, 0.19444444,\n",
              "       0.30555556, 0.08333333, 0.19444444, 0.02777778, 0.16666667,\n",
              "       0.30555556, 0.13888889, 0.13888889, 0.        , 0.41666667,\n",
              "       0.38888889, 0.30555556, 0.22222222, 0.38888889, 0.22222222,\n",
              "       0.30555556, 0.22222222, 0.08333333, 0.22222222, 0.13888889,\n",
              "       0.19444444, 0.19444444, 0.25      , 0.25      , 0.11111111,\n",
              "       0.13888889, 0.30555556, 0.25      , 0.33333333, 0.16666667,\n",
              "       0.19444444, 0.33333333, 0.16666667, 0.02777778, 0.22222222,\n",
              "       0.19444444, 0.05555556, 0.02777778, 0.19444444, 0.22222222,\n",
              "       0.13888889, 0.22222222, 0.08333333, 0.27777778, 0.19444444,\n",
              "       0.75      , 0.58333333, 0.72222222, 0.33333333, 0.61111111,\n",
              "       0.38888889, 0.55555556, 0.16666667, 0.63888889, 0.25      ,\n",
              "       0.19444444, 0.44444444, 0.47222222, 0.5       , 0.36111111,\n",
              "       0.66666667, 0.36111111, 0.41666667, 0.52777778, 0.36111111,\n",
              "       0.44444444, 0.5       , 0.55555556, 0.5       , 0.58333333,\n",
              "       0.63888889, 0.69444444, 0.66666667, 0.47222222, 0.38888889,\n",
              "       0.33333333, 0.33333333, 0.41666667, 0.47222222, 0.30555556,\n",
              "       0.47222222, 0.66666667, 0.55555556, 0.36111111, 0.33333333,\n",
              "       0.33333333, 0.5       , 0.41666667, 0.19444444, 0.36111111,\n",
              "       0.38888889, 0.38888889, 0.52777778, 0.22222222, 0.38888889,\n",
              "       0.55555556, 0.41666667, 0.77777778, 0.55555556, 0.61111111,\n",
              "       0.91666667, 0.16666667, 0.83333333, 0.66666667, 0.80555556,\n",
              "       0.61111111, 0.58333333, 0.69444444, 0.38888889, 0.41666667,\n",
              "       0.58333333, 0.61111111, 0.94444444, 0.94444444, 0.47222222,\n",
              "       0.72222222, 0.36111111, 0.94444444, 0.55555556, 0.66666667,\n",
              "       0.80555556, 0.52777778, 0.5       , 0.58333333, 0.80555556,\n",
              "       0.86111111, 1.        , 0.58333333, 0.55555556, 0.5       ,\n",
              "       0.94444444, 0.55555556, 0.58333333, 0.47222222, 0.72222222,\n",
              "       0.66666667, 0.72222222, 0.41666667, 0.69444444, 0.66666667,\n",
              "       0.66666667, 0.55555556, 0.61111111, 0.52777778, 0.44444444])"
            ]
          },
          "metadata": {},
          "execution_count": 44
        }
      ]
    },
    {
      "cell_type": "markdown",
      "metadata": {
        "id": "DXHEJnBaAmYJ"
      },
      "source": [
        "## 🧮 L5 Q11\n",
        "\n",
        "calculate the 95 percentile score of `sepallength` using `np.percentile`"
      ]
    },
    {
      "cell_type": "code",
      "metadata": {
        "id": "lHuCe-M1AFxG",
        "colab": {
          "base_uri": "https://localhost:8080/"
        },
        "outputId": "2bf5ed55-9784-41f0-9a29-5820945b4065"
      },
      "source": [
        "# cell for Q11\n",
        "np.percentile(sepallength, 95)"
      ],
      "execution_count": null,
      "outputs": [
        {
          "output_type": "execute_result",
          "data": {
            "text/plain": [
              "7.254999999999998"
            ]
          },
          "metadata": {},
          "execution_count": 45
        }
      ]
    },
    {
      "cell_type": "markdown",
      "metadata": {
        "id": "rkRuRB72A3hv"
      },
      "source": [
        "Complete additional exercises if you wish at [machinelearningplus](https://www.machinelearningplus.com/python/101-numpy-exercises-python/)"
      ]
    }
  ]
}
