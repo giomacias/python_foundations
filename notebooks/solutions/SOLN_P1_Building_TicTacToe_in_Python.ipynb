{
  "nbformat": 4,
  "nbformat_minor": 0,
  "metadata": {
    "colab": {
      "name": "SOLN_P1_Building_TicTacToe_in_Python.ipynb",
      "provenance": [],
      "collapsed_sections": [],
      "toc_visible": true,
      "include_colab_link": true
    },
    "kernelspec": {
      "display_name": "Python (tunnel)",
      "language": "python",
      "name": "python3"
    },
    "language_info": {
      "codemirror_mode": {
        "name": "ipython",
        "version": 3
      },
      "file_extension": ".py",
      "mimetype": "text/x-python",
      "name": "python",
      "nbconvert_exporter": "python",
      "pygments_lexer": "ipython3",
      "version": "3.7.7"
    }
  },
  "cells": [
    {
      "cell_type": "markdown",
      "metadata": {
        "id": "view-in-github",
        "colab_type": "text"
      },
      "source": [
        "<a href=\"https://colab.research.google.com/github/wesleybeckner/python_foundations/blob/main/notebooks/solutions/SOLN_P1_Building_TicTacToe_in_Python.ipynb\" target=\"_parent\"><img src=\"https://colab.research.google.com/assets/colab-badge.svg\" alt=\"Open In Colab\"/></a>"
      ]
    },
    {
      "cell_type": "markdown",
      "metadata": {
        "id": "vhe1yX4AMckE"
      },
      "source": [
        "# Python Foundations <br> Project Part 1: Building the Game Tic-Tac-Toe\n",
        "\n",
        "**Instructor**: Wesley Beckner\n",
        "\n",
        "**Contact**: wesleybeckner@gmail.com\n",
        "<br>\n",
        "\n",
        "---\n",
        "\n",
        "<br>\n",
        "\n",
        "In this project notebook we'll be laying the foundations of our tic-tac-toe game!\n",
        "\n",
        "In order to complete this notebook you will have to have covered sessions 1-3 where we discuss python, conditionals/flow, and functions.\n",
        "\n",
        "<br>\n",
        "\n",
        "---"
      ]
    },
    {
      "cell_type": "markdown",
      "metadata": {
        "id": "WLzT0luKCzaD"
      },
      "source": [
        "## 1.1 Defining and Visualizing the Board"
      ]
    },
    {
      "cell_type": "markdown",
      "metadata": {
        "id": "uEEDi16W8ouB"
      },
      "source": [
        "### 1.1 Q1\n",
        "\n",
        "First we need to define our board object (object in the loose sense for now!). This will hold the _memory_ of where our current player pieces are.\n",
        "\n",
        "Say we eventually want to place in every board position a string variable, `'X'` or `'O'`. How would we represent the board? Also, how do we represent it in the least complex space possible, i.e. a list?\n",
        "\n",
        "Example output:\n",
        "```\n",
        "[' ', ' ', ' ', ' ', ' ', ' ', ' ', ' ', ' ']\n",
        "```\n"
      ]
    },
    {
      "cell_type": "code",
      "metadata": {
        "id": "8TbcOhIN8CRu",
        "colab": {
          "base_uri": "https://localhost:8080/"
        },
        "outputId": "59fc16f0-b3d9-4a43-80b2-e82cec5b76aa"
      },
      "source": [
        "# cell for Q1\n",
        "\n",
        "# create a variable called \"board\"  and set it equal to a list of 9 strings\n",
        "# filled with a single white space\n",
        "\n",
        "board = [' ', ' ', ' ', ' ', ' ', ' ', ' ', ' ', ' ']\n",
        "board"
      ],
      "execution_count": null,
      "outputs": [
        {
          "output_type": "execute_result",
          "data": {
            "text/plain": [
              "[' ', ' ', ' ', ' ', ' ', ' ', ' ', ' ', ' ']"
            ]
          },
          "metadata": {},
          "execution_count": 1
        }
      ]
    },
    {
      "cell_type": "markdown",
      "metadata": {
        "id": "aagYqpun85w3"
      },
      "source": [
        "### 1.1 Q2\n",
        "\n",
        "We would like to be able to visualize where our players have executed onto the board. How can we use what we've learned about print functions to visualize an empty board?\n",
        "\n",
        "* hint: use `|`, `\\n`, `.format()`, and unpack our board elements using an asteric (`*board`) with the print function.\n",
        "\n",
        "Example output:\n",
        "\n",
        "```\n",
        "| | | |\n",
        "| | | |\n",
        "| | | |\n",
        "```"
      ]
    },
    {
      "cell_type": "code",
      "metadata": {
        "colab": {
          "base_uri": "https://localhost:8080/"
        },
        "id": "N4oT9Dsv8MA0",
        "outputId": "adb788b1-ea96-43a4-8c0f-d4e3e8650481"
      },
      "source": [
        "# Cell for Q2\n",
        "\n",
        "# call the print() function on your board; if you can get your output to look\n",
        "# like the example in a single print() call, great! if not, don't worry! solve \n",
        "# this however you feel comfortable. Just make sure the output looks like the\n",
        "# example\n",
        "\n",
        "print(\"|{}|{}|{}|\\n|{}|{}|{}|\\n|{}|{}|{}|\".format(*board))"
      ],
      "execution_count": null,
      "outputs": [
        {
          "output_type": "stream",
          "name": "stdout",
          "text": [
            "| | | |\n",
            "| | | |\n",
            "| | | |\n"
          ]
        }
      ]
    },
    {
      "cell_type": "markdown",
      "metadata": {
        "id": "UWIj3iU_9AhK"
      },
      "source": [
        "### 1.1 Q3\n",
        "\n",
        "After you've created your print script that takes the board as an input, test it out by filling your board with some `X's` and `O's`\n",
        "\n",
        "Example output:\n",
        "\n",
        "```\n",
        "|X| | |\n",
        "| |O| |\n",
        "| | | |\n",
        "```"
      ]
    },
    {
      "cell_type": "code",
      "metadata": {
        "colab": {
          "base_uri": "https://localhost:8080/"
        },
        "id": "uREQiGeQ9IT4",
        "outputId": "7f78f342-4785-4f9e-98f8-26a9d0e9e707"
      },
      "source": [
        "# Cell for Q3\n",
        "\n",
        "# now copy and paste your code from above, but before you run your script, fill \n",
        "# in an 'X' in the first (0-index) position of your board list and an 'O' in the \n",
        "# 4th (3-index) position\n",
        "board = ['X', ' ', ' ', ' ', 'O', ' ', ' ', ' ', ' ']\n",
        "print(\"|{}|{}|{}|\\n|{}|{}|{}|\\n|{}|{}|{}|\".format(*board))"
      ],
      "execution_count": null,
      "outputs": [
        {
          "output_type": "stream",
          "name": "stdout",
          "text": [
            "|X| | |\n",
            "| |O| |\n",
            "| | | |\n"
          ]
        }
      ]
    },
    {
      "cell_type": "markdown",
      "metadata": {
        "id": "nsyx15tI9J_V"
      },
      "source": [
        "### 1.1 Q4\n",
        "\n",
        "Now, if that looks good, wrap the print function in a function called `visualize_board` that takes the variable `board` as a parameter.\n",
        "\n",
        "Example:\n",
        "```\n",
        "visualize_board(board)\n",
        "|X| | |\n",
        "| |O| |\n",
        "| | | |\n",
        "```"
      ]
    },
    {
      "cell_type": "code",
      "metadata": {
        "id": "UXYTpoyC8kZC"
      },
      "source": [
        "# Cell for Q4\n",
        "\n",
        "# now write a function called \"visualize_board\" that takes in your board object\n",
        "# as an input and prints out the board the way we just prototyped above.\n",
        "def visualize_board(board):\n",
        "  print(\"|{}|{}|{}|\\n|{}|{}|{}|\\n|{}|{}|{}|\".format(*board))"
      ],
      "execution_count": null,
      "outputs": []
    },
    {
      "cell_type": "code",
      "metadata": {
        "colab": {
          "base_uri": "https://localhost:8080/"
        },
        "id": "H4xaruVk9Q-f",
        "outputId": "2081141c-6d23-44bf-f505-808636a789a5"
      },
      "source": [
        "visualize_board(board)"
      ],
      "execution_count": null,
      "outputs": [
        {
          "output_type": "stream",
          "name": "stdout",
          "text": [
            "|X| | |\n",
            "| |O| |\n",
            "| | | |\n"
          ]
        }
      ]
    },
    {
      "cell_type": "markdown",
      "metadata": {
        "id": "7SbhroD8-rJN"
      },
      "source": [
        "### 1.1 Q5\n",
        "\n",
        "It may be more useful to organize our board into a dictionary. Recreate your board variable now using integers 1-9 as the keys and empty strings `' '` as the values. What do you now need to feed into your function `visualize_board` for it to output the same result?\n",
        "\n",
        "* hint: think of an attribute of the dictionary you just created."
      ]
    },
    {
      "cell_type": "code",
      "metadata": {
        "id": "Nk6xgPSm9lSW"
      },
      "source": [
        "# Cell for Q5\n",
        "board = {1: ' ',\n",
        "         2: ' ',\n",
        "         3: ' ',\n",
        "         4: ' ',\n",
        "         5: ' ',\n",
        "         6: ' ',\n",
        "         7: ' ',\n",
        "         8: ' ',\n",
        "         9: ' ',}"
      ],
      "execution_count": null,
      "outputs": []
    },
    {
      "cell_type": "markdown",
      "metadata": {
        "id": "xiSBPcCTL1oq"
      },
      "source": [
        "### 1.1 Q6\n",
        "\n",
        "Lastly, write a function called `init_board` that takes no parameters and returns the empty board dictionary"
      ]
    },
    {
      "cell_type": "code",
      "metadata": {
        "id": "Zc_nQzLkC7Nl"
      },
      "source": [
        "# Cell for Q6\n",
        "def init_board():\n",
        "  return {1: ' ',\n",
        "         2: ' ',\n",
        "         3: ' ',\n",
        "         4: ' ',\n",
        "         5: ' ',\n",
        "         6: ' ',\n",
        "         7: ' ',\n",
        "         8: ' ',\n",
        "         9: ' ',}"
      ],
      "execution_count": null,
      "outputs": []
    },
    {
      "cell_type": "code",
      "source": [
        "board = init_board()\n",
        "board"
      ],
      "metadata": {
        "colab": {
          "base_uri": "https://localhost:8080/"
        },
        "id": "q90gdkGBu5-g",
        "outputId": "8b917771-0c9c-4982-ed3e-6bdde8582eb0"
      },
      "execution_count": null,
      "outputs": [
        {
          "output_type": "execute_result",
          "data": {
            "text/plain": [
              "{1: ' ', 2: ' ', 3: ' ', 4: ' ', 5: ' ', 6: ' ', 7: ' ', 8: ' ', 9: ' '}"
            ]
          },
          "metadata": {},
          "execution_count": 13
        }
      ]
    },
    {
      "cell_type": "markdown",
      "metadata": {
        "id": "d_E8CAmd-t3_"
      },
      "source": [
        "## 1.2 Checking for a Winner"
      ]
    },
    {
      "cell_type": "markdown",
      "metadata": {
        "id": "AlsBS5p7MREs"
      },
      "source": [
        "### 1.2 Q1\n",
        "\n",
        "We will need a way to check if either player has won the game. Write down all the winning patterns using our board representation where places are numbered 1-9. Store these patterns in a list of lists called `win_patterns`\n",
        "\n",
        "* hint: You should identify 8 winning patterns"
      ]
    },
    {
      "cell_type": "code",
      "metadata": {
        "id": "LaG0lNDQ9sbT"
      },
      "source": [
        "# Cell for Q1\n",
        "win_patterns = [[1, 2, 3],\n",
        "                [4, 5, 6],\n",
        "                [7, 8, 9],\n",
        "                [1, 5, 9],\n",
        "                [3, 5, 7],\n",
        "                [1, 4, 7],\n",
        "                [2, 5, 8],\n",
        "                [3, 6, 9]]"
      ],
      "execution_count": null,
      "outputs": []
    },
    {
      "cell_type": "markdown",
      "metadata": {
        "id": "6yfV0WP5_KYO"
      },
      "source": [
        "### 1.2 Q2\n",
        "\n",
        "Next, we will need to write a function that checks if there is a winning pattern on our board (i.e. all X's or all O's are in the indicated places on the board. But let's build the conditionals and logic methodically and not just jump into writing a for loop!\n",
        "\n",
        "First, access the first element of `win_patterns` and set it equal to a variable called `pattern`\n",
        "\n",
        "Example output:\n",
        "```\n",
        "[1, 2, 3]\n",
        "```"
      ]
    },
    {
      "cell_type": "code",
      "metadata": {
        "colab": {
          "base_uri": "https://localhost:8080/"
        },
        "id": "r0wrRUuT-4ae",
        "outputId": "b3ee70f8-2365-4eee-c9a0-2b74f00712cd"
      },
      "source": [
        "# Cell for Q2\n",
        "pattern = win_patterns[0]\n",
        "pattern"
      ],
      "execution_count": null,
      "outputs": [
        {
          "output_type": "execute_result",
          "data": {
            "text/plain": [
              "[1, 2, 3]"
            ]
          },
          "metadata": {},
          "execution_count": 15
        }
      ]
    },
    {
      "cell_type": "markdown",
      "metadata": {
        "id": "TxiSfu6yAPqn"
      },
      "source": [
        "### 1.2 Q3\n",
        "\n",
        "Use the board dictionary to get the board values at the positions stored in `pattern`\n",
        "\n",
        "Example Output:\n",
        "```\n",
        "['X', ' ', ' ']\n",
        "```"
      ]
    },
    {
      "cell_type": "code",
      "metadata": {
        "colab": {
          "base_uri": "https://localhost:8080/"
        },
        "id": "SvoBw4dI_kFA",
        "outputId": "d9b82379-42b1-47c2-cebd-4c4b41b23867"
      },
      "source": [
        "# Cell for Q3\n",
        "player_tokens = []\n",
        "for i in pattern:\n",
        "  player_tokens.append(board[i])\n",
        "player_tokens"
      ],
      "execution_count": null,
      "outputs": [
        {
          "output_type": "execute_result",
          "data": {
            "text/plain": [
              "[' ', ' ', ' ']"
            ]
          },
          "metadata": {},
          "execution_count": 22
        }
      ]
    },
    {
      "cell_type": "markdown",
      "metadata": {
        "id": "oyZMnigyAVtG"
      },
      "source": [
        "### 1.2 Q4\n",
        "\n",
        "Now check for whether they contain 3 X's or 3 O's. Fill those spaces with all 'X's or all 'O's to check that your conditional is working properly. Your output should be a `boolean`: `True` or `False`"
      ]
    },
    {
      "cell_type": "code",
      "metadata": {
        "colab": {
          "base_uri": "https://localhost:8080/"
        },
        "id": "FPqk7w0oAVBJ",
        "outputId": "ab071b22-72a1-492b-9056-0ed94a3ad04f"
      },
      "source": [
        "# Cell for Q4\n",
        "board = init_board()\n",
        "board[1] = 'O'\n",
        "board[2] = 'O'\n",
        "board[3] = 'O'\n",
        "player_tokens = []\n",
        "for i in pattern:\n",
        "  player_tokens.append(board[i])\n",
        "if (player_tokens == ['X', 'X', 'X']) or (player_tokens == ['O', 'O', 'O']):\n",
        "  print(True)\n",
        "else:\n",
        "  print(False)"
      ],
      "execution_count": null,
      "outputs": [
        {
          "output_type": "stream",
          "name": "stdout",
          "text": [
            "True\n"
          ]
        }
      ]
    },
    {
      "cell_type": "markdown",
      "metadata": {
        "id": "TkKNbSHcA0jY"
      },
      "source": [
        "### 1.2 Q5\n",
        "\n",
        "Now we're ready to wrap this in a for loop. Loop through every `pattern` in `win_patterns` and evaluate with your conditional. If 'X' wins then print out `'X' Won!` if 'O' wins then print out `'O' Won!`\n",
        "\n",
        "Example output:\n",
        "```\n",
        "'O' Won!\n",
        "```"
      ]
    },
    {
      "cell_type": "code",
      "metadata": {
        "colab": {
          "base_uri": "https://localhost:8080/"
        },
        "id": "IFC1xJF4A27w",
        "outputId": "9358fa82-e954-4fc0-e750-ce0a89642dc0"
      },
      "source": [
        "# Cell for Q5\n",
        "board = init_board()\n",
        "board[1] = 'X'\n",
        "board[5] = 'X'\n",
        "board[9] = 'X'\n",
        "for pattern in win_patterns:\n",
        "  player_tokens = []\n",
        "  for i in pattern:\n",
        "    player_tokens.append(board[i])\n",
        "  if (player_tokens == ['X', 'X', 'X']):\n",
        "    print(\"'X' Won!\")\n",
        "  elif (player_tokens == ['O', 'O', 'O']):\n",
        "    print(\"'O' Won!\")\n",
        "  else:\n",
        "    pass"
      ],
      "execution_count": null,
      "outputs": [
        {
          "output_type": "stream",
          "name": "stdout",
          "text": [
            "'X' Won!\n"
          ]
        }
      ]
    },
    {
      "cell_type": "markdown",
      "metadata": {
        "id": "JMaUUm_NBJHN"
      },
      "source": [
        "### 1.2 Q6\n",
        "\n",
        "Once we've detected a winner, there's no need to continue the for-loop. Put breaks in your loop so that it exits after detecting a winner"
      ]
    },
    {
      "cell_type": "code",
      "metadata": {
        "colab": {
          "base_uri": "https://localhost:8080/"
        },
        "id": "y4S9h8tQBAnq",
        "outputId": "314115cf-7727-4332-b370-3e8f80690af8"
      },
      "source": [
        "# Cell for Q6\n",
        "board = init_board()\n",
        "board[1] = 'X'\n",
        "board[5] = 'X'\n",
        "board[9] = 'X'\n",
        "for pattern in win_patterns:\n",
        "  player_tokens = []\n",
        "  for i in pattern:\n",
        "    player_tokens.append(board[i])\n",
        "  if (player_tokens == ['X', 'X', 'X']):\n",
        "    print(\"'X' Won!\")\n",
        "    break\n",
        "  elif (player_tokens == ['O', 'O', 'O']):\n",
        "    print(\"'O' Won!\")\n",
        "    break\n",
        "  else:\n",
        "    pass"
      ],
      "execution_count": null,
      "outputs": [
        {
          "output_type": "stream",
          "name": "stdout",
          "text": [
            "'X' Won!\n"
          ]
        }
      ]
    },
    {
      "cell_type": "markdown",
      "metadata": {
        "id": "pNxPf8FdCQn1"
      },
      "source": [
        "### 1.2 Q7\n",
        "\n",
        "let's wrap this in a function. Call your function `check_winning` and have it take `board` as an input parameter. Make what were previously your print statements into returns of their respective strings. Return an empty string if there is no winner detected."
      ]
    },
    {
      "cell_type": "code",
      "metadata": {
        "id": "3NTwUx_cBPax"
      },
      "source": [
        "# Cell for Q7\n",
        "def check_winning(board):\n",
        "  for pattern in win_patterns:\n",
        "    player_tokens = []\n",
        "    for i in pattern:\n",
        "      player_tokens.append(board[i])\n",
        "    if (player_tokens == ['X', 'X', 'X']):\n",
        "      return \"'X' Won!\"\n",
        "    elif (player_tokens == ['O', 'O', 'O']):\n",
        "      return \"'O' Won!\"\n",
        "    else:\n",
        "      pass\n",
        "  return \"\""
      ],
      "execution_count": null,
      "outputs": []
    },
    {
      "cell_type": "markdown",
      "metadata": {
        "id": "gOidfcBoCvEl"
      },
      "source": [
        "Check that your code works using a board that has either 'X' or 'O' as a winner."
      ]
    },
    {
      "cell_type": "code",
      "metadata": {
        "colab": {
          "base_uri": "https://localhost:8080/",
          "height": 35
        },
        "id": "79RQ0FHuCpDB",
        "outputId": "c4053010-a8d8-49ab-b8b8-9939e9ed4f92"
      },
      "source": [
        "# Cell for Q7\n",
        "board = init_board()\n",
        "board[1] = 'X'\n",
        "board[5] = 'X'\n",
        "board[9] = 'X'\n",
        "check_winning(board)"
      ],
      "execution_count": null,
      "outputs": [
        {
          "output_type": "execute_result",
          "data": {
            "application/vnd.google.colaboratory.intrinsic+json": {
              "type": "string"
            },
            "text/plain": [
              "\"'X' Won!\""
            ]
          },
          "metadata": {},
          "execution_count": 34
        }
      ]
    },
    {
      "cell_type": "markdown",
      "metadata": {
        "id": "bedI0QpKFGpn"
      },
      "source": [
        "## 1.3 Input from the User\n",
        "\n",
        "We can get input from the user like so:"
      ]
    },
    {
      "cell_type": "code",
      "metadata": {
        "colab": {
          "base_uri": "https://localhost:8080/"
        },
        "id": "cRwadDX3FIZu",
        "outputId": "80636121-6764-4ee0-9f44-c8971a4909a6"
      },
      "source": [
        "move = input()"
      ],
      "execution_count": null,
      "outputs": [
        {
          "name": "stdout",
          "output_type": "stream",
          "text": [
            "1\n"
          ]
        }
      ]
    },
    {
      "cell_type": "markdown",
      "metadata": {
        "id": "G3vf6TI_FOey"
      },
      "source": [
        "### 1.3 Q1\n",
        "\n",
        "Let's ask the user for their move and create some logic to embed this into the board. First write your string that will be presented to the user, asking them to play their move. "
      ]
    },
    {
      "cell_type": "code",
      "metadata": {
        "colab": {
          "base_uri": "https://localhost:8080/"
        },
        "id": "F3u8H36RFRoV",
        "outputId": "559cebb5-ba82-43e1-c767-70a23b6f1769"
      },
      "source": [
        "player = 'X'\n",
        "board = init_board()\n",
        "visualize_board(board.values())\n",
        "\n",
        "# WRITE YOUR STRING DOWN HERE\n",
        "move = input(\"{}, Choose your move\".format(player))"
      ],
      "execution_count": null,
      "outputs": [
        {
          "name": "stdout",
          "output_type": "stream",
          "text": [
            "| | | |\n",
            "| | | |\n",
            "| | | |\n",
            "X, Choose your move1\n"
          ]
        }
      ]
    },
    {
      "cell_type": "markdown",
      "metadata": {
        "id": "iTBJleCcFkxF"
      },
      "source": [
        "### 1.3 Q2\n",
        "\n",
        "Great. Now we need to check that the position is actually available to the user, if not, ask the user for a different move; otherwise update the board and ask for the next move from the next player\n",
        "\n",
        "* hint: you will need to convert your input into an `int` to be able to use it as a key in the `board` dictionary"
      ]
    },
    {
      "cell_type": "code",
      "metadata": {
        "colab": {
          "base_uri": "https://localhost:8080/"
        },
        "id": "guHhwJMSFtND",
        "outputId": "ae4f6d3b-da0a-47d4-9285-5853f9d499be"
      },
      "source": [
        "### COPY YOUR CODE FROM ABOVE ###\n",
        "player = 'X'\n",
        "board = init_board()\n",
        "board[1] = 'X'\n",
        "visualize_board(board.values())\n",
        "\n",
        "# WRITE YOUR STRING DOWN HERE\n",
        "move = int(input(\"{}, Choose your move\".format(player)))\n",
        "### END COPY ###\n",
        "\n",
        "### WRITE YOUR CONDITIONAL BELOW\n",
        "# note: you will need to think of both the conditional, as well as a method\n",
        "# to continue asking the player to make a move if the condition is not met\n",
        "# what kind of loop does this make you think of?\n",
        "\n",
        "while True:\n",
        "  if board[move] != ' ':\n",
        "    move = int(input(\"{}, sorry that spot is taken!\\nChoose another move\"\n",
        "            .format(player)))\n",
        "  else:\n",
        "    board[move] = player\n",
        "    break\n",
        "\n",
        "### END YOUR CODE\n",
        "winner = check_winning(board)"
      ],
      "execution_count": null,
      "outputs": [
        {
          "name": "stdout",
          "output_type": "stream",
          "text": [
            "|X| | |\n",
            "| | | |\n",
            "| | | |\n",
            "X, Choose your move1\n",
            "X, sorry that spot is taken!\n",
            "Choose another move2\n"
          ]
        }
      ]
    },
    {
      "cell_type": "markdown",
      "metadata": {
        "id": "Mh97m-Z4D31Q"
      },
      "source": [
        "## 1.4 Creating a Game Handler\n",
        "\n"
      ]
    },
    {
      "cell_type": "markdown",
      "metadata": {
        "id": "e-Z1uHpJQJko"
      },
      "source": [
        "### 1.4 Q1\n",
        "\n",
        "We now need some code to orchestrate game play. It will decide who's turn it is, allow players to make moves, and detect when the game is over.\n",
        "\n",
        "Fill in the blanks in the code cell below to complete the game handler:"
      ]
    },
    {
      "cell_type": "code",
      "metadata": {
        "colab": {
          "base_uri": "https://localhost:8080/"
        },
        "id": "N-qMIX83D52_",
        "outputId": "5a1e2587-c19e-4878-fad6-06485ac27845"
      },
      "source": [
        "print(\"'X' will go first!\")\n",
        "board = init_board()\n",
        "\n",
        "# initiate a while loop\n",
        "while True:\n",
        "\n",
        "  # create a for loop that iterates between X and O and stores this in the \n",
        "  # variable name `player`\n",
        "  for player in (['X', 'O']):  \n",
        "\n",
        "    # visualize the board\n",
        "    visualize_board(board.values())\n",
        "\n",
        "    ### PASTE YOUR CODE FROM ABOVE FOR ASKING THE PLAYER FOR THEIR MOVE ###\n",
        "    move = int(input(\"{}, Choose your move\".format(player)))\n",
        "    while True:\n",
        "      if board[move] != ' ':\n",
        "        move = int(input(\"{}, sorry that spot is taken!\\nChoose another move\"\n",
        "                .format(player)))\n",
        "      else:\n",
        "        board[move] = player\n",
        "        break\n",
        "    ### END PASTE ###\n",
        "\n",
        "    ### WRITE THE LOGIC TO BREAK OUT OF THE WHILE LOOP BELOW ###\n",
        "    # check if there is a winner using check_winning\n",
        "    # if the return from check_winning is an empty string,\n",
        "    # then continue the while loop, otherwise break the while loop and print \n",
        "    # the name of the winner (X or O)\n",
        "    winner = check_winning(board)\n",
        "    if winner == '':\n",
        "      continue\n",
        "    else:\n",
        "      print(winner)\n",
        "      break\n",
        "      \n",
        "  # break out of outer loop\n",
        "  if winner != '':\n",
        "    break"
      ],
      "execution_count": null,
      "outputs": [
        {
          "output_type": "stream",
          "name": "stdout",
          "text": [
            "'X' will go first!\n",
            "| | | |\n",
            "| | | |\n",
            "| | | |\n",
            "X, Choose your move1\n",
            "|X| | |\n",
            "| | | |\n",
            "| | | |\n",
            "O, Choose your move2\n",
            "|X|O| |\n",
            "| | | |\n",
            "| | | |\n",
            "X, Choose your move4\n",
            "|X|O| |\n",
            "|X| | |\n",
            "| | | |\n",
            "O, Choose your move3\n",
            "|X|O|O|\n",
            "|X| | |\n",
            "| | | |\n",
            "X, Choose your move7\n",
            "'X' Won!\n"
          ]
        }
      ]
    },
    {
      "cell_type": "markdown",
      "metadata": {
        "id": "l9HSSsUxHaWT"
      },
      "source": [
        "## 1.5 In Summary\n",
        "\n",
        "Paste all your working functions into the cell below for safe keeping:"
      ]
    },
    {
      "cell_type": "code",
      "metadata": {
        "id": "zANQ5gabHW4n"
      },
      "source": [
        "def init_board():\n",
        "  return {1: ' ',\n",
        "         2: ' ',\n",
        "         3: ' ',\n",
        "         4: ' ',\n",
        "         5: ' ',\n",
        "         6: ' ',\n",
        "         7: ' ',\n",
        "         8: ' ',\n",
        "         9: ' ',}\n",
        "\n",
        "def visualize_board(board):\n",
        "  print(\"|{}|{}|{}|\\n|{}|{}|{}|\\n|{}|{}|{}|\".format(*board))\n",
        "\n",
        "def check_winning(board):\n",
        "  for pattern in win_patterns:\n",
        "    player_tokens = []\n",
        "    for i in pattern:\n",
        "      player_tokens.append(board[i])\n",
        "    if (player_tokens == ['X', 'X', 'X']):\n",
        "      return \"'X' Won!\"\n",
        "    elif (player_tokens == ['O', 'O', 'O']):\n",
        "      return \"'O' Won!\"\n",
        "    else:\n",
        "      pass\n",
        "  return \"\"\n",
        " \n",
        "print(\"'X' will go first!\")\n",
        "board = init_board()\n",
        "\n",
        "# initiate a while loop\n",
        "while True:\n",
        "\n",
        "  # create a for loop that iterates between X and O and stores this in the \n",
        "  # variable name `player`\n",
        "  for player in (['X', 'O']):  \n",
        "\n",
        "    # visualize the board\n",
        "    visualize_board(board.values())\n",
        "\n",
        "    ### PASTE YOUR CODE FROM ABOVE FOR ASKING THE PLAYER FOR THEIR MOVE ###\n",
        "    move = int(input(\"{}, Choose your move\".format(player)))\n",
        "    while True:\n",
        "      if board[move] != ' ':\n",
        "        move = int(input(\"{}, sorry that spot is taken!\\nChoose another move\"\n",
        "                .format(player)))\n",
        "      else:\n",
        "        board[move] = player\n",
        "        break\n",
        "    ### END PASTE ###\n",
        "\n",
        "    ### WRITE THE LOGIC TO BREAK OUT OF THE WHILE LOOP BELOW ###\n",
        "    # check if there is a winner using check_winning\n",
        "    # if the return from check_winning is an empty string,\n",
        "    # then continue the while loop, otherwise break the while loop and print \n",
        "    # the name of the winner (X or O)\n",
        "    winner = check_winning(board)\n",
        "    if winner == '':\n",
        "      continue\n",
        "    else:\n",
        "      print(winner)\n",
        "      break\n",
        "      \n",
        "  # break out of outer loop\n",
        "  if winner != '':\n",
        "    break"
      ],
      "execution_count": null,
      "outputs": []
    }
  ]
}