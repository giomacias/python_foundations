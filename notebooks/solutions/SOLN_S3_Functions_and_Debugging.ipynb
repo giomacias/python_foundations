{
  "nbformat": 4,
  "nbformat_minor": 0,
  "metadata": {
    "colab": {
      "name": "SOLN_S3_Functions_and_Debugging.ipynb",
      "provenance": [],
      "collapsed_sections": [],
      "include_colab_link": true
    },
    "kernelspec": {
      "name": "python3",
      "display_name": "Python 3"
    },
    "language_info": {
      "name": "python"
    }
  },
  "cells": [
    {
      "cell_type": "markdown",
      "metadata": {
        "id": "view-in-github",
        "colab_type": "text"
      },
      "source": [
        "<a href=\"https://colab.research.google.com/github/wesleybeckner/python_foundations/blob/main/notebooks/solutions/SOLN_S3_Functions_and_Debugging.ipynb\" target=\"_parent\"><img src=\"https://colab.research.google.com/assets/colab-badge.svg\" alt=\"Open In Colab\"/></a>"
      ]
    },
    {
      "cell_type": "markdown",
      "metadata": {
        "id": "cPmio-GwmEwG"
      },
      "source": [
        "# Python Foundations, Session 3: Functions and Debugging\n",
        "\n",
        "**Instructor**: Wesley Beckner<br>\n",
        "\n",
        "**Contact**: wesleybeckner@gmail.com\n",
        "\n",
        "<i>special thanks to [David Beck](https://www.cheme.washington.edu/facultyfinder/david-beck) for their contribution to this material</i>\n",
        "<br>\n",
        "\n",
        "---\n",
        "\n",
        "<br>\n",
        "\n",
        "Today, we will discuss **_functions_** in more depth.  We've seen them previously and used them, for example the `.append()` **_function_** for lists, or the even more general `print()` function.  Here, we'll dig into how you can make your own functions to encapsulate code that you will reuse over and over.  \n",
        "\n",
        "<br>\n",
        "\n",
        "---"
      ]
    },
    {
      "cell_type": "markdown",
      "metadata": {
        "id": "5yGc3D7xmEwK"
      },
      "source": [
        "## 3.0 Review from Session on Data Structures and Flow Control\n",
        "\n",
        "In our last session, we discussed **_lists_**, **_dictionaries_**, and **_flow control_**.\n",
        "\n",
        "**_Lists_** are **_ordered collections_** of data that can be used to hold multiple pieces of information while preserving their order.  We use `[` and `]` to access elements by their indices which start with `0`.  All things that operate on **_lists_** like slices use the concept of an inclusive lower bound and an exclusive upper bound.  So, the following gets elements from the **_list_** `my_list` with index values of `0`, `1`, and `2`, but **not** `3`!\n",
        "\n",
        "```\n",
        "my_list[0:3]\n",
        "```\n",
        "\n"
      ]
    },
    {
      "cell_type": "markdown",
      "source": [
        "#### 🙋 Question 1: Slicing\n",
        "\n",
        "> What other way is there of writing the same statement using **_slicing_**?  Hint, think about leaving out one of the numbers in the slice!\n",
        "\n",
        "**_Dictionaries_** are **_named_** **_collections_** of data that can be used to hold multiple pieces of information as **_values_** that are addressed by **_keys_** resulting in a **_key_** to **_value_** data structure.  They are accessed with `[` and `]` but intialized with `{` and `}`.  E.g.\n",
        "\n",
        "```\n",
        "my_dict = { 'cake' : 'Tasty!', 'toenails' : 'Gross!' }\n",
        "my_dict['cake']\n",
        "```\n",
        "\n",
        "Finally, we talked about **_flow control_** and using the concept of **_conditional execution_** to decide which code statements were executed.  Remember this figure?\n",
        "\n",
        "<img src=\"https://docs.oracle.com/cd/B19306_01/appdev.102/b14261/lnpls008.gif\">Flow control figure</img>\n",
        "\n",
        "> What are the **_if_** statments? <br> \n",
        "Where do **_for_** loops fit in? <br>"
      ],
      "metadata": {
        "id": "M7uc5k8GHGlE"
      }
    },
    {
      "cell_type": "markdown",
      "metadata": {
        "id": "PryGZXQwmEwK"
      },
      "source": [
        "## 3.1 Functions\n",
        "\n",
        "For loops let you repeat some code for every item in a list.  Functions are similar in that they run the same lines of code and, frequently, for new values of some variable (we call these **_parameters_**).  They are different in that functions are not limited to looping over items.\n",
        "\n",
        "Functions are a critical part of writing easy to read, reusable code.\n",
        "\n",
        "Create a function like:\n",
        "```\n",
        "def function_name (parameters):\n",
        "    \"\"\"\n",
        "    optional docstring\n",
        "    \"\"\"\n",
        "    function expressions\n",
        "    return [variable]\n",
        "```\n",
        "\n",
        "Here is a simple example.  It prints a string that was passed in and returns nothing.\n",
        "\n",
        "```\n",
        "def print_string(string):\n",
        "    \"\"\"This prints out a string passed as the parameter.\"\"\"\n",
        "    print(string)\n",
        "    return\n",
        "```"
      ]
    },
    {
      "cell_type": "code",
      "metadata": {
        "id": "fV0lZXV9mEwL"
      },
      "source": [
        "def print_string(string):\n",
        "  \"\"\"This prints out a string passed as the parameter\"\"\"\n",
        "  print(string)\n",
        "  return"
      ],
      "execution_count": 33,
      "outputs": []
    },
    {
      "cell_type": "markdown",
      "metadata": {
        "id": "h_uE2gUSmEwL"
      },
      "source": [
        "To call the function, use:\n",
        "```\n",
        "print_string(\"GIX is awesome!\")\n",
        "```\n",
        "\n",
        "_Note:_ The function has to be defined before you can call it!"
      ]
    },
    {
      "cell_type": "code",
      "metadata": {
        "id": "NFP4JFtomEwL",
        "colab": {
          "base_uri": "https://localhost:8080/"
        },
        "outputId": "107bc2aa-ec46-4ebd-d044-b5111b09289e"
      },
      "source": [
        "print_string(\"GIX is awesome!\")"
      ],
      "execution_count": 2,
      "outputs": [
        {
          "output_type": "stream",
          "name": "stdout",
          "text": [
            "GIX is awesome!\n"
          ]
        }
      ]
    },
    {
      "cell_type": "code",
      "source": [
        "def dummy_function():\n",
        "  pass\n",
        "  # could also have an empty return"
      ],
      "metadata": {
        "id": "JSv6Sbr66vLV"
      },
      "execution_count": 3,
      "outputs": []
    },
    {
      "cell_type": "markdown",
      "metadata": {
        "id": "szkTDCxYsRpp"
      },
      "source": [
        "### 3.1.1 Reserved words: def, return, and yield\n",
        "\n",
        "Notice the highlighted words in our function definition: `def` and `return` these are *reserved words* in python used to define functions. Every function definition requires these reserved words. `yield` is another reserved word that is similar to `return` but operates slightly differently. It is beyond the scope of what we are covering in this session. This tutorial from [realpython](https://realpython.com/introduction-to-python-generators/) has good information on the topic."
      ]
    },
    {
      "cell_type": "code",
      "metadata": {
        "id": "ommLRCgi2riF"
      },
      "source": [
        "# what is return doing in this function?\n",
        "def my_square(a):\n",
        "  the_square = a ** 2\n",
        "  return the_square"
      ],
      "execution_count": 4,
      "outputs": []
    },
    {
      "cell_type": "markdown",
      "metadata": {
        "id": "0evV0PZS3Ga8"
      },
      "source": [
        "`return` is going to output whatever value(s) follow after the keyword `return` when we call upon our function "
      ]
    },
    {
      "cell_type": "code",
      "metadata": {
        "colab": {
          "base_uri": "https://localhost:8080/"
        },
        "id": "NRv7pu0Z29hm",
        "outputId": "e9de4c7b-a88c-4f05-f0c8-6878f8d4f368"
      },
      "source": [
        "a = 2\n",
        "my_square(a)"
      ],
      "execution_count": 5,
      "outputs": [
        {
          "output_type": "execute_result",
          "data": {
            "text/plain": [
              "4"
            ]
          },
          "metadata": {},
          "execution_count": 5
        }
      ]
    },
    {
      "cell_type": "markdown",
      "metadata": {
        "id": "dYYNxJrj3RMm"
      },
      "source": [
        "I'm going to return two values..."
      ]
    },
    {
      "cell_type": "code",
      "metadata": {
        "id": "TEpVZ0Kz3NiQ"
      },
      "source": [
        "def my_square(a):\n",
        "  return a ** 2, a"
      ],
      "execution_count": 6,
      "outputs": []
    },
    {
      "cell_type": "markdown",
      "metadata": {
        "id": "A6NeWTGd3S1t"
      },
      "source": [
        "and we see how the output updates accordingly"
      ]
    },
    {
      "cell_type": "markdown",
      "metadata": {
        "id": "BPFrK7yA3U9Y"
      },
      "source": [
        "We can capture these values on the output with..."
      ]
    },
    {
      "cell_type": "code",
      "metadata": {
        "id": "zsOt4yPL3XUp"
      },
      "source": [
        "square, new_a = my_square(a)"
      ],
      "execution_count": 7,
      "outputs": []
    },
    {
      "cell_type": "code",
      "metadata": {
        "colab": {
          "base_uri": "https://localhost:8080/"
        },
        "id": "wYO67Ddr3Y0w",
        "outputId": "f9503827-6a35-411b-f998-8ca29125d18d"
      },
      "source": [
        "print(square, new_a)"
      ],
      "execution_count": 8,
      "outputs": [
        {
          "output_type": "stream",
          "name": "stdout",
          "text": [
            "4 2\n"
          ]
        }
      ]
    },
    {
      "cell_type": "code",
      "source": [
        "square"
      ],
      "metadata": {
        "colab": {
          "base_uri": "https://localhost:8080/"
        },
        "id": "6hgzzLHY77hy",
        "outputId": "5ba91361-8c37-4069-f730-5d8f67bdfa11"
      },
      "execution_count": 9,
      "outputs": [
        {
          "output_type": "execute_result",
          "data": {
            "text/plain": [
              "4"
            ]
          },
          "metadata": {},
          "execution_count": 9
        }
      ]
    },
    {
      "cell_type": "code",
      "source": [
        "new_a"
      ],
      "metadata": {
        "colab": {
          "base_uri": "https://localhost:8080/"
        },
        "id": "rYI-vyaL78SI",
        "outputId": "c890e646-16e7-4e4e-c0f0-2ff1111f03d5"
      },
      "execution_count": 10,
      "outputs": [
        {
          "output_type": "execute_result",
          "data": {
            "text/plain": [
              "2"
            ]
          },
          "metadata": {},
          "execution_count": 10
        }
      ]
    },
    {
      "cell_type": "markdown",
      "metadata": {
        "id": "oVSuBO_Ls_hO"
      },
      "source": [
        "### 3.1.2 Global vs local variables and function parameters\n",
        "\n",
        "In a function, new variables that you create are not saved when the function returns - these are **_local_** variables.  Variables defined outside of the function can be accessed but not changed - these are **_global_** variables.\n",
        "\n",
        "let's define the following function"
      ]
    },
    {
      "cell_type": "code",
      "metadata": {
        "id": "eXFlHTtRsRW0"
      },
      "source": [
        "def my_little_func(a):\n",
        "  b = 10\n",
        "  return a * b"
      ],
      "execution_count": 11,
      "outputs": []
    },
    {
      "cell_type": "code",
      "metadata": {
        "colab": {
          "base_uri": "https://localhost:8080/"
        },
        "id": "74dP2ePo3ias",
        "outputId": "cd67c2e2-55c2-4f2f-ae2f-c7975d19ea9d"
      },
      "source": [
        "my_little_func(2)"
      ],
      "execution_count": 12,
      "outputs": [
        {
          "output_type": "execute_result",
          "data": {
            "text/plain": [
              "20"
            ]
          },
          "metadata": {},
          "execution_count": 12
        }
      ]
    },
    {
      "cell_type": "markdown",
      "metadata": {
        "id": "pQ9pI9Lf3pJ1"
      },
      "source": [
        "if I run the following..."
      ]
    },
    {
      "cell_type": "code",
      "metadata": {
        "id": "E9pRnD3E3lT0"
      },
      "source": [
        "# b"
      ],
      "execution_count": 14,
      "outputs": []
    },
    {
      "cell_type": "markdown",
      "metadata": {
        "id": "aVav_21ItQR1"
      },
      "source": [
        "Let's play with this a little further...\n",
        "\n",
        "...now let's define b outside the function and call our function with `a=5`"
      ]
    },
    {
      "cell_type": "code",
      "metadata": {
        "colab": {
          "base_uri": "https://localhost:8080/"
        },
        "id": "_7QR_kgDtKKS",
        "outputId": "8d9f8cca-3021-44b2-a0a5-ef9dd0137be0"
      },
      "source": [
        "# what happens here?\n",
        "b = 100\n",
        "my_little_func(5)\n",
        "b"
      ],
      "execution_count": 17,
      "outputs": [
        {
          "output_type": "execute_result",
          "data": {
            "text/plain": [
              "100"
            ]
          },
          "metadata": {},
          "execution_count": 17
        }
      ]
    },
    {
      "cell_type": "code",
      "source": [
        "# I set b = 100\n",
        "# my little func ran (where b=10 inside the funciton)\n",
        "# i outputed b (the global variable b) and it still have the value of 100"
      ],
      "metadata": {
        "id": "bCr1s5xU8lcB"
      },
      "execution_count": null,
      "outputs": []
    },
    {
      "cell_type": "markdown",
      "metadata": {
        "id": "sN68OdV0tYQg"
      },
      "source": [
        "we see that b is still 100, instead of 10 as its defined within the function. This is because b inside of `my_little_func` is a *local* variable. "
      ]
    },
    {
      "cell_type": "markdown",
      "metadata": {
        "id": "NbEQQHj1tXDD"
      },
      "source": [
        "it doesn't matter how I define b outside the function because within the function it is set locally.\n",
        "\n",
        "... Let's do this A LITTLE MORE"
      ]
    },
    {
      "cell_type": "code",
      "metadata": {
        "id": "q6H3Q4i5tNbb"
      },
      "source": [
        "def my_new_func(a):\n",
        "  print(b)\n",
        "  return a*b"
      ],
      "execution_count": 18,
      "outputs": []
    },
    {
      "cell_type": "markdown",
      "metadata": {
        "id": "Z6kuw5Sd4I2Q"
      },
      "source": [
        "now if I call on my new function, because `b` is not defined locally within the function, it takes on the global value. \n",
        "\n",
        "This is typically not happy-happy fun-fun behavior for us: we want to be explicit about how we define and use our variables (but there are some times when this is appropriate to do)"
      ]
    },
    {
      "cell_type": "code",
      "metadata": {
        "colab": {
          "base_uri": "https://localhost:8080/"
        },
        "id": "sgFBFzSU38bL",
        "outputId": "7c23a490-c120-48d4-d923-b32b691b29a1"
      },
      "source": [
        "b= 1e4 # side note, what did I do here????\n",
        "# 1 * 10 ** 4\n",
        "my_new_func(a)"
      ],
      "execution_count": 19,
      "outputs": [
        {
          "output_type": "stream",
          "name": "stdout",
          "text": [
            "10000.0\n"
          ]
        },
        {
          "output_type": "execute_result",
          "data": {
            "text/plain": [
              "20000.0"
            ]
          },
          "metadata": {},
          "execution_count": 19
        }
      ]
    },
    {
      "cell_type": "code",
      "source": [
        "b"
      ],
      "metadata": {
        "colab": {
          "base_uri": "https://localhost:8080/"
        },
        "id": "VNSdZYCq83fj",
        "outputId": "6977c101-287f-4c8e-a986-b396db559606"
      },
      "execution_count": 20,
      "outputs": [
        {
          "output_type": "execute_result",
          "data": {
            "text/plain": [
              "10000.0"
            ]
          },
          "metadata": {},
          "execution_count": 20
        }
      ]
    },
    {
      "cell_type": "markdown",
      "metadata": {
        "id": "DcPPOxRgmEwN"
      },
      "source": [
        "#### 3.1.1.1 Function Parameters\n",
        "\n",
        "Parameters (or arguments) in Python are all passed by reference.  This means that if you modify the parameters in the function, they are modified outside of the function (enrichment topic: there are exceptions, see below).\n",
        "\n",
        "See the following example:\n",
        "\n",
        "```\n",
        "def change_list(my_list):\n",
        "   \"\"\"This changes a passed list into this function\"\"\"\n",
        "   my_list.append('four');\n",
        "   print('list inside the function: ', my_list)\n",
        "   return\n",
        "\n",
        "my_list = [1, 2, 3];\n",
        "print('list before the function: ', my_list)\n",
        "change_list(my_list);\n",
        "print('list after the function: ', my_list)\n",
        "```"
      ]
    },
    {
      "cell_type": "code",
      "metadata": {
        "id": "pid662VymEwN",
        "colab": {
          "base_uri": "https://localhost:8080/"
        },
        "outputId": "2df46f92-bd84-4bef-ee17-4369902d2e15"
      },
      "source": [
        "def change_list(my_list):\n",
        "   \"\"\"This changes a passed list into this function\"\"\"\n",
        "   my_list.append('four');\n",
        "   print('list inside the function: ', my_list)\n",
        "   return\n",
        "\n",
        "my_list = [1, 2, 3]\n",
        "print('list before the function: ', my_list)\n",
        "change_list(my_list)\n",
        "print('list after the function: ', my_list)"
      ],
      "execution_count": 21,
      "outputs": [
        {
          "output_type": "stream",
          "name": "stdout",
          "text": [
            "list before the function:  [1, 2, 3]\n",
            "list inside the function:  [1, 2, 3, 'four']\n",
            "list after the function:  [1, 2, 3, 'four']\n"
          ]
        }
      ]
    },
    {
      "cell_type": "markdown",
      "metadata": {
        "id": "Y7O_aN5f5Jan"
      },
      "source": [
        "#### 🍒 3.1.1.2 Enrichment: Global, local, and immutables\n",
        "\n",
        "Let's go back to our former example...\n",
        "\n",
        "Keep in mind the following immutables:\n",
        "\n",
        "* integers, float, str, tuples\n",
        "\n",
        "and now one-by-one uncomment lines 2-5; what is happening here!?"
      ]
    },
    {
      "cell_type": "code",
      "metadata": {
        "colab": {
          "base_uri": "https://localhost:8080/"
        },
        "id": "uMG-TS_C5HR3",
        "outputId": "7db4b0d0-b7b2-4d5a-d43d-76850627ab8c"
      },
      "source": [
        "b = \"a string\"\n",
        "# b = 10\n",
        "# b = 10.2\n",
        "# b = (10, 2)\n",
        "# b = [10, 2]\n",
        "\n",
        "def my_little_func(b):\n",
        "  if type(b) == str:\n",
        "    b += \"20\"\n",
        "  elif (type(b) == int) or (type(b) == float):\n",
        "    b += 10\n",
        "  elif (type(b) == tuple):\n",
        "    print(\"AYYY no tuple changes, Dude\")\n",
        "    pass\n",
        "  elif (type(b) == list):\n",
        "    b.append('whoaaaa')\n",
        "  print(b)\n",
        "  return\n",
        "\n",
        "print(b)\n",
        "my_little_func(b)\n",
        "print(b)"
      ],
      "execution_count": null,
      "outputs": [
        {
          "output_type": "stream",
          "name": "stdout",
          "text": [
            "[10, 2]\n",
            "[10, 2, 'whoaaaa']\n",
            "[10, 2, 'whoaaaa']\n"
          ]
        }
      ]
    },
    {
      "cell_type": "markdown",
      "metadata": {
        "id": "87Ka2A6kmEwN"
      },
      "source": [
        "There is a way to change a global variable within a function with the **_global_** keyword.  Generally, the use of **_global_** variables is not encouraged, instead use parameters. We won't cover the global keyword here but you can [explore further](https://www.programiz.com/python-programming/global-keyword) on your own if you are interested. "
      ]
    },
    {
      "cell_type": "markdown",
      "metadata": {
        "id": "2uFFumKQkx2h"
      },
      "source": [
        "#### 🏋️ Exercise 1: My first function\n",
        "\n",
        "Write a function that takes one parameter and returns any data structure\n",
        "\n",
        "> If you are going to return multiple objects, what data structure that we talked about can be used?  Give an example below."
      ]
    },
    {
      "cell_type": "code",
      "metadata": {
        "id": "OBluJNAxmEwO"
      },
      "source": [
        "# Cell for excerise 1\n",
        "def find_max(a_list):\n",
        "  ans = 0\n",
        "  for i in a_list:\n",
        "    if i > ans:\n",
        "      ans = i\n",
        "  return ans"
      ],
      "execution_count": 28,
      "outputs": []
    },
    {
      "cell_type": "code",
      "source": [
        "a_list = [100, 1e4, 55, -100, 1e10]\n",
        "find_max(a_list)"
      ],
      "metadata": {
        "colab": {
          "base_uri": "https://localhost:8080/"
        },
        "id": "ReGNkcOh-l_7",
        "outputId": "628d1719-ffdc-4c53-9dad-6cf8819cfd1b"
      },
      "execution_count": 29,
      "outputs": [
        {
          "output_type": "execute_result",
          "data": {
            "text/plain": [
              "10000000000.0"
            ]
          },
          "metadata": {},
          "execution_count": 29
        }
      ]
    },
    {
      "cell_type": "markdown",
      "metadata": {
        "id": "-SiUKsyFmEwP"
      },
      "source": [
        "### 3.1.3 Parameter types\n",
        "\n",
        "We will now discuss the different parameter types.\n",
        "\n",
        "**Function calling:**\n",
        "\n",
        "In function _calling_ we have positional and keyword parameters\n",
        "\n",
        "* positional \n",
        "    * `func(10, 20)`\n",
        "* keyword\n",
        "    * `func(a=10, b=20)` or `func(b=20, a=10)`\n",
        "\n",
        "**Function writing:**\n",
        "\n",
        "In funciton _writing_ we can specify default values for parameters\n",
        "\n",
        "* default\n",
        "    * `def func(a=10, b=20)`\n",
        "\n"
      ]
    },
    {
      "cell_type": "markdown",
      "metadata": {
        "id": "I84rZUFEmEwQ"
      },
      "source": [
        "```\n",
        "def print_name(first, last='Beckner'):\n",
        "    print(f'Your name is {first} {last}')\n",
        "    return\n",
        "```"
      ]
    },
    {
      "cell_type": "code",
      "metadata": {
        "id": "JQgD2bXzmEwQ"
      },
      "source": [
        "def print_name(first, last='Beckner'):\n",
        "    print(\"Your name is {} {}\".format(first, last))\n",
        "    return"
      ],
      "execution_count": 38,
      "outputs": []
    },
    {
      "cell_type": "code",
      "metadata": {
        "colab": {
          "base_uri": "https://localhost:8080/"
        },
        "id": "9AGBvcqY8rak",
        "outputId": "b53476aa-70e8-405a-acf0-c939811463f4"
      },
      "source": [
        "print_name('Beckner', 'Wesley')"
      ],
      "execution_count": 40,
      "outputs": [
        {
          "output_type": "stream",
          "name": "stdout",
          "text": [
            "Your name is Beckner Wesley\n"
          ]
        }
      ]
    },
    {
      "cell_type": "markdown",
      "metadata": {
        "id": "Q9XRruofmEwQ"
      },
      "source": [
        "Play around with the above function."
      ]
    },
    {
      "cell_type": "code",
      "metadata": {
        "id": "9SHINcbdmEwR",
        "colab": {
          "base_uri": "https://localhost:8080/"
        },
        "outputId": "87764ad0-d058-4e4a-f6a7-78c8eec4ff4f"
      },
      "source": [
        "print_name('Wesley', last='the Python Foundations Instructor')"
      ],
      "execution_count": null,
      "outputs": [
        {
          "output_type": "stream",
          "name": "stdout",
          "text": [
            "Your name is Wesley the Python Foundations Instructor\n"
          ]
        }
      ]
    },
    {
      "cell_type": "markdown",
      "metadata": {
        "id": "rOjgpTm_mEwS"
      },
      "source": [
        "Functions can contain any code that you put anywhere else including:\n",
        "* `if`...`elif`...`else`\n",
        "* `for`...`while`\n",
        "* other function calls"
      ]
    },
    {
      "cell_type": "markdown",
      "metadata": {
        "id": "f46sVhpqmEwS"
      },
      "source": [
        "```\n",
        "def print_name_age(first, last, age):\n",
        "    print_name(first, last)\n",
        "    print('Your age is %d' % (age))\n",
        "    if age > 25 and age < 40:\n",
        "        print('You are a millenial!')\n",
        "    return\n",
        "```\n"
      ]
    },
    {
      "cell_type": "code",
      "metadata": {
        "id": "OzmMcHH6mEwT"
      },
      "source": [
        "def print_name_age(first, last, age):\n",
        "    print_name(first, last)\n",
        "    print('Your age is %d' % (age))\n",
        "    if age > 25 and age < 40:\n",
        "        print('You are a millenial!')\n",
        "    return"
      ],
      "execution_count": 41,
      "outputs": []
    },
    {
      "cell_type": "markdown",
      "metadata": {
        "id": "dLmPKzcUmEwT"
      },
      "source": [
        "```\n",
        "print_name_age(age=29, last='Beckner', first='Wesley')\n",
        "```"
      ]
    },
    {
      "cell_type": "code",
      "metadata": {
        "id": "vnE1REormEwT",
        "colab": {
          "base_uri": "https://localhost:8080/"
        },
        "outputId": "ef669457-3a98-4319-a879-fd5f8704a3b9"
      },
      "source": [
        "print_name_age(age=29, last='Beckner', first='Wesley')"
      ],
      "execution_count": 42,
      "outputs": [
        {
          "output_type": "stream",
          "name": "stdout",
          "text": [
            "Your name is Wesley Beckner\n",
            "Your age is 29\n",
            "You are a millenial!\n"
          ]
        }
      ]
    },
    {
      "cell_type": "code",
      "source": [
        "def thing():\n",
        "  for i in range(10):\n",
        "    pass\n",
        "  return"
      ],
      "metadata": {
        "id": "992MVzRzB_LP"
      },
      "execution_count": null,
      "outputs": []
    },
    {
      "cell_type": "markdown",
      "metadata": {
        "id": "G09LKuSUmEwT"
      },
      "source": [
        "## 3.2 The scientific python stack\n",
        "\n",
        "In addition to Python's built-in modules like the ``math`` module we explored previously, there are also many often-used third-party modules that are core tools for doing data science with Python.\n",
        "Some of the most important ones are:\n",
        "\n",
        "#### [``numpy``](http://numpy.org/): Numerical Python\n",
        "\n",
        "Numpy is short for \"Numerical Python\", and contains tools for efficient manipulation of arrays of data.\n",
        "If you have used other computational tools like IDL or MatLab, Numpy should feel very familiar.\n",
        "\n",
        "#### [``scipy``](http://scipy.org/): Scientific Python\n",
        "\n",
        "Scipy is short for \"Scientific Python\", and contains a wide range of functionality for accomplishing common scientific tasks, such as optimization/minimization, numerical integration, interpolation, and much more.\n",
        "We will not look closely at Scipy today, but we will use its functionality later in the course.\n",
        "\n",
        "#### [``pandas``](http://pandas.pydata.org/): Labeled Data Manipulation in Python\n",
        "\n",
        "Pandas is short for \"Panel Data\", and contains tools for doing more advanced manipulation of labeled data in Python, in particular with a columnar data structure called a *Data Frame*.\n",
        "If you've used the [R](http://rstats.org) statistical language (and in particular the so-called \"Hadley Stack\"), much of the functionality in Pandas should feel very familiar.\n",
        "\n",
        "#### [``matplotlib``](http://matplotlib.org): Visualization in Python\n",
        "\n",
        "Matplotlib started out as a Matlab plotting clone in Python, and has grown from there in the 15 years since its creation. It is the most popular data visualization tool currently in the Python data world (though other recent packages are starting to encroach on its monopoly).\n",
        "\n",
        "#### [``scikit-learn``](https://scikit-learn.org/stable/): Machine Learning in Python\n",
        "\n",
        "Scikit-learn is a machine learning library.\n",
        "\n",
        "It features various classification, regression, and clustering algorithms, including support vector machines, random forests, gradient boosting, k-means, and DBSCAN.\n",
        "\n",
        "The library is designed to interoperate with the Python numerical and scientific libraries NumPy and SciPy."
      ]
    },
    {
      "cell_type": "markdown",
      "metadata": {
        "id": "EahIZRJs7U0b"
      },
      "source": [
        "## 3.3 Debugging \n",
        "\n",
        "On to Debugging!\n",
        "\n",
        "> It’s always important to check that our code is “plugged in”, i.e., that we’re actually exercising the problem that we think we are. Every programmer has spent hours chasing a bug, only to realize that they were actually calling their code on the wrong dataset or with the wrong configuration parameters, or are using the wrong version of the software entirely. Mistakes like these are particularly likely to happen when we’re tired, frustrated, and up against a deadline, which is one of the reasons late-night (or overnight) coding sessions are almost never worthwhile. -[swcarpentry](https://swcarpentry.github.io/python-novice-inflammation/11-debugging/index.html)\n",
        "\n",
        "We'll now dedicate some discussion and practice to debugging in python. This easy to overlook topic can save us oodles of time down the road. It's worth the investment.\n",
        "\n",
        "Borrowing from software carpentry, we'll highlight the key guidlines to debugging code:\n",
        "\n",
        "1. Know what it's supposed to do\n",
        "2. Make it fail every time\n",
        "3. Make it fail fast\n",
        "4. Change one thing at a time, for a reason\n",
        "5. Keep track of what you've done\n",
        "6. Be humble"
      ]
    },
    {
      "cell_type": "markdown",
      "metadata": {
        "id": "2ll7JuBguC3L"
      },
      "source": [
        "### 3.3.0 Before We Get Started\n",
        "\n",
        "We will refer to writing tests, and specifically writing _unit tests_ in this module. Don't worry too much about the specifics of _unit tests_ for now. We will have a dedicated module for that. What we do need to talk about is a specific built in function in python called the `assert` function"
      ]
    },
    {
      "cell_type": "markdown",
      "metadata": {
        "id": "WeELH5izfpcW"
      },
      "source": [
        "#### 3.3.0.1 the `assert` function\n",
        "\n",
        "Let's take a simple example of the assert function. If I wanted to test that the sum of two numbers is correct I would write:"
      ]
    },
    {
      "cell_type": "code",
      "metadata": {
        "id": "dHJEOhTheT5I"
      },
      "source": [
        "assert sum([2, 5]) == 7, \"should be 7\""
      ],
      "execution_count": 45,
      "outputs": []
    },
    {
      "cell_type": "markdown",
      "metadata": {
        "id": "vapg_Y96jePB"
      },
      "source": [
        "Nothing is sent to the print out because the condition is satisfied. If we run, however:\n",
        "\n",
        "```\n",
        "assert sum([2, 4]) == 7, \"should be 7\"\n",
        "```\n",
        "\n",
        "we get an error message:\n",
        "\n",
        "```\n",
        "---------------------------------------------------------------------------\n",
        "AssertionError                            Traceback (most recent call last)\n",
        "<ipython-input-3-d5724b127818> in <module>()\n",
        "----> 1 assert sum([2, 4]) == 7, \"should be 7\"\n",
        "\n",
        "AssertionError: should be 7\n",
        "```\n"
      ]
    },
    {
      "cell_type": "markdown",
      "metadata": {
        "id": "_myc2iDDjqmk"
      },
      "source": [
        "Now to make this a test, you will want to wrap it in a function"
      ]
    },
    {
      "cell_type": "code",
      "metadata": {
        "colab": {
          "base_uri": "https://localhost:8080/"
        },
        "id": "mxdkoYntjt1E",
        "outputId": "50117001-9eb9-4e3b-f5f0-0c1bc2d5a329"
      },
      "source": [
        "def test_sum():\n",
        "    assert sum([1, 2, 3]) == 6, \"Should be 6\"\n",
        "\n",
        "test_sum()\n",
        "print(\"Everything passed\")"
      ],
      "execution_count": 48,
      "outputs": [
        {
          "output_type": "stream",
          "name": "stdout",
          "text": [
            "Everything passed\n"
          ]
        }
      ]
    },
    {
      "cell_type": "markdown",
      "metadata": {
        "id": "QP4xzyYGLJRG"
      },
      "source": [
        "And if we include a test that does not pass:\n",
        "\n",
        "```\n",
        "def test_sum():\n",
        "  assert sum([3, 3]) == 6, \"Should be 6\"\n",
        "\n",
        "def test_my_broken_func():\n",
        "  assert sum([1, 2]) == 5, \"Should be 5\"\n",
        "\n",
        "test_sum()\n",
        "test_my_broken_func()\n",
        "print(\"Everything passed\")\n",
        "```\n",
        "\n"
      ]
    },
    {
      "cell_type": "markdown",
      "metadata": {
        "id": "QDrcx65ymKd4"
      },
      "source": [
        "Here our test fails, because the sum of 1 and 2 is 3 and not 5. We get a traceback that tells us the source of the error:\n",
        "\n",
        "```\n",
        "---------------------------------------------------------------------------\n",
        "AssertionError                            Traceback (most recent call last)\n",
        "<ipython-input-13-8a552fbf52bd> in <module>()\n",
        "      6 \n",
        "      7 test_sum()\n",
        "----> 8 test_my_broken_func()\n",
        "      9 print(\"Everything passed\")\n",
        "\n",
        "<ipython-input-13-8a552fbf52bd> in test_my_broken_func()\n",
        "      3 \n",
        "      4 def test_my_broken_func():\n",
        "----> 5   assert sum([1, 2]) == 5, \"Should be 5\"\n",
        "      6 \n",
        "      7 test_sum()\n",
        "\n",
        "AssertionError: Should be 5\n",
        "```\n",
        "\n"
      ]
    },
    {
      "cell_type": "markdown",
      "metadata": {
        "id": "0VVDeKVxuvmW"
      },
      "source": [
        "We will worry about the intricacies of what to test and when to test it at a later time. For now, we just need to understand the assert function so we can practice debugging and writing short tests for the problems that we fix today! Ok LETS GO"
      ]
    },
    {
      "cell_type": "markdown",
      "metadata": {
        "id": "9TaAWO0q7YGx"
      },
      "source": [
        "### 3.3.1 Know what it's supposed to do\n",
        "\n",
        "This may seem obvious, but it's easy to recognize that an error is happening without knowing what the correct answer is. This makes unit tests especially handy, they force us to know the expected outcome at least for intended use cases. Here are some tips in regard to knowing the expected outcome:\n",
        "\n",
        "* _test with simplified data_ \n",
        "* _test a simplified case_\n",
        "* _compare to a base model_\n",
        "* _visualize_"
      ]
    },
    {
      "cell_type": "markdown",
      "metadata": {
        "id": "7Tzvjc2SBjO4"
      },
      "source": [
        "### 3.3.2 Make it fail every time\n",
        "\n",
        "It can be extraordinarily difficult to debug code that is precidated on some stochastic process. _remove stochasticity when possible_. For instance, seed your random value generators (`random.seed()`, `np.random.seed()`)"
      ]
    },
    {
      "cell_type": "markdown",
      "metadata": {
        "id": "V5DSiFh3DUhM"
      },
      "source": [
        "### 3.3.3 Make it fail fast\n",
        "\n",
        "a corrolary to this, is narrow down the source of the error, and again this is why we write unit tests before integration tests. If it takes 20 minutes to train your neural network, and the error occurs during some post processing plotting of your loss history, obviously don't retrain the NN each time you iterate over the failure. Along the same lines, if you're debugging something in a for loop, run the loop once, or run the indented code outside of the loop with a placeholder for the iterated variable, in order to test and debug the code. "
      ]
    },
    {
      "cell_type": "markdown",
      "metadata": {
        "id": "VOBMdatcEWmY"
      },
      "source": [
        "### 3.3.4 Change one thing at a time, for a reason\n",
        "\n",
        "Not much nuance here. Just like it's a good idea for us to change one aspect of our machine learning models and track the performance rather than to change multiple things at once, it's better to change one feature when debugging at a time. Changing multiple things at once creates interaction effects that can complicate the whole problem!"
      ]
    },
    {
      "cell_type": "markdown",
      "metadata": {
        "id": "kGaZz-Q1E7wd"
      },
      "source": [
        "### 3.3.5 Keep track of what you've done\n",
        "\n",
        "This is where git/GitHub come in handy. It's so incredibly easy to forget what you've done, and, a weeks or days later from the time you first encountered the bug, forget whether you fixed it, did a temp fix, and/or what you did to fix it.\n",
        "\n",
        "> my tip: if you're working in a jupyter notebook, something I do is write at the top of my notebook my TO DO items. I then strike through items I complete, and update my notes for the next time I work on the code. Similarly, I name my notebooks to reflect and categorize what they are about. Primarily I have `test_<thing>.ipynb` and `prototype_<thingy>.ipynb`\n",
        "\n"
      ]
    },
    {
      "cell_type": "markdown",
      "metadata": {
        "id": "RoqZxOvZHf-c"
      },
      "source": [
        "### 3.3.6 Be humble\n",
        "\n",
        "Lastly, ask for help. Take breaks. _A week of hard work can sometimes save you an hour of thought._"
      ]
    },
    {
      "cell_type": "markdown",
      "metadata": {
        "id": "DxOdEEh_dsMO"
      },
      "source": [
        "#### 🏋️ Exercise 2: Debug A Short Code Block\n",
        "\n",
        "Your friend is writing a function to calculate BMI. They are concerned that seemingly all the patient's values have the same BMI, despite having different heights and weights. Determine the bugs in the code then write a unit test for the function `calculate_bmi`."
      ]
    },
    {
      "cell_type": "code",
      "metadata": {
        "id": "XOAtSb0pLSBN",
        "colab": {
          "base_uri": "https://localhost:8080/"
        },
        "outputId": "df6a066b-7332-4817-813b-34c1085c7678"
      },
      "source": [
        "# [weight (kg), height (m)]\n",
        "patients = [[70, 1.8], [80, 1.9], [150, 1.7]] \n",
        "\n",
        "def calculate_bmi(weight, height):\n",
        "    # kg / m ** 2 = bmi\n",
        "    return weight / (height ** 2)\n",
        "\n",
        "for patient in patients:\n",
        "    weight, height = patient\n",
        "    bmi = calculate_bmi(weight, height) \n",
        "    print(\"Patient's BMI is: %f\" % bmi)"
      ],
      "execution_count": 67,
      "outputs": [
        {
          "output_type": "stream",
          "name": "stdout",
          "text": [
            "Patient's BMI is: 21.604938\n",
            "Patient's BMI is: 22.160665\n",
            "Patient's BMI is: 51.903114\n"
          ]
        }
      ]
    },
    {
      "cell_type": "code",
      "source": [
        "calculate_bmi(patients[2][0], patients[2][1])"
      ],
      "metadata": {
        "colab": {
          "base_uri": "https://localhost:8080/"
        },
        "id": "3V6ZgsbDOkje",
        "outputId": "cead3c67-bb1a-4664-989c-79655f617f2d"
      },
      "execution_count": 66,
      "outputs": [
        {
          "output_type": "execute_result",
          "data": {
            "text/plain": [
              "51.90311418685122"
            ]
          },
          "metadata": {},
          "execution_count": 66
        }
      ]
    },
    {
      "cell_type": "code",
      "source": [
        "for patient in patients:\n",
        "  print(patient)"
      ],
      "metadata": {
        "colab": {
          "base_uri": "https://localhost:8080/"
        },
        "id": "wh5koyWTOYAr",
        "outputId": "6c5c0016-71a3-4e1d-99f5-c7647c3e118b"
      },
      "execution_count": 62,
      "outputs": [
        {
          "output_type": "stream",
          "name": "stdout",
          "text": [
            "[70, 1.8]\n",
            "[80, 1.9]\n",
            "[150, 1.7]\n"
          ]
        }
      ]
    },
    {
      "cell_type": "code",
      "source": [
        "# [weight (kg), height (m)]\n",
        "patients = [[70, 1.8], [80, 1.9], [150, 1.7]] \n",
        "\n",
        "def calculate_bmi(weight, height):\n",
        "    # kg / m ** 2 = bmi\n",
        "    return weight / (height ** 2)\n",
        "\n",
        "for patient in patients:\n",
        "    weight, height = patient\n",
        "    bmi = calculate_bmi(weight, height) \n",
        "    print(\"Patient's BMI is: %f\" % bmi)"
      ],
      "metadata": {
        "colab": {
          "base_uri": "https://localhost:8080/"
        },
        "id": "7ZYSLdAhLcnJ",
        "outputId": "82c31b29-b2d2-48b8-a365-8413bbc2b3e2"
      },
      "execution_count": 49,
      "outputs": [
        {
          "output_type": "stream",
          "name": "stdout",
          "text": [
            "Patient's BMI is: 21.604938\n",
            "Patient's BMI is: 22.160665\n",
            "Patient's BMI is: 51.903114\n"
          ]
        }
      ]
    },
    {
      "cell_type": "code",
      "metadata": {
        "colab": {
          "base_uri": "https://localhost:8080/"
        },
        "id": "4y4IUzFsQ9pT",
        "outputId": "754f9bcb-b5af-438b-ca75-767861bcc45d"
      },
      "source": [
        "def test_calculate_bmi():\n",
        "  patients = [[70, 1.8], [80, 1.9], [150, 1.7]] \n",
        "  bmis = [21.6, 22.16, 51.9]\n",
        "\n",
        "  for i in range(3):\n",
        "    assert (((calculate_bmi(patients[i][0], patients[i][1]) - bmis[i]) < 0.01) and\n",
        "            (calculate_bmi(patients[i][0], patients[i][1]) - bmis[i]) > -0.01), \"values not consistent\"\n",
        "    \n",
        "test_calculate_bmi()\n",
        "print(\"success!\")"
      ],
      "execution_count": 71,
      "outputs": [
        {
          "output_type": "stream",
          "name": "stdout",
          "text": [
            "success!\n"
          ]
        }
      ]
    },
    {
      "cell_type": "code",
      "source": [
        "abs(-10)"
      ],
      "metadata": {
        "colab": {
          "base_uri": "https://localhost:8080/"
        },
        "id": "bq1oPx9bNwvn",
        "outputId": "176a2195-79da-4076-f307-c9e3804af24e"
      },
      "execution_count": 68,
      "outputs": [
        {
          "output_type": "execute_result",
          "data": {
            "text/plain": [
              "10"
            ]
          },
          "metadata": {},
          "execution_count": 68
        }
      ]
    }
  ]
}