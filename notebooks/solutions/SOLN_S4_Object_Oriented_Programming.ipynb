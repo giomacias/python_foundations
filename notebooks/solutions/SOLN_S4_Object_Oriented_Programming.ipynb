{
  "nbformat": 4,
  "nbformat_minor": 0,
  "metadata": {
    "colab": {
      "name": "SOLN_S4_Object_Oriented_Programming.ipynb",
      "provenance": [],
      "collapsed_sections": [],
      "include_colab_link": true
    },
    "kernelspec": {
      "name": "python3",
      "display_name": "Python 3"
    },
    "language_info": {
      "name": "python"
    }
  },
  "cells": [
    {
      "cell_type": "markdown",
      "metadata": {
        "id": "view-in-github",
        "colab_type": "text"
      },
      "source": [
        "<a href=\"https://colab.research.google.com/github/wesleybeckner/python_foundations/blob/main/notebooks/solutions/SOLN_S4_Object_Oriented_Programming.ipynb\" target=\"_parent\"><img src=\"https://colab.research.google.com/assets/colab-badge.svg\" alt=\"Open In Colab\"/></a>"
      ]
    },
    {
      "cell_type": "markdown",
      "metadata": {
        "id": "E5cwBluhFWw4"
      },
      "source": [
        "# Python Foundations, Session 4: Object Oriented Programming\n",
        "**Instructor**: Wesley Beckner\n",
        "\n",
        "**Contact**: wesleybeckner@gmail.com\n",
        "<br>\n",
        "\n",
        "---\n",
        "\n",
        "<br>\n",
        "\n",
        "Today we'll be discussing a very important concept through all of programming: how to be object-oriented.\n",
        "\n",
        "<br>\n",
        "\n",
        "---\n"
      ]
    },
    {
      "cell_type": "markdown",
      "metadata": {
        "id": "1_SHD8I8-ir2"
      },
      "source": [
        "## 4.1: Object Oriented Programming"
      ]
    },
    {
      "cell_type": "markdown",
      "metadata": {
        "id": "lGbWAzdgx0bj"
      },
      "source": [
        "### 4.1.1 Classes, Instances, Methods, and Attribtues\n",
        "\n",
        "A class is created with the reserved word `class`\n",
        "\n",
        "A class can have attributes. You can think of these as charateristics that describe the object."
      ]
    },
    {
      "cell_type": "code",
      "source": [
        "class MyClass:\n",
        "  pass"
      ],
      "metadata": {
        "id": "Du-wwfPCEcHc"
      },
      "execution_count": 1,
      "outputs": []
    },
    {
      "cell_type": "code",
      "metadata": {
        "id": "4diol9OSxrXY"
      },
      "source": [
        "# define a class\n",
        "class MyClass:\n",
        "  some_attribute = 5"
      ],
      "execution_count": 2,
      "outputs": []
    },
    {
      "cell_type": "markdown",
      "metadata": {
        "id": "eyAe363HyC5j"
      },
      "source": [
        "Defining a class in the above way, creates a **_blueprint_**. We use the **_class blueprint_** _MyClass_ to create an **_instance_**. And after we do so, we can now access attributes belonging to that class:"
      ]
    },
    {
      "cell_type": "code",
      "source": [
        "myname = MyClass()"
      ],
      "metadata": {
        "id": "mqD6uRcpEqtS"
      },
      "execution_count": 4,
      "outputs": []
    },
    {
      "cell_type": "code",
      "source": [
        "myname.some_attribute"
      ],
      "metadata": {
        "colab": {
          "base_uri": "https://localhost:8080/"
        },
        "id": "GKaHBAGtEuxJ",
        "outputId": "9ec731a0-d9f3-4a31-ce43-9691ed808863"
      },
      "execution_count": 6,
      "outputs": [
        {
          "output_type": "execute_result",
          "data": {
            "text/plain": [
              "5"
            ]
          },
          "metadata": {},
          "execution_count": 6
        }
      ]
    },
    {
      "cell_type": "code",
      "metadata": {
        "colab": {
          "base_uri": "https://localhost:8080/"
        },
        "id": "HYjA4eZ0xvCK",
        "outputId": "a7241a8c-53b0-4857-c8d9-51e7ba0cc0d1"
      },
      "source": [
        "# create instance\n",
        "instance = MyClass()\n",
        "\n",
        "# access attributes of the instance of MyClass\n",
        "instance.some_attribute"
      ],
      "execution_count": 7,
      "outputs": [
        {
          "output_type": "execute_result",
          "data": {
            "text/plain": [
              "5"
            ]
          },
          "metadata": {},
          "execution_count": 7
        }
      ]
    },
    {
      "cell_type": "markdown",
      "metadata": {
        "id": "LzrLCHlLyvI5"
      },
      "source": [
        "attributes can be changed:"
      ]
    },
    {
      "cell_type": "code",
      "metadata": {
        "colab": {
          "base_uri": "https://localhost:8080/"
        },
        "id": "VGO4FvfNyqIO",
        "outputId": "04d7be22-b5db-4d2a-97e6-502bad227fae"
      },
      "source": [
        "instance.some_attribute = 50\n",
        "instance.some_attribute"
      ],
      "execution_count": 8,
      "outputs": [
        {
          "output_type": "execute_result",
          "data": {
            "text/plain": [
              "50"
            ]
          },
          "metadata": {},
          "execution_count": 8
        }
      ]
    },
    {
      "cell_type": "code",
      "source": [
        "instance.some_attribute = 'new datatype'\n",
        "instance.some_attribute"
      ],
      "metadata": {
        "colab": {
          "base_uri": "https://localhost:8080/",
          "height": 35
        },
        "id": "b2w8vZTWE6Wy",
        "outputId": "1342c503-a5e2-474a-a938-169147eeab21"
      },
      "execution_count": 9,
      "outputs": [
        {
          "output_type": "execute_result",
          "data": {
            "application/vnd.google.colaboratory.intrinsic+json": {
              "type": "string"
            },
            "text/plain": [
              "'new datatype'"
            ]
          },
          "metadata": {},
          "execution_count": 9
        }
      ]
    },
    {
      "cell_type": "markdown",
      "source": [
        "In practice we always use the `__init__()` function, which is executed when the class is being initiated. This is the pythonic way to be _explicit_ about initializing the attributes of our class\n",
        "\n",
        "> Upon investigation, you will find that the trouble with _not_ using the `__init__()` method is that your attributes are not guaranteed to be initialized upon creation of the object from the class blueprint"
      ],
      "metadata": {
        "id": "eyil-yV71FF8"
      }
    },
    {
      "cell_type": "code",
      "source": [
        "# define a class\n",
        "class MyClass:\n",
        "  # we define our __init__ method that is called when the object is initialized\n",
        "  def __init__(self): # we pass in the reserved word self\n",
        "    # we reference the current object of the class via the self parameter\n",
        "    # and set its attributes \n",
        "    self.some_attribute = 5"
      ],
      "metadata": {
        "id": "GfWsMxK01FZ9"
      },
      "execution_count": null,
      "outputs": []
    },
    {
      "cell_type": "code",
      "source": [
        "class MyClass:\n",
        "  def __init__(self):\n",
        "    self.some_attribute = 5"
      ],
      "metadata": {
        "id": "LDGQBxyqFaRq"
      },
      "execution_count": 10,
      "outputs": []
    },
    {
      "cell_type": "code",
      "source": [
        "MyClass()"
      ],
      "metadata": {
        "colab": {
          "base_uri": "https://localhost:8080/"
        },
        "id": "gJAq2u1xFzgg",
        "outputId": "5e298939-8d80-4f4b-e80b-2b82788e2364"
      },
      "execution_count": 14,
      "outputs": [
        {
          "output_type": "execute_result",
          "data": {
            "text/plain": [
              "<__main__.MyClass at 0x7fbf14f80e10>"
            ]
          },
          "metadata": {},
          "execution_count": 14
        }
      ]
    },
    {
      "cell_type": "code",
      "source": [
        "instance = MyClass()\n",
        "instance.some_attribute"
      ],
      "metadata": {
        "colab": {
          "base_uri": "https://localhost:8080/"
        },
        "id": "N46sgq9LFkqy",
        "outputId": "0cb08b3f-f2bb-4f46-be8b-9aa0d768cd07"
      },
      "execution_count": 11,
      "outputs": [
        {
          "output_type": "execute_result",
          "data": {
            "text/plain": [
              "5"
            ]
          },
          "metadata": {},
          "execution_count": 11
        }
      ]
    },
    {
      "cell_type": "markdown",
      "source": [
        "When we use `__init__`, we also have to make use of a special reserved word in python: `self`. The `self` parameter refers to the _current_ instance of the class. In other words, when the object is declared, it will refer to that specific object in memory and not _all_ instances of the class in question. This is yet another pythonic way of being explicit.\n",
        "\n",
        "> what is the special keyword [`self`](http://neopythonic.blogspot.com/2008/10/why-explicit-self-has-to-stay.html) doing, do we really need it? Read more about the philosophy of _the self_ by visiting the link!"
      ],
      "metadata": {
        "id": "OtJHvQi61Ry2"
      }
    },
    {
      "cell_type": "markdown",
      "metadata": {
        "id": "kRwuV7gay0hX"
      },
      "source": [
        "Let's practice class declaration now, in the context of Pokeballs\n",
        "\n",
        "<br>\n",
        "\n",
        "<p align=center>\n",
        "<img src=\"https://cdn2.bulbagarden.net/upload/thumb/2/23/Pok%C3%A9_Balls_GL.png/250px-Pok%C3%A9_Balls_GL.png\"></img>\n",
        "</p>"
      ]
    },
    {
      "cell_type": "markdown",
      "source": [
        "We have a lot of different kinds of Poke balls! This is going to help us understand some of the powerful mechanisms inherit in python classes! \n",
        "\n",
        "Let's start by defining a class to describe the simple, standard Poke ball. It will have the following attributes:\n",
        "\n",
        "* `contains` the name of the pokemon contained in the Poke ball. Default value is `None`\n",
        "* `type_name` the type of Poke ball. Default value is `\"Poke ball\"`\n",
        "* `catch_rate` the probability of a successful catch upon throwing the Poke ball. The default value is `0.5` and the user will not be able to set the value of this object.\n",
        "\n",
        "Let's take a look at how we do this:"
      ],
      "metadata": {
        "id": "sr1k1BUg2OGS"
      }
    },
    {
      "cell_type": "code",
      "source": [
        "def Pokeball(contains=None, type_name=\"Poke ball\"):\n",
        "  pass"
      ],
      "metadata": {
        "id": "mvjgFUxJHQjb"
      },
      "execution_count": null,
      "outputs": []
    },
    {
      "cell_type": "code",
      "metadata": {
        "id": "tZWgIm_ky_-l"
      },
      "source": [
        "# define the class in the standard way via the reserved word class\n",
        "class Pokeball:\n",
        "\n",
        "  # define the init method pass in the \"self\" and any attributes that will\n",
        "  # be definable upon initialization of the object\n",
        "  def __init__(self, contains=None, type_name=\"Poke ball\"):\n",
        "\n",
        "    # now set the attributes of the object via the self\n",
        "    self.contains = contains\n",
        "    self.type_name = type_name\n",
        "    self.catch_rate = 0.50 # note this attribute is not accessible upon init"
      ],
      "execution_count": 16,
      "outputs": []
    },
    {
      "cell_type": "code",
      "source": [
        "# empty Poke ball\n",
        "pokeball1 = Pokeball()"
      ],
      "metadata": {
        "id": "g9NEo_xEGrR5"
      },
      "execution_count": 17,
      "outputs": []
    },
    {
      "cell_type": "code",
      "source": [
        "poke = Pokeball(type_name=\"Master ball\")\n",
        "poke.type_name"
      ],
      "metadata": {
        "colab": {
          "base_uri": "https://localhost:8080/",
          "height": 35
        },
        "id": "J0h65pFsG8Au",
        "outputId": "5009cb28-bf08-4e14-f2b5-d45f48109a1e"
      },
      "execution_count": 23,
      "outputs": [
        {
          "output_type": "execute_result",
          "data": {
            "application/vnd.google.colaboratory.intrinsic+json": {
              "type": "string"
            },
            "text/plain": [
              "'Master ball'"
            ]
          },
          "metadata": {},
          "execution_count": 23
        }
      ]
    },
    {
      "cell_type": "code",
      "metadata": {
        "id": "wOyNv0DEzVG8",
        "colab": {
          "base_uri": "https://localhost:8080/",
          "height": 35
        },
        "outputId": "5ee09175-b8d9-458e-90b8-7883f9b19a2e"
      },
      "source": [
        "# used Poke ball of a different type\n",
        "pokeball1 = Pokeball(\"Pikachu\", \"Master ball\")\n",
        "pokeball1.contains"
      ],
      "execution_count": 21,
      "outputs": [
        {
          "output_type": "execute_result",
          "data": {
            "application/vnd.google.colaboratory.intrinsic+json": {
              "type": "string"
            },
            "text/plain": [
              "'Pikachu'"
            ]
          },
          "metadata": {},
          "execution_count": 21
        }
      ]
    },
    {
      "cell_type": "markdown",
      "source": [
        "### 🙋 Question 1\n",
        "\n",
        "Note that, were we to run the following cell, we would get an error. Why would we get an error?"
      ],
      "metadata": {
        "id": "Yx3lj0A98KQ2"
      }
    },
    {
      "cell_type": "code",
      "source": [
        "# Pokeball(\"Charmander\", \"Poke ball\", catch_rate=0.5)"
      ],
      "metadata": {
        "id": "Kf4QZPUT7kst"
      },
      "execution_count": null,
      "outputs": []
    },
    {
      "cell_type": "markdown",
      "metadata": {
        "id": "iSVpDrjQz_gB"
      },
      "source": [
        "classes can also contain methods. I'm going to introduce a new method `catch` that is used to catch new pokemon. It will have a random chance of success and, additionally, it will only work if the Poke ball is empty."
      ]
    },
    {
      "cell_type": "code",
      "source": [
        "import random"
      ],
      "metadata": {
        "id": "DFURbn8FHuJE"
      },
      "execution_count": 25,
      "outputs": []
    },
    {
      "cell_type": "code",
      "source": [
        "random.random()"
      ],
      "metadata": {
        "colab": {
          "base_uri": "https://localhost:8080/"
        },
        "id": "mvu_CxR-Hysy",
        "outputId": "986f00b3-3ceb-415c-b7c7-3785c8e45d80"
      },
      "execution_count": 42,
      "outputs": [
        {
          "output_type": "execute_result",
          "data": {
            "text/plain": [
              "0.9519142498637592"
            ]
          },
          "metadata": {},
          "execution_count": 42
        }
      ]
    },
    {
      "cell_type": "code",
      "metadata": {
        "id": "s58qSx8f0AsF"
      },
      "source": [
        "import random\n",
        "\n",
        "class Pokeball:\n",
        "  def __init__(self, contains=None, type_name=\"Poke ball\"):\n",
        "    self.contains = contains\n",
        "    self.type_name = type_name\n",
        "    self.catch_rate = 0.50 # note this attribute is not accessible upon init\n",
        "\n",
        "  # the method catch, will update self.contains, if a catch is successful\n",
        "  # it will also use self.catch_rate to set the performance of the catch\n",
        "  def catch(self, pokemon):\n",
        "    if self.contains == None:\n",
        "      if random.random() < self.catch_rate:\n",
        "        self.contains = pokemon\n",
        "        print(f\"{pokemon} captured!\")\n",
        "      else:\n",
        "        print(f\"{pokemon} escaped!\")\n",
        "    else:\n",
        "      print(\"Poke ball is not empty!\")\n"
      ],
      "execution_count": 43,
      "outputs": []
    },
    {
      "cell_type": "markdown",
      "source": [
        "We can envoke the `catch` method the same way we would return the attribute of an object - by running `<object>.method()`. Note that, because this is a method, we must use `()`, the same way we use `()` with functions. Inside the `()` we pass any necessary parameters. In this case we will pass the name of the Pokemon we are trying to catch:"
      ],
      "metadata": {
        "id": "RChJMODQANYT"
      }
    },
    {
      "cell_type": "code",
      "metadata": {
        "colab": {
          "base_uri": "https://localhost:8080/"
        },
        "id": "zCDW85Vu16_q",
        "outputId": "abf5d6cd-420d-4a9e-f61f-5366ecbf1242"
      },
      "source": [
        "pokeball = Pokeball()\n",
        "pokeball.catch(\"picachu\")"
      ],
      "execution_count": 59,
      "outputs": [
        {
          "output_type": "stream",
          "name": "stdout",
          "text": [
            "picachu escaped!\n"
          ]
        }
      ]
    },
    {
      "cell_type": "code",
      "metadata": {
        "colab": {
          "base_uri": "https://localhost:8080/"
        },
        "id": "Ri7l-oPmYhtZ",
        "outputId": "e2ad3c02-a54d-4f36-d3d1-4b4907481066"
      },
      "source": [
        "print(pokeball.contains)"
      ],
      "execution_count": 52,
      "outputs": [
        {
          "output_type": "stream",
          "name": "stdout",
          "text": [
            "picachu\n"
          ]
        }
      ]
    },
    {
      "cell_type": "markdown",
      "metadata": {
        "id": "GA0l_pwYn9g1"
      },
      "source": [
        "### 🏋️ Exercise 1\n",
        "\n",
        "Create a release method for the class Pokeball:"
      ]
    },
    {
      "cell_type": "code",
      "metadata": {
        "id": "a7DGaOajxDxA",
        "colab": {
          "base_uri": "https://localhost:8080/"
        },
        "outputId": "d88658bd-b7fc-4e1c-8fb9-b51e12fe16e7"
      },
      "source": [
        "# Cell for Exercise 1\n",
        "import random\n",
        "\n",
        "class Pokeball:\n",
        "  def __init__(self, contains=None, type_name=\"Poke ball\"):\n",
        "    self.contains = contains\n",
        "    self.type_name = type_name\n",
        "    self.catch_rate = 0.50 # note this attribute is not accessible upon init\n",
        "\n",
        "  def catch(self, pokemon):\n",
        "    \"\"\"\n",
        "    Used to catch Pokemon with an empty Poke ball. Has a probabilistic chance of\n",
        "    success.\n",
        "    \"\"\"\n",
        "    if self.contains == None:\n",
        "      if random.random() < self.catch_rate:\n",
        "        self.contains = pokemon\n",
        "        print(f\"{pokemon} captured!\")\n",
        "      else:\n",
        "        print(f\"{pokemon} escaped!\")\n",
        "        pass\n",
        "    else:\n",
        "      print(\"Poke ball is not empty!\")\n",
        "\n",
        "  def release(self):\n",
        "    # update self.contains to be None\n",
        "    # print a message to the user os they know it was successful\n",
        "    # as an afterthought... maybe first check that self.contains != None\n",
        "    # becuase we can't release something that isn't there!\n",
        "    if self.contains != None:\n",
        "      print(f'{self.contains} released!')\n",
        "      self.contains = None\n",
        "    else:\n",
        "      print('Poke ball already empty!')\n",
        "\n",
        "pokeball = Pokeball(contains=\"Charmander\")\n",
        "pokeball.release()"
      ],
      "execution_count": 58,
      "outputs": [
        {
          "output_type": "stream",
          "name": "stdout",
          "text": [
            "Charmander released!\n"
          ]
        }
      ]
    },
    {
      "cell_type": "markdown",
      "source": [
        "### 4.1.2 Inheritance\n",
        "\n",
        "Inheritance allows you to adopt into a child class, the methods and attributes of a parent class. We inherit a parent class by passing it into the child class:"
      ],
      "metadata": {
        "id": "xlroMtwOPg5o"
      }
    },
    {
      "cell_type": "code",
      "metadata": {
        "id": "6q05bsBl5Mqx"
      },
      "source": [
        "# Pokeball is the parent class and Masterball is the child class\n",
        "class Masterball(Pokeball):\n",
        "  pass"
      ],
      "execution_count": 60,
      "outputs": []
    },
    {
      "cell_type": "markdown",
      "source": [
        "Once we declare an object of the child class. We will have access to all of the parent class attributes. In this case, masterball will inherit the type_name of \"Poke ball\" from the Pokeball class:"
      ],
      "metadata": {
        "id": "IKjoLavmLakY"
      }
    },
    {
      "cell_type": "code",
      "metadata": {
        "colab": {
          "base_uri": "https://localhost:8080/",
          "height": 35
        },
        "id": "Q_IonrbT5TE-",
        "outputId": "1a876c35-4c57-4d06-cde3-677a9d753efc"
      },
      "source": [
        "masterball = Masterball()\n",
        "masterball.type_name"
      ],
      "execution_count": 61,
      "outputs": [
        {
          "output_type": "execute_result",
          "data": {
            "application/vnd.google.colaboratory.intrinsic+json": {
              "type": "string"
            },
            "text/plain": [
              "'Poke ball'"
            ]
          },
          "metadata": {},
          "execution_count": 61
        }
      ]
    },
    {
      "cell_type": "markdown",
      "metadata": {
        "id": "f52XzgDq5Z1y"
      },
      "source": [
        "HMMM we don't like that type name because this is not a regular-old Poke ball anymore. It is a Master ball! \n",
        "\n",
        "Let's make sure we change some of the inherited attributes. \n",
        "\n",
        "We'll do this again with the `__init__` function"
      ]
    },
    {
      "cell_type": "code",
      "metadata": {
        "id": "U2MTeZul5WXx"
      },
      "source": [
        "# we still pass Pokeball into Masterball\n",
        "class Masterball(Pokeball):\n",
        "\n",
        "  # now we pass into the init method the class attribute values we actually\n",
        "  # desire, instead of just inheriting them from the parent class\n",
        "  def __init__(self, contains=None, type_name=\"Masterball\", catch_rate=0.8):\n",
        "    self.contains = contains\n",
        "    self.type_name = type_name\n",
        "    self.catch_rate = catch_rate"
      ],
      "execution_count": 62,
      "outputs": []
    },
    {
      "cell_type": "code",
      "metadata": {
        "colab": {
          "base_uri": "https://localhost:8080/",
          "height": 35
        },
        "id": "wM7-5DuE5zh-",
        "outputId": "709add94-7093-47fb-8ad3-5c5d69e77f66"
      },
      "source": [
        "masterball = Masterball()\n",
        "masterball.type_name"
      ],
      "execution_count": 63,
      "outputs": [
        {
          "output_type": "execute_result",
          "data": {
            "application/vnd.google.colaboratory.intrinsic+json": {
              "type": "string"
            },
            "text/plain": [
              "'Masterball'"
            ]
          },
          "metadata": {},
          "execution_count": 63
        }
      ]
    },
    {
      "cell_type": "code",
      "metadata": {
        "colab": {
          "base_uri": "https://localhost:8080/"
        },
        "id": "-z74AAD651zw",
        "outputId": "b9dea3d1-461e-439b-cf50-1fd9697ce4b1"
      },
      "source": [
        "masterball.catch(\"charmander\")"
      ],
      "execution_count": 64,
      "outputs": [
        {
          "output_type": "stream",
          "name": "stdout",
          "text": [
            "charmander captured!\n"
          ]
        }
      ]
    },
    {
      "cell_type": "markdown",
      "metadata": {
        "id": "dF5ZWnZd6QEL"
      },
      "source": [
        "We can also write this, this way:"
      ]
    },
    {
      "cell_type": "code",
      "metadata": {
        "id": "HZo6i-Xi61rt"
      },
      "source": [
        "class Masterball(Pokeball):\n",
        "  def __init__(self, contains=None, type_name=\"Masterball\"):\n",
        "    # instead of rewriting all of the self.<attribute> commands, we can access\n",
        "    # the init method from the parent class (where those commands are already\n",
        "    # declared)\n",
        "    Pokeball.__init__(self, contains, type_name)\n",
        "    self.catch_rate = 0.8"
      ],
      "execution_count": 65,
      "outputs": []
    },
    {
      "cell_type": "code",
      "metadata": {
        "colab": {
          "base_uri": "https://localhost:8080/",
          "height": 35
        },
        "id": "jYpkaGHn6FNN",
        "outputId": "12aba72a-27f1-46a4-b373-1e35a823eba6"
      },
      "source": [
        "masterball = Masterball()\n",
        "masterball.type_name"
      ],
      "execution_count": 66,
      "outputs": [
        {
          "output_type": "execute_result",
          "data": {
            "application/vnd.google.colaboratory.intrinsic+json": {
              "type": "string"
            },
            "text/plain": [
              "'Masterball'"
            ]
          },
          "metadata": {},
          "execution_count": 66
        }
      ]
    },
    {
      "cell_type": "code",
      "metadata": {
        "colab": {
          "base_uri": "https://localhost:8080/"
        },
        "id": "3EuqUiKH7B0A",
        "outputId": "7d54b587-c629-4d27-afc8-e11e9b8c7d1a"
      },
      "source": [
        "masterball = Masterball()\n",
        "masterball.catch(\"charmander\")"
      ],
      "execution_count": 67,
      "outputs": [
        {
          "output_type": "stream",
          "name": "stdout",
          "text": [
            "charmander captured!\n"
          ]
        }
      ]
    },
    {
      "cell_type": "markdown",
      "metadata": {
        "id": "VkTjVYsW7xf1"
      },
      "source": [
        "The keyword `super` will let us write even more succintly:"
      ]
    },
    {
      "cell_type": "code",
      "metadata": {
        "id": "sCfDRHXz7wqL"
      },
      "source": [
        "class Masterball(Pokeball):\n",
        "  def __init__(self, contains=None, type_name=\"Masterball\"):\n",
        "    # super() is taking the namespace of the parent class, note that with this \n",
        "    # mechanism we no longer have to pass in the self attribute \n",
        "    super().__init__(contains, type_name)\n",
        "    self.catch_rate = 0.8"
      ],
      "execution_count": 68,
      "outputs": []
    },
    {
      "cell_type": "code",
      "metadata": {
        "colab": {
          "base_uri": "https://localhost:8080/"
        },
        "id": "1N6xI77874K-",
        "outputId": "a4b3e59f-af52-4b9d-8f17-116c0378da7c"
      },
      "source": [
        "masterball = Masterball()\n",
        "masterball.catch(\"charmander\")"
      ],
      "execution_count": 69,
      "outputs": [
        {
          "output_type": "stream",
          "name": "stdout",
          "text": [
            "charmander captured!\n"
          ]
        }
      ]
    },
    {
      "cell_type": "markdown",
      "metadata": {
        "id": "EaqZLU3z8Dm8"
      },
      "source": [
        "### 🏋️ Exercise 2\n",
        "\n",
        "Write another class object called `GreatBall` that inherits the properties of `Pokeball`, has a `catch_rate` of 0.6, and `type_name` of Greatball"
      ]
    },
    {
      "cell_type": "code",
      "metadata": {
        "id": "MpxF5ep_75Gr"
      },
      "source": [
        "# Cell for Exercise 2\n",
        "class Greatball(Pokeball):\n",
        "  def __init__(self, contains=None, type_name=\"Greatball\"):\n",
        "    super().__init__(contains, type_name)\n",
        "    self.catch_rate = 0.6"
      ],
      "execution_count": 70,
      "outputs": []
    },
    {
      "cell_type": "markdown",
      "source": [
        "### 4.1.3 Interacting Objects\n",
        "\n",
        "As our application becomes more complex, we may have to rethink what methods and attributes are appropriate for our objects to deliver the overall functionality we desire. This is where form and function meet."
      ],
      "metadata": {
        "id": "9Bc6WKcJPu_U"
      }
    },
    {
      "cell_type": "markdown",
      "metadata": {
        "id": "3f85jPuZ80ok"
      },
      "source": [
        "### 🏋️ Exercise 3\n",
        "\n",
        "Write another class object called `Pokemon`. It has the [attributes](https://bulbapedia.bulbagarden.net/wiki/Type):\n",
        "\n",
        "* name\n",
        "* weight\n",
        "* speed\n",
        "* type\n",
        "\n",
        "Now create a class object called `Fastball`, it inherits the properties of `Pokeball` but has a new condition on `catch` method: if pokemon.speed > 100 then there is 100% chance of catch success.\n",
        "\n",
        "> what changes do you have to make to the way we've been interacting with Poke ball to make this new requirement work?"
      ]
    },
    {
      "cell_type": "code",
      "metadata": {
        "id": "l0TF73H1BFy5"
      },
      "source": [
        "# Cell for Exercise 3\n",
        "class Pokemon:\n",
        "  def __init__(self, name=\"Squirtle\", weight=100, speed=60, type_=\"Water\"):\n",
        "    self.name = name\n",
        "    self.weight = weight\n",
        "    self.speed = speed\n",
        "    self.type_ = type_"
      ],
      "execution_count": 71,
      "outputs": []
    },
    {
      "cell_type": "code",
      "source": [
        "squirtle = Pokemon()\n",
        "squirtle.name"
      ],
      "metadata": {
        "colab": {
          "base_uri": "https://localhost:8080/",
          "height": 35
        },
        "id": "l66ZxsCiTKps",
        "outputId": "e3b92e44-9421-42f1-8c08-25c7697c70d3"
      },
      "execution_count": 75,
      "outputs": [
        {
          "output_type": "execute_result",
          "data": {
            "application/vnd.google.colaboratory.intrinsic+json": {
              "type": "string"
            },
            "text/plain": [
              "'Squirtle'"
            ]
          },
          "metadata": {},
          "execution_count": 75
        }
      ]
    },
    {
      "cell_type": "code",
      "source": [
        "class Fastball(Pokeball):\n",
        "  def __init__(self, contains=None, type_name=\"Fast ball\"):\n",
        "    super().__init__(contains, type_name)\n",
        "    self.catch_rate = 0.6\n",
        "\n",
        "  def catch(self, pokemon):\n",
        "    \"\"\"\n",
        "    Used to catch Pokemon with an empty Poke ball. Has a probabilistic chance of\n",
        "    success.\n",
        "    \"\"\"\n",
        "    if self.contains == None:\n",
        "      if pokemon.speed > 100:\n",
        "        self.contains = pokemon\n",
        "        print(f\"{pokemon.name} captured!\")\n",
        "      elif random.random() < self.catch_rate:\n",
        "        self.contains = pokemon\n",
        "        print(f\"{pokemon.name} captured!\")\n",
        "      else:\n",
        "        print(f\"{pokemon.name} escaped!\")\n",
        "        pass\n",
        "    else:\n",
        "      print(\"Poke ball is not empty!\")\n",
        "\n",
        "  def release(self):\n",
        "    \"\"\"\n",
        "    Used to release any captchured Pokemon\n",
        "    \"\"\"\n",
        "    if self.contains != None:\n",
        "      print(f'{self.contains.name} released!')\n",
        "      self.contains = None\n",
        "    else:\n",
        "      print('Poke ball already empty!')"
      ],
      "metadata": {
        "id": "-rrynb1ZTbrV"
      },
      "execution_count": 79,
      "outputs": []
    },
    {
      "cell_type": "code",
      "source": [
        "fastball = Fastball()\n",
        "squirtle = Pokemon(speed=101)\n",
        "fastball.catch(squirtle)"
      ],
      "metadata": {
        "colab": {
          "base_uri": "https://localhost:8080/"
        },
        "id": "U_TmCTydUXKM",
        "outputId": "0b357aa8-1913-4241-8898-2a8b8e83e15b"
      },
      "execution_count": 84,
      "outputs": [
        {
          "output_type": "stream",
          "name": "stdout",
          "text": [
            "Squirtle captured!\n"
          ]
        }
      ]
    },
    {
      "cell_type": "markdown",
      "metadata": {
        "id": "5KvW9o_-AzD4"
      },
      "source": [
        "### 🏋️ Exercise 4\n",
        "\n",
        "In the above task, did you have to write any code to test that your new classes worked?! We will talk about that more at a later time, but for now, wrap any testing that you did into a new function called `test_classes` in the code cell below"
      ]
    },
    {
      "cell_type": "code",
      "metadata": {
        "id": "3uTkx94QBD1e"
      },
      "source": [
        "# Cell for Exercise 4"
      ],
      "execution_count": null,
      "outputs": []
    }
  ]
}