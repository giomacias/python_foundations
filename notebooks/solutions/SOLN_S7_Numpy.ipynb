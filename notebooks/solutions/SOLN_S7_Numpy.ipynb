{
  "nbformat": 4,
  "nbformat_minor": 0,
  "metadata": {
    "colab": {
      "name": "SOLN_S7_Numpy.ipynb",
      "provenance": [],
      "collapsed_sections": [],
      "include_colab_link": true
    },
    "kernelspec": {
      "name": "python3",
      "display_name": "Python 3"
    },
    "language_info": {
      "name": "python"
    }
  },
  "cells": [
    {
      "cell_type": "markdown",
      "metadata": {
        "id": "view-in-github",
        "colab_type": "text"
      },
      "source": [
        "<a href=\"https://colab.research.google.com/github/wesleybeckner/python_foundations/blob/main/notebooks/solutions/SOLN_S7_Numpy.ipynb\" target=\"_parent\"><img src=\"https://colab.research.google.com/assets/colab-badge.svg\" alt=\"Open In Colab\"/></a>"
      ]
    },
    {
      "cell_type": "markdown",
      "metadata": {
        "id": "cPmio-GwmEwG"
      },
      "source": [
        "# Python Foundations, Session 7: NumPy\n",
        "\n",
        "**Instructor**: Wesley Beckner\n",
        "\n",
        "**Contact**: wesleybeckner@gmail.com\n",
        "<br>\n",
        "\n",
        "---\n",
        "\n",
        "<br>\n",
        "\n",
        "Today, we will jump into the **Numpy** package.  \n",
        "\n",
        "\n",
        "#### [``numpy``](http://numpy.org/): Numerical Python\n",
        "\n",
        "Numpy is short for \"Numerical Python\", and contains tools for efficient manipulation of arrays of data.\n",
        "If you have used other computational tools like IDL or MatLab, Numpy should feel very familiar.\n",
        "\n",
        "<br>\n",
        "\n",
        "---"
      ]
    },
    {
      "cell_type": "markdown",
      "metadata": {
        "id": "GqvpwnmXCD6T"
      },
      "source": [
        "## Import Libraries"
      ]
    },
    {
      "cell_type": "code",
      "metadata": {
        "id": "rzlRjMe_CF21"
      },
      "source": [
        "# for numpy section\n",
        "import numpy as np\n",
        "np.random.seed(42)"
      ],
      "execution_count": null,
      "outputs": []
    },
    {
      "cell_type": "code",
      "metadata": {
        "id": "oBpdlPUDHSJV"
      },
      "source": [
        "# for debugging section\n",
        "import random\n",
        "from contextlib import contextmanager\n",
        "import sys, os\n",
        "\n",
        "@contextmanager\n",
        "def suppress_stdout():\n",
        "    with open(os.devnull, \"w\") as devnull:\n",
        "        old_stdout = sys.stdout\n",
        "        sys.stdout = devnull\n",
        "        try:  \n",
        "            yield\n",
        "        finally:\n",
        "            sys.stdout = old_stdout"
      ],
      "execution_count": null,
      "outputs": []
    },
    {
      "cell_type": "markdown",
      "metadata": {
        "id": "ptKR77jZGUVH"
      },
      "source": [
        "## 7.1 NumPy Arrays"
      ]
    },
    {
      "cell_type": "markdown",
      "metadata": {
        "id": "EkLRed_aGW7H"
      },
      "source": [
        "### 7.1.1 Creating NumPy Arrays\n",
        "\n",
        "When we worked with lists, we saw that we could fill them with all sorts of datatypes. NumPy arrays are necessarily of one datatype:"
      ]
    },
    {
      "cell_type": "code",
      "metadata": {
        "colab": {
          "base_uri": "https://localhost:8080/"
        },
        "id": "CeiFAfXSCHNN",
        "outputId": "3daf499f-c13f-48a0-9e6a-59cd2bcbaa97"
      },
      "source": [
        "# these will all be ints\n",
        "np.array([1, 2, 3, 6, 5, 4])"
      ],
      "execution_count": null,
      "outputs": [
        {
          "output_type": "execute_result",
          "data": {
            "text/plain": [
              "array([1, 2, 3, 6, 5, 4])"
            ]
          },
          "metadata": {},
          "execution_count": 8
        }
      ]
    },
    {
      "cell_type": "code",
      "metadata": {
        "colab": {
          "base_uri": "https://localhost:8080/"
        },
        "id": "syVvIeoJGpNl",
        "outputId": "bd1d3c0a-d58f-4625-c58c-f7946646fbb1"
      },
      "source": [
        "# these will all be floats\n",
        "np.array([1, 2, 3.14, 6, 5, 4])"
      ],
      "execution_count": null,
      "outputs": [
        {
          "output_type": "execute_result",
          "data": {
            "text/plain": [
              "array([1.  , 2.  , 3.14, 6.  , 5.  , 4.  ])"
            ]
          },
          "metadata": {},
          "execution_count": 9
        }
      ]
    },
    {
      "cell_type": "markdown",
      "metadata": {
        "id": "5FO_R9goVsEk"
      },
      "source": [
        "We can check the data types in the standard way:"
      ]
    },
    {
      "cell_type": "code",
      "metadata": {
        "colab": {
          "base_uri": "https://localhost:8080/"
        },
        "id": "x61Q1mSEG0JM",
        "outputId": "f4765942-57e5-4ab9-d25b-d53795dedc08"
      },
      "source": [
        "arr = np.array([1, 2, 3, 6, 5, 4])\n",
        "for i in arr:\n",
        "  print(type(i))"
      ],
      "execution_count": null,
      "outputs": [
        {
          "output_type": "stream",
          "name": "stdout",
          "text": [
            "<class 'numpy.int64'>\n",
            "<class 'numpy.int64'>\n",
            "<class 'numpy.int64'>\n",
            "<class 'numpy.int64'>\n",
            "<class 'numpy.int64'>\n",
            "<class 'numpy.int64'>\n"
          ]
        }
      ]
    },
    {
      "cell_type": "markdown",
      "metadata": {
        "id": "opu0vg3yG-Ur"
      },
      "source": [
        "We see that all types are _upcast_ to the most complext object in the array. For instance, because 3.14 is a float, all the other numbers in the array will be a float:"
      ]
    },
    {
      "cell_type": "code",
      "metadata": {
        "colab": {
          "base_uri": "https://localhost:8080/"
        },
        "id": "2MXlbXjLG8XQ",
        "outputId": "b8beb567-9b96-4b3f-f8df-841c8b9c8b13"
      },
      "source": [
        "for i in np.array([1, 2, 3.14, 6, 5, 4]):\n",
        "  print(type(i))"
      ],
      "execution_count": null,
      "outputs": [
        {
          "output_type": "stream",
          "name": "stdout",
          "text": [
            "<class 'numpy.float64'>\n",
            "<class 'numpy.float64'>\n",
            "<class 'numpy.float64'>\n",
            "<class 'numpy.float64'>\n",
            "<class 'numpy.float64'>\n",
            "<class 'numpy.float64'>\n"
          ]
        }
      ]
    },
    {
      "cell_type": "markdown",
      "metadata": {
        "id": "_3MCMKGQHHHO"
      },
      "source": [
        "We can also specify the datatypes in the array:"
      ]
    },
    {
      "cell_type": "code",
      "metadata": {
        "colab": {
          "base_uri": "https://localhost:8080/"
        },
        "id": "E_NuHRSsG9G1",
        "outputId": "ec5f53ba-40a7-4568-a6af-cc52bd407f06"
      },
      "source": [
        "np.array([1, 2, 3.14, 6, 5, 4], dtype='float32')"
      ],
      "execution_count": null,
      "outputs": [
        {
          "output_type": "execute_result",
          "data": {
            "text/plain": [
              "array([1.  , 2.  , 3.14, 6.  , 5.  , 4.  ], dtype=float32)"
            ]
          },
          "metadata": {},
          "execution_count": 12
        }
      ]
    },
    {
      "cell_type": "markdown",
      "metadata": {
        "id": "fnRwR34EW7A6"
      },
      "source": [
        "#### 🏋️ Exercise 1: Specify datatype\n",
        "\n",
        "Create an array of 5 numbers whose datatypes are 16 bit integers. Make one of the numbers not a whole number. What happens to the number when it is stored in the 16 bit integer array?"
      ]
    },
    {
      "cell_type": "code",
      "metadata": {
        "id": "zZ7yy1l2XIyZ",
        "colab": {
          "base_uri": "https://localhost:8080/"
        },
        "outputId": "31444fd8-df86-4fcd-ca0b-ab5ce49748d1"
      },
      "source": [
        "# Cell for Exercise 1\n",
        "arr = np.array([1, 2, 3.14, 6, 5, 4], dtype='int16')\n",
        "[print(type(i)) for i in arr]\n",
        "arr[0] = 2.2\n",
        "[print(type(i)) for i in arr]\n",
        "arr"
      ],
      "execution_count": null,
      "outputs": [
        {
          "output_type": "stream",
          "name": "stdout",
          "text": [
            "<class 'numpy.int16'>\n",
            "<class 'numpy.int16'>\n",
            "<class 'numpy.int16'>\n",
            "<class 'numpy.int16'>\n",
            "<class 'numpy.int16'>\n",
            "<class 'numpy.int16'>\n",
            "<class 'numpy.int16'>\n",
            "<class 'numpy.int16'>\n",
            "<class 'numpy.int16'>\n",
            "<class 'numpy.int16'>\n",
            "<class 'numpy.int16'>\n",
            "<class 'numpy.int16'>\n"
          ]
        },
        {
          "output_type": "execute_result",
          "data": {
            "text/plain": [
              "array([2, 2, 3, 6, 5, 4], dtype=int16)"
            ]
          },
          "metadata": {},
          "execution_count": 16
        }
      ]
    },
    {
      "cell_type": "markdown",
      "metadata": {
        "id": "nVkuow9RHUDt"
      },
      "source": [
        "### 7.1.2 Creating Arrays from NumPy Methods"
      ]
    },
    {
      "cell_type": "code",
      "metadata": {
        "colab": {
          "base_uri": "https://localhost:8080/"
        },
        "id": "jwbS3Zt_HMhC",
        "outputId": "69f1681f-0f77-4ec5-a856-e9f6d241e998"
      },
      "source": [
        "# create an array of 10 zeros\n",
        "# how can we specify the datatype?\n",
        "np.zeros(10)"
      ],
      "execution_count": null,
      "outputs": [
        {
          "output_type": "execute_result",
          "data": {
            "text/plain": [
              "array([0., 0., 0., 0., 0., 0., 0., 0., 0., 0.])"
            ]
          },
          "metadata": {},
          "execution_count": 17
        }
      ]
    },
    {
      "cell_type": "code",
      "metadata": {
        "colab": {
          "base_uri": "https://localhost:8080/"
        },
        "id": "B4o3QwMPHZku",
        "outputId": "286a3d9a-ea17-4e6c-e4dc-c81705c4564c"
      },
      "source": [
        "# create an array of 10 1's\n",
        "np.ones(10)"
      ],
      "execution_count": null,
      "outputs": [
        {
          "output_type": "execute_result",
          "data": {
            "text/plain": [
              "array([1., 1., 1., 1., 1., 1., 1., 1., 1., 1.])"
            ]
          },
          "metadata": {},
          "execution_count": 18
        }
      ]
    },
    {
      "cell_type": "code",
      "metadata": {
        "colab": {
          "base_uri": "https://localhost:8080/"
        },
        "id": "9w9AKvH0HaHc",
        "outputId": "af1bd951-1c13-4325-df92-b768c9a2feea"
      },
      "source": [
        "# fill an array of the following dimensions\n",
        "# with value 42\n",
        "np.full((2,3), 42)"
      ],
      "execution_count": null,
      "outputs": [
        {
          "output_type": "execute_result",
          "data": {
            "text/plain": [
              "array([[42, 42, 42],\n",
              "       [42, 42, 42]])"
            ]
          },
          "metadata": {},
          "execution_count": 19
        }
      ]
    },
    {
      "cell_type": "code",
      "metadata": {
        "colab": {
          "base_uri": "https://localhost:8080/"
        },
        "id": "YsT0g1NWHdI_",
        "outputId": "f84d4745-f7d3-4c24-bb12-1e3222c7b6a3"
      },
      "source": [
        "# arange from start (inc) to stop (exc)\n",
        "# integers with step size\n",
        "np.arange(1, 10, 2)"
      ],
      "execution_count": null,
      "outputs": [
        {
          "output_type": "execute_result",
          "data": {
            "text/plain": [
              "array([1, 3, 5, 7, 9])"
            ]
          },
          "metadata": {},
          "execution_count": 20
        }
      ]
    },
    {
      "cell_type": "code",
      "metadata": {
        "colab": {
          "base_uri": "https://localhost:8080/"
        },
        "id": "LmnCf7T9Hwm-",
        "outputId": "fcab8bca-e327-436a-d8c6-ee01ab6840bf"
      },
      "source": [
        "# create an array of numbers that divides\n",
        "# the space between start and stop (inc, inc)\n",
        "# with X equally spaced intervals\n",
        "np.linspace(0, 10, 5)"
      ],
      "execution_count": null,
      "outputs": [
        {
          "output_type": "execute_result",
          "data": {
            "text/plain": [
              "array([ 0. ,  2.5,  5. ,  7.5, 10. ])"
            ]
          },
          "metadata": {},
          "execution_count": 21
        }
      ]
    },
    {
      "cell_type": "code",
      "metadata": {
        "colab": {
          "base_uri": "https://localhost:8080/"
        },
        "id": "1SYdwv2gHyes",
        "outputId": "ec6eee6b-f1e6-49f0-f6dc-cb9b388685cd"
      },
      "source": [
        "# create an array of values drawn from a \n",
        "# uniform distribution\n",
        "np.random.random(5)"
      ],
      "execution_count": null,
      "outputs": [
        {
          "output_type": "execute_result",
          "data": {
            "text/plain": [
              "array([0.37454012, 0.95071431, 0.73199394, 0.59865848, 0.15601864])"
            ]
          },
          "metadata": {},
          "execution_count": 22
        }
      ]
    },
    {
      "cell_type": "code",
      "metadata": {
        "colab": {
          "base_uri": "https://localhost:8080/"
        },
        "id": "7E8VqyzgH7_X",
        "outputId": "1243f437-7731-41b8-b666-99b2a5d39901"
      },
      "source": [
        "# create an array of values from a normal distribution\n",
        "np.random.normal(loc=0, scale=1, size=(5,5))"
      ],
      "execution_count": null,
      "outputs": [
        {
          "output_type": "execute_result",
          "data": {
            "text/plain": [
              "array([[ 0.27904129,  1.01051528, -0.58087813, -0.52516981, -0.57138017],\n",
              "       [-0.92408284, -2.61254901,  0.95036968,  0.81644508, -1.523876  ],\n",
              "       [-0.42804606, -0.74240684, -0.7033438 , -2.13962066, -0.62947496],\n",
              "       [ 0.59772047,  2.55948803,  0.39423302,  0.12221917, -0.51543566],\n",
              "       [-0.60025385,  0.94743982,  0.291034  , -0.63555974, -1.02155219]])"
            ]
          },
          "metadata": {},
          "execution_count": 23
        }
      ]
    },
    {
      "cell_type": "code",
      "metadata": {
        "colab": {
          "base_uri": "https://localhost:8080/"
        },
        "id": "fvXJYM8LlfCy",
        "outputId": "683bc768-97c7-41ba-8854-00b72018a80c"
      },
      "source": [
        "# create an array of random integers between 5 and 10 with shape 2x2\n",
        "np.random.randint(5, 11, (2,2))"
      ],
      "execution_count": null,
      "outputs": [
        {
          "output_type": "execute_result",
          "data": {
            "text/plain": [
              "array([[ 9,  7],\n",
              "       [10,  5]])"
            ]
          },
          "metadata": {},
          "execution_count": 24
        }
      ]
    },
    {
      "cell_type": "markdown",
      "metadata": {
        "id": "FXMyE-lIJX3K"
      },
      "source": [
        "### 🏋️ Exercise 2: Creating Arrays\n",
        "\n",
        "a. Create a 5x5 array of ones with datatype `int16`"
      ]
    },
    {
      "cell_type": "code",
      "metadata": {
        "id": "VIlOeZKFIIjH",
        "colab": {
          "base_uri": "https://localhost:8080/"
        },
        "outputId": "b86a770f-1aef-427c-f829-a212777026f3"
      },
      "source": [
        "# Cell for Exercise 2a\n",
        "np.ones(shape=(5,5),dtype='int16')"
      ],
      "execution_count": null,
      "outputs": [
        {
          "output_type": "execute_result",
          "data": {
            "text/plain": [
              "array([[1, 1, 1, 1, 1],\n",
              "       [1, 1, 1, 1, 1],\n",
              "       [1, 1, 1, 1, 1],\n",
              "       [1, 1, 1, 1, 1],\n",
              "       [1, 1, 1, 1, 1]], dtype=int16)"
            ]
          },
          "metadata": {},
          "execution_count": 26
        }
      ]
    },
    {
      "cell_type": "markdown",
      "metadata": {
        "id": "bXdATo-xJqhs"
      },
      "source": [
        "b. Create an array of 10 numbers drawn from a uniform distribution between 0 and 1"
      ]
    },
    {
      "cell_type": "code",
      "metadata": {
        "id": "UxKs08AeJvgp",
        "colab": {
          "base_uri": "https://localhost:8080/"
        },
        "outputId": "c3d6c172-30b8-4be3-cdcf-7fb6000fa60e"
      },
      "source": [
        "# Cell for Exercise 2b\n",
        "np.random.random(size=10)"
      ],
      "execution_count": null,
      "outputs": [
        {
          "output_type": "execute_result",
          "data": {
            "text/plain": [
              "array([0.25877998, 0.66252228, 0.31171108, 0.52006802, 0.54671028,\n",
              "       0.18485446, 0.96958463, 0.77513282, 0.93949894, 0.89482735])"
            ]
          },
          "metadata": {},
          "execution_count": 27
        }
      ]
    },
    {
      "cell_type": "markdown",
      "metadata": {
        "id": "jTSLJ8BZJxSD"
      },
      "source": [
        "c. Create an array of 10 numbers drawn from a normal distribution centered at 80 with a standard deviation of 5"
      ]
    },
    {
      "cell_type": "code",
      "metadata": {
        "id": "2ruCGtKWJ1Mv",
        "colab": {
          "base_uri": "https://localhost:8080/"
        },
        "outputId": "f896ec13-713b-4707-dfae-247057ee9aec"
      },
      "source": [
        "# Cell for Exercise 2c\n",
        "np.random.normal(loc=80, scale=5, size=10)"
      ],
      "execution_count": null,
      "outputs": [
        {
          "output_type": "execute_result",
          "data": {
            "text/plain": [
              "array([79.19122307, 83.6923329 , 80.85684141, 79.42175859, 78.49448152,\n",
              "       72.60739005, 76.40077896, 77.69680615, 85.28561113, 81.71809145])"
            ]
          },
          "metadata": {},
          "execution_count": 28
        }
      ]
    },
    {
      "cell_type": "markdown",
      "metadata": {
        "id": "2EopQALYDarH"
      },
      "source": [
        "d. Create an array of 10 intergers drawn from a uniform distribution between 5 and 10 inclusive"
      ]
    },
    {
      "cell_type": "code",
      "metadata": {
        "id": "aX9kKMOoDR4e",
        "colab": {
          "base_uri": "https://localhost:8080/"
        },
        "outputId": "67dcf373-63a8-444e-d6a5-579e75b9c348"
      },
      "source": [
        "# Cell for Exercise 2d\n",
        "np.random.randint(5, 11, size=10)"
      ],
      "execution_count": null,
      "outputs": [
        {
          "output_type": "execute_result",
          "data": {
            "text/plain": [
              "array([ 5,  8,  6,  5, 10,  9,  7,  8, 10,  7])"
            ]
          },
          "metadata": {},
          "execution_count": 31
        }
      ]
    },
    {
      "cell_type": "markdown",
      "metadata": {
        "id": "XB3lGSIZLiLp"
      },
      "source": [
        "## 7.2 NumPy Array Attributes\n",
        "\n",
        "Common array attributes are `shape`, `size`, `nbytes`, and `itemsize`"
      ]
    },
    {
      "cell_type": "code",
      "metadata": {
        "colab": {
          "base_uri": "https://localhost:8080/"
        },
        "id": "QVM8aJzeJ25I",
        "outputId": "50891f50-2971-4037-8ee9-c8bdfdd208af"
      },
      "source": [
        "my_arr = np.random.randint(low=5, high=10, size=(5,5))\n",
        "print(my_arr)"
      ],
      "execution_count": null,
      "outputs": [
        {
          "output_type": "stream",
          "name": "stdout",
          "text": [
            "[[7 5 7 9 7]\n",
            " [5 9 6 7 5]\n",
            " [6 6 8 9 7]\n",
            " [5 8 9 8 9]\n",
            " [9 7 9 8 9]]\n"
          ]
        }
      ]
    },
    {
      "cell_type": "code",
      "metadata": {
        "colab": {
          "base_uri": "https://localhost:8080/"
        },
        "id": "k9OMj2MNMZtB",
        "outputId": "0bad2c5a-e60e-4177-e62b-70d92597e25e"
      },
      "source": [
        "my_arr.shape"
      ],
      "execution_count": null,
      "outputs": [
        {
          "output_type": "execute_result",
          "data": {
            "text/plain": [
              "(5, 5)"
            ]
          },
          "metadata": {},
          "execution_count": 33
        }
      ]
    },
    {
      "cell_type": "code",
      "metadata": {
        "colab": {
          "base_uri": "https://localhost:8080/"
        },
        "id": "8hs18geeMhAa",
        "outputId": "85762c8a-0230-41d3-d525-d16c938561c5"
      },
      "source": [
        "my_arr.dtype"
      ],
      "execution_count": null,
      "outputs": [
        {
          "output_type": "execute_result",
          "data": {
            "text/plain": [
              "dtype('int64')"
            ]
          },
          "metadata": {},
          "execution_count": 34
        }
      ]
    },
    {
      "cell_type": "code",
      "metadata": {
        "colab": {
          "base_uri": "https://localhost:8080/"
        },
        "id": "mAII2rEEMjTc",
        "outputId": "1aa27f8c-f18c-40f8-ae04-904f42739630"
      },
      "source": [
        "my_arr.size"
      ],
      "execution_count": null,
      "outputs": [
        {
          "output_type": "execute_result",
          "data": {
            "text/plain": [
              "25"
            ]
          },
          "metadata": {},
          "execution_count": 35
        }
      ]
    },
    {
      "cell_type": "code",
      "metadata": {
        "colab": {
          "base_uri": "https://localhost:8080/"
        },
        "id": "kqN8SPbLMo0E",
        "outputId": "617d1615-32f7-4b54-edbc-086f1842340a"
      },
      "source": [
        "my_arr.nbytes"
      ],
      "execution_count": null,
      "outputs": [
        {
          "output_type": "execute_result",
          "data": {
            "text/plain": [
              "200"
            ]
          },
          "metadata": {},
          "execution_count": 36
        }
      ]
    },
    {
      "cell_type": "code",
      "metadata": {
        "colab": {
          "base_uri": "https://localhost:8080/"
        },
        "id": "1IQJivfkMrgg",
        "outputId": "19861de1-5b58-485e-81b3-e259d910ee72"
      },
      "source": [
        "my_arr.itemsize"
      ],
      "execution_count": null,
      "outputs": [
        {
          "output_type": "execute_result",
          "data": {
            "text/plain": [
              "8"
            ]
          },
          "metadata": {},
          "execution_count": 37
        }
      ]
    },
    {
      "cell_type": "markdown",
      "metadata": {
        "id": "BacsGUbrMwk2"
      },
      "source": [
        "### 🏋️ Exercise 3: Conditional Check on Array Attributes\n",
        "\n",
        "write a conditional that checks that the total number of bytes of the array object `my_arr` divided by the size of each item (in bytes) is equal to the number of items in the array (_hint: we covered the attributes above_)"
      ]
    },
    {
      "cell_type": "code",
      "metadata": {
        "colab": {
          "base_uri": "https://localhost:8080/"
        },
        "id": "L3zrgf7aMtHw",
        "outputId": "cb973bba-b523-49d1-87bf-d70cee627a31"
      },
      "source": [
        "# Cell for exercise 3\n",
        "my_arr.nbytes / my_arr.itemsize == my_arr.size"
      ],
      "execution_count": null,
      "outputs": [
        {
          "output_type": "execute_result",
          "data": {
            "text/plain": [
              "True"
            ]
          },
          "metadata": {},
          "execution_count": 39
        }
      ]
    },
    {
      "cell_type": "markdown",
      "metadata": {
        "id": "YoiI4E3wL3L6"
      },
      "source": [
        "## 7.3 NumPy Array Slicing, Copying, Setting"
      ]
    },
    {
      "cell_type": "markdown",
      "metadata": {
        "id": "RO2rcfJjNtwS"
      },
      "source": [
        "Array slicing operates much the same way as with python lists"
      ]
    },
    {
      "cell_type": "code",
      "metadata": {
        "colab": {
          "base_uri": "https://localhost:8080/"
        },
        "id": "k2a70tfAL7EX",
        "outputId": "bb20c86a-aa72-4c88-8ec8-ed622ea86486"
      },
      "source": [
        "my_arr"
      ],
      "execution_count": null,
      "outputs": [
        {
          "output_type": "execute_result",
          "data": {
            "text/plain": [
              "array([[7, 5, 7, 9, 7],\n",
              "       [5, 9, 6, 7, 5],\n",
              "       [6, 6, 8, 9, 7],\n",
              "       [5, 8, 9, 8, 9],\n",
              "       [9, 7, 9, 8, 9]])"
            ]
          },
          "metadata": {},
          "execution_count": 40
        }
      ]
    },
    {
      "cell_type": "code",
      "metadata": {
        "colab": {
          "base_uri": "https://localhost:8080/"
        },
        "id": "NgewnFapNxj4",
        "outputId": "6aee2950-e454-4515-b1f0-60fbb8c64038"
      },
      "source": [
        "# grab the first row\n",
        "my_arr[0]"
      ],
      "execution_count": null,
      "outputs": [
        {
          "output_type": "execute_result",
          "data": {
            "text/plain": [
              "array([7, 5, 7, 9, 7])"
            ]
          },
          "metadata": {},
          "execution_count": 41
        }
      ]
    },
    {
      "cell_type": "code",
      "metadata": {
        "colab": {
          "base_uri": "https://localhost:8080/"
        },
        "id": "BBNhf0bgNzml",
        "outputId": "04a433d1-66f7-4fc6-c36b-2dc851dbd781"
      },
      "source": [
        "# grab the first element of the first row\n",
        "\n",
        "# instead of this\n",
        "print(my_arr[0][0])\n",
        "\n",
        "# we do this\n",
        "print(my_arr[0, 0])"
      ],
      "execution_count": null,
      "outputs": [
        {
          "output_type": "stream",
          "name": "stdout",
          "text": [
            "7\n",
            "7\n"
          ]
        }
      ]
    },
    {
      "cell_type": "markdown",
      "metadata": {
        "id": "_8psMXzMQWT6"
      },
      "source": [
        "We can time these..."
      ]
    },
    {
      "cell_type": "code",
      "metadata": {
        "colab": {
          "base_uri": "https://localhost:8080/"
        },
        "id": "wkQteNGeN2kl",
        "outputId": "bfbd1993-7159-42af-f415-baa1f86b2d1a"
      },
      "source": [
        "%%timeit\n",
        "my_arr[0][0]"
      ],
      "execution_count": null,
      "outputs": [
        {
          "output_type": "stream",
          "name": "stdout",
          "text": [
            "The slowest run took 27.80 times longer than the fastest. This could mean that an intermediate result is being cached.\n",
            "1000000 loops, best of 5: 362 ns per loop\n"
          ]
        }
      ]
    },
    {
      "cell_type": "code",
      "metadata": {
        "colab": {
          "base_uri": "https://localhost:8080/"
        },
        "id": "gNqa4_IrOB-O",
        "outputId": "debe3a2e-68f0-4e0e-804c-0a6a5ae12e69"
      },
      "source": [
        "%%timeit\n",
        "my_arr[0, 0]"
      ],
      "execution_count": null,
      "outputs": [
        {
          "output_type": "stream",
          "name": "stdout",
          "text": [
            "The slowest run took 38.37 times longer than the fastest. This could mean that an intermediate result is being cached.\n",
            "10000000 loops, best of 5: 177 ns per loop\n"
          ]
        }
      ]
    },
    {
      "cell_type": "markdown",
      "metadata": {
        "id": "Ymasq3u_OLJ7"
      },
      "source": [
        "We can use the same slicing notation as with lists\n",
        "\n",
        "`my_arr[start:stop:step]`\n",
        "\n",
        "for n-dimensional arrays\n",
        "\n",
        "`my_arr[1-start:1-stop:1-step, 2-start:2-stop:2-step, ... n-start:n-stop:n-step]`"
      ]
    },
    {
      "cell_type": "code",
      "metadata": {
        "colab": {
          "base_uri": "https://localhost:8080/"
        },
        "id": "C1TNNwCOODaS",
        "outputId": "898bfd6c-4ee1-41fc-9c31-a3da6fe44454"
      },
      "source": [
        "# with arrays, we simply separate each dimension with a comma\n",
        "my_arr[:2, :2]"
      ],
      "execution_count": null,
      "outputs": [
        {
          "output_type": "execute_result",
          "data": {
            "text/plain": [
              "array([[7, 5],\n",
              "       [5, 9]])"
            ]
          },
          "metadata": {},
          "execution_count": 45
        }
      ]
    },
    {
      "cell_type": "markdown",
      "metadata": {
        "id": "M4U0cKOaTP9e"
      },
      "source": [
        "Slices are views not copies. This means we can set slices of arrays to new values, and the original object will change:"
      ]
    },
    {
      "cell_type": "code",
      "metadata": {
        "colab": {
          "base_uri": "https://localhost:8080/"
        },
        "id": "PwvsAFRLORxx",
        "outputId": "99104d1c-89eb-4fe7-e858-afa889e95ba7"
      },
      "source": [
        "my_arr[:2, :2] = 0\n",
        "my_arr"
      ],
      "execution_count": null,
      "outputs": [
        {
          "output_type": "execute_result",
          "data": {
            "text/plain": [
              "array([[0, 0, 7, 9, 7],\n",
              "       [0, 0, 6, 7, 5],\n",
              "       [6, 6, 8, 9, 7],\n",
              "       [5, 8, 9, 8, 9],\n",
              "       [9, 7, 9, 8, 9]])"
            ]
          },
          "metadata": {},
          "execution_count": 46
        }
      ]
    },
    {
      "cell_type": "code",
      "metadata": {
        "colab": {
          "base_uri": "https://localhost:8080/"
        },
        "id": "zQcHeBkoOcsL",
        "outputId": "fbd26257-8fff-4136-88d5-654a9ba096b9"
      },
      "source": [
        "my_arr[-2:, -2:] = 1\n",
        "my_arr"
      ],
      "execution_count": null,
      "outputs": [
        {
          "output_type": "execute_result",
          "data": {
            "text/plain": [
              "array([[0, 0, 7, 9, 7],\n",
              "       [0, 0, 6, 7, 5],\n",
              "       [6, 6, 8, 9, 7],\n",
              "       [5, 8, 9, 1, 1],\n",
              "       [9, 7, 9, 1, 1]])"
            ]
          },
          "metadata": {},
          "execution_count": 47
        }
      ]
    },
    {
      "cell_type": "markdown",
      "metadata": {
        "id": "mMVfG0oCTlpH"
      },
      "source": [
        "Step through an array slice"
      ]
    },
    {
      "cell_type": "code",
      "metadata": {
        "colab": {
          "base_uri": "https://localhost:8080/"
        },
        "id": "OFl8_kyuOgb7",
        "outputId": "a29affe1-d2fa-4ee8-b014-26f9f526051f"
      },
      "source": [
        "# remember that we can use steps in slicing\n",
        "my_arr[:, ::2] # the last number after :: is the step size"
      ],
      "execution_count": null,
      "outputs": [
        {
          "output_type": "execute_result",
          "data": {
            "text/plain": [
              "array([[0, 7, 7],\n",
              "       [0, 6, 5],\n",
              "       [6, 8, 7],\n",
              "       [5, 9, 1],\n",
              "       [9, 9, 1]])"
            ]
          },
          "metadata": {},
          "execution_count": 48
        }
      ]
    },
    {
      "cell_type": "markdown",
      "metadata": {
        "id": "eL1rPxA_SYoF"
      },
      "source": [
        "We can use negative step sizes the way we do with lists. A negative step size reverses the order of start and stop, so it is a convenient way to reverse the order of one or more dimensions of an array"
      ]
    },
    {
      "cell_type": "code",
      "metadata": {
        "colab": {
          "base_uri": "https://localhost:8080/"
        },
        "id": "REkwRjUDQjSK",
        "outputId": "9dc07363-9550-4823-a1ea-901069187d7f"
      },
      "source": [
        "# reverse the rows\n",
        "my_arr[::-1]"
      ],
      "execution_count": null,
      "outputs": [
        {
          "output_type": "execute_result",
          "data": {
            "text/plain": [
              "array([[9, 7, 9, 1, 1],\n",
              "       [5, 8, 9, 1, 1],\n",
              "       [6, 6, 8, 9, 7],\n",
              "       [0, 0, 6, 7, 5],\n",
              "       [0, 0, 7, 9, 7]])"
            ]
          },
          "metadata": {},
          "execution_count": 49
        }
      ]
    },
    {
      "cell_type": "code",
      "metadata": {
        "colab": {
          "base_uri": "https://localhost:8080/"
        },
        "id": "f2X31gnkTZau",
        "outputId": "22cd7c2f-82d2-474c-8c7b-486cf209effc"
      },
      "source": [
        "# reverse the columns\n",
        "my_arr[:, ::-1]"
      ],
      "execution_count": null,
      "outputs": [
        {
          "output_type": "execute_result",
          "data": {
            "text/plain": [
              "array([[7, 9, 7, 0, 0],\n",
              "       [5, 7, 6, 0, 0],\n",
              "       [7, 9, 8, 6, 6],\n",
              "       [1, 1, 9, 8, 5],\n",
              "       [1, 1, 9, 7, 9]])"
            ]
          },
          "metadata": {},
          "execution_count": 50
        }
      ]
    },
    {
      "cell_type": "markdown",
      "metadata": {
        "id": "-Wugfmg_TsmM"
      },
      "source": [
        "Sometimes we want to create a copy of an array, despite the default slicing behavior. We can do this with the `.copy()` method"
      ]
    },
    {
      "cell_type": "code",
      "metadata": {
        "colab": {
          "base_uri": "https://localhost:8080/"
        },
        "id": "CquIZoXRTypP",
        "outputId": "c05a05af-c7c1-4044-ae8a-5ead59ed5f01"
      },
      "source": [
        "new_arr = my_arr.copy()\n",
        "new_arr[:,:] = 0\n",
        "print(my_arr)"
      ],
      "execution_count": null,
      "outputs": [
        {
          "output_type": "stream",
          "name": "stdout",
          "text": [
            "[[0 0 7 9 7]\n",
            " [0 0 6 7 5]\n",
            " [6 6 8 9 7]\n",
            " [5 8 9 1 1]\n",
            " [9 7 9 1 1]]\n"
          ]
        }
      ]
    },
    {
      "cell_type": "markdown",
      "metadata": {
        "id": "528E-yZWPcZe"
      },
      "source": [
        "### 🏋️ Exercise 4: Array Setting and Slicing\n",
        "\n",
        "set all the even columns of `my_arr` to 0 and all the odd columns to 1 (interpret the first column to be 1 and the last to be 5, i.e. don't index at 0 when thinking of each column as even/odd!)\n",
        "\n",
        "Example Output:\n",
        "```\n",
        "array([[0, 1, 0, 1, 0],\n",
        "       [0, 1, 0, 1, 0],\n",
        "       [0, 1, 0, 1, 0],\n",
        "       [0, 1, 0, 1, 0],\n",
        "       [0, 1, 0, 1, 0]])\n",
        "```"
      ]
    },
    {
      "cell_type": "code",
      "metadata": {
        "colab": {
          "base_uri": "https://localhost:8080/"
        },
        "id": "cBI4LsdqPSEx",
        "outputId": "5058f78f-7e62-4999-cb49-4899ae4405e6"
      },
      "source": [
        "# Cell for Exercise 4\n",
        "my_arr[::,::2] = 0\n",
        "my_arr[::,1::2] = 1\n",
        "my_arr"
      ],
      "execution_count": null,
      "outputs": [
        {
          "output_type": "execute_result",
          "data": {
            "text/plain": [
              "array([[0, 1, 0, 1, 0],\n",
              "       [0, 1, 0, 1, 0],\n",
              "       [0, 1, 0, 1, 0],\n",
              "       [0, 1, 0, 1, 0],\n",
              "       [0, 1, 0, 1, 0]])"
            ]
          },
          "metadata": {},
          "execution_count": 53
        }
      ]
    },
    {
      "cell_type": "markdown",
      "metadata": {
        "id": "GNoDz1cPUK7_"
      },
      "source": [
        "## 7.4 NumPy Array Reshaping, Concatenation, and Splitting\n",
        "\n",
        "reshaping is going to be a common task for us:"
      ]
    },
    {
      "cell_type": "code",
      "metadata": {
        "colab": {
          "base_uri": "https://localhost:8080/"
        },
        "id": "W3FLU0lBPrOR",
        "outputId": "5f72cf5b-2b99-4885-ae8c-a16def6a2d4a"
      },
      "source": [
        "arr = np.arange(9)\n",
        "arr"
      ],
      "execution_count": null,
      "outputs": [
        {
          "output_type": "execute_result",
          "data": {
            "text/plain": [
              "array([0, 1, 2, 3, 4, 5, 6, 7, 8])"
            ]
          },
          "metadata": {},
          "execution_count": 54
        }
      ]
    },
    {
      "cell_type": "code",
      "metadata": {
        "colab": {
          "base_uri": "https://localhost:8080/"
        },
        "id": "WNHgXx7dUwIy",
        "outputId": "eb32cd7d-b239-459c-e152-26fb524e19f2"
      },
      "source": [
        "# reshape into a 3x3 array\n",
        "arr.reshape(3,3) # rows then columns"
      ],
      "execution_count": null,
      "outputs": [
        {
          "output_type": "execute_result",
          "data": {
            "text/plain": [
              "array([[0, 1, 2],\n",
              "       [3, 4, 5],\n",
              "       [6, 7, 8]])"
            ]
          },
          "metadata": {},
          "execution_count": 55
        }
      ]
    },
    {
      "cell_type": "markdown",
      "metadata": {
        "id": "rkE3t6fcok04"
      },
      "source": [
        "The reshaped dimensions have to be evenly divisible into the total number of elements:\n",
        "\n",
        "_`-1` will infer the proper dimension based on the other dimensions provided and the total number of elements_"
      ]
    },
    {
      "cell_type": "code",
      "metadata": {
        "colab": {
          "base_uri": "https://localhost:8080/"
        },
        "id": "rWfAQuFNoohX",
        "outputId": "f1acfe32-50ee-474c-8ce0-f81cf7af2462"
      },
      "source": [
        "# arr.reshape(4,2) # throws and error\n",
        "arr = np.arange(12)\n",
        "arr.reshape(4,3) "
      ],
      "execution_count": null,
      "outputs": [
        {
          "output_type": "execute_result",
          "data": {
            "text/plain": [
              "array([[ 0,  1,  2],\n",
              "       [ 3,  4,  5],\n",
              "       [ 6,  7,  8],\n",
              "       [ 9, 10, 11]])"
            ]
          },
          "metadata": {},
          "execution_count": 56
        }
      ]
    },
    {
      "cell_type": "markdown",
      "metadata": {
        "id": "35l9zgDxVI2B"
      },
      "source": [
        "A common manipulation in numpy is to convert a 1 dimensional array into a 2 dimensional array. You will see this frequently when working with test/train datasets in machine learning."
      ]
    },
    {
      "cell_type": "code",
      "metadata": {
        "colab": {
          "base_uri": "https://localhost:8080/"
        },
        "id": "P8dCXlGSU1Nt",
        "outputId": "671ef575-925f-4675-acee-409a17830d70"
      },
      "source": [
        "arr = np.arange(9)\n",
        "# reshape into 2 dimensions\n",
        "arr.reshape(-1,1)"
      ],
      "execution_count": null,
      "outputs": [
        {
          "output_type": "execute_result",
          "data": {
            "text/plain": [
              "array([[0],\n",
              "       [1],\n",
              "       [2],\n",
              "       [3],\n",
              "       [4],\n",
              "       [5],\n",
              "       [6],\n",
              "       [7],\n",
              "       [8]])"
            ]
          },
          "metadata": {},
          "execution_count": 57
        }
      ]
    },
    {
      "cell_type": "code",
      "metadata": {
        "colab": {
          "base_uri": "https://localhost:8080/"
        },
        "id": "xwsQwOJtVTpY",
        "outputId": "398a829d-134f-4e05-faab-e5bd4065172e"
      },
      "source": [
        "# back to one dimension\n",
        "arr.reshape(9)"
      ],
      "execution_count": null,
      "outputs": [
        {
          "output_type": "execute_result",
          "data": {
            "text/plain": [
              "array([0, 1, 2, 3, 4, 5, 6, 7, 8])"
            ]
          },
          "metadata": {},
          "execution_count": 58
        }
      ]
    },
    {
      "cell_type": "markdown",
      "metadata": {
        "id": "E6itz7imVXr8"
      },
      "source": [
        "We can also concatenate arrays"
      ]
    },
    {
      "cell_type": "code",
      "metadata": {
        "colab": {
          "base_uri": "https://localhost:8080/"
        },
        "id": "u7KHsbmEVZ1F",
        "outputId": "47b1ac80-dc83-4ee6-8b96-96838f266c9b"
      },
      "source": [
        "arr1 = np.array([1, 2, 3])\n",
        "arr2 = np.array([4, 5, 6])\n",
        "print(arr1, arr2)"
      ],
      "execution_count": null,
      "outputs": [
        {
          "output_type": "stream",
          "name": "stdout",
          "text": [
            "[1 2 3] [4 5 6]\n"
          ]
        }
      ]
    },
    {
      "cell_type": "code",
      "metadata": {
        "colab": {
          "base_uri": "https://localhost:8080/"
        },
        "id": "eFQ1NUeEV0K-",
        "outputId": "49ea3e74-26b8-41d5-927d-d55b39c0a902"
      },
      "source": [
        "# now a single array\n",
        "np.concatenate((arr1, arr2))"
      ],
      "execution_count": null,
      "outputs": [
        {
          "output_type": "execute_result",
          "data": {
            "text/plain": [
              "array([1, 2, 3, 4, 5, 6])"
            ]
          },
          "metadata": {},
          "execution_count": 60
        }
      ]
    },
    {
      "cell_type": "markdown",
      "metadata": {
        "id": "b76KB-yXpdRE"
      },
      "source": [
        "`vstack` or vertical stack will place the two arrays on top of eachother:"
      ]
    },
    {
      "cell_type": "code",
      "metadata": {
        "colab": {
          "base_uri": "https://localhost:8080/"
        },
        "id": "u1Qq_m9UV3GK",
        "outputId": "4b1eff9e-9068-4480-9e19-e7a525279ae1"
      },
      "source": [
        "np.vstack((arr1,arr2))"
      ],
      "execution_count": null,
      "outputs": [
        {
          "output_type": "execute_result",
          "data": {
            "text/plain": [
              "array([[1, 2, 3],\n",
              "       [4, 5, 6]])"
            ]
          },
          "metadata": {},
          "execution_count": 61
        }
      ]
    },
    {
      "cell_type": "markdown",
      "metadata": {
        "id": "Xp2QWDKtpiLL"
      },
      "source": [
        "`hstack` will place them side by side"
      ]
    },
    {
      "cell_type": "code",
      "metadata": {
        "colab": {
          "base_uri": "https://localhost:8080/"
        },
        "id": "Kq9V5YqJV5JC",
        "outputId": "f610965a-267a-4352-e18b-0a7c49472d0e"
      },
      "source": [
        "np.hstack((arr1,arr2))"
      ],
      "execution_count": null,
      "outputs": [
        {
          "output_type": "execute_result",
          "data": {
            "text/plain": [
              "array([1, 2, 3, 4, 5, 6])"
            ]
          },
          "metadata": {},
          "execution_count": 62
        }
      ]
    },
    {
      "cell_type": "code",
      "metadata": {
        "colab": {
          "base_uri": "https://localhost:8080/"
        },
        "id": "wpJOsRTOV63O",
        "outputId": "6d9aab65-abe9-474a-de21-06c17add55ee"
      },
      "source": [
        "arr1 = np.array([[1, 2, 3],[7,8,9]])\n",
        "arr2 = np.array([4, 5, 6])\n",
        "print(arr1)\n",
        "print(arr2)\n",
        "\n",
        "print(arr1.shape)"
      ],
      "execution_count": null,
      "outputs": [
        {
          "output_type": "stream",
          "name": "stdout",
          "text": [
            "[[1 2 3]\n",
            " [7 8 9]]\n",
            "[4 5 6]\n",
            "(2, 3)\n"
          ]
        }
      ]
    },
    {
      "cell_type": "code",
      "metadata": {
        "colab": {
          "base_uri": "https://localhost:8080/"
        },
        "id": "HNoOGJnxV-Z8",
        "outputId": "021a7e16-b4a2-43d2-a94e-979cb8d41ebe"
      },
      "source": [
        "np.vstack((arr1, arr2))"
      ],
      "execution_count": null,
      "outputs": [
        {
          "output_type": "execute_result",
          "data": {
            "text/plain": [
              "array([[1, 2, 3],\n",
              "       [7, 8, 9],\n",
              "       [4, 5, 6]])"
            ]
          },
          "metadata": {
            "tags": []
          },
          "execution_count": 49
        }
      ]
    },
    {
      "cell_type": "markdown",
      "metadata": {
        "id": "K7dl7txfWUig"
      },
      "source": [
        "Lastly, we can also split arrays. We give the indices where the split should be performed"
      ]
    },
    {
      "cell_type": "code",
      "metadata": {
        "colab": {
          "base_uri": "https://localhost:8080/"
        },
        "id": "fSp1PMa_qT9_",
        "outputId": "6f0ab482-eecf-42cc-d87e-7f10b0627048"
      },
      "source": [
        "arr = np.random.randint(5, 11, (10,10))\n",
        "arr"
      ],
      "execution_count": null,
      "outputs": [
        {
          "output_type": "execute_result",
          "data": {
            "text/plain": [
              "array([[ 7,  7, 10,  8,  6,  6,  9, 10,  5,  9],\n",
              "       [10,  8,  8,  8,  8,  8, 10, 10,  7,  6],\n",
              "       [ 8,  5, 10,  5,  5,  5,  7, 10,  5,  8],\n",
              "       [ 9,  5,  7, 10,  7,  5, 10,  9,  5,  7],\n",
              "       [ 6,  8,  7, 10,  5,  8,  5, 10,  5,  6],\n",
              "       [ 8,  8, 10,  6,  7,  5,  9,  5,  5,  7],\n",
              "       [ 5,  6,  6,  8, 10,  9,  5,  5,  7, 10],\n",
              "       [ 6,  9,  8,  6, 10,  8,  7,  7,  5, 10],\n",
              "       [ 9,  8,  6, 10, 10,  7,  5,  5,  8,  7],\n",
              "       [10,  9,  7,  8,  8,  7,  8,  7,  6,  7]])"
            ]
          },
          "metadata": {},
          "execution_count": 64
        }
      ]
    },
    {
      "cell_type": "code",
      "metadata": {
        "colab": {
          "base_uri": "https://localhost:8080/"
        },
        "id": "KtXpxz10WHes",
        "outputId": "37723a29-92ee-46ef-fe75-9f0767c5b864"
      },
      "source": [
        "# the start of the new array will be at index 5\n",
        "# (row-wise)\n",
        "a, b = np.split(arr, [5]) \n",
        "print(a)\n",
        "print(b)"
      ],
      "execution_count": null,
      "outputs": [
        {
          "output_type": "stream",
          "name": "stdout",
          "text": [
            "[[ 7  7 10  8  6  6  9 10  5  9]\n",
            " [10  8  8  8  8  8 10 10  7  6]\n",
            " [ 8  5 10  5  5  5  7 10  5  8]\n",
            " [ 9  5  7 10  7  5 10  9  5  7]\n",
            " [ 6  8  7 10  5  8  5 10  5  6]]\n",
            "[[ 8  8 10  6  7  5  9  5  5  7]\n",
            " [ 5  6  6  8 10  9  5  5  7 10]\n",
            " [ 6  9  8  6 10  8  7  7  5 10]\n",
            " [ 9  8  6 10 10  7  5  5  8  7]\n",
            " [10  9  7  8  8  7  8  7  6  7]]\n"
          ]
        }
      ]
    },
    {
      "cell_type": "code",
      "metadata": {
        "colab": {
          "base_uri": "https://localhost:8080/"
        },
        "id": "F1sGgY03WtMd",
        "outputId": "fb9d5a0c-2091-4768-d381-170546f0e852"
      },
      "source": [
        "np.vsplit(arr, [2,4,6,8])"
      ],
      "execution_count": null,
      "outputs": [
        {
          "output_type": "execute_result",
          "data": {
            "text/plain": [
              "[array([[ 7,  7, 10,  8,  6,  6,  9, 10,  5,  9],\n",
              "        [10,  8,  8,  8,  8,  8, 10, 10,  7,  6]]),\n",
              " array([[ 8,  5, 10,  5,  5,  5,  7, 10,  5,  8],\n",
              "        [ 9,  5,  7, 10,  7,  5, 10,  9,  5,  7]]),\n",
              " array([[ 6,  8,  7, 10,  5,  8,  5, 10,  5,  6],\n",
              "        [ 8,  8, 10,  6,  7,  5,  9,  5,  5,  7]]),\n",
              " array([[ 5,  6,  6,  8, 10,  9,  5,  5,  7, 10],\n",
              "        [ 6,  9,  8,  6, 10,  8,  7,  7,  5, 10]]),\n",
              " array([[ 9,  8,  6, 10, 10,  7,  5,  5,  8,  7],\n",
              "        [10,  9,  7,  8,  8,  7,  8,  7,  6,  7]])]"
            ]
          },
          "metadata": {},
          "execution_count": 66
        }
      ]
    },
    {
      "cell_type": "code",
      "metadata": {
        "colab": {
          "base_uri": "https://localhost:8080/"
        },
        "id": "ri1ErgORWwdU",
        "outputId": "949a0e13-5720-4a96-c6f2-13b7a15ebd1c"
      },
      "source": [
        "np.hsplit(arr, [5])"
      ],
      "execution_count": null,
      "outputs": [
        {
          "output_type": "execute_result",
          "data": {
            "text/plain": [
              "[array([[ 7,  7, 10,  8,  6],\n",
              "        [10,  8,  8,  8,  8],\n",
              "        [ 8,  5, 10,  5,  5],\n",
              "        [ 9,  5,  7, 10,  7],\n",
              "        [ 6,  8,  7, 10,  5],\n",
              "        [ 8,  8, 10,  6,  7],\n",
              "        [ 5,  6,  6,  8, 10],\n",
              "        [ 6,  9,  8,  6, 10],\n",
              "        [ 9,  8,  6, 10, 10],\n",
              "        [10,  9,  7,  8,  8]]), array([[ 6,  9, 10,  5,  9],\n",
              "        [ 8, 10, 10,  7,  6],\n",
              "        [ 5,  7, 10,  5,  8],\n",
              "        [ 5, 10,  9,  5,  7],\n",
              "        [ 8,  5, 10,  5,  6],\n",
              "        [ 5,  9,  5,  5,  7],\n",
              "        [ 9,  5,  5,  7, 10],\n",
              "        [ 8,  7,  7,  5, 10],\n",
              "        [ 7,  5,  5,  8,  7],\n",
              "        [ 7,  8,  7,  6,  7]])]"
            ]
          },
          "metadata": {},
          "execution_count": 67
        }
      ]
    },
    {
      "cell_type": "markdown",
      "metadata": {
        "id": "h8-4JzxZqqnj"
      },
      "source": [
        "### 🏋️ Exercise 5: Reshaping and Concatenating\n",
        "\n",
        "We'll practice a few of these methods we've learned.\n",
        "\n",
        "1. make `arr2` match the shape of `arr1` using `reshape`\n",
        "2. stack `arr1` on top of `arr2` using `vstack` and call this new array `arr`\n",
        "3. replace all the even columns of `arr` with zeros\n",
        "4. return the sum of `arr` using `arr.sum()`\n",
        "\n",
        "starting code:\n",
        "\n",
        "```\n",
        "np.random.seed(42)\n",
        "arr1 = np.random.randint(5, 11, (5,10))\n",
        "arr2 = np.random.randint(5, 11, (10,5))\n",
        "```\n",
        "\n",
        "expected output:\n",
        "\n",
        "```\n",
        "374\n",
        "```"
      ]
    },
    {
      "cell_type": "code",
      "metadata": {
        "colab": {
          "base_uri": "https://localhost:8080/"
        },
        "id": "AQ4itZfsqudA",
        "outputId": "f924234d-8945-43a6-f43d-8af176664d84"
      },
      "source": [
        "np.random.seed(42)\n",
        "arr1 = np.random.randint(5, 11, (5,10))\n",
        "arr2 = np.random.randint(5, 11, (10,5))\n",
        "print(arr1,end='\\n\\n')\n",
        "print(arr2)"
      ],
      "execution_count": null,
      "outputs": [
        {
          "output_type": "stream",
          "name": "stdout",
          "text": [
            "[[ 8  9  7  9  9  6  7  7  7  9]\n",
            " [ 8  7 10  9  6  8 10 10  6  8]\n",
            " [ 9  5  8  6 10  9  8  5  5  7]\n",
            " [ 7  6  8  8 10 10 10  7  8  8]\n",
            " [ 5  7  9  7  9  5  6  8  5  8]]\n",
            "\n",
            "[[10  6  6  5  6]\n",
            " [ 9  6  8  8  8]\n",
            " [ 8  9  7 10  5]\n",
            " [ 8  6  8  6 10]\n",
            " [10 10  6  8 10]\n",
            " [ 9  6  6  8  6]\n",
            " [ 6 10  8 10 10]\n",
            " [ 8  5 10  9  9]\n",
            " [ 6  9  6  5  8]\n",
            " [ 8  8  9  5  9]]\n"
          ]
        }
      ]
    },
    {
      "cell_type": "code",
      "metadata": {
        "colab": {
          "base_uri": "https://localhost:8080/"
        },
        "id": "3Gf_f4bjq8tQ",
        "outputId": "1ec00791-1c4e-441a-9fb6-0a07cf6264ec"
      },
      "source": [
        "# Cell for Exercise 5\n",
        "arr = np.vstack((arr2.reshape(arr1.shape),arr1))\n",
        "arr[:, 1::2] = 0\n",
        "arr.sum()"
      ],
      "execution_count": null,
      "outputs": [
        {
          "output_type": "execute_result",
          "data": {
            "text/plain": [
              "374"
            ]
          },
          "metadata": {},
          "execution_count": 76
        }
      ]
    },
    {
      "cell_type": "markdown",
      "metadata": {
        "id": "4jvaFov5o5F-"
      },
      "source": [
        "## 7.5 Additional Exercises"
      ]
    },
    {
      "cell_type": "markdown",
      "metadata": {
        "id": "0PPaZvlct0fH"
      },
      "source": [
        "### 🏋️ Exercise 6: boolean Array\n",
        "\n",
        "Create a 3x3 array of all True's (booleans)"
      ]
    },
    {
      "cell_type": "code",
      "metadata": {
        "id": "9lphFb2ksnEC",
        "colab": {
          "base_uri": "https://localhost:8080/"
        },
        "outputId": "ed96c338-a868-4906-a821-72d0085551f9"
      },
      "source": [
        "# Cell for Exercise 6\n",
        "np.ones((3,3)) == 1"
      ],
      "execution_count": null,
      "outputs": [
        {
          "output_type": "execute_result",
          "data": {
            "text/plain": [
              "array([[ True,  True,  True],\n",
              "       [ True,  True,  True],\n",
              "       [ True,  True,  True]])"
            ]
          },
          "metadata": {},
          "execution_count": 80
        }
      ]
    },
    {
      "cell_type": "markdown",
      "metadata": {
        "id": "6I9yYNVX4AVk"
      },
      "source": [
        "### 🏋️ Exercise 7: Index on Conditional\n",
        "\n",
        "extract all numbers divisible by 3\n",
        "\n",
        "```\n",
        "arr = np.array([0, 1, 2, 3, 4, 5, 6, 7, 8, 9])\n",
        "```"
      ]
    },
    {
      "cell_type": "code",
      "metadata": {
        "id": "aAdTRdS84KoA",
        "colab": {
          "base_uri": "https://localhost:8080/"
        },
        "outputId": "def42bca-c965-483b-9f24-fbb4177b3b23"
      },
      "source": [
        "# Cell for Exercise 7\n",
        "arr = np.array([0, 1, 2, 3, 4, 5, 6, 7, 8, 9])\n",
        "arr[arr%3==0]"
      ],
      "execution_count": null,
      "outputs": [
        {
          "output_type": "execute_result",
          "data": {
            "text/plain": [
              "array([0, 3, 6, 9])"
            ]
          },
          "metadata": {},
          "execution_count": 94
        }
      ]
    },
    {
      "cell_type": "markdown",
      "metadata": {
        "id": "CPAEnQOg4jyy"
      },
      "source": [
        "### 7.5.3 `np.where`\n",
        "\n",
        "There is a nifty tool, `np.where()`. The syntax works like `np.where(<where this condition is true> , <return elements from this array>, <otherwise return elements from this aray>)`"
      ]
    },
    {
      "cell_type": "code",
      "metadata": {
        "colab": {
          "base_uri": "https://localhost:8080/"
        },
        "id": "yzF9NPCn4Mss",
        "outputId": "01492867-1f06-4c12-ac8d-9e9a3ba61ade"
      },
      "source": [
        "# Example\n",
        "a = np.arange(10)\n",
        "np.where(a<5, a, a*10)"
      ],
      "execution_count": null,
      "outputs": [
        {
          "output_type": "execute_result",
          "data": {
            "text/plain": [
              "array([ 0,  1,  2,  3,  4, 50, 60, 70, 80, 90])"
            ]
          },
          "metadata": {},
          "execution_count": 95
        }
      ]
    },
    {
      "cell_type": "markdown",
      "metadata": {
        "id": "q9VDLHKo5Dw7"
      },
      "source": [
        "\n",
        "### 7.5.4 `np.argwhere`\n",
        "\n",
        "A similar but slightly different tool is `np.argwhere` which will return the indices of the array where the conditional is true"
      ]
    },
    {
      "cell_type": "code",
      "metadata": {
        "colab": {
          "base_uri": "https://localhost:8080/"
        },
        "id": "VNIiI71w424D",
        "outputId": "4f8a56da-54c4-489f-bb36-88a9ddfede5d"
      },
      "source": [
        "# Example\n",
        "np.argwhere(a<5)"
      ],
      "execution_count": null,
      "outputs": [
        {
          "output_type": "execute_result",
          "data": {
            "text/plain": [
              "array([[0],\n",
              "       [1],\n",
              "       [2],\n",
              "       [3],\n",
              "       [4]])"
            ]
          },
          "metadata": {},
          "execution_count": 96
        }
      ]
    },
    {
      "cell_type": "markdown",
      "metadata": {
        "id": "kXXtV9eW513-"
      },
      "source": [
        "### 🏋️ Exercise 8: Edit a Copy not a View\n",
        "\n",
        "replace all odd numbers in `arr` with -1 without changing `arr` (return a new array using `np.where`)"
      ]
    },
    {
      "cell_type": "code",
      "metadata": {
        "id": "PFsqaXw75Jgk",
        "colab": {
          "base_uri": "https://localhost:8080/"
        },
        "outputId": "773a92c0-29d8-48d5-decf-cb9c5e7d220e"
      },
      "source": [
        "# Cell for Exercise 8\n",
        "arr = np.array([0, 1, 2, 3, 4, 5, 6, 7, 8, 9])\n",
        "np.where(arr % 2 == 0, arr, -1)"
      ],
      "execution_count": null,
      "outputs": [
        {
          "output_type": "execute_result",
          "data": {
            "text/plain": [
              "array([ 0, -1,  2, -1,  4, -1,  6, -1,  8, -1])"
            ]
          },
          "metadata": {},
          "execution_count": 98
        }
      ]
    },
    {
      "cell_type": "markdown",
      "metadata": {
        "id": "5-5vPilS75PB"
      },
      "source": [
        "### 🏋️ Exercise 9: Read NumPy Documentation\n",
        "\n",
        "create the following array without hard coding (i.e. don't write any of the values in your code)\n",
        "\n",
        "```\n",
        "a = np.array([1,2,3])`\n",
        "# desired output:\n",
        "#> array([1, 1, 1, 2, 2, 2, 3, 3, 3, 1, 2, 3, 1, 2, 3, 1, 2, 3])\n",
        "```\n",
        "\n",
        "Hints:\n",
        "\n",
        "* [repeat](https://numpy.org/doc/stable/reference/generated/numpy.repeat.html)\n",
        "* [tile](https://numpy.org/doc/stable/reference/generated/numpy.tile.html)"
      ]
    },
    {
      "cell_type": "code",
      "metadata": {
        "id": "Hty9Jez9797t",
        "colab": {
          "base_uri": "https://localhost:8080/"
        },
        "outputId": "7364d4c3-5281-45b5-d2ed-817f4596e587"
      },
      "source": [
        "# Cell for Exercise 9\n",
        "a = np.array([1,2,3])\n",
        "# desired output:\n",
        "#> array([1, 1, 1, 2, 2, 2, 3, 3, 3, 1, 2, 3, 1, 2, 3, 1, 2, 3])\n",
        "np.concatenate((np.repeat(a,3),np.tile(a,3)))"
      ],
      "execution_count": null,
      "outputs": [
        {
          "output_type": "execute_result",
          "data": {
            "text/plain": [
              "array([1, 1, 1, 2, 2, 2, 3, 3, 3, 1, 2, 3, 1, 2, 3, 1, 2, 3])"
            ]
          },
          "metadata": {},
          "execution_count": 104
        }
      ]
    },
    {
      "cell_type": "markdown",
      "metadata": {
        "id": "w__0vO9f_Hoj"
      },
      "source": [
        "### 🏋️ Exercise 10: More Slicing\n",
        "\n",
        "swap columns 2 and 3 in `arr1`"
      ]
    },
    {
      "cell_type": "code",
      "source": [
        "arr1[:,(1,3,2,4,5,6,7,8,9)]"
      ],
      "metadata": {
        "colab": {
          "base_uri": "https://localhost:8080/"
        },
        "id": "Rdva_4jSRBt4",
        "outputId": "78924901-4b88-4d4b-8495-1f3f3843fb23"
      },
      "execution_count": null,
      "outputs": [
        {
          "output_type": "execute_result",
          "data": {
            "text/plain": [
              "array([[ 9,  9,  7,  9,  6,  7,  7,  7,  9],\n",
              "       [ 7,  9, 10,  6,  8, 10, 10,  6,  8],\n",
              "       [ 5,  6,  8, 10,  9,  8,  5,  5,  7],\n",
              "       [ 6,  8,  8, 10, 10, 10,  7,  8,  8],\n",
              "       [ 7,  7,  9,  9,  5,  6,  8,  5,  8]])"
            ]
          },
          "metadata": {},
          "execution_count": 111
        }
      ]
    }
  ]
}