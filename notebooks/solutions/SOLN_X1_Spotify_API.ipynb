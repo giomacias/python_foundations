{
 "cells": [
  {
   "cell_type": "markdown",
   "metadata": {
    "colab_type": "text",
    "id": "view-in-github"
   },
   "source": [
    "<a href=\"https://colab.research.google.com/github/wesleybeckner/python_foundations/blob/main/notebooks/solutions/SOLN_X1_Spotify_API.ipynb\" target=\"_parent\"><img src=\"https://colab.research.google.com/assets/colab-badge.svg\" alt=\"Open In Colab\"/></a>"
   ]
  },
  {
   "cell_type": "markdown",
   "metadata": {
    "id": "kHWV9Cs-TpBA"
   },
   "source": [
    "# Python Foundations <br>X1: The Spotify API\n",
    "\n",
    "**Instructor**: Wesley Beckner\n",
    "\n",
    "**Contact**: wesleybeckner@gmail.com\n",
    "\n",
    "---\n",
    "\n",
    "<br>\n",
    "\n",
    "For this workbook we're going to use the [`spotipy`](https://spotipy.readthedocs.io/en/2.19.0/#) library to access the Spotify Web API!\n",
    "\n",
    "<br>\n",
    "\n",
    "---\n"
   ]
  },
  {
   "cell_type": "markdown",
   "metadata": {
    "id": "T-hVr_WQZr8z"
   },
   "source": [
    "## Install and import libraries\n",
    "\n",
    "First we will need to install it:"
   ]
  },
  {
   "cell_type": "code",
   "execution_count": null,
   "metadata": {
    "colab": {
     "base_uri": "https://localhost:8080/"
    },
    "id": "PMEAW4TEPhpp",
    "outputId": "286ff4fe-411a-4119-b5ee-d00bc9d164cf"
   },
   "outputs": [
    {
     "name": "stdout",
     "output_type": "stream",
     "text": [
      "Collecting spotipy\n",
      "  Downloading spotipy-2.19.0-py3-none-any.whl (27 kB)\n",
      "Requirement already satisfied: six>=1.15.0 in /usr/local/lib/python3.7/dist-packages (from spotipy) (1.15.0)\n",
      "Collecting urllib3>=1.26.0\n",
      "  Downloading urllib3-1.26.8-py2.py3-none-any.whl (138 kB)\n",
      "\u001b[K     |████████████████████████████████| 138 kB 14.7 MB/s \n",
      "\u001b[?25hCollecting requests>=2.25.0\n",
      "  Downloading requests-2.27.1-py2.py3-none-any.whl (63 kB)\n",
      "\u001b[K     |████████████████████████████████| 63 kB 687 kB/s \n",
      "\u001b[?25hRequirement already satisfied: charset-normalizer~=2.0.0 in /usr/local/lib/python3.7/dist-packages (from requests>=2.25.0->spotipy) (2.0.11)\n",
      "Requirement already satisfied: certifi>=2017.4.17 in /usr/local/lib/python3.7/dist-packages (from requests>=2.25.0->spotipy) (2021.10.8)\n",
      "Requirement already satisfied: idna<4,>=2.5 in /usr/local/lib/python3.7/dist-packages (from requests>=2.25.0->spotipy) (2.10)\n",
      "Installing collected packages: urllib3, requests, spotipy\n",
      "  Attempting uninstall: urllib3\n",
      "    Found existing installation: urllib3 1.24.3\n",
      "    Uninstalling urllib3-1.24.3:\n",
      "      Successfully uninstalled urllib3-1.24.3\n",
      "  Attempting uninstall: requests\n",
      "    Found existing installation: requests 2.23.0\n",
      "    Uninstalling requests-2.23.0:\n",
      "      Successfully uninstalled requests-2.23.0\n",
      "\u001b[31mERROR: pip's dependency resolver does not currently take into account all the packages that are installed. This behaviour is the source of the following dependency conflicts.\n",
      "google-colab 1.0.0 requires requests~=2.23.0, but you have requests 2.27.1 which is incompatible.\n",
      "datascience 0.10.6 requires folium==0.2.1, but you have folium 0.8.3 which is incompatible.\u001b[0m\n",
      "Successfully installed requests-2.27.1 spotipy-2.19.0 urllib3-1.26.8\n"
     ]
    }
   ],
   "source": [
    "!pip install spotipy"
   ]
  },
  {
   "cell_type": "markdown",
   "metadata": {
    "id": "olzLi0-UT3nx"
   },
   "source": [
    "And then import"
   ]
  },
  {
   "cell_type": "code",
   "execution_count": null,
   "metadata": {
    "id": "nveMRJENSYT1"
   },
   "outputs": [],
   "source": [
    "from spotipy import client\n",
    "import spotipy\n",
    "from spotipy.oauth2 import SpotifyClientCredentials, SpotifyOAuth\n",
    "import sys\n",
    "import pandas as pd\n",
    "import numpy as np\n",
    "import matplotlib.pyplot as plt"
   ]
  },
  {
   "cell_type": "markdown",
   "metadata": {
    "id": "4OBdhG6RRLF8"
   },
   "source": [
    "## Setup developer account\n",
    "\n",
    "You'll need to visit this [link](https://developer.spotify.com/dashboard/) to setup a developer account, then fill in your authorization information below"
   ]
  },
  {
   "cell_type": "code",
   "execution_count": null,
   "metadata": {
    "id": "YrkvXucRPrM4"
   },
   "outputs": [],
   "source": [
    "SPOTIPY_CLIENT_ID = \"\"\n",
    "SPOTIPY_CLIENT_SECRET = \"\""
   ]
  },
  {
   "cell_type": "markdown",
   "metadata": {
    "id": "-Hi-p_ZTSInw"
   },
   "source": [
    "## Top 10 tracks of an artist\n",
    "\n",
    "We can grab the first 10 tracks of Led Zepplin:"
   ]
  },
  {
   "cell_type": "code",
   "execution_count": null,
   "metadata": {
    "colab": {
     "base_uri": "https://localhost:8080/"
    },
    "id": "XLu0yauIISsq",
    "outputId": "3344f7af-f71c-42c4-be9d-3b37ce2f7293"
   },
   "outputs": [
    {
     "name": "stdout",
     "output_type": "stream",
     "text": [
      "0 elephant\n",
      "1 pinecone\n",
      "2 toothbrush\n"
     ]
    }
   ],
   "source": [
    "alist = ['elephant', 'pinecone', 'toothbrush']\n",
    "for index, item in enumerate(alist):\n",
    "  print(str(index) + ' ' + item)"
   ]
  },
  {
   "cell_type": "code",
   "execution_count": null,
   "metadata": {
    "colab": {
     "base_uri": "https://localhost:8080/"
    },
    "id": "BXUbVw0SPcBx",
    "outputId": "bac8adf9-c98f-47c3-8914-09f934daa6cf"
   },
   "outputs": [
    {
     "name": "stdout",
     "output_type": "stream",
     "text": [
      "track    : Stairway to Heaven - Remaster\n",
      "audio    : https://p.scdn.co/mp3-preview/8226164717312bc411f8635580562d67e191a754?cid=93cef3f9255042d7854a6014e0929504\n",
      "cover art: https://i.scdn.co/image/ab67616d0000b273c8a11e48c91a982d086afc69\n",
      "\n",
      "track    : Immigrant Song - Remaster\n",
      "audio    : https://p.scdn.co/mp3-preview/8455599677a13017978dcd3f4b210937f0a16bcb?cid=93cef3f9255042d7854a6014e0929504\n",
      "cover art: https://i.scdn.co/image/ab67616d0000b27390a50cfe99a4c19ff3cbfbdb\n",
      "\n",
      "track    : Whole Lotta Love - 1990 Remaster\n",
      "audio    : https://p.scdn.co/mp3-preview/ce11b19a4d2de9976d7626df0717d0073863909c?cid=93cef3f9255042d7854a6014e0929504\n",
      "cover art: https://i.scdn.co/image/ab67616d0000b273fc4f17340773c6c3579fea0d\n",
      "\n",
      "track    : Black Dog - Remaster\n",
      "audio    : https://p.scdn.co/mp3-preview/9b76619fd9d563a48d38cc90ca00c3008327b52e?cid=93cef3f9255042d7854a6014e0929504\n",
      "cover art: https://i.scdn.co/image/ab67616d0000b273c8a11e48c91a982d086afc69\n",
      "\n",
      "track    : Kashmir - Remaster\n",
      "audio    : https://p.scdn.co/mp3-preview/f3ca68c9ceaa3435d5bd55c0199ba0b09b916cce?cid=93cef3f9255042d7854a6014e0929504\n",
      "cover art: https://i.scdn.co/image/ab67616d0000b273765b0617b572bdd1dbdc7d8e\n",
      "\n",
      "track    : Ramble On - 1990 Remaster\n",
      "audio    : https://p.scdn.co/mp3-preview/83383aceb01ea27b0bffdedfaebe55e29b33aca2?cid=93cef3f9255042d7854a6014e0929504\n",
      "cover art: https://i.scdn.co/image/ab67616d0000b273fc4f17340773c6c3579fea0d\n",
      "\n",
      "track    : Rock and Roll - Remaster\n",
      "audio    : https://p.scdn.co/mp3-preview/e7ea8a13f7caf6942c5447e9cd96aac2a076d85a?cid=93cef3f9255042d7854a6014e0929504\n",
      "cover art: https://i.scdn.co/image/ab67616d0000b273c8a11e48c91a982d086afc69\n",
      "\n",
      "track    : Going to California - Remaster\n",
      "audio    : https://p.scdn.co/mp3-preview/4bdae56c6a9f7a8ec42b753cb7bea2c77ec68f1e?cid=93cef3f9255042d7854a6014e0929504\n",
      "cover art: https://i.scdn.co/image/ab67616d0000b273c8a11e48c91a982d086afc69\n",
      "\n",
      "track    : Good Times Bad Times - 1993 Remaster\n",
      "audio    : https://p.scdn.co/mp3-preview/c1f024eb57b569b926c8e68cab0a6056dc7d9654?cid=93cef3f9255042d7854a6014e0929504\n",
      "cover art: https://i.scdn.co/image/ab67616d0000b2736f2f499c1df1f210c9b34b32\n",
      "\n",
      "track    : D'yer Mak'er - Remaster\n",
      "audio    : https://p.scdn.co/mp3-preview/863a26744fa4389f1dc61557133df3453be82d7b?cid=93cef3f9255042d7854a6014e0929504\n",
      "cover art: https://i.scdn.co/image/ab67616d0000b2731816adce1d49e35d3ce9a1d1\n",
      "\n"
     ]
    }
   ],
   "source": [
    "lz_uri = 'spotify:artist:36QJpDe2go2KgaRleHCDTp'\n",
    "\n",
    "spotify = spotipy.Spotify(client_credentials_manager=SpotifyClientCredentials(\n",
    "    client_id=SPOTIPY_CLIENT_ID,\n",
    "    client_secret=SPOTIPY_CLIENT_SECRET\n",
    "))\n",
    "\n",
    "results = spotify.artist_top_tracks(lz_uri)\n",
    "ids = []\n",
    "\n",
    "for i, track in enumerate(results['tracks']):\n",
    "    ids.append(track['id'])\n",
    "    if i < 10:\n",
    "      print('track    : ' + track['name'])\n",
    "      print('audio    : ' + track['preview_url'])\n",
    "      print('cover art: ' + track['album']['images'][0]['url'])\n",
    "      print()"
   ]
  },
  {
   "cell_type": "markdown",
   "metadata": {
    "id": "Va_TUWtNW8DO"
   },
   "source": [
    "the top tracks API only gives the top 10 tracks by an artist:"
   ]
  },
  {
   "cell_type": "code",
   "execution_count": null,
   "metadata": {
    "colab": {
     "base_uri": "https://localhost:8080/"
    },
    "id": "O09tzRiFV6sk",
    "outputId": "d7af661a-157c-419c-dccf-8974dec0788b"
   },
   "outputs": [
    {
     "data": {
      "text/plain": [
       "10"
      ]
     },
     "execution_count": 30,
     "metadata": {},
     "output_type": "execute_result"
    }
   ],
   "source": [
    "len(ids)"
   ]
  },
  {
   "cell_type": "code",
   "execution_count": null,
   "metadata": {
    "colab": {
     "base_uri": "https://localhost:8080/"
    },
    "id": "-oPOIfR6JrCc",
    "outputId": "4b870bb9-b61f-426a-c320-40371bc67953"
   },
   "outputs": [
    {
     "data": {
      "text/plain": [
       "['5CQ30WqJwcep0pYcV4AMNc',\n",
       " '78lgmZwycJ3nzsdgmPPGNx',\n",
       " '0hCB0YR03f6AmQaHbwWDe8',\n",
       " '3qT4bUD1MaWpGrTwcvguhb',\n",
       " '6Vjk8MNXpQpi0F4BefdTyq',\n",
       " '3MODES4TNtygekLl146Dxd',\n",
       " '4PRGxHpCpF2yoOHYKQIEwD',\n",
       " '70gbuMqwNBE2Y5rkQJE9By',\n",
       " '0QwZfbw26QeUoIy82Z2jYp',\n",
       " '4ItljeeAXtHsnsnnQojaO2']"
      ]
     },
     "execution_count": 31,
     "metadata": {},
     "output_type": "execute_result"
    }
   ],
   "source": [
    "ids"
   ]
  },
  {
   "cell_type": "markdown",
   "metadata": {
    "id": "wFRnAQL2XAvK"
   },
   "source": [
    "Spotify has an audio features API that can be used for ML or data visualization:"
   ]
  },
  {
   "cell_type": "code",
   "execution_count": null,
   "metadata": {
    "colab": {
     "base_uri": "https://localhost:8080/"
    },
    "id": "O8h_2TFuSJMN",
    "outputId": "e36fc4e3-8521-4675-9e71-99493e4a76e6"
   },
   "outputs": [
    {
     "data": {
      "text/plain": [
       "[{'acousticness': 0.58,\n",
       "  'analysis_url': 'https://api.spotify.com/v1/audio-analysis/5CQ30WqJwcep0pYcV4AMNc',\n",
       "  'danceability': 0.338,\n",
       "  'duration_ms': 482830,\n",
       "  'energy': 0.34,\n",
       "  'id': '5CQ30WqJwcep0pYcV4AMNc',\n",
       "  'instrumentalness': 0.0032,\n",
       "  'key': 9,\n",
       "  'liveness': 0.116,\n",
       "  'loudness': -12.049,\n",
       "  'mode': 0,\n",
       "  'speechiness': 0.0339,\n",
       "  'tempo': 82.433,\n",
       "  'time_signature': 4,\n",
       "  'track_href': 'https://api.spotify.com/v1/tracks/5CQ30WqJwcep0pYcV4AMNc',\n",
       "  'type': 'audio_features',\n",
       "  'uri': 'spotify:track:5CQ30WqJwcep0pYcV4AMNc',\n",
       "  'valence': 0.197},\n",
       " {'acousticness': 0.013,\n",
       "  'analysis_url': 'https://api.spotify.com/v1/audio-analysis/78lgmZwycJ3nzsdgmPPGNx',\n",
       "  'danceability': 0.564,\n",
       "  'duration_ms': 146250,\n",
       "  'energy': 0.932,\n",
       "  'id': '78lgmZwycJ3nzsdgmPPGNx',\n",
       "  'instrumentalness': 0.169,\n",
       "  'key': 11,\n",
       "  'liveness': 0.349,\n",
       "  'loudness': -10.068,\n",
       "  'mode': 1,\n",
       "  'speechiness': 0.0554,\n",
       "  'tempo': 112.937,\n",
       "  'time_signature': 4,\n",
       "  'track_href': 'https://api.spotify.com/v1/tracks/78lgmZwycJ3nzsdgmPPGNx',\n",
       "  'type': 'audio_features',\n",
       "  'uri': 'spotify:track:78lgmZwycJ3nzsdgmPPGNx',\n",
       "  'valence': 0.619},\n",
       " {'acousticness': 0.0484,\n",
       "  'analysis_url': 'https://api.spotify.com/v1/audio-analysis/0hCB0YR03f6AmQaHbwWDe8',\n",
       "  'danceability': 0.412,\n",
       "  'duration_ms': 333893,\n",
       "  'energy': 0.902,\n",
       "  'id': '0hCB0YR03f6AmQaHbwWDe8',\n",
       "  'instrumentalness': 0.131,\n",
       "  'key': 9,\n",
       "  'liveness': 0.405,\n",
       "  'loudness': -11.6,\n",
       "  'mode': 1,\n",
       "  'speechiness': 0.405,\n",
       "  'tempo': 89.74,\n",
       "  'time_signature': 4,\n",
       "  'track_href': 'https://api.spotify.com/v1/tracks/0hCB0YR03f6AmQaHbwWDe8',\n",
       "  'type': 'audio_features',\n",
       "  'uri': 'spotify:track:0hCB0YR03f6AmQaHbwWDe8',\n",
       "  'valence': 0.422},\n",
       " {'acousticness': 0.396,\n",
       "  'analysis_url': 'https://api.spotify.com/v1/audio-analysis/3qT4bUD1MaWpGrTwcvguhb',\n",
       "  'danceability': 0.437,\n",
       "  'duration_ms': 295387,\n",
       "  'energy': 0.864,\n",
       "  'id': '3qT4bUD1MaWpGrTwcvguhb',\n",
       "  'instrumentalness': 0.0314,\n",
       "  'key': 4,\n",
       "  'liveness': 0.242,\n",
       "  'loudness': -7.842,\n",
       "  'mode': 0,\n",
       "  'speechiness': 0.0904,\n",
       "  'tempo': 81.394,\n",
       "  'time_signature': 4,\n",
       "  'track_href': 'https://api.spotify.com/v1/tracks/3qT4bUD1MaWpGrTwcvguhb',\n",
       "  'type': 'audio_features',\n",
       "  'uri': 'spotify:track:3qT4bUD1MaWpGrTwcvguhb',\n",
       "  'valence': 0.749},\n",
       " {'acousticness': 0.452,\n",
       "  'analysis_url': 'https://api.spotify.com/v1/audio-analysis/6Vjk8MNXpQpi0F4BefdTyq',\n",
       "  'danceability': 0.483,\n",
       "  'duration_ms': 517125,\n",
       "  'energy': 0.615,\n",
       "  'id': '6Vjk8MNXpQpi0F4BefdTyq',\n",
       "  'instrumentalness': 0.000414,\n",
       "  'key': 2,\n",
       "  'liveness': 0.0512,\n",
       "  'loudness': -8.538,\n",
       "  'mode': 1,\n",
       "  'speechiness': 0.0497,\n",
       "  'tempo': 80.576,\n",
       "  'time_signature': 3,\n",
       "  'track_href': 'https://api.spotify.com/v1/tracks/6Vjk8MNXpQpi0F4BefdTyq',\n",
       "  'type': 'audio_features',\n",
       "  'uri': 'spotify:track:6Vjk8MNXpQpi0F4BefdTyq',\n",
       "  'valence': 0.594},\n",
       " {'acousticness': 0.072,\n",
       "  'analysis_url': 'https://api.spotify.com/v1/audio-analysis/3MODES4TNtygekLl146Dxd',\n",
       "  'danceability': 0.468,\n",
       "  'duration_ms': 263333,\n",
       "  'energy': 0.607,\n",
       "  'id': '3MODES4TNtygekLl146Dxd',\n",
       "  'instrumentalness': 0.000852,\n",
       "  'key': 9,\n",
       "  'liveness': 0.225,\n",
       "  'loudness': -11.367,\n",
       "  'mode': 1,\n",
       "  'speechiness': 0.0336,\n",
       "  'tempo': 98.429,\n",
       "  'time_signature': 4,\n",
       "  'track_href': 'https://api.spotify.com/v1/tracks/3MODES4TNtygekLl146Dxd',\n",
       "  'type': 'audio_features',\n",
       "  'uri': 'spotify:track:3MODES4TNtygekLl146Dxd',\n",
       "  'valence': 0.886},\n",
       " {'acousticness': 0.000582,\n",
       "  'analysis_url': 'https://api.spotify.com/v1/audio-analysis/4PRGxHpCpF2yoOHYKQIEwD',\n",
       "  'danceability': 0.317,\n",
       "  'duration_ms': 220561,\n",
       "  'energy': 0.887,\n",
       "  'id': '4PRGxHpCpF2yoOHYKQIEwD',\n",
       "  'instrumentalness': 0.00258,\n",
       "  'key': 9,\n",
       "  'liveness': 0.0891,\n",
       "  'loudness': -7.292,\n",
       "  'mode': 1,\n",
       "  'speechiness': 0.0375,\n",
       "  'tempo': 169.613,\n",
       "  'time_signature': 4,\n",
       "  'track_href': 'https://api.spotify.com/v1/tracks/4PRGxHpCpF2yoOHYKQIEwD',\n",
       "  'type': 'audio_features',\n",
       "  'uri': 'spotify:track:4PRGxHpCpF2yoOHYKQIEwD',\n",
       "  'valence': 0.871},\n",
       " {'acousticness': 0.943,\n",
       "  'analysis_url': 'https://api.spotify.com/v1/audio-analysis/70gbuMqwNBE2Y5rkQJE9By',\n",
       "  'danceability': 0.503,\n",
       "  'duration_ms': 212161,\n",
       "  'energy': 0.265,\n",
       "  'id': '70gbuMqwNBE2Y5rkQJE9By',\n",
       "  'instrumentalness': 0.045,\n",
       "  'key': 2,\n",
       "  'liveness': 0.0867,\n",
       "  'loudness': -15.913,\n",
       "  'mode': 1,\n",
       "  'speechiness': 0.0333,\n",
       "  'tempo': 78.044,\n",
       "  'time_signature': 4,\n",
       "  'track_href': 'https://api.spotify.com/v1/tracks/70gbuMqwNBE2Y5rkQJE9By',\n",
       "  'type': 'audio_features',\n",
       "  'uri': 'spotify:track:70gbuMqwNBE2Y5rkQJE9By',\n",
       "  'valence': 0.522},\n",
       " {'acousticness': 0.0382,\n",
       "  'analysis_url': 'https://api.spotify.com/v1/audio-analysis/0QwZfbw26QeUoIy82Z2jYp',\n",
       "  'danceability': 0.476,\n",
       "  'duration_ms': 166267,\n",
       "  'energy': 0.717,\n",
       "  'id': '0QwZfbw26QeUoIy82Z2jYp',\n",
       "  'instrumentalness': 7.61e-05,\n",
       "  'key': 9,\n",
       "  'liveness': 0.0818,\n",
       "  'loudness': -9.192,\n",
       "  'mode': 1,\n",
       "  'speechiness': 0.0949,\n",
       "  'tempo': 93.584,\n",
       "  'time_signature': 4,\n",
       "  'track_href': 'https://api.spotify.com/v1/tracks/0QwZfbw26QeUoIy82Z2jYp',\n",
       "  'type': 'audio_features',\n",
       "  'uri': 'spotify:track:0QwZfbw26QeUoIy82Z2jYp',\n",
       "  'valence': 0.753},\n",
       " {'acousticness': 0.262,\n",
       "  'analysis_url': 'https://api.spotify.com/v1/audio-analysis/4ItljeeAXtHsnsnnQojaO2',\n",
       "  'danceability': 0.525,\n",
       "  'duration_ms': 262748,\n",
       "  'energy': 0.929,\n",
       "  'id': '4ItljeeAXtHsnsnnQojaO2',\n",
       "  'instrumentalness': 2.9e-05,\n",
       "  'key': 9,\n",
       "  'liveness': 0.0754,\n",
       "  'loudness': -8.56,\n",
       "  'mode': 0,\n",
       "  'speechiness': 0.0784,\n",
       "  'tempo': 163.503,\n",
       "  'time_signature': 4,\n",
       "  'track_href': 'https://api.spotify.com/v1/tracks/4ItljeeAXtHsnsnnQojaO2',\n",
       "  'type': 'audio_features',\n",
       "  'uri': 'spotify:track:4ItljeeAXtHsnsnnQojaO2',\n",
       "  'valence': 0.556}]"
      ]
     },
     "execution_count": 32,
     "metadata": {},
     "output_type": "execute_result"
    }
   ],
   "source": [
    "features = spotify.audio_features(ids)\n",
    "features"
   ]
  },
  {
   "cell_type": "code",
   "execution_count": null,
   "metadata": {
    "colab": {
     "base_uri": "https://localhost:8080/",
     "height": 600
    },
    "id": "WuhWXEokSTyJ",
    "outputId": "308914b6-740d-4583-b084-1affbd73fa8c"
   },
   "outputs": [
    {
     "data": {
      "text/html": [
       "\n",
       "  <div id=\"df-890574c7-a6f5-4b82-ba68-39683951e1d1\">\n",
       "    <div class=\"colab-df-container\">\n",
       "      <div>\n",
       "<style scoped>\n",
       "    .dataframe tbody tr th:only-of-type {\n",
       "        vertical-align: middle;\n",
       "    }\n",
       "\n",
       "    .dataframe tbody tr th {\n",
       "        vertical-align: top;\n",
       "    }\n",
       "\n",
       "    .dataframe thead th {\n",
       "        text-align: right;\n",
       "    }\n",
       "</style>\n",
       "<table border=\"1\" class=\"dataframe\">\n",
       "  <thead>\n",
       "    <tr style=\"text-align: right;\">\n",
       "      <th></th>\n",
       "      <th>danceability</th>\n",
       "      <th>energy</th>\n",
       "      <th>key</th>\n",
       "      <th>loudness</th>\n",
       "      <th>mode</th>\n",
       "      <th>speechiness</th>\n",
       "      <th>acousticness</th>\n",
       "      <th>instrumentalness</th>\n",
       "      <th>liveness</th>\n",
       "      <th>valence</th>\n",
       "      <th>tempo</th>\n",
       "      <th>type</th>\n",
       "      <th>id</th>\n",
       "      <th>uri</th>\n",
       "      <th>track_href</th>\n",
       "      <th>analysis_url</th>\n",
       "      <th>duration_ms</th>\n",
       "      <th>time_signature</th>\n",
       "    </tr>\n",
       "  </thead>\n",
       "  <tbody>\n",
       "    <tr>\n",
       "      <th>0</th>\n",
       "      <td>0.338</td>\n",
       "      <td>0.340</td>\n",
       "      <td>9</td>\n",
       "      <td>-12.049</td>\n",
       "      <td>0</td>\n",
       "      <td>0.0339</td>\n",
       "      <td>0.580000</td>\n",
       "      <td>0.003200</td>\n",
       "      <td>0.1160</td>\n",
       "      <td>0.197</td>\n",
       "      <td>82.433</td>\n",
       "      <td>audio_features</td>\n",
       "      <td>5CQ30WqJwcep0pYcV4AMNc</td>\n",
       "      <td>spotify:track:5CQ30WqJwcep0pYcV4AMNc</td>\n",
       "      <td>https://api.spotify.com/v1/tracks/5CQ30WqJwcep...</td>\n",
       "      <td>https://api.spotify.com/v1/audio-analysis/5CQ3...</td>\n",
       "      <td>482830</td>\n",
       "      <td>4</td>\n",
       "    </tr>\n",
       "    <tr>\n",
       "      <th>1</th>\n",
       "      <td>0.564</td>\n",
       "      <td>0.932</td>\n",
       "      <td>11</td>\n",
       "      <td>-10.068</td>\n",
       "      <td>1</td>\n",
       "      <td>0.0554</td>\n",
       "      <td>0.013000</td>\n",
       "      <td>0.169000</td>\n",
       "      <td>0.3490</td>\n",
       "      <td>0.619</td>\n",
       "      <td>112.937</td>\n",
       "      <td>audio_features</td>\n",
       "      <td>78lgmZwycJ3nzsdgmPPGNx</td>\n",
       "      <td>spotify:track:78lgmZwycJ3nzsdgmPPGNx</td>\n",
       "      <td>https://api.spotify.com/v1/tracks/78lgmZwycJ3n...</td>\n",
       "      <td>https://api.spotify.com/v1/audio-analysis/78lg...</td>\n",
       "      <td>146250</td>\n",
       "      <td>4</td>\n",
       "    </tr>\n",
       "    <tr>\n",
       "      <th>2</th>\n",
       "      <td>0.412</td>\n",
       "      <td>0.902</td>\n",
       "      <td>9</td>\n",
       "      <td>-11.600</td>\n",
       "      <td>1</td>\n",
       "      <td>0.4050</td>\n",
       "      <td>0.048400</td>\n",
       "      <td>0.131000</td>\n",
       "      <td>0.4050</td>\n",
       "      <td>0.422</td>\n",
       "      <td>89.740</td>\n",
       "      <td>audio_features</td>\n",
       "      <td>0hCB0YR03f6AmQaHbwWDe8</td>\n",
       "      <td>spotify:track:0hCB0YR03f6AmQaHbwWDe8</td>\n",
       "      <td>https://api.spotify.com/v1/tracks/0hCB0YR03f6A...</td>\n",
       "      <td>https://api.spotify.com/v1/audio-analysis/0hCB...</td>\n",
       "      <td>333893</td>\n",
       "      <td>4</td>\n",
       "    </tr>\n",
       "    <tr>\n",
       "      <th>3</th>\n",
       "      <td>0.437</td>\n",
       "      <td>0.864</td>\n",
       "      <td>4</td>\n",
       "      <td>-7.842</td>\n",
       "      <td>0</td>\n",
       "      <td>0.0904</td>\n",
       "      <td>0.396000</td>\n",
       "      <td>0.031400</td>\n",
       "      <td>0.2420</td>\n",
       "      <td>0.749</td>\n",
       "      <td>81.394</td>\n",
       "      <td>audio_features</td>\n",
       "      <td>3qT4bUD1MaWpGrTwcvguhb</td>\n",
       "      <td>spotify:track:3qT4bUD1MaWpGrTwcvguhb</td>\n",
       "      <td>https://api.spotify.com/v1/tracks/3qT4bUD1MaWp...</td>\n",
       "      <td>https://api.spotify.com/v1/audio-analysis/3qT4...</td>\n",
       "      <td>295387</td>\n",
       "      <td>4</td>\n",
       "    </tr>\n",
       "    <tr>\n",
       "      <th>4</th>\n",
       "      <td>0.483</td>\n",
       "      <td>0.615</td>\n",
       "      <td>2</td>\n",
       "      <td>-8.538</td>\n",
       "      <td>1</td>\n",
       "      <td>0.0497</td>\n",
       "      <td>0.452000</td>\n",
       "      <td>0.000414</td>\n",
       "      <td>0.0512</td>\n",
       "      <td>0.594</td>\n",
       "      <td>80.576</td>\n",
       "      <td>audio_features</td>\n",
       "      <td>6Vjk8MNXpQpi0F4BefdTyq</td>\n",
       "      <td>spotify:track:6Vjk8MNXpQpi0F4BefdTyq</td>\n",
       "      <td>https://api.spotify.com/v1/tracks/6Vjk8MNXpQpi...</td>\n",
       "      <td>https://api.spotify.com/v1/audio-analysis/6Vjk...</td>\n",
       "      <td>517125</td>\n",
       "      <td>3</td>\n",
       "    </tr>\n",
       "    <tr>\n",
       "      <th>5</th>\n",
       "      <td>0.468</td>\n",
       "      <td>0.607</td>\n",
       "      <td>9</td>\n",
       "      <td>-11.367</td>\n",
       "      <td>1</td>\n",
       "      <td>0.0336</td>\n",
       "      <td>0.072000</td>\n",
       "      <td>0.000852</td>\n",
       "      <td>0.2250</td>\n",
       "      <td>0.886</td>\n",
       "      <td>98.429</td>\n",
       "      <td>audio_features</td>\n",
       "      <td>3MODES4TNtygekLl146Dxd</td>\n",
       "      <td>spotify:track:3MODES4TNtygekLl146Dxd</td>\n",
       "      <td>https://api.spotify.com/v1/tracks/3MODES4TNtyg...</td>\n",
       "      <td>https://api.spotify.com/v1/audio-analysis/3MOD...</td>\n",
       "      <td>263333</td>\n",
       "      <td>4</td>\n",
       "    </tr>\n",
       "    <tr>\n",
       "      <th>6</th>\n",
       "      <td>0.317</td>\n",
       "      <td>0.887</td>\n",
       "      <td>9</td>\n",
       "      <td>-7.292</td>\n",
       "      <td>1</td>\n",
       "      <td>0.0375</td>\n",
       "      <td>0.000582</td>\n",
       "      <td>0.002580</td>\n",
       "      <td>0.0891</td>\n",
       "      <td>0.871</td>\n",
       "      <td>169.613</td>\n",
       "      <td>audio_features</td>\n",
       "      <td>4PRGxHpCpF2yoOHYKQIEwD</td>\n",
       "      <td>spotify:track:4PRGxHpCpF2yoOHYKQIEwD</td>\n",
       "      <td>https://api.spotify.com/v1/tracks/4PRGxHpCpF2y...</td>\n",
       "      <td>https://api.spotify.com/v1/audio-analysis/4PRG...</td>\n",
       "      <td>220561</td>\n",
       "      <td>4</td>\n",
       "    </tr>\n",
       "    <tr>\n",
       "      <th>7</th>\n",
       "      <td>0.503</td>\n",
       "      <td>0.265</td>\n",
       "      <td>2</td>\n",
       "      <td>-15.913</td>\n",
       "      <td>1</td>\n",
       "      <td>0.0333</td>\n",
       "      <td>0.943000</td>\n",
       "      <td>0.045000</td>\n",
       "      <td>0.0867</td>\n",
       "      <td>0.522</td>\n",
       "      <td>78.044</td>\n",
       "      <td>audio_features</td>\n",
       "      <td>70gbuMqwNBE2Y5rkQJE9By</td>\n",
       "      <td>spotify:track:70gbuMqwNBE2Y5rkQJE9By</td>\n",
       "      <td>https://api.spotify.com/v1/tracks/70gbuMqwNBE2...</td>\n",
       "      <td>https://api.spotify.com/v1/audio-analysis/70gb...</td>\n",
       "      <td>212161</td>\n",
       "      <td>4</td>\n",
       "    </tr>\n",
       "    <tr>\n",
       "      <th>8</th>\n",
       "      <td>0.476</td>\n",
       "      <td>0.717</td>\n",
       "      <td>9</td>\n",
       "      <td>-9.192</td>\n",
       "      <td>1</td>\n",
       "      <td>0.0949</td>\n",
       "      <td>0.038200</td>\n",
       "      <td>0.000076</td>\n",
       "      <td>0.0818</td>\n",
       "      <td>0.753</td>\n",
       "      <td>93.584</td>\n",
       "      <td>audio_features</td>\n",
       "      <td>0QwZfbw26QeUoIy82Z2jYp</td>\n",
       "      <td>spotify:track:0QwZfbw26QeUoIy82Z2jYp</td>\n",
       "      <td>https://api.spotify.com/v1/tracks/0QwZfbw26QeU...</td>\n",
       "      <td>https://api.spotify.com/v1/audio-analysis/0QwZ...</td>\n",
       "      <td>166267</td>\n",
       "      <td>4</td>\n",
       "    </tr>\n",
       "    <tr>\n",
       "      <th>9</th>\n",
       "      <td>0.525</td>\n",
       "      <td>0.929</td>\n",
       "      <td>9</td>\n",
       "      <td>-8.560</td>\n",
       "      <td>0</td>\n",
       "      <td>0.0784</td>\n",
       "      <td>0.262000</td>\n",
       "      <td>0.000029</td>\n",
       "      <td>0.0754</td>\n",
       "      <td>0.556</td>\n",
       "      <td>163.503</td>\n",
       "      <td>audio_features</td>\n",
       "      <td>4ItljeeAXtHsnsnnQojaO2</td>\n",
       "      <td>spotify:track:4ItljeeAXtHsnsnnQojaO2</td>\n",
       "      <td>https://api.spotify.com/v1/tracks/4ItljeeAXtHs...</td>\n",
       "      <td>https://api.spotify.com/v1/audio-analysis/4Itl...</td>\n",
       "      <td>262748</td>\n",
       "      <td>4</td>\n",
       "    </tr>\n",
       "  </tbody>\n",
       "</table>\n",
       "</div>\n",
       "      <button class=\"colab-df-convert\" onclick=\"convertToInteractive('df-890574c7-a6f5-4b82-ba68-39683951e1d1')\"\n",
       "              title=\"Convert this dataframe to an interactive table.\"\n",
       "              style=\"display:none;\">\n",
       "        \n",
       "  <svg xmlns=\"http://www.w3.org/2000/svg\" height=\"24px\"viewBox=\"0 0 24 24\"\n",
       "       width=\"24px\">\n",
       "    <path d=\"M0 0h24v24H0V0z\" fill=\"none\"/>\n",
       "    <path d=\"M18.56 5.44l.94 2.06.94-2.06 2.06-.94-2.06-.94-.94-2.06-.94 2.06-2.06.94zm-11 1L8.5 8.5l.94-2.06 2.06-.94-2.06-.94L8.5 2.5l-.94 2.06-2.06.94zm10 10l.94 2.06.94-2.06 2.06-.94-2.06-.94-.94-2.06-.94 2.06-2.06.94z\"/><path d=\"M17.41 7.96l-1.37-1.37c-.4-.4-.92-.59-1.43-.59-.52 0-1.04.2-1.43.59L10.3 9.45l-7.72 7.72c-.78.78-.78 2.05 0 2.83L4 21.41c.39.39.9.59 1.41.59.51 0 1.02-.2 1.41-.59l7.78-7.78 2.81-2.81c.8-.78.8-2.07 0-2.86zM5.41 20L4 18.59l7.72-7.72 1.47 1.35L5.41 20z\"/>\n",
       "  </svg>\n",
       "      </button>\n",
       "      \n",
       "  <style>\n",
       "    .colab-df-container {\n",
       "      display:flex;\n",
       "      flex-wrap:wrap;\n",
       "      gap: 12px;\n",
       "    }\n",
       "\n",
       "    .colab-df-convert {\n",
       "      background-color: #E8F0FE;\n",
       "      border: none;\n",
       "      border-radius: 50%;\n",
       "      cursor: pointer;\n",
       "      display: none;\n",
       "      fill: #1967D2;\n",
       "      height: 32px;\n",
       "      padding: 0 0 0 0;\n",
       "      width: 32px;\n",
       "    }\n",
       "\n",
       "    .colab-df-convert:hover {\n",
       "      background-color: #E2EBFA;\n",
       "      box-shadow: 0px 1px 2px rgba(60, 64, 67, 0.3), 0px 1px 3px 1px rgba(60, 64, 67, 0.15);\n",
       "      fill: #174EA6;\n",
       "    }\n",
       "\n",
       "    [theme=dark] .colab-df-convert {\n",
       "      background-color: #3B4455;\n",
       "      fill: #D2E3FC;\n",
       "    }\n",
       "\n",
       "    [theme=dark] .colab-df-convert:hover {\n",
       "      background-color: #434B5C;\n",
       "      box-shadow: 0px 1px 3px 1px rgba(0, 0, 0, 0.15);\n",
       "      filter: drop-shadow(0px 1px 2px rgba(0, 0, 0, 0.3));\n",
       "      fill: #FFFFFF;\n",
       "    }\n",
       "  </style>\n",
       "\n",
       "      <script>\n",
       "        const buttonEl =\n",
       "          document.querySelector('#df-890574c7-a6f5-4b82-ba68-39683951e1d1 button.colab-df-convert');\n",
       "        buttonEl.style.display =\n",
       "          google.colab.kernel.accessAllowed ? 'block' : 'none';\n",
       "\n",
       "        async function convertToInteractive(key) {\n",
       "          const element = document.querySelector('#df-890574c7-a6f5-4b82-ba68-39683951e1d1');\n",
       "          const dataTable =\n",
       "            await google.colab.kernel.invokeFunction('convertToInteractive',\n",
       "                                                     [key], {});\n",
       "          if (!dataTable) return;\n",
       "\n",
       "          const docLinkHtml = 'Like what you see? Visit the ' +\n",
       "            '<a target=\"_blank\" href=https://colab.research.google.com/notebooks/data_table.ipynb>data table notebook</a>'\n",
       "            + ' to learn more about interactive tables.';\n",
       "          element.innerHTML = '';\n",
       "          dataTable['output_type'] = 'display_data';\n",
       "          await google.colab.output.renderOutput(dataTable, element);\n",
       "          const docLink = document.createElement('div');\n",
       "          docLink.innerHTML = docLinkHtml;\n",
       "          element.appendChild(docLink);\n",
       "        }\n",
       "      </script>\n",
       "    </div>\n",
       "  </div>\n",
       "  "
      ],
      "text/plain": [
       "   danceability  energy  ...  duration_ms  time_signature\n",
       "0         0.338   0.340  ...       482830               4\n",
       "1         0.564   0.932  ...       146250               4\n",
       "2         0.412   0.902  ...       333893               4\n",
       "3         0.437   0.864  ...       295387               4\n",
       "4         0.483   0.615  ...       517125               3\n",
       "5         0.468   0.607  ...       263333               4\n",
       "6         0.317   0.887  ...       220561               4\n",
       "7         0.503   0.265  ...       212161               4\n",
       "8         0.476   0.717  ...       166267               4\n",
       "9         0.525   0.929  ...       262748               4\n",
       "\n",
       "[10 rows x 18 columns]"
      ]
     },
     "execution_count": 33,
     "metadata": {},
     "output_type": "execute_result"
    }
   ],
   "source": [
    "pd.DataFrame(features)"
   ]
  },
  {
   "cell_type": "markdown",
   "metadata": {
    "id": "twwhUVrSZLMZ"
   },
   "source": [
    "### Add additional artists\n",
    "\n",
    "Let's get some other artist data to compare with:"
   ]
  },
  {
   "cell_type": "code",
   "execution_count": null,
   "metadata": {
    "id": "thcVOXiUYYh_"
   },
   "outputs": [],
   "source": [
    "artist_dict = {'zep': '36QJpDe2go2KgaRleHCDTp',\n",
    "               'tswift': '06HL4z0CvFAxyc27GXpf02',\n",
    "               'debussy': '1Uff91EOsvd99rtAupatMP',\n",
    "               'luttrell': '4EOyJnoiiOJ4vuNhSBArB2',\n",
    "               'johnwill': '3dRfiJ2650SZu6GbydcHNb'}\n",
    "\n",
    "color_dict = {'zep': 'tab:blue',\n",
    "               'tswift': 'tab:green',\n",
    "               'debussy': 'tab:orange',\n",
    "               'luttrell': 'tab:red',\n",
    "               'johnwill': 'tab:pink'}"
   ]
  },
  {
   "cell_type": "code",
   "execution_count": null,
   "metadata": {
    "colab": {
     "base_uri": "https://localhost:8080/"
    },
    "id": "sMiR1patLe_c",
    "outputId": "e275f744-5a91-4506-b5e1-72f38473e362"
   },
   "outputs": [
    {
     "name": "stdout",
     "output_type": "stream",
     "text": [
      "zep 36QJpDe2go2KgaRleHCDTp\n",
      "tswift 06HL4z0CvFAxyc27GXpf02\n",
      "debussy 1Uff91EOsvd99rtAupatMP\n",
      "luttrell 4EOyJnoiiOJ4vuNhSBArB2\n",
      "johnwill 3dRfiJ2650SZu6GbydcHNb\n"
     ]
    }
   ],
   "source": [
    "for artist, uri in artist_dict.items():\n",
    "  print(artist + ' ' + uri)"
   ]
  },
  {
   "cell_type": "code",
   "execution_count": null,
   "metadata": {
    "colab": {
     "base_uri": "https://localhost:8080/"
    },
    "id": "Vz9DntnAaVpg",
    "outputId": "62f5d684-6fa7-43d4-ac0a-8e9129a1007d"
   },
   "outputs": [
    {
     "name": "stdout",
     "output_type": "stream",
     "text": [
      "track    : Stairway to Heaven - Remaster\n",
      "cover art: https://i.scdn.co/image/ab67616d0000b273c8a11e48c91a982d086afc69\n",
      "\n",
      "track    : All Too Well (10 Minute Version) (Taylor's Version) (From The Vault)\n",
      "cover art: https://i.scdn.co/image/ab67616d0000b273318443aab3531a0558e79a4d\n",
      "\n",
      "track    : Clair de Lune, L. 32\n",
      "cover art: https://i.scdn.co/image/ab67616d0000b2736e7bb273ff9cb1de1e1d4d0a\n",
      "\n",
      "track    : Twin Souls\n",
      "cover art: https://i.scdn.co/image/ab67616d0000b2735dea3da9d2751a0fa7b23fd3\n",
      "\n",
      "track    : Carol of the Bells\n",
      "cover art: https://i.scdn.co/image/ab67616d0000b273a68c06155b7c3cf82b00cb96\n",
      "\n"
     ]
    }
   ],
   "source": [
    "ids = []\n",
    "artists = []\n",
    "colors = []\n",
    "for artist, uri in artist_dict.items():\n",
    "  results = spotify.artist_top_tracks('spotify:artist:' + uri)\n",
    "  \n",
    "\n",
    "  for i, track in enumerate(results['tracks']):\n",
    "      ids.append(track['id'])\n",
    "      artists.append(artist)\n",
    "      colors.append(color_dict[artist])\n",
    "      if i < 1:\n",
    "        print('track    : ' + track['name'])\n",
    "        print('cover art: ' + track['album']['images'][0]['url'])\n",
    "        print()"
   ]
  },
  {
   "cell_type": "code",
   "execution_count": null,
   "metadata": {
    "colab": {
     "base_uri": "https://localhost:8080/"
    },
    "id": "EgLHW8zaa8Th",
    "outputId": "ff7ef1c7-2c2f-4ed9-d30d-b87c2b2f2ab5"
   },
   "outputs": [
    {
     "name": "stdout",
     "output_type": "stream",
     "text": [
      "Index(['danceability', 'energy', 'key', 'loudness', 'mode', 'speechiness',\n",
      "       'acousticness', 'instrumentalness', 'liveness', 'valence', 'tempo'],\n",
      "      dtype='object')\n"
     ]
    }
   ],
   "source": [
    "features = spotify.audio_features(ids)\n",
    "df = pd.DataFrame(features)\n",
    "df['artist'] = artists\n",
    "df['color'] = colors\n",
    "feat_names = df.columns[:11]\n",
    "print(feat_names)"
   ]
  },
  {
   "cell_type": "code",
   "execution_count": null,
   "metadata": {
    "colab": {
     "base_uri": "https://localhost:8080/",
     "height": 357
    },
    "id": "WLgLNNsUcBCV",
    "outputId": "d4fb7aeb-139c-464f-b5be-e84a671e56a9"
   },
   "outputs": [
    {
     "data": {
      "text/html": [
       "\n",
       "  <div id=\"df-6d0dc347-5e08-435e-9e9e-6e330d52b2fa\">\n",
       "    <div class=\"colab-df-container\">\n",
       "      <div>\n",
       "<style scoped>\n",
       "    .dataframe tbody tr th:only-of-type {\n",
       "        vertical-align: middle;\n",
       "    }\n",
       "\n",
       "    .dataframe tbody tr th {\n",
       "        vertical-align: top;\n",
       "    }\n",
       "\n",
       "    .dataframe thead th {\n",
       "        text-align: right;\n",
       "    }\n",
       "</style>\n",
       "<table border=\"1\" class=\"dataframe\">\n",
       "  <thead>\n",
       "    <tr style=\"text-align: right;\">\n",
       "      <th></th>\n",
       "      <th>danceability</th>\n",
       "      <th>energy</th>\n",
       "      <th>key</th>\n",
       "      <th>loudness</th>\n",
       "      <th>mode</th>\n",
       "      <th>speechiness</th>\n",
       "      <th>acousticness</th>\n",
       "      <th>instrumentalness</th>\n",
       "      <th>liveness</th>\n",
       "      <th>valence</th>\n",
       "      <th>tempo</th>\n",
       "      <th>type</th>\n",
       "      <th>id</th>\n",
       "      <th>uri</th>\n",
       "      <th>track_href</th>\n",
       "      <th>analysis_url</th>\n",
       "      <th>duration_ms</th>\n",
       "      <th>time_signature</th>\n",
       "      <th>artist</th>\n",
       "      <th>color</th>\n",
       "    </tr>\n",
       "  </thead>\n",
       "  <tbody>\n",
       "    <tr>\n",
       "      <th>0</th>\n",
       "      <td>0.338</td>\n",
       "      <td>0.340</td>\n",
       "      <td>9</td>\n",
       "      <td>-12.049</td>\n",
       "      <td>0</td>\n",
       "      <td>0.0339</td>\n",
       "      <td>0.5800</td>\n",
       "      <td>0.003200</td>\n",
       "      <td>0.1160</td>\n",
       "      <td>0.197</td>\n",
       "      <td>82.433</td>\n",
       "      <td>audio_features</td>\n",
       "      <td>5CQ30WqJwcep0pYcV4AMNc</td>\n",
       "      <td>spotify:track:5CQ30WqJwcep0pYcV4AMNc</td>\n",
       "      <td>https://api.spotify.com/v1/tracks/5CQ30WqJwcep...</td>\n",
       "      <td>https://api.spotify.com/v1/audio-analysis/5CQ3...</td>\n",
       "      <td>482830</td>\n",
       "      <td>4</td>\n",
       "      <td>zep</td>\n",
       "      <td>tab:blue</td>\n",
       "    </tr>\n",
       "    <tr>\n",
       "      <th>1</th>\n",
       "      <td>0.564</td>\n",
       "      <td>0.932</td>\n",
       "      <td>11</td>\n",
       "      <td>-10.068</td>\n",
       "      <td>1</td>\n",
       "      <td>0.0554</td>\n",
       "      <td>0.0130</td>\n",
       "      <td>0.169000</td>\n",
       "      <td>0.3490</td>\n",
       "      <td>0.619</td>\n",
       "      <td>112.937</td>\n",
       "      <td>audio_features</td>\n",
       "      <td>78lgmZwycJ3nzsdgmPPGNx</td>\n",
       "      <td>spotify:track:78lgmZwycJ3nzsdgmPPGNx</td>\n",
       "      <td>https://api.spotify.com/v1/tracks/78lgmZwycJ3n...</td>\n",
       "      <td>https://api.spotify.com/v1/audio-analysis/78lg...</td>\n",
       "      <td>146250</td>\n",
       "      <td>4</td>\n",
       "      <td>zep</td>\n",
       "      <td>tab:blue</td>\n",
       "    </tr>\n",
       "    <tr>\n",
       "      <th>2</th>\n",
       "      <td>0.412</td>\n",
       "      <td>0.902</td>\n",
       "      <td>9</td>\n",
       "      <td>-11.600</td>\n",
       "      <td>1</td>\n",
       "      <td>0.4050</td>\n",
       "      <td>0.0484</td>\n",
       "      <td>0.131000</td>\n",
       "      <td>0.4050</td>\n",
       "      <td>0.422</td>\n",
       "      <td>89.740</td>\n",
       "      <td>audio_features</td>\n",
       "      <td>0hCB0YR03f6AmQaHbwWDe8</td>\n",
       "      <td>spotify:track:0hCB0YR03f6AmQaHbwWDe8</td>\n",
       "      <td>https://api.spotify.com/v1/tracks/0hCB0YR03f6A...</td>\n",
       "      <td>https://api.spotify.com/v1/audio-analysis/0hCB...</td>\n",
       "      <td>333893</td>\n",
       "      <td>4</td>\n",
       "      <td>zep</td>\n",
       "      <td>tab:blue</td>\n",
       "    </tr>\n",
       "    <tr>\n",
       "      <th>3</th>\n",
       "      <td>0.437</td>\n",
       "      <td>0.864</td>\n",
       "      <td>4</td>\n",
       "      <td>-7.842</td>\n",
       "      <td>0</td>\n",
       "      <td>0.0904</td>\n",
       "      <td>0.3960</td>\n",
       "      <td>0.031400</td>\n",
       "      <td>0.2420</td>\n",
       "      <td>0.749</td>\n",
       "      <td>81.394</td>\n",
       "      <td>audio_features</td>\n",
       "      <td>3qT4bUD1MaWpGrTwcvguhb</td>\n",
       "      <td>spotify:track:3qT4bUD1MaWpGrTwcvguhb</td>\n",
       "      <td>https://api.spotify.com/v1/tracks/3qT4bUD1MaWp...</td>\n",
       "      <td>https://api.spotify.com/v1/audio-analysis/3qT4...</td>\n",
       "      <td>295387</td>\n",
       "      <td>4</td>\n",
       "      <td>zep</td>\n",
       "      <td>tab:blue</td>\n",
       "    </tr>\n",
       "    <tr>\n",
       "      <th>4</th>\n",
       "      <td>0.483</td>\n",
       "      <td>0.615</td>\n",
       "      <td>2</td>\n",
       "      <td>-8.538</td>\n",
       "      <td>1</td>\n",
       "      <td>0.0497</td>\n",
       "      <td>0.4520</td>\n",
       "      <td>0.000414</td>\n",
       "      <td>0.0512</td>\n",
       "      <td>0.594</td>\n",
       "      <td>80.576</td>\n",
       "      <td>audio_features</td>\n",
       "      <td>6Vjk8MNXpQpi0F4BefdTyq</td>\n",
       "      <td>spotify:track:6Vjk8MNXpQpi0F4BefdTyq</td>\n",
       "      <td>https://api.spotify.com/v1/tracks/6Vjk8MNXpQpi...</td>\n",
       "      <td>https://api.spotify.com/v1/audio-analysis/6Vjk...</td>\n",
       "      <td>517125</td>\n",
       "      <td>3</td>\n",
       "      <td>zep</td>\n",
       "      <td>tab:blue</td>\n",
       "    </tr>\n",
       "  </tbody>\n",
       "</table>\n",
       "</div>\n",
       "      <button class=\"colab-df-convert\" onclick=\"convertToInteractive('df-6d0dc347-5e08-435e-9e9e-6e330d52b2fa')\"\n",
       "              title=\"Convert this dataframe to an interactive table.\"\n",
       "              style=\"display:none;\">\n",
       "        \n",
       "  <svg xmlns=\"http://www.w3.org/2000/svg\" height=\"24px\"viewBox=\"0 0 24 24\"\n",
       "       width=\"24px\">\n",
       "    <path d=\"M0 0h24v24H0V0z\" fill=\"none\"/>\n",
       "    <path d=\"M18.56 5.44l.94 2.06.94-2.06 2.06-.94-2.06-.94-.94-2.06-.94 2.06-2.06.94zm-11 1L8.5 8.5l.94-2.06 2.06-.94-2.06-.94L8.5 2.5l-.94 2.06-2.06.94zm10 10l.94 2.06.94-2.06 2.06-.94-2.06-.94-.94-2.06-.94 2.06-2.06.94z\"/><path d=\"M17.41 7.96l-1.37-1.37c-.4-.4-.92-.59-1.43-.59-.52 0-1.04.2-1.43.59L10.3 9.45l-7.72 7.72c-.78.78-.78 2.05 0 2.83L4 21.41c.39.39.9.59 1.41.59.51 0 1.02-.2 1.41-.59l7.78-7.78 2.81-2.81c.8-.78.8-2.07 0-2.86zM5.41 20L4 18.59l7.72-7.72 1.47 1.35L5.41 20z\"/>\n",
       "  </svg>\n",
       "      </button>\n",
       "      \n",
       "  <style>\n",
       "    .colab-df-container {\n",
       "      display:flex;\n",
       "      flex-wrap:wrap;\n",
       "      gap: 12px;\n",
       "    }\n",
       "\n",
       "    .colab-df-convert {\n",
       "      background-color: #E8F0FE;\n",
       "      border: none;\n",
       "      border-radius: 50%;\n",
       "      cursor: pointer;\n",
       "      display: none;\n",
       "      fill: #1967D2;\n",
       "      height: 32px;\n",
       "      padding: 0 0 0 0;\n",
       "      width: 32px;\n",
       "    }\n",
       "\n",
       "    .colab-df-convert:hover {\n",
       "      background-color: #E2EBFA;\n",
       "      box-shadow: 0px 1px 2px rgba(60, 64, 67, 0.3), 0px 1px 3px 1px rgba(60, 64, 67, 0.15);\n",
       "      fill: #174EA6;\n",
       "    }\n",
       "\n",
       "    [theme=dark] .colab-df-convert {\n",
       "      background-color: #3B4455;\n",
       "      fill: #D2E3FC;\n",
       "    }\n",
       "\n",
       "    [theme=dark] .colab-df-convert:hover {\n",
       "      background-color: #434B5C;\n",
       "      box-shadow: 0px 1px 3px 1px rgba(0, 0, 0, 0.15);\n",
       "      filter: drop-shadow(0px 1px 2px rgba(0, 0, 0, 0.3));\n",
       "      fill: #FFFFFF;\n",
       "    }\n",
       "  </style>\n",
       "\n",
       "      <script>\n",
       "        const buttonEl =\n",
       "          document.querySelector('#df-6d0dc347-5e08-435e-9e9e-6e330d52b2fa button.colab-df-convert');\n",
       "        buttonEl.style.display =\n",
       "          google.colab.kernel.accessAllowed ? 'block' : 'none';\n",
       "\n",
       "        async function convertToInteractive(key) {\n",
       "          const element = document.querySelector('#df-6d0dc347-5e08-435e-9e9e-6e330d52b2fa');\n",
       "          const dataTable =\n",
       "            await google.colab.kernel.invokeFunction('convertToInteractive',\n",
       "                                                     [key], {});\n",
       "          if (!dataTable) return;\n",
       "\n",
       "          const docLinkHtml = 'Like what you see? Visit the ' +\n",
       "            '<a target=\"_blank\" href=https://colab.research.google.com/notebooks/data_table.ipynb>data table notebook</a>'\n",
       "            + ' to learn more about interactive tables.';\n",
       "          element.innerHTML = '';\n",
       "          dataTable['output_type'] = 'display_data';\n",
       "          await google.colab.output.renderOutput(dataTable, element);\n",
       "          const docLink = document.createElement('div');\n",
       "          docLink.innerHTML = docLinkHtml;\n",
       "          element.appendChild(docLink);\n",
       "        }\n",
       "      </script>\n",
       "    </div>\n",
       "  </div>\n",
       "  "
      ],
      "text/plain": [
       "   danceability  energy  key  ...  time_signature  artist     color\n",
       "0         0.338   0.340    9  ...               4     zep  tab:blue\n",
       "1         0.564   0.932   11  ...               4     zep  tab:blue\n",
       "2         0.412   0.902    9  ...               4     zep  tab:blue\n",
       "3         0.437   0.864    4  ...               4     zep  tab:blue\n",
       "4         0.483   0.615    2  ...               3     zep  tab:blue\n",
       "\n",
       "[5 rows x 20 columns]"
      ]
     },
     "execution_count": 41,
     "metadata": {},
     "output_type": "execute_result"
    }
   ],
   "source": [
    "df.head()"
   ]
  },
  {
   "cell_type": "markdown",
   "metadata": {
    "id": "ZQ3QyicRbxpm"
   },
   "source": [
    "### Visualize the audio features"
   ]
  },
  {
   "cell_type": "code",
   "execution_count": null,
   "metadata": {
    "colab": {
     "base_uri": "https://localhost:8080/",
     "height": 237
    },
    "id": "4FQ8pRWrbz7y",
    "outputId": "05d1dbab-439f-4bdb-9ce9-840fab7524a9"
   },
   "outputs": [
    {
     "data": {
      "text/html": [
       "\n",
       "  <div id=\"df-9b6af801-f599-448f-819a-7c444303c54e\">\n",
       "    <div class=\"colab-df-container\">\n",
       "      <div>\n",
       "<style scoped>\n",
       "    .dataframe tbody tr th:only-of-type {\n",
       "        vertical-align: middle;\n",
       "    }\n",
       "\n",
       "    .dataframe tbody tr th {\n",
       "        vertical-align: top;\n",
       "    }\n",
       "\n",
       "    .dataframe thead th {\n",
       "        text-align: right;\n",
       "    }\n",
       "</style>\n",
       "<table border=\"1\" class=\"dataframe\">\n",
       "  <thead>\n",
       "    <tr style=\"text-align: right;\">\n",
       "      <th></th>\n",
       "      <th>danceability</th>\n",
       "      <th>energy</th>\n",
       "      <th>key</th>\n",
       "      <th>loudness</th>\n",
       "      <th>mode</th>\n",
       "      <th>speechiness</th>\n",
       "      <th>acousticness</th>\n",
       "      <th>instrumentalness</th>\n",
       "      <th>liveness</th>\n",
       "      <th>valence</th>\n",
       "      <th>tempo</th>\n",
       "    </tr>\n",
       "    <tr>\n",
       "      <th>artist</th>\n",
       "      <th></th>\n",
       "      <th></th>\n",
       "      <th></th>\n",
       "      <th></th>\n",
       "      <th></th>\n",
       "      <th></th>\n",
       "      <th></th>\n",
       "      <th></th>\n",
       "      <th></th>\n",
       "      <th></th>\n",
       "      <th></th>\n",
       "    </tr>\n",
       "  </thead>\n",
       "  <tbody>\n",
       "    <tr>\n",
       "      <th>debussy</th>\n",
       "      <td>0.2868</td>\n",
       "      <td>0.019716</td>\n",
       "      <td>3.6</td>\n",
       "      <td>-30.3510</td>\n",
       "      <td>0.8</td>\n",
       "      <td>0.04209</td>\n",
       "      <td>0.990800</td>\n",
       "      <td>0.927000</td>\n",
       "      <td>0.07817</td>\n",
       "      <td>0.07747</td>\n",
       "      <td>81.2996</td>\n",
       "    </tr>\n",
       "    <tr>\n",
       "      <th>johnwill</th>\n",
       "      <td>0.2783</td>\n",
       "      <td>0.151770</td>\n",
       "      <td>3.9</td>\n",
       "      <td>-20.4347</td>\n",
       "      <td>0.5</td>\n",
       "      <td>0.03766</td>\n",
       "      <td>0.903000</td>\n",
       "      <td>0.615920</td>\n",
       "      <td>0.18085</td>\n",
       "      <td>0.19182</td>\n",
       "      <td>87.2151</td>\n",
       "    </tr>\n",
       "    <tr>\n",
       "      <th>luttrell</th>\n",
       "      <td>0.5310</td>\n",
       "      <td>0.706000</td>\n",
       "      <td>4.5</td>\n",
       "      <td>-9.3468</td>\n",
       "      <td>0.7</td>\n",
       "      <td>0.03504</td>\n",
       "      <td>0.127682</td>\n",
       "      <td>0.669259</td>\n",
       "      <td>0.18714</td>\n",
       "      <td>0.16701</td>\n",
       "      <td>117.5059</td>\n",
       "    </tr>\n",
       "    <tr>\n",
       "      <th>tswift</th>\n",
       "      <td>0.5073</td>\n",
       "      <td>0.621700</td>\n",
       "      <td>4.2</td>\n",
       "      <td>-6.4014</td>\n",
       "      <td>0.9</td>\n",
       "      <td>0.05926</td>\n",
       "      <td>0.198158</td>\n",
       "      <td>0.000263</td>\n",
       "      <td>0.13591</td>\n",
       "      <td>0.40550</td>\n",
       "      <td>125.7815</td>\n",
       "    </tr>\n",
       "    <tr>\n",
       "      <th>zep</th>\n",
       "      <td>0.4523</td>\n",
       "      <td>0.705800</td>\n",
       "      <td>7.3</td>\n",
       "      <td>-10.2421</td>\n",
       "      <td>0.7</td>\n",
       "      <td>0.09121</td>\n",
       "      <td>0.280518</td>\n",
       "      <td>0.038355</td>\n",
       "      <td>0.17212</td>\n",
       "      <td>0.61690</td>\n",
       "      <td>105.0253</td>\n",
       "    </tr>\n",
       "  </tbody>\n",
       "</table>\n",
       "</div>\n",
       "      <button class=\"colab-df-convert\" onclick=\"convertToInteractive('df-9b6af801-f599-448f-819a-7c444303c54e')\"\n",
       "              title=\"Convert this dataframe to an interactive table.\"\n",
       "              style=\"display:none;\">\n",
       "        \n",
       "  <svg xmlns=\"http://www.w3.org/2000/svg\" height=\"24px\"viewBox=\"0 0 24 24\"\n",
       "       width=\"24px\">\n",
       "    <path d=\"M0 0h24v24H0V0z\" fill=\"none\"/>\n",
       "    <path d=\"M18.56 5.44l.94 2.06.94-2.06 2.06-.94-2.06-.94-.94-2.06-.94 2.06-2.06.94zm-11 1L8.5 8.5l.94-2.06 2.06-.94-2.06-.94L8.5 2.5l-.94 2.06-2.06.94zm10 10l.94 2.06.94-2.06 2.06-.94-2.06-.94-.94-2.06-.94 2.06-2.06.94z\"/><path d=\"M17.41 7.96l-1.37-1.37c-.4-.4-.92-.59-1.43-.59-.52 0-1.04.2-1.43.59L10.3 9.45l-7.72 7.72c-.78.78-.78 2.05 0 2.83L4 21.41c.39.39.9.59 1.41.59.51 0 1.02-.2 1.41-.59l7.78-7.78 2.81-2.81c.8-.78.8-2.07 0-2.86zM5.41 20L4 18.59l7.72-7.72 1.47 1.35L5.41 20z\"/>\n",
       "  </svg>\n",
       "      </button>\n",
       "      \n",
       "  <style>\n",
       "    .colab-df-container {\n",
       "      display:flex;\n",
       "      flex-wrap:wrap;\n",
       "      gap: 12px;\n",
       "    }\n",
       "\n",
       "    .colab-df-convert {\n",
       "      background-color: #E8F0FE;\n",
       "      border: none;\n",
       "      border-radius: 50%;\n",
       "      cursor: pointer;\n",
       "      display: none;\n",
       "      fill: #1967D2;\n",
       "      height: 32px;\n",
       "      padding: 0 0 0 0;\n",
       "      width: 32px;\n",
       "    }\n",
       "\n",
       "    .colab-df-convert:hover {\n",
       "      background-color: #E2EBFA;\n",
       "      box-shadow: 0px 1px 2px rgba(60, 64, 67, 0.3), 0px 1px 3px 1px rgba(60, 64, 67, 0.15);\n",
       "      fill: #174EA6;\n",
       "    }\n",
       "\n",
       "    [theme=dark] .colab-df-convert {\n",
       "      background-color: #3B4455;\n",
       "      fill: #D2E3FC;\n",
       "    }\n",
       "\n",
       "    [theme=dark] .colab-df-convert:hover {\n",
       "      background-color: #434B5C;\n",
       "      box-shadow: 0px 1px 3px 1px rgba(0, 0, 0, 0.15);\n",
       "      filter: drop-shadow(0px 1px 2px rgba(0, 0, 0, 0.3));\n",
       "      fill: #FFFFFF;\n",
       "    }\n",
       "  </style>\n",
       "\n",
       "      <script>\n",
       "        const buttonEl =\n",
       "          document.querySelector('#df-9b6af801-f599-448f-819a-7c444303c54e button.colab-df-convert');\n",
       "        buttonEl.style.display =\n",
       "          google.colab.kernel.accessAllowed ? 'block' : 'none';\n",
       "\n",
       "        async function convertToInteractive(key) {\n",
       "          const element = document.querySelector('#df-9b6af801-f599-448f-819a-7c444303c54e');\n",
       "          const dataTable =\n",
       "            await google.colab.kernel.invokeFunction('convertToInteractive',\n",
       "                                                     [key], {});\n",
       "          if (!dataTable) return;\n",
       "\n",
       "          const docLinkHtml = 'Like what you see? Visit the ' +\n",
       "            '<a target=\"_blank\" href=https://colab.research.google.com/notebooks/data_table.ipynb>data table notebook</a>'\n",
       "            + ' to learn more about interactive tables.';\n",
       "          element.innerHTML = '';\n",
       "          dataTable['output_type'] = 'display_data';\n",
       "          await google.colab.output.renderOutput(dataTable, element);\n",
       "          const docLink = document.createElement('div');\n",
       "          docLink.innerHTML = docLinkHtml;\n",
       "          element.appendChild(docLink);\n",
       "        }\n",
       "      </script>\n",
       "    </div>\n",
       "  </div>\n",
       "  "
      ],
      "text/plain": [
       "          danceability    energy  key  ...  liveness  valence     tempo\n",
       "artist                                 ...                             \n",
       "debussy         0.2868  0.019716  3.6  ...   0.07817  0.07747   81.2996\n",
       "johnwill        0.2783  0.151770  3.9  ...   0.18085  0.19182   87.2151\n",
       "luttrell        0.5310  0.706000  4.5  ...   0.18714  0.16701  117.5059\n",
       "tswift          0.5073  0.621700  4.2  ...   0.13591  0.40550  125.7815\n",
       "zep             0.4523  0.705800  7.3  ...   0.17212  0.61690  105.0253\n",
       "\n",
       "[5 rows x 11 columns]"
      ]
     },
     "execution_count": 42,
     "metadata": {},
     "output_type": "execute_result"
    }
   ],
   "source": [
    "# <groupby>.<select>.<agg operation>\n",
    "df.groupby('artist')[feat_names].mean()"
   ]
  },
  {
   "cell_type": "code",
   "execution_count": null,
   "metadata": {
    "colab": {
     "base_uri": "https://localhost:8080/",
     "height": 609
    },
    "id": "gCNkND8YcWT2",
    "outputId": "0cf18fbf-2204-424f-9469-a1deba50daf1"
   },
   "outputs": [
    {
     "data": {
      "text/plain": [
       "<matplotlib.axes._subplots.AxesSubplot at 0x7f7e11316ad0>"
      ]
     },
     "execution_count": 14,
     "metadata": {},
     "output_type": "execute_result"
    },
    {
     "data": {
      "image/png": "[encoded data removed]",
      "text/plain": [
       "<Figure size 720x720 with 1 Axes>"
      ]
     },
     "metadata": {
      "needs_background": "light"
     },
     "output_type": "display_data"
    }
   ],
   "source": [
    "fig, ax = plt.subplots(figsize=(10,10))\n",
    "df.groupby('artist')[feat_names].mean().plot(kind='barh', ax=ax)"
   ]
  },
  {
   "cell_type": "markdown",
   "metadata": {
    "id": "aPwpskx5dEa0"
   },
   "source": [
    "we see that it is difficult to see all the features together at once. One tactic may be to normalize the features"
   ]
  },
  {
   "cell_type": "code",
   "execution_count": null,
   "metadata": {
    "id": "E4-bN5I8TAA1"
   },
   "outputs": [],
   "source": [
    "# (x - x.min()) / (x.max() - x.min())"
   ]
  },
  {
   "cell_type": "code",
   "execution_count": null,
   "metadata": {
    "id": "WuM2mGeAdI1_"
   },
   "outputs": [],
   "source": [
    "scaled = df[feat_names].apply(lambda x: (x - x.mean()) / (x.std()))\n",
    "scaled['artist'] = df['artist']"
   ]
  },
  {
   "cell_type": "code",
   "execution_count": null,
   "metadata": {
    "colab": {
     "base_uri": "https://localhost:8080/",
     "height": 609
    },
    "id": "77Qd-S89eeRA",
    "outputId": "7cd23a38-a022-40f3-b1fe-234e7966e4e0"
   },
   "outputs": [
    {
     "data": {
      "text/plain": [
       "<matplotlib.axes._subplots.AxesSubplot at 0x7f9c3412a390>"
      ]
     },
     "execution_count": 54,
     "metadata": {},
     "output_type": "execute_result"
    },
    {
     "data": {
      "image/png": "[encoded data removed]",
      "text/plain": [
       "<Figure size 720x720 with 1 Axes>"
      ]
     },
     "metadata": {
      "needs_background": "light"
     },
     "output_type": "display_data"
    }
   ],
   "source": [
    "fig, ax = plt.subplots(figsize=(10,10))\n",
    "scaled.groupby('artist')[feat_names].mean().plot(kind='barh', ax=ax)"
   ]
  },
  {
   "cell_type": "markdown",
   "metadata": {
    "id": "KeQiM75ChKNJ"
   },
   "source": [
    "We can then investigate if these scaled and centered features separate out under a dimensionality reduction (a topic we explore in unsupervised learning):"
   ]
  },
  {
   "cell_type": "code",
   "execution_count": null,
   "metadata": {
    "colab": {
     "base_uri": "https://localhost:8080/",
     "height": 206
    },
    "id": "UuN2Q8qJVcnF",
    "outputId": "66c4f913-68ab-495b-fd8c-25aae36fe784"
   },
   "outputs": [
    {
     "data": {
      "text/html": [
       "\n",
       "  <div id=\"df-4fc0a0b1-1bdc-4606-b8d6-1bebbaf9462d\">\n",
       "    <div class=\"colab-df-container\">\n",
       "      <div>\n",
       "<style scoped>\n",
       "    .dataframe tbody tr th:only-of-type {\n",
       "        vertical-align: middle;\n",
       "    }\n",
       "\n",
       "    .dataframe tbody tr th {\n",
       "        vertical-align: top;\n",
       "    }\n",
       "\n",
       "    .dataframe thead th {\n",
       "        text-align: right;\n",
       "    }\n",
       "</style>\n",
       "<table border=\"1\" class=\"dataframe\">\n",
       "  <thead>\n",
       "    <tr style=\"text-align: right;\">\n",
       "      <th></th>\n",
       "      <th>danceability</th>\n",
       "      <th>energy</th>\n",
       "      <th>key</th>\n",
       "      <th>loudness</th>\n",
       "      <th>mode</th>\n",
       "      <th>speechiness</th>\n",
       "      <th>acousticness</th>\n",
       "      <th>instrumentalness</th>\n",
       "      <th>liveness</th>\n",
       "      <th>valence</th>\n",
       "      <th>tempo</th>\n",
       "    </tr>\n",
       "  </thead>\n",
       "  <tbody>\n",
       "    <tr>\n",
       "      <th>0</th>\n",
       "      <td>-0.469349</td>\n",
       "      <td>-0.300769</td>\n",
       "      <td>1.218214</td>\n",
       "      <td>0.351423</td>\n",
       "      <td>-1.587451</td>\n",
       "      <td>-0.342620</td>\n",
       "      <td>0.186938</td>\n",
       "      <td>-1.068262</td>\n",
       "      <td>-0.305866</td>\n",
       "      <td>-0.356202</td>\n",
       "      <td>-0.626640</td>\n",
       "    </tr>\n",
       "    <tr>\n",
       "      <th>1</th>\n",
       "      <td>0.980922</td>\n",
       "      <td>1.462203</td>\n",
       "      <td>1.784825</td>\n",
       "      <td>0.561988</td>\n",
       "      <td>0.617342</td>\n",
       "      <td>0.042005</td>\n",
       "      <td>-1.138510</td>\n",
       "      <td>-0.671989</td>\n",
       "      <td>1.739793</td>\n",
       "      <td>1.230425</td>\n",
       "      <td>0.286535</td>\n",
       "    </tr>\n",
       "    <tr>\n",
       "      <th>2</th>\n",
       "      <td>0.005519</td>\n",
       "      <td>1.372864</td>\n",
       "      <td>1.218214</td>\n",
       "      <td>0.399148</td>\n",
       "      <td>0.617342</td>\n",
       "      <td>6.296175</td>\n",
       "      <td>-1.055757</td>\n",
       "      <td>-0.762811</td>\n",
       "      <td>2.231454</td>\n",
       "      <td>0.489749</td>\n",
       "      <td>-0.407896</td>\n",
       "    </tr>\n",
       "    <tr>\n",
       "      <th>3</th>\n",
       "      <td>0.165947</td>\n",
       "      <td>1.259700</td>\n",
       "      <td>-0.198314</td>\n",
       "      <td>0.798594</td>\n",
       "      <td>-1.587451</td>\n",
       "      <td>0.668137</td>\n",
       "      <td>-0.243189</td>\n",
       "      <td>-1.000862</td>\n",
       "      <td>0.800371</td>\n",
       "      <td>1.719197</td>\n",
       "      <td>-0.657743</td>\n",
       "    </tr>\n",
       "    <tr>\n",
       "      <th>4</th>\n",
       "      <td>0.461135</td>\n",
       "      <td>0.518179</td>\n",
       "      <td>-0.764925</td>\n",
       "      <td>0.724615</td>\n",
       "      <td>0.617342</td>\n",
       "      <td>-0.059966</td>\n",
       "      <td>-0.112281</td>\n",
       "      <td>-1.074920</td>\n",
       "      <td>-0.874787</td>\n",
       "      <td>1.136431</td>\n",
       "      <td>-0.682231</td>\n",
       "    </tr>\n",
       "  </tbody>\n",
       "</table>\n",
       "</div>\n",
       "      <button class=\"colab-df-convert\" onclick=\"convertToInteractive('df-4fc0a0b1-1bdc-4606-b8d6-1bebbaf9462d')\"\n",
       "              title=\"Convert this dataframe to an interactive table.\"\n",
       "              style=\"display:none;\">\n",
       "        \n",
       "  <svg xmlns=\"http://www.w3.org/2000/svg\" height=\"24px\"viewBox=\"0 0 24 24\"\n",
       "       width=\"24px\">\n",
       "    <path d=\"M0 0h24v24H0V0z\" fill=\"none\"/>\n",
       "    <path d=\"M18.56 5.44l.94 2.06.94-2.06 2.06-.94-2.06-.94-.94-2.06-.94 2.06-2.06.94zm-11 1L8.5 8.5l.94-2.06 2.06-.94-2.06-.94L8.5 2.5l-.94 2.06-2.06.94zm10 10l.94 2.06.94-2.06 2.06-.94-2.06-.94-.94-2.06-.94 2.06-2.06.94z\"/><path d=\"M17.41 7.96l-1.37-1.37c-.4-.4-.92-.59-1.43-.59-.52 0-1.04.2-1.43.59L10.3 9.45l-7.72 7.72c-.78.78-.78 2.05 0 2.83L4 21.41c.39.39.9.59 1.41.59.51 0 1.02-.2 1.41-.59l7.78-7.78 2.81-2.81c.8-.78.8-2.07 0-2.86zM5.41 20L4 18.59l7.72-7.72 1.47 1.35L5.41 20z\"/>\n",
       "  </svg>\n",
       "      </button>\n",
       "      \n",
       "  <style>\n",
       "    .colab-df-container {\n",
       "      display:flex;\n",
       "      flex-wrap:wrap;\n",
       "      gap: 12px;\n",
       "    }\n",
       "\n",
       "    .colab-df-convert {\n",
       "      background-color: #E8F0FE;\n",
       "      border: none;\n",
       "      border-radius: 50%;\n",
       "      cursor: pointer;\n",
       "      display: none;\n",
       "      fill: #1967D2;\n",
       "      height: 32px;\n",
       "      padding: 0 0 0 0;\n",
       "      width: 32px;\n",
       "    }\n",
       "\n",
       "    .colab-df-convert:hover {\n",
       "      background-color: #E2EBFA;\n",
       "      box-shadow: 0px 1px 2px rgba(60, 64, 67, 0.3), 0px 1px 3px 1px rgba(60, 64, 67, 0.15);\n",
       "      fill: #174EA6;\n",
       "    }\n",
       "\n",
       "    [theme=dark] .colab-df-convert {\n",
       "      background-color: #3B4455;\n",
       "      fill: #D2E3FC;\n",
       "    }\n",
       "\n",
       "    [theme=dark] .colab-df-convert:hover {\n",
       "      background-color: #434B5C;\n",
       "      box-shadow: 0px 1px 3px 1px rgba(0, 0, 0, 0.15);\n",
       "      filter: drop-shadow(0px 1px 2px rgba(0, 0, 0, 0.3));\n",
       "      fill: #FFFFFF;\n",
       "    }\n",
       "  </style>\n",
       "\n",
       "      <script>\n",
       "        const buttonEl =\n",
       "          document.querySelector('#df-4fc0a0b1-1bdc-4606-b8d6-1bebbaf9462d button.colab-df-convert');\n",
       "        buttonEl.style.display =\n",
       "          google.colab.kernel.accessAllowed ? 'block' : 'none';\n",
       "\n",
       "        async function convertToInteractive(key) {\n",
       "          const element = document.querySelector('#df-4fc0a0b1-1bdc-4606-b8d6-1bebbaf9462d');\n",
       "          const dataTable =\n",
       "            await google.colab.kernel.invokeFunction('convertToInteractive',\n",
       "                                                     [key], {});\n",
       "          if (!dataTable) return;\n",
       "\n",
       "          const docLinkHtml = 'Like what you see? Visit the ' +\n",
       "            '<a target=\"_blank\" href=https://colab.research.google.com/notebooks/data_table.ipynb>data table notebook</a>'\n",
       "            + ' to learn more about interactive tables.';\n",
       "          element.innerHTML = '';\n",
       "          dataTable['output_type'] = 'display_data';\n",
       "          await google.colab.output.renderOutput(dataTable, element);\n",
       "          const docLink = document.createElement('div');\n",
       "          docLink.innerHTML = docLinkHtml;\n",
       "          element.appendChild(docLink);\n",
       "        }\n",
       "      </script>\n",
       "    </div>\n",
       "  </div>\n",
       "  "
      ],
      "text/plain": [
       "   danceability    energy       key  ...  liveness   valence     tempo\n",
       "0     -0.469349 -0.300769  1.218214  ... -0.305866 -0.356202 -0.626640\n",
       "1      0.980922  1.462203  1.784825  ...  1.739793  1.230425  0.286535\n",
       "2      0.005519  1.372864  1.218214  ...  2.231454  0.489749 -0.407896\n",
       "3      0.165947  1.259700 -0.198314  ...  0.800371  1.719197 -0.657743\n",
       "4      0.461135  0.518179 -0.764925  ... -0.874787  1.136431 -0.682231\n",
       "\n",
       "[5 rows x 11 columns]"
      ]
     },
     "execution_count": 56,
     "metadata": {},
     "output_type": "execute_result"
    }
   ],
   "source": [
    "scaled[feat_names].head()"
   ]
  },
  {
   "cell_type": "code",
   "execution_count": null,
   "metadata": {
    "colab": {
     "base_uri": "https://localhost:8080/"
    },
    "id": "7I0DjchmfOmD",
    "outputId": "22e8bd84-fba2-4db0-8ac9-5c14ed8019c0"
   },
   "outputs": [
    {
     "data": {
      "text/plain": [
       "PCA(n_components=2)"
      ]
     },
     "execution_count": 17,
     "metadata": {},
     "output_type": "execute_result"
    }
   ],
   "source": [
    "from sklearn.decomposition import PCA\n",
    "pca = PCA(n_components=2)\n",
    "pca.fit(scaled[feat_names])"
   ]
  },
  {
   "cell_type": "code",
   "execution_count": null,
   "metadata": {
    "colab": {
     "base_uri": "https://localhost:8080/"
    },
    "id": "W6PLZJriVkAQ",
    "outputId": "eec25398-cf7a-4c91-e27a-968640e2dfd3"
   },
   "outputs": [
    {
     "data": {
      "text/plain": [
       "{'debussy': 'tab:orange',\n",
       " 'johnwill': 'tab:pink',\n",
       " 'luttrell': 'tab:red',\n",
       " 'tswift': 'tab:green',\n",
       " 'zep': 'tab:blue'}"
      ]
     },
     "execution_count": 57,
     "metadata": {},
     "output_type": "execute_result"
    }
   ],
   "source": [
    "color_dict"
   ]
  },
  {
   "cell_type": "code",
   "execution_count": null,
   "metadata": {
    "colab": {
     "base_uri": "https://localhost:8080/",
     "height": 297
    },
    "id": "p1RpmK0ifZvm",
    "outputId": "58165e05-fd6f-48d6-a9e1-54faf1779768"
   },
   "outputs": [
    {
     "data": {
      "text/plain": [
       "Text(0, 0.5, 'Second PC')"
      ]
     },
     "execution_count": 18,
     "metadata": {},
     "output_type": "execute_result"
    },
    {
     "data": {
      "image/png": "[encoded data removed]",
      "text/plain": [
       "<Figure size 432x288 with 1 Axes>"
      ]
     },
     "metadata": {
      "needs_background": "light"
     },
     "output_type": "display_data"
    }
   ],
   "source": [
    "X_pca = pca.transform(df[feat_names])\n",
    "\n",
    "plt.scatter(X_pca[:, 0], X_pca[:, 1], alpha=0.8, c=df['color'].values,\n",
    "            edgecolor='grey')\n",
    "plt.xlabel('First PC')\n",
    "plt.ylabel('Second PC')"
   ]
  },
  {
   "cell_type": "markdown",
   "metadata": {
    "id": "0nPCrrzpZgAE"
   },
   "source": [
    "## 🏋️‍♀️ Exercises"
   ]
  },
  {
   "cell_type": "markdown",
   "metadata": {
    "id": "zWdX6NwZrBT9"
   },
   "source": [
    "### 🕵️‍♀️ Exercise 1: Find artist urls and build dataset\n",
    "\n",
    "a. Navigate to the Spotify web application, pick 5 artists and update the the dictionary below"
   ]
  },
  {
   "cell_type": "code",
   "execution_count": null,
   "metadata": {
    "colab": {
     "base_uri": "https://localhost:8080/"
    },
    "id": "q9IDQ3HOZqHa",
    "outputId": "c1561754-8995-46c2-ef4f-da5b6328fa20"
   },
   "outputs": [
    {
     "data": {
      "text/plain": [
       "OrderedDict([('tab:blue', '#1f77b4'),\n",
       "             ('tab:orange', '#ff7f0e'),\n",
       "             ('tab:green', '#2ca02c'),\n",
       "             ('tab:red', '#d62728'),\n",
       "             ('tab:purple', '#9467bd'),\n",
       "             ('tab:brown', '#8c564b'),\n",
       "             ('tab:pink', '#e377c2'),\n",
       "             ('tab:gray', '#7f7f7f'),\n",
       "             ('tab:olive', '#bcbd22'),\n",
       "             ('tab:cyan', '#17becf')])"
      ]
     },
     "execution_count": 58,
     "metadata": {},
     "output_type": "execute_result"
    }
   ],
   "source": [
    "import matplotlib.colors as mcolors\n",
    "mcolors.TABLEAU_COLORS"
   ]
  },
  {
   "cell_type": "code",
   "execution_count": null,
   "metadata": {
    "id": "khExXw4_q4zZ"
   },
   "outputs": [],
   "source": [
    "# Cell for 1.a\n",
    "\n",
    "artist_dict = {'zep': '36QJpDe2go2KgaRleHCDTp',\n",
    "               'tswift': '06HL4z0CvFAxyc27GXpf02',\n",
    "               'debussy': '1Uff91EOsvd99rtAupatMP',\n",
    "               'luttrell': '4EOyJnoiiOJ4vuNhSBArB2',\n",
    "               'johnwill': '3dRfiJ2650SZu6GbydcHNb',\n",
    "               'chopin': '7y97mc3bZRFXzT2szRM4L4',\n",
    "               '2pac': '1ZwdS5xdxEREPySFridCfh',\n",
    "               'ganja': '1a6oIpEh4DGgaqgWg5xwd3'}\n",
    "\n",
    "color_dict = {'zep': 'tab:blue',\n",
    "               'tswift': 'tab:green',\n",
    "               'debussy': 'tab:orange',\n",
    "               'luttrell': 'tab:red',\n",
    "               'johnwill': 'tab:pink',\n",
    "               'chopin': 'tab:brown',\n",
    "               '2pac': 'tab:gray',\n",
    "               'ganja': 'tab:purple'}"
   ]
  },
  {
   "cell_type": "markdown",
   "metadata": {
    "id": "6ioIfKEerbnM"
   },
   "source": [
    "b. build feature set using `spotify.artist_top_tracks('spotify:artist:' + uri)` and storing the resultant track information"
   ]
  },
  {
   "cell_type": "code",
   "execution_count": null,
   "metadata": {
    "colab": {
     "base_uri": "https://localhost:8080/"
    },
    "id": "tEWkxlsfrnCo",
    "outputId": "107b22fa-81ce-44f1-c4eb-f693f407f707"
   },
   "outputs": [
    {
     "name": "stdout",
     "output_type": "stream",
     "text": [
      "track    : Stairway to Heaven - Remaster\n",
      "cover art: https://i.scdn.co/image/ab67616d0000b273c8a11e48c91a982d086afc69\n",
      "\n",
      "track    : All Too Well (10 Minute Version) (Taylor's Version) (From The Vault)\n",
      "cover art: https://i.scdn.co/image/ab67616d0000b273318443aab3531a0558e79a4d\n",
      "\n",
      "track    : Clair de Lune, L. 32\n",
      "cover art: https://i.scdn.co/image/ab67616d0000b2736e7bb273ff9cb1de1e1d4d0a\n",
      "\n",
      "track    : Twin Souls\n",
      "cover art: https://i.scdn.co/image/ab67616d0000b2735dea3da9d2751a0fa7b23fd3\n",
      "\n",
      "track    : Carol of the Bells\n",
      "cover art: https://i.scdn.co/image/ab67616d0000b273a68c06155b7c3cf82b00cb96\n",
      "\n",
      "track    : Nocturne No. 2 in E-Flat Major, Op. 9 No. 2\n",
      "cover art: https://i.scdn.co/image/ab67616d0000b27355c82855070525581e2c6fee\n",
      "\n",
      "track    : Hit 'Em Up - Single Version\n",
      "cover art: https://i.scdn.co/image/ab67616d0000b273d81a092eb373ded457d94eec\n",
      "\n",
      "track    : Miss You\n",
      "cover art: https://i.scdn.co/image/ab67616d0000b273bbfbb9cd91d8676f68676e59\n",
      "\n"
     ]
    }
   ],
   "source": [
    "# Cell for 1.b\n",
    "ids = []\n",
    "artists = []\n",
    "colors = []\n",
    "for artist, uri in artist_dict.items():\n",
    "  results = spotify.artist_top_tracks('spotify:artist:' + uri)\n",
    "  \n",
    "\n",
    "  for i, track in enumerate(results['tracks']):\n",
    "      ids.append(track['id'])\n",
    "      artists.append(artist)\n",
    "      colors.append(color_dict[artist])\n",
    "      if i < 1:\n",
    "        print('track    : ' + track['name'])\n",
    "        print('cover art: ' + track['album']['images'][0]['url'])\n",
    "        print()"
   ]
  },
  {
   "cell_type": "code",
   "execution_count": null,
   "metadata": {
    "colab": {
     "base_uri": "https://localhost:8080/"
    },
    "id": "LT1MCtUPZ7pu",
    "outputId": "ab917f61-1f89-43c9-b065-11c3dba47d0c"
   },
   "outputs": [
    {
     "name": "stdout",
     "output_type": "stream",
     "text": [
      "Index(['danceability', 'energy', 'key', 'loudness', 'mode', 'speechiness',\n",
      "       'acousticness', 'instrumentalness', 'liveness', 'valence', 'tempo'],\n",
      "      dtype='object')\n"
     ]
    }
   ],
   "source": [
    "features = spotify.audio_features(ids)\n",
    "df = pd.DataFrame(features)\n",
    "df['artist'] = artists\n",
    "df['color'] = colors\n",
    "feat_names = df.columns[:11]\n",
    "print(feat_names)"
   ]
  },
  {
   "cell_type": "markdown",
   "metadata": {
    "id": "kO2rgwqLrMcc"
   },
   "source": [
    "### 💫 Exercise 2: Visualize Features\n",
    "\n",
    "a. Create a boxplot of each feature, grouped by artist (similar to example above)"
   ]
  },
  {
   "cell_type": "code",
   "execution_count": null,
   "metadata": {
    "colab": {
     "base_uri": "https://localhost:8080/",
     "height": 1000
    },
    "id": "jmxoCuyurt56",
    "outputId": "1ac8f6fb-a69d-4f73-81b8-d80283f3c7cd"
   },
   "outputs": [
    {
     "data": {
      "image/png": "[encoded data removed]",
      "text/plain": [
       "<Figure size 720x1800 with 12 Axes>"
      ]
     },
     "metadata": {
      "needs_background": "light"
     },
     "output_type": "display_data"
    }
   ],
   "source": [
    "# Cell for 2.a\n",
    "fig, ax = plt.subplots(6, 2, figsize=(10,25))\n",
    "indices = np.argwhere(ax)\n",
    "for index, feature in enumerate(feat_names):\n",
    "  df.boxplot(by='artist', column=feature, ax=ax[indices[index][0],\n",
    "                                                indices[index][1]])\n",
    "plt.tight_layout()"
   ]
  },
  {
   "cell_type": "markdown",
   "metadata": {
    "id": "YT7RPvofr3Tk"
   },
   "source": [
    "b. Normalize the features this time, then create the boxplot"
   ]
  },
  {
   "cell_type": "code",
   "execution_count": 130,
   "metadata": {
    "colab": {
     "base_uri": "https://localhost:8080/",
     "height": 1000
    },
    "id": "K6M7K5vYr8oq",
    "outputId": "807f34e8-4c1e-49f5-a72a-a4228d79d9f9"
   },
   "outputs": [
    {
     "data": {
      "image/png": "[encoded data removed]",
      "text/plain": [
       "<Figure size 720x1800 with 12 Axes>"
      ]
     },
     "metadata": {
      "needs_background": "light"
     },
     "output_type": "display_data"
    }
   ],
   "source": [
    "# Cell for 2.b\n",
    "scaled = df[feat_names].apply(lambda x: (x - x.mean()) / (x.std()))\n",
    "scaled['artist'] = df['artist']\n",
    "\n",
    "fig, ax = plt.subplots(6, 2, figsize=(10,25))\n",
    "indices = np.argwhere(ax)\n",
    "for index, feature in enumerate(feat_names):\n",
    "  scaled.boxplot(by='artist', column=feature, ax=ax[indices[index][0],\n",
    "                                                indices[index][1]])\n",
    "plt.tight_layout()"
   ]
  },
  {
   "cell_type": "markdown",
   "metadata": {
    "id": "dgRT7O6er9mv"
   },
   "source": [
    "### ⚖️ Exercise 3: Write a function that returns a similarity score between two artists\n"
   ]
  },
  {
   "cell_type": "code",
   "execution_count": null,
   "metadata": {
    "colab": {
     "base_uri": "https://localhost:8080/",
     "height": 331
    },
    "id": "-fJ6VDpRsN1g",
    "outputId": "0c5d35aa-a389-4fb3-d01a-6ccaaee7f0fa"
   },
   "outputs": [
    {
     "data": {
      "text/html": [
       "\n",
       "  <div id=\"df-25aa3c40-8912-4bd4-8bfe-89649b1d23e2\">\n",
       "    <div class=\"colab-df-container\">\n",
       "      <div>\n",
       "<style scoped>\n",
       "    .dataframe tbody tr th:only-of-type {\n",
       "        vertical-align: middle;\n",
       "    }\n",
       "\n",
       "    .dataframe tbody tr th {\n",
       "        vertical-align: top;\n",
       "    }\n",
       "\n",
       "    .dataframe thead th {\n",
       "        text-align: right;\n",
       "    }\n",
       "</style>\n",
       "<table border=\"1\" class=\"dataframe\">\n",
       "  <thead>\n",
       "    <tr style=\"text-align: right;\">\n",
       "      <th></th>\n",
       "      <th>danceability</th>\n",
       "      <th>energy</th>\n",
       "      <th>key</th>\n",
       "      <th>loudness</th>\n",
       "      <th>mode</th>\n",
       "      <th>speechiness</th>\n",
       "      <th>acousticness</th>\n",
       "      <th>instrumentalness</th>\n",
       "      <th>liveness</th>\n",
       "      <th>valence</th>\n",
       "      <th>tempo</th>\n",
       "    </tr>\n",
       "    <tr>\n",
       "      <th>artist</th>\n",
       "      <th></th>\n",
       "      <th></th>\n",
       "      <th></th>\n",
       "      <th></th>\n",
       "      <th></th>\n",
       "      <th></th>\n",
       "      <th></th>\n",
       "      <th></th>\n",
       "      <th></th>\n",
       "      <th></th>\n",
       "      <th></th>\n",
       "    </tr>\n",
       "  </thead>\n",
       "  <tbody>\n",
       "    <tr>\n",
       "      <th>2pac</th>\n",
       "      <td>0.8102</td>\n",
       "      <td>0.692400</td>\n",
       "      <td>5.0</td>\n",
       "      <td>-6.2682</td>\n",
       "      <td>0.8</td>\n",
       "      <td>0.18134</td>\n",
       "      <td>0.097199</td>\n",
       "      <td>0.000569</td>\n",
       "      <td>0.20875</td>\n",
       "      <td>0.62680</td>\n",
       "      <td>100.6579</td>\n",
       "    </tr>\n",
       "    <tr>\n",
       "      <th>chopin</th>\n",
       "      <td>0.3255</td>\n",
       "      <td>0.018298</td>\n",
       "      <td>4.6</td>\n",
       "      <td>-30.1471</td>\n",
       "      <td>0.5</td>\n",
       "      <td>0.04479</td>\n",
       "      <td>0.988800</td>\n",
       "      <td>0.906600</td>\n",
       "      <td>0.08981</td>\n",
       "      <td>0.10532</td>\n",
       "      <td>86.1455</td>\n",
       "    </tr>\n",
       "    <tr>\n",
       "      <th>debussy</th>\n",
       "      <td>0.2868</td>\n",
       "      <td>0.019716</td>\n",
       "      <td>3.6</td>\n",
       "      <td>-30.3510</td>\n",
       "      <td>0.8</td>\n",
       "      <td>0.04209</td>\n",
       "      <td>0.990800</td>\n",
       "      <td>0.927000</td>\n",
       "      <td>0.07817</td>\n",
       "      <td>0.07747</td>\n",
       "      <td>81.2996</td>\n",
       "    </tr>\n",
       "    <tr>\n",
       "      <th>ganja</th>\n",
       "      <td>0.6506</td>\n",
       "      <td>0.701500</td>\n",
       "      <td>5.2</td>\n",
       "      <td>-5.0898</td>\n",
       "      <td>0.3</td>\n",
       "      <td>0.08868</td>\n",
       "      <td>0.083128</td>\n",
       "      <td>0.114312</td>\n",
       "      <td>0.12767</td>\n",
       "      <td>0.40886</td>\n",
       "      <td>108.9341</td>\n",
       "    </tr>\n",
       "    <tr>\n",
       "      <th>johnwill</th>\n",
       "      <td>0.2783</td>\n",
       "      <td>0.151770</td>\n",
       "      <td>3.9</td>\n",
       "      <td>-20.4347</td>\n",
       "      <td>0.5</td>\n",
       "      <td>0.03766</td>\n",
       "      <td>0.903000</td>\n",
       "      <td>0.615920</td>\n",
       "      <td>0.18085</td>\n",
       "      <td>0.19182</td>\n",
       "      <td>87.2151</td>\n",
       "    </tr>\n",
       "    <tr>\n",
       "      <th>luttrell</th>\n",
       "      <td>0.5310</td>\n",
       "      <td>0.706000</td>\n",
       "      <td>4.5</td>\n",
       "      <td>-9.3468</td>\n",
       "      <td>0.7</td>\n",
       "      <td>0.03504</td>\n",
       "      <td>0.127682</td>\n",
       "      <td>0.669259</td>\n",
       "      <td>0.18714</td>\n",
       "      <td>0.16701</td>\n",
       "      <td>117.5059</td>\n",
       "    </tr>\n",
       "    <tr>\n",
       "      <th>tswift</th>\n",
       "      <td>0.5073</td>\n",
       "      <td>0.621700</td>\n",
       "      <td>4.2</td>\n",
       "      <td>-6.4014</td>\n",
       "      <td>0.9</td>\n",
       "      <td>0.05926</td>\n",
       "      <td>0.198158</td>\n",
       "      <td>0.000263</td>\n",
       "      <td>0.13591</td>\n",
       "      <td>0.40550</td>\n",
       "      <td>125.7815</td>\n",
       "    </tr>\n",
       "    <tr>\n",
       "      <th>zep</th>\n",
       "      <td>0.4523</td>\n",
       "      <td>0.705800</td>\n",
       "      <td>7.3</td>\n",
       "      <td>-10.2421</td>\n",
       "      <td>0.7</td>\n",
       "      <td>0.09121</td>\n",
       "      <td>0.280518</td>\n",
       "      <td>0.038355</td>\n",
       "      <td>0.17212</td>\n",
       "      <td>0.61690</td>\n",
       "      <td>105.0253</td>\n",
       "    </tr>\n",
       "  </tbody>\n",
       "</table>\n",
       "</div>\n",
       "      <button class=\"colab-df-convert\" onclick=\"convertToInteractive('df-25aa3c40-8912-4bd4-8bfe-89649b1d23e2')\"\n",
       "              title=\"Convert this dataframe to an interactive table.\"\n",
       "              style=\"display:none;\">\n",
       "        \n",
       "  <svg xmlns=\"http://www.w3.org/2000/svg\" height=\"24px\"viewBox=\"0 0 24 24\"\n",
       "       width=\"24px\">\n",
       "    <path d=\"M0 0h24v24H0V0z\" fill=\"none\"/>\n",
       "    <path d=\"M18.56 5.44l.94 2.06.94-2.06 2.06-.94-2.06-.94-.94-2.06-.94 2.06-2.06.94zm-11 1L8.5 8.5l.94-2.06 2.06-.94-2.06-.94L8.5 2.5l-.94 2.06-2.06.94zm10 10l.94 2.06.94-2.06 2.06-.94-2.06-.94-.94-2.06-.94 2.06-2.06.94z\"/><path d=\"M17.41 7.96l-1.37-1.37c-.4-.4-.92-.59-1.43-.59-.52 0-1.04.2-1.43.59L10.3 9.45l-7.72 7.72c-.78.78-.78 2.05 0 2.83L4 21.41c.39.39.9.59 1.41.59.51 0 1.02-.2 1.41-.59l7.78-7.78 2.81-2.81c.8-.78.8-2.07 0-2.86zM5.41 20L4 18.59l7.72-7.72 1.47 1.35L5.41 20z\"/>\n",
       "  </svg>\n",
       "      </button>\n",
       "      \n",
       "  <style>\n",
       "    .colab-df-container {\n",
       "      display:flex;\n",
       "      flex-wrap:wrap;\n",
       "      gap: 12px;\n",
       "    }\n",
       "\n",
       "    .colab-df-convert {\n",
       "      background-color: #E8F0FE;\n",
       "      border: none;\n",
       "      border-radius: 50%;\n",
       "      cursor: pointer;\n",
       "      display: none;\n",
       "      fill: #1967D2;\n",
       "      height: 32px;\n",
       "      padding: 0 0 0 0;\n",
       "      width: 32px;\n",
       "    }\n",
       "\n",
       "    .colab-df-convert:hover {\n",
       "      background-color: #E2EBFA;\n",
       "      box-shadow: 0px 1px 2px rgba(60, 64, 67, 0.3), 0px 1px 3px 1px rgba(60, 64, 67, 0.15);\n",
       "      fill: #174EA6;\n",
       "    }\n",
       "\n",
       "    [theme=dark] .colab-df-convert {\n",
       "      background-color: #3B4455;\n",
       "      fill: #D2E3FC;\n",
       "    }\n",
       "\n",
       "    [theme=dark] .colab-df-convert:hover {\n",
       "      background-color: #434B5C;\n",
       "      box-shadow: 0px 1px 3px 1px rgba(0, 0, 0, 0.15);\n",
       "      filter: drop-shadow(0px 1px 2px rgba(0, 0, 0, 0.3));\n",
       "      fill: #FFFFFF;\n",
       "    }\n",
       "  </style>\n",
       "\n",
       "      <script>\n",
       "        const buttonEl =\n",
       "          document.querySelector('#df-25aa3c40-8912-4bd4-8bfe-89649b1d23e2 button.colab-df-convert');\n",
       "        buttonEl.style.display =\n",
       "          google.colab.kernel.accessAllowed ? 'block' : 'none';\n",
       "\n",
       "        async function convertToInteractive(key) {\n",
       "          const element = document.querySelector('#df-25aa3c40-8912-4bd4-8bfe-89649b1d23e2');\n",
       "          const dataTable =\n",
       "            await google.colab.kernel.invokeFunction('convertToInteractive',\n",
       "                                                     [key], {});\n",
       "          if (!dataTable) return;\n",
       "\n",
       "          const docLinkHtml = 'Like what you see? Visit the ' +\n",
       "            '<a target=\"_blank\" href=https://colab.research.google.com/notebooks/data_table.ipynb>data table notebook</a>'\n",
       "            + ' to learn more about interactive tables.';\n",
       "          element.innerHTML = '';\n",
       "          dataTable['output_type'] = 'display_data';\n",
       "          await google.colab.output.renderOutput(dataTable, element);\n",
       "          const docLink = document.createElement('div');\n",
       "          docLink.innerHTML = docLinkHtml;\n",
       "          element.appendChild(docLink);\n",
       "        }\n",
       "      </script>\n",
       "    </div>\n",
       "  </div>\n",
       "  "
      ],
      "text/plain": [
       "          danceability    energy  key  ...  liveness  valence     tempo\n",
       "artist                                 ...                             \n",
       "2pac            0.8102  0.692400  5.0  ...   0.20875  0.62680  100.6579\n",
       "chopin          0.3255  0.018298  4.6  ...   0.08981  0.10532   86.1455\n",
       "debussy         0.2868  0.019716  3.6  ...   0.07817  0.07747   81.2996\n",
       "ganja           0.6506  0.701500  5.2  ...   0.12767  0.40886  108.9341\n",
       "johnwill        0.2783  0.151770  3.9  ...   0.18085  0.19182   87.2151\n",
       "luttrell        0.5310  0.706000  4.5  ...   0.18714  0.16701  117.5059\n",
       "tswift          0.5073  0.621700  4.2  ...   0.13591  0.40550  125.7815\n",
       "zep             0.4523  0.705800  7.3  ...   0.17212  0.61690  105.0253\n",
       "\n",
       "[8 rows x 11 columns]"
      ]
     },
     "execution_count": 93,
     "metadata": {},
     "output_type": "execute_result"
    }
   ],
   "source": [
    "# Cell for 3\n",
    "avg = df.groupby('artist')[feat_names].mean()\n",
    "avg"
   ]
  },
  {
   "cell_type": "code",
   "execution_count": null,
   "metadata": {
    "id": "zrMbpUkOhduY"
   },
   "outputs": [],
   "source": [
    "x = avg.loc['2pac'].values\n",
    "y = avg.loc['zep'].values"
   ]
  },
  {
   "cell_type": "code",
   "execution_count": null,
   "metadata": {
    "id": "nseV5zg9hlL5"
   },
   "outputs": [],
   "source": [
    "def distance(xlabel, ylabel):\n",
    "  x = avg.loc[xlabel].values\n",
    "  y = avg.loc[ylabel].values\n",
    "  return np.sqrt(((x-y)**2).sum())"
   ]
  },
  {
   "cell_type": "code",
   "execution_count": null,
   "metadata": {
    "colab": {
     "base_uri": "https://localhost:8080/"
    },
    "id": "TS-M1mOdhzJu",
    "outputId": "35a52fa1-a64c-4ec1-c6ae-c247bb49a63e"
   },
   "outputs": [
    {
     "data": {
      "text/plain": [
       "8.38304605268043"
      ]
     },
     "execution_count": 105,
     "metadata": {},
     "output_type": "execute_result"
    }
   ],
   "source": [
    "distance('2pac', 'ganja')"
   ]
  },
  {
   "cell_type": "code",
   "execution_count": null,
   "metadata": {
    "colab": {
     "base_uri": "https://localhost:8080/"
    },
    "id": "Fa-ARce8h37x",
    "outputId": "6b17b9ed-2677-4891-c6f4-708ec8f8be38"
   },
   "outputs": [
    {
     "data": {
      "text/plain": [
       "4.9615683289484185"
      ]
     },
     "execution_count": 106,
     "metadata": {},
     "output_type": "execute_result"
    }
   ],
   "source": [
    "distance('chopin', 'debussy')"
   ]
  },
  {
   "cell_type": "code",
   "execution_count": null,
   "metadata": {
    "colab": {
     "base_uri": "https://localhost:8080/"
    },
    "id": "TKzhvgVWh66t",
    "outputId": "6e9b41fa-a7c7-4ae1-adc5-21a252fbedfe"
   },
   "outputs": [
    {
     "name": "stdout",
     "output_type": "stream",
     "text": [
      "0.00 2pac 2pac \n",
      "27.99 2pac chopin \n",
      "30.97 2pac debussy \n",
      "8.38 2pac ganja \n",
      "19.61 2pac johnwill \n",
      "17.16 2pac luttrell \n",
      "25.14 2pac tswift \n",
      "6.35 2pac zep \n"
     ]
    }
   ],
   "source": [
    "scores = np.zeros((avg.shape[0], avg.shape[0]))\n",
    "for index, name in enumerate(avg.index):\n",
    "  for index2, name2 in enumerate(avg.index):\n",
    "    if index < 1:\n",
    "      print('{:.2f}'.format(distance(name, name2)) + ' ' + name + ' ' + name2 + ' ')\n",
    "    scores[index, index2] = distance(name,name2)"
   ]
  },
  {
   "cell_type": "code",
   "execution_count": null,
   "metadata": {
    "id": "btBMNnvjiPzR"
   },
   "outputs": [],
   "source": [
    "dists = pd.DataFrame(scores, index=avg.index, columns=avg.index)"
   ]
  },
  {
   "cell_type": "code",
   "execution_count": null,
   "metadata": {
    "id": "BvWOtSRFjg5C"
   },
   "outputs": [],
   "source": [
    "import seaborn as sns"
   ]
  },
  {
   "cell_type": "code",
   "execution_count": null,
   "metadata": {
    "colab": {
     "base_uri": "https://localhost:8080/",
     "height": 331
    },
    "id": "VRxGp0FPi4Bp",
    "outputId": "75745586-1871-49a3-aa01-2eaed38e35f0"
   },
   "outputs": [
    {
     "data": {
      "text/plain": [
       "<matplotlib.axes._subplots.AxesSubplot at 0x7f9c32ee0190>"
      ]
     },
     "execution_count": 126,
     "metadata": {},
     "output_type": "execute_result"
    },
    {
     "data": {
      "image/png": "[encoded data removed]",
      "text/plain": [
       "<Figure size 432x288 with 2 Axes>"
      ]
     },
     "metadata": {
      "needs_background": "light"
     },
     "output_type": "display_data"
    }
   ],
   "source": [
    "sns.heatmap(dists)"
   ]
  },
  {
   "cell_type": "code",
   "execution_count": null,
   "metadata": {
    "colab": {
     "base_uri": "https://localhost:8080/",
     "height": 623
    },
    "id": "7U4gDIT_jgBW",
    "outputId": "9caf5d47-1a6b-4628-de27-0f249eb033b9"
   },
   "outputs": [
    {
     "data": {
      "text/plain": [
       "<matplotlib.axes._subplots.AxesSubplot at 0x7f9c32a1b450>"
      ]
     },
     "execution_count": 128,
     "metadata": {},
     "output_type": "execute_result"
    },
    {
     "data": {
      "image/png": "[encoded data removed]",
      "text/plain": [
       "<Figure size 720x720 with 2 Axes>"
      ]
     },
     "metadata": {
      "needs_background": "light"
     },
     "output_type": "display_data"
    }
   ],
   "source": [
    "import numpy as np\n",
    "fig, ax = plt.subplots(1, 1, figsize = (10,10))\n",
    "\n",
    "# create a mask to white-out the upper triangle\n",
    "mask = np.triu(np.ones_like(dists, dtype=bool))\n",
    "\n",
    "# we'll want a divergent colormap for this so our eye\n",
    "# is not attracted to the values close to 0\n",
    "cmap = sns.diverging_palette(230, 20, as_cmap=True)\n",
    "\n",
    "sns.heatmap(dists, mask=mask, cmap=cmap, ax=ax)"
   ]
  },
  {
   "cell_type": "code",
   "execution_count": null,
   "metadata": {
    "id": "0PL9xskwkKHI"
   },
   "outputs": [],
   "source": []
  }
 ],
 "metadata": {
  "colab": {
   "authorship_tag": "ABX9TyMqm/NQISY4bHgOCruhvPQH",
   "collapsed_sections": [],
   "include_colab_link": true,
   "name": "SOLN_Spotify_API.ipynb",
   "provenance": [],
   "toc_visible": true
  },
  "kernelspec": {
   "display_name": "Python 3 (ipykernel)",
   "language": "python",
   "name": "python3"
  },
  "language_info": {
   "codemirror_mode": {
    "name": "ipython",
    "version": 3
   },
   "file_extension": ".py",
   "mimetype": "text/x-python",
   "name": "python",
   "nbconvert_exporter": "python",
   "pygments_lexer": "ipython3",
   "version": "3.9.7"
  }
 },
 "nbformat": 4,
 "nbformat_minor": 4
}
